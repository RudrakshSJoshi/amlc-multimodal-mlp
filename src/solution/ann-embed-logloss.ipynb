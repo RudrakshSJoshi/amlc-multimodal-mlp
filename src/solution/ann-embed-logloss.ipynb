{
 "cells": [
  {
   "cell_type": "code",
   "execution_count": 1,
   "id": "a1353ba5",
   "metadata": {
    "_cell_guid": "bdf4d1df-d32b-4300-8f20-1b8bbefeb14a",
    "_uuid": "8546397a-051c-48c2-a5ae-c521dc378fde",
    "collapsed": false,
    "execution": {
     "iopub.execute_input": "2025-10-13T10:01:36.925988Z",
     "iopub.status.busy": "2025-10-13T10:01:36.925769Z",
     "iopub.status.idle": "2025-10-13T10:01:52.301280Z",
     "shell.execute_reply": "2025-10-13T10:01:52.300665Z"
    },
    "jupyter": {
     "outputs_hidden": false
    },
    "papermill": {
     "duration": 15.382163,
     "end_time": "2025-10-13T10:01:52.302745",
     "exception": false,
     "start_time": "2025-10-13T10:01:36.920582",
     "status": "completed"
    },
    "tags": []
   },
   "outputs": [
    {
     "name": "stderr",
     "output_type": "stream",
     "text": [
      "/usr/local/lib/python3.11/dist-packages/pydantic/_internal/_generate_schema.py:2225: UnsupportedFieldAttributeWarning: The 'repr' attribute with value False was provided to the `Field()` function, which has no effect in the context it was used. 'repr' is field-specific metadata, and can only be attached to a model field using `Annotated` metadata or by assignment. This may have happened because an `Annotated` type alias using the `type` statement was used, or if the `Field()` function was attached to a single member of a union type.\n",
      "  warnings.warn(\n",
      "/usr/local/lib/python3.11/dist-packages/pydantic/_internal/_generate_schema.py:2225: UnsupportedFieldAttributeWarning: The 'frozen' attribute with value True was provided to the `Field()` function, which has no effect in the context it was used. 'frozen' is field-specific metadata, and can only be attached to a model field using `Annotated` metadata or by assignment. This may have happened because an `Annotated` type alias using the `type` statement was used, or if the `Field()` function was attached to a single member of a union type.\n",
      "  warnings.warn(\n"
     ]
    }
   ],
   "source": [
    "import pandas as pd\n",
    "import numpy as np\n",
    "import torch\n",
    "import torch.nn as nn\n",
    "from torch.utils.data import Dataset, DataLoader, Subset\n",
    "from sklearn.model_selection import KFold\n",
    "from tqdm import tqdm\n",
    "import os\n",
    "import gc\n",
    "from timm.scheduler.cosine_lr import CosineLRScheduler\n"
   ]
  },
  {
   "cell_type": "code",
   "execution_count": 2,
   "id": "53381110",
   "metadata": {
    "_cell_guid": "6d5f4aed-41cb-4453-a387-0807e867bdc1",
    "_uuid": "1d84b447-ebfa-47df-9958-231f98fda19e",
    "collapsed": false,
    "execution": {
     "iopub.execute_input": "2025-10-13T10:01:52.311682Z",
     "iopub.status.busy": "2025-10-13T10:01:52.311452Z",
     "iopub.status.idle": "2025-10-13T10:01:59.388100Z",
     "shell.execute_reply": "2025-10-13T10:01:59.387327Z"
    },
    "jupyter": {
     "outputs_hidden": false
    },
    "papermill": {
     "duration": 7.082381,
     "end_time": "2025-10-13T10:01:59.389358",
     "exception": false,
     "start_time": "2025-10-13T10:01:52.306977",
     "status": "completed"
    },
    "tags": []
   },
   "outputs": [
    {
     "name": "stdout",
     "output_type": "stream",
     "text": [
      "\r\n",
      "\r\n",
      "\r\n",
      "The following NEW packages will be installed:\r\n",
      "  tree\r\n",
      "0 upgraded, 1 newly installed, 0 to remove and 132 not upgraded.\r\n",
      "Need to get 47.9 kB of archives.\r\n",
      "After this operation, 116 kB of additional disk space will be used.\r\n",
      "Get:1 http://archive.ubuntu.com/ubuntu jammy/universe amd64 tree amd64 2.0.2-1 [47.9 kB]\r\n",
      "Fetched 47.9 kB in 0s (123 kB/s)\r\n",
      "\n",
      "\u001b7\u001b[0;23r\u001b8\u001b[1ASelecting previously unselected package tree.\r\n",
      "(Reading database ... 128639 files and directories currently installed.)\r\n",
      "Preparing to unpack .../tree_2.0.2-1_amd64.deb ...\r\n",
      "\u001b7\u001b[24;0f\u001b[42m\u001b[30mProgress: [  0%]\u001b[49m\u001b[39m [..........................................................] \u001b8\u001b7\u001b[24;0f\u001b[42m\u001b[30mProgress: [ 20%]\u001b[49m\u001b[39m [###########...............................................] \u001b8Unpacking tree (2.0.2-1) ...\r\n",
      "\u001b7\u001b[24;0f\u001b[42m\u001b[30mProgress: [ 40%]\u001b[49m\u001b[39m [#######################...................................] \u001b8Setting up tree (2.0.2-1) ...\r\n",
      "\u001b7\u001b[24;0f\u001b[42m\u001b[30mProgress: [ 60%]\u001b[49m\u001b[39m [##################################........................] \u001b8\u001b7\u001b[24;0f\u001b[42m\u001b[30mProgress: [ 80%]\u001b[49m\u001b[39m [##############################################............] \u001b8Processing triggers for man-db (2.10.2-1) ...\r\n",
      "\r\n",
      "\u001b7\u001b[0;24r\u001b8\u001b[1A\u001b[J\u001b[01;34m/kaggle/input/qwen-7b-fused-amlc-2025\u001b[0m\r\n",
      "├── \u001b[01;34mtest\u001b[0m\r\n",
      "│   ├── \u001b[00mfinal_embeddings.npy\u001b[0m\r\n",
      "│   └── \u001b[00mfinal_sample_ids.npy\u001b[0m\r\n",
      "└── \u001b[01;34mtrain\u001b[0m\r\n",
      "    ├── \u001b[00mfinal_embeddings.npy\u001b[0m\r\n",
      "    └── \u001b[00mfinal_sample_ids.npy\u001b[0m\r\n",
      "\r\n",
      "2 directories, 4 files\r\n",
      "\u001b[01;34m/kaggle/input/train-test-text-embeddings-qwen0-6b\u001b[0m\r\n",
      "├── \u001b[00membeddings.npy\u001b[0m\r\n",
      "├── \u001b[00msession_ids.npy\u001b[0m\r\n",
      "├── \u001b[00mtest_embeddings.npy\u001b[0m\r\n",
      "└── \u001b[00mtest_session_ids.npy\u001b[0m\r\n",
      "\r\n",
      "0 directories, 4 files\r\n",
      "\u001b[01;34m/kaggle/input/swin-embeddings-train-amlc-2025\u001b[0m\r\n",
      "├── \u001b[00msample_ids.npy\u001b[0m\r\n",
      "├── \u001b[00mswin_embeddings.npy\u001b[0m\r\n",
      "├── \u001b[00mswin_test_embeddings.npy\u001b[0m\r\n",
      "└── \u001b[00mtest_sample_ids.npy\u001b[0m\r\n",
      "\r\n",
      "0 directories, 4 files\r\n"
     ]
    }
   ],
   "source": [
    "! apt install tree -y ; tree \"/kaggle/input/qwen-7b-fused-amlc-2025\"; tree \"/kaggle/input/train-test-text-embeddings-qwen0-6b\"; tree \"/kaggle/input/swin-embeddings-train-amlc-2025\""
   ]
  },
  {
   "cell_type": "code",
   "execution_count": 3,
   "id": "3e631b99",
   "metadata": {
    "_cell_guid": "707af981-8995-4b25-88fb-9d50473e8923",
    "_uuid": "7072e316-270d-4244-a17c-f24f4e39eece",
    "collapsed": false,
    "execution": {
     "iopub.execute_input": "2025-10-13T10:01:59.401697Z",
     "iopub.status.busy": "2025-10-13T10:01:59.401165Z",
     "iopub.status.idle": "2025-10-13T10:02:31.302726Z",
     "shell.execute_reply": "2025-10-13T10:02:31.301825Z"
    },
    "jupyter": {
     "outputs_hidden": false
    },
    "papermill": {
     "duration": 31.914418,
     "end_time": "2025-10-13T10:02:31.309432",
     "exception": false,
     "start_time": "2025-10-13T10:01:59.395014",
     "status": "completed"
    },
    "tags": []
   },
   "outputs": [
    {
     "name": "stdout",
     "output_type": "stream",
     "text": [
      "Qwen-7B Embeddings Information:\n",
      "Full matrix shape: (75000, 3584)\n",
      "Number of samples: 75000\n",
      "Embedding dimension: 3584\n",
      "Qwen-4B Embeddings Information:\n",
      "Full matrix shape: (75000, 2560)\n",
      "Number of samples: 75000\n",
      "Embedding dimension: 2560\n",
      "DINOv3 Embeddings Information:\n",
      "Full matrix shape: (75000, 1280)\n",
      "Number of samples: 75000\n",
      "Embedding dimension: 1280\n",
      "SIGLIPv2 Embeddings Information:\n",
      "Full matrix shape: (75000, 1536)\n",
      "Number of samples: 75000\n",
      "Embedding dimension: 1536\n"
     ]
    }
   ],
   "source": [
    "QWEN7B_TRAIN_DIR = '/kaggle/input/qwen-7b-fused-amlc-2025/train/'\n",
    "embedding_file = os.path.join(QWEN7B_TRAIN_DIR, 'final_embeddings.npy')\n",
    "embeddings = np.load(embedding_file)\n",
    "print(f\"Qwen-7B Embeddings Information:\")\n",
    "print(f\"Full matrix shape: {embeddings.shape}\")\n",
    "print(f\"Number of samples: {embeddings.shape[0]}\")\n",
    "print(f\"Embedding dimension: {embeddings.shape[1]}\")\n",
    "\n",
    "QWEN4B_DIR = '/kaggle/input/qwen4b-embeddings/'\n",
    "embedding_file = os.path.join(QWEN4B_DIR, 'qwen4b_train_embedding.npy')\n",
    "embeddings = np.load(embedding_file)\n",
    "    \n",
    "print(f\"Qwen-4B Embeddings Information:\")\n",
    "print(f\"Full matrix shape: {embeddings.shape}\")\n",
    "print(f\"Number of samples: {embeddings.shape[0]}\")\n",
    "print(f\"Embedding dimension: {embeddings.shape[1]}\")\n",
    "\n",
    "DINO_DIR = '/kaggle/input/dino-vith16-amlc-2025/train/'\n",
    "embedding_file = os.path.join(DINO_DIR, 'final_image_embeddings.npy')\n",
    "\n",
    "embeddings = np.load(embedding_file)\n",
    "\n",
    "print(f\"DINOv3 Embeddings Information:\")\n",
    "print(f\"Full matrix shape: {embeddings.shape}\")\n",
    "print(f\"Number of samples: {embeddings.shape[0]}\")\n",
    "print(f\"Embedding dimension: {embeddings.shape[1]}\")\n",
    "\n",
    "SIGLIP2_DIR = '/kaggle/input/siglip2-giant-amlc-2025/train'\n",
    "embedding_file = os.path.join(SIGLIP2_DIR, 'final_image_embeddings.npy')\n",
    "\n",
    "embeddings = np.load(embedding_file)\n",
    "\n",
    "print(f\"SIGLIPv2 Embeddings Information:\")\n",
    "print(f\"Full matrix shape: {embeddings.shape}\")\n",
    "print(f\"Number of samples: {embeddings.shape[0]}\")\n",
    "print(f\"Embedding dimension: {embeddings.shape[1]}\")"
   ]
  },
  {
   "cell_type": "code",
   "execution_count": 4,
   "id": "a03cf3a7",
   "metadata": {
    "_cell_guid": "1fea98a1-cad4-4077-8b53-6812678fa567",
    "_uuid": "2d7f6097-32a7-4284-8a25-e68041b48199",
    "collapsed": false,
    "execution": {
     "iopub.execute_input": "2025-10-13T10:02:31.321449Z",
     "iopub.status.busy": "2025-10-13T10:02:31.321242Z",
     "iopub.status.idle": "2025-10-13T10:02:31.401019Z",
     "shell.execute_reply": "2025-10-13T10:02:31.400146Z"
    },
    "jupyter": {
     "outputs_hidden": false
    },
    "papermill": {
     "duration": 0.087186,
     "end_time": "2025-10-13T10:02:31.402253",
     "exception": false,
     "start_time": "2025-10-13T10:02:31.315067",
     "status": "completed"
    },
    "scrolled": true,
    "tags": []
   },
   "outputs": [
    {
     "name": "stdout",
     "output_type": "stream",
     "text": [
      "Using device: cuda\n",
      "Tower output dim: 512, Adapter input dim: 2048\n"
     ]
    }
   ],
   "source": [
    "# %% [code]\n",
    "import pandas as pd\n",
    "import numpy as np\n",
    "import torch\n",
    "import torch.nn as nn\n",
    "from torch.utils.data import Dataset, DataLoader, Subset\n",
    "from sklearn.model_selection import KFold\n",
    "from tqdm import tqdm\n",
    "import os\n",
    "import gc\n",
    "\n",
    "# --- 1. Configuration ---\n",
    "\n",
    "# Main dataset path\n",
    "DATA_DIR = '/kaggle/input/amlc2025/student_resource/dataset/'\n",
    "\n",
    "# Paths to embedding files\n",
    "QWEN4B_DIR = '/kaggle/input/qwen4b-embeddings/'\n",
    "DINO_DIR = '/kaggle/input/dino-vith16-amlc-2025/train/'\n",
    "SIGLIP2_DIR = '/kaggle/input/siglip2-giant-amlc-2025/train/'\n",
    "\n",
    "# --- Architecture Hyperparameters ---\n",
    "# Define the input dimension for each modality\n",
    "QWEN4B_DIM = 2560\n",
    "DINO_DIM = 1280\n",
    "SIGLIP2_DIM = 1536\n",
    "\n",
    "# Output dimension for each tower\n",
    "TOWER_OUTPUT_DIM = 512\n",
    "ADAPTER_INPUT_DIM = TOWER_OUTPUT_DIM * 4  # 4 towers (Qwen4B, DINO, SigLIP2 text, SigLIP2 image)\n",
    "\n",
    "# Model and Training Hyperparameters\n",
    "HIDDEN_DIM_1 = 2048\n",
    "HIDDEN_DIM_2 = 1024\n",
    "HIDDEN_DIM_3 = 512\n",
    "DROPOUT_RATE = 0.1 \n",
    "BATCH_SIZE = 128\n",
    "EPOCHS = 250\n",
    "WARM_UP_EPOCHS = 10\n",
    "LEARNING_RATE = 3e-4\n",
    "N_SPLITS = 5 # Number of folds for cross-validation\n",
    "DEVICE = 'cuda' if torch.cuda.is_available() else 'cpu'\n",
    "\n",
    "print(f\"Using device: {DEVICE}\")\n",
    "print(f\"Tower output dim: {TOWER_OUTPUT_DIM}, Adapter input dim: {ADAPTER_INPUT_DIM}\")\n",
    "\n",
    "# --- 2. Data Loading and Alignment ---\n",
    "def load_and_align_embeddings():\n",
    "    \"\"\"\n",
    "    Loads embeddings and aligns them with training labels.\n",
    "    Returns separate numpy arrays for each modality.\n",
    "    \"\"\"\n",
    "    print(\"Loading and aligning embeddings...\")\n",
    "    df_train = pd.read_csv(os.path.join(DATA_DIR, 'train.csv'))\n",
    "\n",
    "    # Qwen4B\n",
    "    qwen4b_emb = np.load(os.path.join(QWEN4B_DIR, 'qwen4b_train_embedding.npy'))\n",
    "    qwen4b_ids = np.load(os.path.join(QWEN4B_DIR, 'qwen4b_train_sample_id.npy'))\n",
    "    df_qwen4b = pd.DataFrame({'sample_id': qwen4b_ids, 'qwen4b_emb': list(qwen4b_emb)})\n",
    "\n",
    "    # DINO\n",
    "    dino_emb = np.load(os.path.join(DINO_DIR, 'final_image_embeddings.npy'))\n",
    "    dino_ids = np.load(os.path.join(DINO_DIR, 'final_sample_ids.npy'))\n",
    "    df_dino = pd.DataFrame({'sample_id': dino_ids, 'dino_emb': list(dino_emb)})\n",
    "\n",
    "    # SigLIP-2\n",
    "    siglip2_emb_img = np.load(os.path.join(SIGLIP2_DIR, 'final_image_embeddings.npy'))\n",
    "    siglip2_emb_txt = np.load(os.path.join(SIGLIP2_DIR, 'final_text_embeddings.npy'))\n",
    "    siglip2_ids = np.load(os.path.join(SIGLIP2_DIR, 'final_sample_ids.npy'))\n",
    "    df_siglip2 = pd.DataFrame({'sample_id': siglip2_ids, 'siglip2_emb_img': list(siglip2_emb_img), 'siglip2_emb_txt': list(siglip2_emb_txt)})\n",
    "\n",
    "    # Merge all\n",
    "    print(\"Merging dataframes...\")\n",
    "    df_train = df_train.merge(df_qwen4b, on='sample_id', how='left')\n",
    "    df_train = df_train.merge(df_dino, on='sample_id', how='left')\n",
    "    df_train = df_train.merge(df_siglip2, on='sample_id', how='left')\n",
    "    print(len(df_train),df_train.isna().any())\n",
    "    del df_qwen4b, df_dino, df_siglip2, qwen4b_emb, dino_emb, siglip2_emb_img, siglip2_emb_txt\n",
    "    gc.collect()\n",
    "\n",
    "    # Extract arrays\n",
    "    print(\"Extracting embeddings into separate arrays...\")\n",
    "    X_qwen4b = np.array(df_train['qwen4b_emb'].tolist(), dtype=np.float32)\n",
    "    X_dino = np.array(df_train['dino_emb'].tolist(), dtype=np.float32)\n",
    "    X_siglip2_txt = np.array(df_train['siglip2_emb_txt'].tolist(), dtype=np.float32)\n",
    "    X_siglip2_img = np.array(df_train['siglip2_emb_img'].tolist(), dtype=np.float32)\n",
    "    \n",
    "    # Handle missing values\n",
    "    X_qwen4b = np.nan_to_num(X_qwen4b, nan=0.0)\n",
    "    X_dino = np.nan_to_num(X_dino, nan=0.0)\n",
    "    X_siglip2_txt = np.nan_to_num(X_siglip2_txt, nan=0.0)\n",
    "    X_siglip2_img = np.nan_to_num(X_siglip2_img, nan=0.0)\n",
    "\n",
    "    # y = np.log1p(df_train['price'].values.astype(np.float32))  # Log transform\n",
    "    y = np.array(df_train['price'].values.astype(np.float32)) \n",
    "\n",
    "    print(\"Data alignment and transformation complete.\")\n",
    "    return X_qwen4b, X_dino, X_siglip2_txt, X_siglip2_img, y, df_train\n",
    "\n",
    "# --- 3. PyTorch Dataset Class ---\n",
    "class ProductDataset(Dataset):\n",
    "    def __init__(self, features_qwen4b, features_dino, features_siglip2_txt, features_siglip2_img, labels):\n",
    "        self.features_qwen4b = torch.from_numpy(features_qwen4b)\n",
    "        self.features_dino = torch.from_numpy(features_dino)\n",
    "        self.features_siglip2_txt = torch.from_numpy(features_siglip2_txt)\n",
    "        self.features_siglip2_img = torch.from_numpy(features_siglip2_img)\n",
    "        self.labels = torch.from_numpy(labels)\n",
    "\n",
    "    @property\n",
    "    def max_label(self):\n",
    "        return self.labels.quantile(0.99)\n",
    "\n",
    "    @property\n",
    "    def min_label(self):\n",
    "        return min(self.labels)\n",
    "\n",
    "    def __len__(self):\n",
    "        return len(self.labels)\n",
    "\n",
    "    def __getitem__(self, idx):\n",
    "        features = (\n",
    "            self.features_qwen4b[idx],\n",
    "            self.features_dino[idx],\n",
    "            self.features_siglip2_txt[idx],\n",
    "            self.features_siglip2_img[idx]            \n",
    "        )\n",
    "        label = self.labels[idx]\n",
    "        return features, label\n"
   ]
  },
  {
   "cell_type": "code",
   "execution_count": 5,
   "id": "8ba3220a",
   "metadata": {
    "_cell_guid": "1fea98a1-cad4-4077-8b53-6812678fa567",
    "_uuid": "2d7f6097-32a7-4284-8a25-e68041b48199",
    "collapsed": false,
    "execution": {
     "iopub.execute_input": "2025-10-13T10:02:31.414711Z",
     "iopub.status.busy": "2025-10-13T10:02:31.414146Z",
     "iopub.status.idle": "2025-10-13T10:02:31.422933Z",
     "shell.execute_reply": "2025-10-13T10:02:31.422101Z"
    },
    "jupyter": {
     "outputs_hidden": false
    },
    "papermill": {
     "duration": 0.016048,
     "end_time": "2025-10-13T10:02:31.424033",
     "exception": false,
     "start_time": "2025-10-13T10:02:31.407985",
     "status": "completed"
    },
    "scrolled": true,
    "tags": []
   },
   "outputs": [],
   "source": [
    "# --- 4. Modal Tower Adapter Model Definition (UPDATED) ---\n",
    "class ModalTowerAdapter(nn.Module):\n",
    "    def __init__(self, qwen4b_dim, dino_dim, siglip2_dim, tower_output_dim, adapter_input_dim, h1, h2, h3, dropout_rate):\n",
    "        super(ModalTowerAdapter, self).__init__()\n",
    "\n",
    "        # Qwen-4B Tower\n",
    "        self.qwen4b_tower = nn.Sequential(\n",
    "            nn.Linear(qwen4b_dim, tower_output_dim),\n",
    "            nn.ReLU(),\n",
    "            nn.BatchNorm1d(tower_output_dim),\n",
    "            nn.Dropout(dropout_rate),\n",
    "            nn.Linear(tower_output_dim, tower_output_dim),\n",
    "            nn.ReLU(),\n",
    "            nn.BatchNorm1d(tower_output_dim),\n",
    "            nn.Dropout(dropout_rate),\n",
    "            nn.Linear(tower_output_dim, tower_output_dim),\n",
    "            nn.ReLU(),\n",
    "            nn.BatchNorm1d(tower_output_dim),\n",
    "            nn.Dropout(dropout_rate)\n",
    "        )\n",
    "\n",
    "        # DINO Tower\n",
    "        self.dino_tower = nn.Sequential(\n",
    "            nn.Linear(dino_dim, tower_output_dim),\n",
    "            nn.ReLU(),\n",
    "            nn.BatchNorm1d(tower_output_dim),\n",
    "            nn.Dropout(dropout_rate),\n",
    "            nn.Linear(tower_output_dim, tower_output_dim),\n",
    "            nn.ReLU(),\n",
    "            nn.BatchNorm1d(tower_output_dim),\n",
    "            nn.Dropout(dropout_rate)\n",
    "        )\n",
    "\n",
    "        # SigLIP Text Tower\n",
    "        self.siglip2_txt_tower = nn.Sequential(\n",
    "            nn.Linear(siglip2_dim, tower_output_dim),\n",
    "            nn.ReLU(),\n",
    "            nn.BatchNorm1d(tower_output_dim),\n",
    "            nn.Dropout(dropout_rate),\n",
    "            nn.Linear(tower_output_dim, tower_output_dim),\n",
    "            nn.ReLU(),\n",
    "            nn.BatchNorm1d(tower_output_dim),\n",
    "            nn.Dropout(dropout_rate)\n",
    "        )\n",
    "\n",
    "        # SigLIP Image Tower\n",
    "        self.siglip2_img_tower = nn.Sequential(\n",
    "            nn.Linear(siglip2_dim, tower_output_dim),\n",
    "            nn.ReLU(),\n",
    "            nn.BatchNorm1d(tower_output_dim),\n",
    "            nn.Dropout(dropout_rate),\n",
    "            nn.Linear(tower_output_dim, tower_output_dim),\n",
    "            nn.ReLU(),\n",
    "            nn.BatchNorm1d(tower_output_dim),\n",
    "            nn.Dropout(dropout_rate)\n",
    "        )\n",
    "\n",
    "        # Adapter (Final Fusion MLP)\n",
    "        self.adapter_net = nn.Sequential(\n",
    "            nn.Linear(adapter_input_dim, h1), nn.ReLU(), nn.BatchNorm1d(h1), nn.Dropout(dropout_rate),\n",
    "            nn.Linear(h1, h2), nn.ReLU(), nn.BatchNorm1d(h2), nn.Dropout(dropout_rate),\n",
    "            nn.Linear(h2, h3), nn.ReLU(), nn.BatchNorm1d(h3), nn.Dropout(dropout_rate),\n",
    "            nn.Linear(h3, 1),\n",
    "            nn.Sigmoid()\n",
    "        )\n",
    "\n",
    "    def forward(self, x_qwen4b, x_dino, x_siglip2_txt, x_siglip2_img):\n",
    "        # Pass through individual towers\n",
    "        out_qwen4b = self.qwen4b_tower(x_qwen4b)\n",
    "        out_dino = self.dino_tower(x_dino)\n",
    "        out_siglip2_txt = self.siglip2_txt_tower(x_siglip2_txt)\n",
    "        out_siglip2_img = self.siglip2_img_tower(x_siglip2_img)\n",
    "\n",
    "        # Concatenate tower outputs\n",
    "        combined = torch.cat([out_qwen4b, out_dino, out_siglip2_txt, out_siglip2_img], dim=1)\n",
    "\n",
    "        # Pass through adapter network\n",
    "        return self.adapter_net(combined).squeeze(1)\n"
   ]
  },
  {
   "cell_type": "code",
   "execution_count": 6,
   "id": "b5ce356c",
   "metadata": {
    "_cell_guid": "1fea98a1-cad4-4077-8b53-6812678fa567",
    "_uuid": "2d7f6097-32a7-4284-8a25-e68041b48199",
    "execution": {
     "iopub.execute_input": "2025-10-13T10:02:31.436132Z",
     "iopub.status.busy": "2025-10-13T10:02:31.435924Z",
     "iopub.status.idle": "2025-10-13T12:01:11.012227Z",
     "shell.execute_reply": "2025-10-13T12:01:11.011274Z"
    },
    "papermill": {
     "duration": 7119.584113,
     "end_time": "2025-10-13T12:01:11.013449",
     "exception": false,
     "start_time": "2025-10-13T10:02:31.429336",
     "status": "completed"
    },
    "scrolled": true,
    "tags": []
   },
   "outputs": [
    {
     "name": "stdout",
     "output_type": "stream",
     "text": [
      "Loading and aligning embeddings...\n",
      "Merging dataframes...\n",
      "75000 sample_id          False\n",
      "catalog_content    False\n",
      "image_link         False\n",
      "price              False\n",
      "qwen4b_emb         False\n",
      "dino_emb           False\n",
      "siglip2_emb_img    False\n",
      "siglip2_emb_txt    False\n",
      "dtype: bool\n",
      "Extracting embeddings into separate arrays...\n",
      "Data alignment and transformation complete.\n",
      "\n",
      "--- Starting Fold 1/5 ---\n"
     ]
    },
    {
     "name": "stderr",
     "output_type": "stream",
     "text": [
      "                                                                      \r"
     ]
    },
    {
     "name": "stdout",
     "output_type": "stream",
     "text": [
      "Epoch 1/250 | Train MAE (log): 0.71242 | Val Loss: 0.66094 | Val SMAPE: 98.17% | LR: 1.0e-06\n",
      "  -> New best validation SMAPE: 98.17%. Model saved.\n"
     ]
    },
    {
     "name": "stderr",
     "output_type": "stream",
     "text": [
      "                                                                      \r"
     ]
    },
    {
     "name": "stdout",
     "output_type": "stream",
     "text": [
      "Epoch 2/250 | Train MAE (log): 0.69103 | Val Loss: 0.65248 | Val SMAPE: 97.42% | LR: 3.1e-05\n",
      "  -> New best validation SMAPE: 97.42%. Model saved.\n"
     ]
    },
    {
     "name": "stderr",
     "output_type": "stream",
     "text": [
      "                                                                      \r"
     ]
    },
    {
     "name": "stdout",
     "output_type": "stream",
     "text": [
      "Epoch 3/250 | Train MAE (log): 0.63500 | Val Loss: 0.58934 | Val SMAPE: 90.05% | LR: 6.1e-05\n",
      "  -> New best validation SMAPE: 90.05%. Model saved.\n"
     ]
    },
    {
     "name": "stderr",
     "output_type": "stream",
     "text": [
      "                                                                      \r"
     ]
    },
    {
     "name": "stdout",
     "output_type": "stream",
     "text": [
      "Epoch 4/250 | Train MAE (log): 0.55978 | Val Loss: 0.52982 | Val SMAPE: 77.51% | LR: 9.1e-05\n",
      "  -> New best validation SMAPE: 77.51%. Model saved.\n"
     ]
    },
    {
     "name": "stderr",
     "output_type": "stream",
     "text": [
      "                                                                      \r"
     ]
    },
    {
     "name": "stdout",
     "output_type": "stream",
     "text": [
      "Epoch 5/250 | Train MAE (log): 0.50008 | Val Loss: 0.48299 | Val SMAPE: 62.14% | LR: 1.2e-04\n",
      "  -> New best validation SMAPE: 62.14%. Model saved.\n"
     ]
    },
    {
     "name": "stderr",
     "output_type": "stream",
     "text": [
      "                                                                      \r"
     ]
    },
    {
     "name": "stdout",
     "output_type": "stream",
     "text": [
      "Epoch 6/250 | Train MAE (log): 0.47153 | Val Loss: 0.47388 | Val SMAPE: 54.08% | LR: 1.5e-04\n",
      "  -> New best validation SMAPE: 54.08%. Model saved.\n"
     ]
    },
    {
     "name": "stderr",
     "output_type": "stream",
     "text": [
      "                                                                      \r"
     ]
    },
    {
     "name": "stdout",
     "output_type": "stream",
     "text": [
      "Epoch 7/250 | Train MAE (log): 0.45984 | Val Loss: 0.46848 | Val SMAPE: 54.20% | LR: 1.8e-04\n"
     ]
    },
    {
     "name": "stderr",
     "output_type": "stream",
     "text": [
      "                                                                      \r"
     ]
    },
    {
     "name": "stdout",
     "output_type": "stream",
     "text": [
      "Epoch 8/250 | Train MAE (log): 0.45278 | Val Loss: 0.46960 | Val SMAPE: 52.98% | LR: 2.1e-04\n",
      "  -> New best validation SMAPE: 52.98%. Model saved.\n"
     ]
    },
    {
     "name": "stderr",
     "output_type": "stream",
     "text": [
      "                                                                      \r"
     ]
    },
    {
     "name": "stdout",
     "output_type": "stream",
     "text": [
      "Epoch 9/250 | Train MAE (log): 0.44758 | Val Loss: 0.46825 | Val SMAPE: 50.75% | LR: 2.4e-04\n",
      "  -> New best validation SMAPE: 50.75%. Model saved.\n"
     ]
    },
    {
     "name": "stderr",
     "output_type": "stream",
     "text": [
      "                                                                       \r"
     ]
    },
    {
     "name": "stdout",
     "output_type": "stream",
     "text": [
      "Epoch 10/250 | Train MAE (log): 0.44448 | Val Loss: 0.46985 | Val SMAPE: 52.09% | LR: 2.7e-04\n"
     ]
    },
    {
     "name": "stderr",
     "output_type": "stream",
     "text": [
      "                                                                       \r"
     ]
    },
    {
     "name": "stdout",
     "output_type": "stream",
     "text": [
      "Epoch 11/250 | Train MAE (log): 0.44119 | Val Loss: 0.46984 | Val SMAPE: 52.31% | LR: 3.0e-04\n"
     ]
    },
    {
     "name": "stderr",
     "output_type": "stream",
     "text": [
      "                                                                       \r"
     ]
    },
    {
     "name": "stdout",
     "output_type": "stream",
     "text": [
      "Epoch 12/250 | Train MAE (log): 0.43857 | Val Loss: 0.47113 | Val SMAPE: 51.34% | LR: 3.0e-04\n"
     ]
    },
    {
     "name": "stderr",
     "output_type": "stream",
     "text": [
      "                                                                       \r"
     ]
    },
    {
     "name": "stdout",
     "output_type": "stream",
     "text": [
      "Epoch 13/250 | Train MAE (log): 0.43495 | Val Loss: 0.47176 | Val SMAPE: 50.27% | LR: 3.0e-04\n",
      "  -> New best validation SMAPE: 50.27%. Model saved.\n"
     ]
    },
    {
     "name": "stderr",
     "output_type": "stream",
     "text": [
      "                                                                       \r"
     ]
    },
    {
     "name": "stdout",
     "output_type": "stream",
     "text": [
      "Epoch 14/250 | Train MAE (log): 0.43143 | Val Loss: 0.47250 | Val SMAPE: 50.97% | LR: 3.0e-04\n"
     ]
    },
    {
     "name": "stderr",
     "output_type": "stream",
     "text": [
      "                                                                       \r"
     ]
    },
    {
     "name": "stdout",
     "output_type": "stream",
     "text": [
      "Epoch 15/250 | Train MAE (log): 0.42857 | Val Loss: 0.46884 | Val SMAPE: 49.30% | LR: 3.0e-04\n",
      "  -> New best validation SMAPE: 49.30%. Model saved.\n"
     ]
    },
    {
     "name": "stderr",
     "output_type": "stream",
     "text": [
      "                                                                       \r"
     ]
    },
    {
     "name": "stdout",
     "output_type": "stream",
     "text": [
      "Epoch 16/250 | Train MAE (log): 0.42648 | Val Loss: 0.47039 | Val SMAPE: 50.89% | LR: 3.0e-04\n"
     ]
    },
    {
     "name": "stderr",
     "output_type": "stream",
     "text": [
      "                                                                       \r"
     ]
    },
    {
     "name": "stdout",
     "output_type": "stream",
     "text": [
      "Epoch 17/250 | Train MAE (log): 0.42406 | Val Loss: 0.47122 | Val SMAPE: 49.33% | LR: 3.0e-04\n"
     ]
    },
    {
     "name": "stderr",
     "output_type": "stream",
     "text": [
      "                                                                       \r"
     ]
    },
    {
     "name": "stdout",
     "output_type": "stream",
     "text": [
      "Epoch 18/250 | Train MAE (log): 0.42269 | Val Loss: 0.47000 | Val SMAPE: 49.38% | LR: 3.0e-04\n"
     ]
    },
    {
     "name": "stderr",
     "output_type": "stream",
     "text": [
      "                                                                       \r"
     ]
    },
    {
     "name": "stdout",
     "output_type": "stream",
     "text": [
      "Epoch 19/250 | Train MAE (log): 0.42127 | Val Loss: 0.47266 | Val SMAPE: 48.83% | LR: 3.0e-04\n",
      "  -> New best validation SMAPE: 48.83%. Model saved.\n"
     ]
    },
    {
     "name": "stderr",
     "output_type": "stream",
     "text": [
      "                                                                       \r"
     ]
    },
    {
     "name": "stdout",
     "output_type": "stream",
     "text": [
      "Epoch 20/250 | Train MAE (log): 0.41960 | Val Loss: 0.47002 | Val SMAPE: 48.62% | LR: 3.0e-04\n",
      "  -> New best validation SMAPE: 48.62%. Model saved.\n"
     ]
    },
    {
     "name": "stderr",
     "output_type": "stream",
     "text": [
      "                                                                       \r"
     ]
    },
    {
     "name": "stdout",
     "output_type": "stream",
     "text": [
      "Epoch 21/250 | Train MAE (log): 0.41816 | Val Loss: 0.46956 | Val SMAPE: 48.50% | LR: 3.0e-04\n",
      "  -> New best validation SMAPE: 48.50%. Model saved.\n"
     ]
    },
    {
     "name": "stderr",
     "output_type": "stream",
     "text": [
      "                                                                       \r"
     ]
    },
    {
     "name": "stdout",
     "output_type": "stream",
     "text": [
      "Epoch 22/250 | Train MAE (log): 0.41697 | Val Loss: 0.47403 | Val SMAPE: 48.16% | LR: 2.9e-04\n",
      "  -> New best validation SMAPE: 48.16%. Model saved.\n"
     ]
    },
    {
     "name": "stderr",
     "output_type": "stream",
     "text": [
      "                                                                       \r"
     ]
    },
    {
     "name": "stdout",
     "output_type": "stream",
     "text": [
      "Epoch 23/250 | Train MAE (log): 0.41552 | Val Loss: 0.47138 | Val SMAPE: 48.53% | LR: 2.9e-04\n"
     ]
    },
    {
     "name": "stderr",
     "output_type": "stream",
     "text": [
      "                                                                       \r"
     ]
    },
    {
     "name": "stdout",
     "output_type": "stream",
     "text": [
      "Epoch 24/250 | Train MAE (log): 0.41424 | Val Loss: 0.46968 | Val SMAPE: 48.04% | LR: 2.9e-04\n",
      "  -> New best validation SMAPE: 48.04%. Model saved.\n"
     ]
    },
    {
     "name": "stderr",
     "output_type": "stream",
     "text": [
      "                                                                       \r"
     ]
    },
    {
     "name": "stdout",
     "output_type": "stream",
     "text": [
      "Epoch 25/250 | Train MAE (log): 0.41334 | Val Loss: 0.46844 | Val SMAPE: 48.42% | LR: 2.9e-04\n"
     ]
    },
    {
     "name": "stderr",
     "output_type": "stream",
     "text": [
      "                                                                       \r"
     ]
    },
    {
     "name": "stdout",
     "output_type": "stream",
     "text": [
      "Epoch 26/250 | Train MAE (log): 0.41237 | Val Loss: 0.47179 | Val SMAPE: 48.07% | LR: 2.9e-04\n"
     ]
    },
    {
     "name": "stderr",
     "output_type": "stream",
     "text": [
      "                                                                       \r"
     ]
    },
    {
     "name": "stdout",
     "output_type": "stream",
     "text": [
      "Epoch 27/250 | Train MAE (log): 0.41174 | Val Loss: 0.47259 | Val SMAPE: 47.37% | LR: 2.9e-04\n",
      "  -> New best validation SMAPE: 47.37%. Model saved.\n"
     ]
    },
    {
     "name": "stderr",
     "output_type": "stream",
     "text": [
      "                                                                       \r"
     ]
    },
    {
     "name": "stdout",
     "output_type": "stream",
     "text": [
      "Epoch 28/250 | Train MAE (log): 0.41095 | Val Loss: 0.47179 | Val SMAPE: 47.32% | LR: 2.9e-04\n",
      "  -> New best validation SMAPE: 47.32%. Model saved.\n"
     ]
    },
    {
     "name": "stderr",
     "output_type": "stream",
     "text": [
      "                                                                       \r"
     ]
    },
    {
     "name": "stdout",
     "output_type": "stream",
     "text": [
      "Epoch 29/250 | Train MAE (log): 0.41050 | Val Loss: 0.47380 | Val SMAPE: 47.74% | LR: 2.9e-04\n"
     ]
    },
    {
     "name": "stderr",
     "output_type": "stream",
     "text": [
      "                                                                       \r"
     ]
    },
    {
     "name": "stdout",
     "output_type": "stream",
     "text": [
      "Epoch 30/250 | Train MAE (log): 0.40934 | Val Loss: 0.46802 | Val SMAPE: 47.58% | LR: 2.9e-04\n"
     ]
    },
    {
     "name": "stderr",
     "output_type": "stream",
     "text": [
      "                                                                       \r"
     ]
    },
    {
     "name": "stdout",
     "output_type": "stream",
     "text": [
      "Epoch 31/250 | Train MAE (log): 0.40803 | Val Loss: 0.46994 | Val SMAPE: 47.21% | LR: 2.9e-04\n",
      "  -> New best validation SMAPE: 47.21%. Model saved.\n"
     ]
    },
    {
     "name": "stderr",
     "output_type": "stream",
     "text": [
      "                                                                       \r"
     ]
    },
    {
     "name": "stdout",
     "output_type": "stream",
     "text": [
      "Epoch 32/250 | Train MAE (log): 0.40782 | Val Loss: 0.46786 | Val SMAPE: 46.87% | LR: 2.9e-04\n",
      "  -> New best validation SMAPE: 46.87%. Model saved.\n"
     ]
    },
    {
     "name": "stderr",
     "output_type": "stream",
     "text": [
      "                                                                       \r"
     ]
    },
    {
     "name": "stdout",
     "output_type": "stream",
     "text": [
      "Epoch 33/250 | Train MAE (log): 0.40723 | Val Loss: 0.46995 | Val SMAPE: 46.83% | LR: 2.9e-04\n",
      "  -> New best validation SMAPE: 46.83%. Model saved.\n"
     ]
    },
    {
     "name": "stderr",
     "output_type": "stream",
     "text": [
      "                                                                       \r"
     ]
    },
    {
     "name": "stdout",
     "output_type": "stream",
     "text": [
      "Epoch 34/250 | Train MAE (log): 0.40671 | Val Loss: 0.46941 | Val SMAPE: 47.01% | LR: 2.9e-04\n"
     ]
    },
    {
     "name": "stderr",
     "output_type": "stream",
     "text": [
      "                                                                       \r"
     ]
    },
    {
     "name": "stdout",
     "output_type": "stream",
     "text": [
      "Epoch 35/250 | Train MAE (log): 0.40586 | Val Loss: 0.46997 | Val SMAPE: 46.43% | LR: 2.9e-04\n",
      "  -> New best validation SMAPE: 46.43%. Model saved.\n"
     ]
    },
    {
     "name": "stderr",
     "output_type": "stream",
     "text": [
      "                                                                       \r"
     ]
    },
    {
     "name": "stdout",
     "output_type": "stream",
     "text": [
      "Epoch 36/250 | Train MAE (log): 0.40582 | Val Loss: 0.47132 | Val SMAPE: 46.49% | LR: 2.9e-04\n"
     ]
    },
    {
     "name": "stderr",
     "output_type": "stream",
     "text": [
      "                                                                       \r"
     ]
    },
    {
     "name": "stdout",
     "output_type": "stream",
     "text": [
      "Epoch 37/250 | Train MAE (log): 0.40552 | Val Loss: 0.46806 | Val SMAPE: 46.22% | LR: 2.8e-04\n",
      "  -> New best validation SMAPE: 46.22%. Model saved.\n"
     ]
    },
    {
     "name": "stderr",
     "output_type": "stream",
     "text": [
      "                                                                       \r"
     ]
    },
    {
     "name": "stdout",
     "output_type": "stream",
     "text": [
      "Epoch 38/250 | Train MAE (log): 0.40504 | Val Loss: 0.47088 | Val SMAPE: 46.36% | LR: 2.8e-04\n"
     ]
    },
    {
     "name": "stderr",
     "output_type": "stream",
     "text": [
      "                                                                       \r"
     ]
    },
    {
     "name": "stdout",
     "output_type": "stream",
     "text": [
      "Epoch 39/250 | Train MAE (log): 0.40484 | Val Loss: 0.46815 | Val SMAPE: 46.77% | LR: 2.8e-04\n"
     ]
    },
    {
     "name": "stderr",
     "output_type": "stream",
     "text": [
      "                                                                       \r"
     ]
    },
    {
     "name": "stdout",
     "output_type": "stream",
     "text": [
      "Epoch 40/250 | Train MAE (log): 0.40421 | Val Loss: 0.46992 | Val SMAPE: 46.46% | LR: 2.8e-04\n"
     ]
    },
    {
     "name": "stderr",
     "output_type": "stream",
     "text": [
      "                                                                       \r"
     ]
    },
    {
     "name": "stdout",
     "output_type": "stream",
     "text": [
      "Epoch 41/250 | Train MAE (log): 0.40354 | Val Loss: 0.47339 | Val SMAPE: 45.91% | LR: 2.8e-04\n",
      "  -> New best validation SMAPE: 45.91%. Model saved.\n"
     ]
    },
    {
     "name": "stderr",
     "output_type": "stream",
     "text": [
      "                                                                       \r"
     ]
    },
    {
     "name": "stdout",
     "output_type": "stream",
     "text": [
      "Epoch 42/250 | Train MAE (log): 0.40318 | Val Loss: 0.46876 | Val SMAPE: 45.94% | LR: 2.8e-04\n"
     ]
    },
    {
     "name": "stderr",
     "output_type": "stream",
     "text": [
      "                                                                       \r"
     ]
    },
    {
     "name": "stdout",
     "output_type": "stream",
     "text": [
      "Epoch 43/250 | Train MAE (log): 0.40361 | Val Loss: 0.46824 | Val SMAPE: 45.99% | LR: 2.8e-04\n"
     ]
    },
    {
     "name": "stderr",
     "output_type": "stream",
     "text": [
      "                                                                       \r"
     ]
    },
    {
     "name": "stdout",
     "output_type": "stream",
     "text": [
      "Epoch 44/250 | Train MAE (log): 0.40319 | Val Loss: 0.46759 | Val SMAPE: 45.76% | LR: 2.8e-04\n",
      "  -> New best validation SMAPE: 45.76%. Model saved.\n"
     ]
    },
    {
     "name": "stderr",
     "output_type": "stream",
     "text": [
      "                                                                       \r"
     ]
    },
    {
     "name": "stdout",
     "output_type": "stream",
     "text": [
      "Epoch 45/250 | Train MAE (log): 0.40297 | Val Loss: 0.47117 | Val SMAPE: 45.75% | LR: 2.8e-04\n",
      "  -> New best validation SMAPE: 45.75%. Model saved.\n"
     ]
    },
    {
     "name": "stderr",
     "output_type": "stream",
     "text": [
      "                                                                       \r"
     ]
    },
    {
     "name": "stdout",
     "output_type": "stream",
     "text": [
      "Epoch 46/250 | Train MAE (log): 0.40222 | Val Loss: 0.46765 | Val SMAPE: 45.70% | LR: 2.8e-04\n",
      "  -> New best validation SMAPE: 45.70%. Model saved.\n"
     ]
    },
    {
     "name": "stderr",
     "output_type": "stream",
     "text": [
      "                                                                       \r"
     ]
    },
    {
     "name": "stdout",
     "output_type": "stream",
     "text": [
      "Epoch 47/250 | Train MAE (log): 0.40196 | Val Loss: 0.46747 | Val SMAPE: 45.31% | LR: 2.8e-04\n",
      "  -> New best validation SMAPE: 45.31%. Model saved.\n"
     ]
    },
    {
     "name": "stderr",
     "output_type": "stream",
     "text": [
      "                                                                       \r"
     ]
    },
    {
     "name": "stdout",
     "output_type": "stream",
     "text": [
      "Epoch 48/250 | Train MAE (log): 0.40212 | Val Loss: 0.46920 | Val SMAPE: 45.87% | LR: 2.7e-04\n"
     ]
    },
    {
     "name": "stderr",
     "output_type": "stream",
     "text": [
      "                                                                       \r"
     ]
    },
    {
     "name": "stdout",
     "output_type": "stream",
     "text": [
      "Epoch 49/250 | Train MAE (log): 0.40289 | Val Loss: 0.46966 | Val SMAPE: 45.70% | LR: 2.7e-04\n"
     ]
    },
    {
     "name": "stderr",
     "output_type": "stream",
     "text": [
      "                                                                       \r"
     ]
    },
    {
     "name": "stdout",
     "output_type": "stream",
     "text": [
      "Epoch 50/250 | Train MAE (log): 0.40169 | Val Loss: 0.46684 | Val SMAPE: 45.20% | LR: 2.7e-04\n",
      "  -> New best validation SMAPE: 45.20%. Model saved.\n"
     ]
    },
    {
     "name": "stderr",
     "output_type": "stream",
     "text": [
      "                                                                       \r"
     ]
    },
    {
     "name": "stdout",
     "output_type": "stream",
     "text": [
      "Epoch 51/250 | Train MAE (log): 0.40112 | Val Loss: 0.46831 | Val SMAPE: 45.10% | LR: 2.7e-04\n",
      "  -> New best validation SMAPE: 45.10%. Model saved.\n"
     ]
    },
    {
     "name": "stderr",
     "output_type": "stream",
     "text": [
      "                                                                       \r"
     ]
    },
    {
     "name": "stdout",
     "output_type": "stream",
     "text": [
      "Epoch 52/250 | Train MAE (log): 0.40058 | Val Loss: 0.46611 | Val SMAPE: 44.98% | LR: 2.7e-04\n",
      "  -> New best validation SMAPE: 44.98%. Model saved.\n"
     ]
    },
    {
     "name": "stderr",
     "output_type": "stream",
     "text": [
      "                                                                       \r"
     ]
    },
    {
     "name": "stdout",
     "output_type": "stream",
     "text": [
      "Epoch 53/250 | Train MAE (log): 0.40121 | Val Loss: 0.46503 | Val SMAPE: 45.77% | LR: 2.7e-04\n"
     ]
    },
    {
     "name": "stderr",
     "output_type": "stream",
     "text": [
      "                                                                       \r"
     ]
    },
    {
     "name": "stdout",
     "output_type": "stream",
     "text": [
      "Epoch 54/250 | Train MAE (log): 0.40135 | Val Loss: 0.46876 | Val SMAPE: 44.76% | LR: 2.7e-04\n",
      "  -> New best validation SMAPE: 44.76%. Model saved.\n"
     ]
    },
    {
     "name": "stderr",
     "output_type": "stream",
     "text": [
      "                                                                       \r"
     ]
    },
    {
     "name": "stdout",
     "output_type": "stream",
     "text": [
      "Epoch 55/250 | Train MAE (log): 0.40069 | Val Loss: 0.46761 | Val SMAPE: 44.61% | LR: 2.7e-04\n",
      "  -> New best validation SMAPE: 44.61%. Model saved.\n"
     ]
    },
    {
     "name": "stderr",
     "output_type": "stream",
     "text": [
      "                                                                       \r"
     ]
    },
    {
     "name": "stdout",
     "output_type": "stream",
     "text": [
      "Epoch 56/250 | Train MAE (log): 0.40034 | Val Loss: 0.46627 | Val SMAPE: 44.80% | LR: 2.7e-04\n"
     ]
    },
    {
     "name": "stderr",
     "output_type": "stream",
     "text": [
      "                                                                       \r"
     ]
    },
    {
     "name": "stdout",
     "output_type": "stream",
     "text": [
      "Epoch 57/250 | Train MAE (log): 0.40028 | Val Loss: 0.46855 | Val SMAPE: 44.68% | LR: 2.6e-04\n"
     ]
    },
    {
     "name": "stderr",
     "output_type": "stream",
     "text": [
      "                                                                       \r"
     ]
    },
    {
     "name": "stdout",
     "output_type": "stream",
     "text": [
      "Epoch 58/250 | Train MAE (log): 0.40063 | Val Loss: 0.46910 | Val SMAPE: 45.26% | LR: 2.6e-04\n"
     ]
    },
    {
     "name": "stderr",
     "output_type": "stream",
     "text": [
      "                                                                       \r"
     ]
    },
    {
     "name": "stdout",
     "output_type": "stream",
     "text": [
      "Epoch 59/250 | Train MAE (log): 0.40048 | Val Loss: 0.46748 | Val SMAPE: 44.68% | LR: 2.6e-04\n"
     ]
    },
    {
     "name": "stderr",
     "output_type": "stream",
     "text": [
      "                                                                       \r"
     ]
    },
    {
     "name": "stdout",
     "output_type": "stream",
     "text": [
      "Epoch 60/250 | Train MAE (log): 0.40076 | Val Loss: 0.46719 | Val SMAPE: 45.41% | LR: 2.6e-04\n"
     ]
    },
    {
     "name": "stderr",
     "output_type": "stream",
     "text": [
      "                                                                       \r"
     ]
    },
    {
     "name": "stdout",
     "output_type": "stream",
     "text": [
      "Epoch 61/250 | Train MAE (log): 0.39990 | Val Loss: 0.46676 | Val SMAPE: 44.38% | LR: 2.6e-04\n",
      "  -> New best validation SMAPE: 44.38%. Model saved.\n"
     ]
    },
    {
     "name": "stderr",
     "output_type": "stream",
     "text": [
      "                                                                       \r"
     ]
    },
    {
     "name": "stdout",
     "output_type": "stream",
     "text": [
      "Epoch 62/250 | Train MAE (log): 0.39981 | Val Loss: 0.47028 | Val SMAPE: 44.34% | LR: 2.6e-04\n",
      "  -> New best validation SMAPE: 44.34%. Model saved.\n"
     ]
    },
    {
     "name": "stderr",
     "output_type": "stream",
     "text": [
      "                                                                       \r"
     ]
    },
    {
     "name": "stdout",
     "output_type": "stream",
     "text": [
      "Epoch 63/250 | Train MAE (log): 0.39982 | Val Loss: 0.46727 | Val SMAPE: 44.81% | LR: 2.6e-04\n"
     ]
    },
    {
     "name": "stderr",
     "output_type": "stream",
     "text": [
      "                                                                       \r"
     ]
    },
    {
     "name": "stdout",
     "output_type": "stream",
     "text": [
      "Epoch 64/250 | Train MAE (log): 0.39954 | Val Loss: 0.46908 | Val SMAPE: 44.23% | LR: 2.6e-04\n",
      "  -> New best validation SMAPE: 44.23%. Model saved.\n"
     ]
    },
    {
     "name": "stderr",
     "output_type": "stream",
     "text": [
      "                                                                       \r"
     ]
    },
    {
     "name": "stdout",
     "output_type": "stream",
     "text": [
      "Epoch 65/250 | Train MAE (log): 0.39921 | Val Loss: 0.46806 | Val SMAPE: 44.75% | LR: 2.5e-04\n"
     ]
    },
    {
     "name": "stderr",
     "output_type": "stream",
     "text": [
      "                                                                       \r"
     ]
    },
    {
     "name": "stdout",
     "output_type": "stream",
     "text": [
      "Epoch 66/250 | Train MAE (log): 0.39898 | Val Loss: 0.46975 | Val SMAPE: 44.45% | LR: 2.5e-04\n"
     ]
    },
    {
     "name": "stderr",
     "output_type": "stream",
     "text": [
      "                                                                       \r"
     ]
    },
    {
     "name": "stdout",
     "output_type": "stream",
     "text": [
      "Epoch 67/250 | Train MAE (log): 0.39970 | Val Loss: 0.46782 | Val SMAPE: 44.53% | LR: 2.5e-04\n"
     ]
    },
    {
     "name": "stderr",
     "output_type": "stream",
     "text": [
      "                                                                       \r"
     ]
    },
    {
     "name": "stdout",
     "output_type": "stream",
     "text": [
      "Epoch 68/250 | Train MAE (log): 0.39888 | Val Loss: 0.46890 | Val SMAPE: 44.43% | LR: 2.5e-04\n"
     ]
    },
    {
     "name": "stderr",
     "output_type": "stream",
     "text": [
      "                                                                       \r"
     ]
    },
    {
     "name": "stdout",
     "output_type": "stream",
     "text": [
      "Epoch 69/250 | Train MAE (log): 0.39878 | Val Loss: 0.46869 | Val SMAPE: 44.00% | LR: 2.5e-04\n",
      "  -> New best validation SMAPE: 44.00%. Model saved.\n"
     ]
    },
    {
     "name": "stderr",
     "output_type": "stream",
     "text": [
      "                                                                       \r"
     ]
    },
    {
     "name": "stdout",
     "output_type": "stream",
     "text": [
      "Epoch 70/250 | Train MAE (log): 0.39862 | Val Loss: 0.46741 | Val SMAPE: 44.11% | LR: 2.5e-04\n"
     ]
    },
    {
     "name": "stderr",
     "output_type": "stream",
     "text": [
      "                                                                       \r"
     ]
    },
    {
     "name": "stdout",
     "output_type": "stream",
     "text": [
      "Epoch 71/250 | Train MAE (log): 0.39888 | Val Loss: 0.47003 | Val SMAPE: 44.14% | LR: 2.5e-04\n"
     ]
    },
    {
     "name": "stderr",
     "output_type": "stream",
     "text": [
      "                                                                       \r"
     ]
    },
    {
     "name": "stdout",
     "output_type": "stream",
     "text": [
      "Epoch 72/250 | Train MAE (log): 0.39875 | Val Loss: 0.46726 | Val SMAPE: 44.17% | LR: 2.4e-04\n"
     ]
    },
    {
     "name": "stderr",
     "output_type": "stream",
     "text": [
      "                                                                       \r"
     ]
    },
    {
     "name": "stdout",
     "output_type": "stream",
     "text": [
      "Epoch 73/250 | Train MAE (log): 0.39936 | Val Loss: 0.47031 | Val SMAPE: 44.21% | LR: 2.4e-04\n"
     ]
    },
    {
     "name": "stderr",
     "output_type": "stream",
     "text": [
      "                                                                       \r"
     ]
    },
    {
     "name": "stdout",
     "output_type": "stream",
     "text": [
      "Epoch 74/250 | Train MAE (log): 0.39880 | Val Loss: 0.46876 | Val SMAPE: 44.07% | LR: 2.4e-04\n"
     ]
    },
    {
     "name": "stderr",
     "output_type": "stream",
     "text": [
      "                                                                       \r"
     ]
    },
    {
     "name": "stdout",
     "output_type": "stream",
     "text": [
      "Epoch 75/250 | Train MAE (log): 0.39909 | Val Loss: 0.46878 | Val SMAPE: 44.36% | LR: 2.4e-04\n"
     ]
    },
    {
     "name": "stderr",
     "output_type": "stream",
     "text": [
      "                                                                       \r"
     ]
    },
    {
     "name": "stdout",
     "output_type": "stream",
     "text": [
      "Epoch 76/250 | Train MAE (log): 0.39912 | Val Loss: 0.46660 | Val SMAPE: 44.15% | LR: 2.4e-04\n"
     ]
    },
    {
     "name": "stderr",
     "output_type": "stream",
     "text": [
      "                                                                       \r"
     ]
    },
    {
     "name": "stdout",
     "output_type": "stream",
     "text": [
      "Epoch 77/250 | Train MAE (log): 0.39849 | Val Loss: 0.46899 | Val SMAPE: 44.19% | LR: 2.4e-04\n"
     ]
    },
    {
     "name": "stderr",
     "output_type": "stream",
     "text": [
      "                                                                       \r"
     ]
    },
    {
     "name": "stdout",
     "output_type": "stream",
     "text": [
      "Epoch 78/250 | Train MAE (log): 0.39877 | Val Loss: 0.47181 | Val SMAPE: 44.42% | LR: 2.4e-04\n"
     ]
    },
    {
     "name": "stderr",
     "output_type": "stream",
     "text": [
      "                                                                       \r"
     ]
    },
    {
     "name": "stdout",
     "output_type": "stream",
     "text": [
      "Epoch 79/250 | Train MAE (log): 0.39903 | Val Loss: 0.46690 | Val SMAPE: 43.97% | LR: 2.3e-04\n",
      "  -> New best validation SMAPE: 43.97%. Model saved.\n"
     ]
    },
    {
     "name": "stderr",
     "output_type": "stream",
     "text": [
      "                                                                       \r"
     ]
    },
    {
     "name": "stdout",
     "output_type": "stream",
     "text": [
      "Epoch 80/250 | Train MAE (log): 0.39830 | Val Loss: 0.46872 | Val SMAPE: 43.91% | LR: 2.3e-04\n",
      "  -> New best validation SMAPE: 43.91%. Model saved.\n"
     ]
    },
    {
     "name": "stderr",
     "output_type": "stream",
     "text": [
      "                                                                       \r"
     ]
    },
    {
     "name": "stdout",
     "output_type": "stream",
     "text": [
      "Epoch 81/250 | Train MAE (log): 0.39797 | Val Loss: 0.46570 | Val SMAPE: 44.02% | LR: 2.3e-04\n"
     ]
    },
    {
     "name": "stderr",
     "output_type": "stream",
     "text": [
      "                                                                       \r"
     ]
    },
    {
     "name": "stdout",
     "output_type": "stream",
     "text": [
      "Epoch 82/250 | Train MAE (log): 0.39784 | Val Loss: 0.46945 | Val SMAPE: 43.72% | LR: 2.3e-04\n",
      "  -> New best validation SMAPE: 43.72%. Model saved.\n"
     ]
    },
    {
     "name": "stderr",
     "output_type": "stream",
     "text": [
      "                                                                       \r"
     ]
    },
    {
     "name": "stdout",
     "output_type": "stream",
     "text": [
      "Epoch 83/250 | Train MAE (log): 0.39779 | Val Loss: 0.46834 | Val SMAPE: 43.80% | LR: 2.3e-04\n"
     ]
    },
    {
     "name": "stderr",
     "output_type": "stream",
     "text": [
      "                                                                       \r"
     ]
    },
    {
     "name": "stdout",
     "output_type": "stream",
     "text": [
      "Epoch 84/250 | Train MAE (log): 0.39827 | Val Loss: 0.46925 | Val SMAPE: 43.66% | LR: 2.3e-04\n",
      "  -> New best validation SMAPE: 43.66%. Model saved.\n"
     ]
    },
    {
     "name": "stderr",
     "output_type": "stream",
     "text": [
      "                                                                       \r"
     ]
    },
    {
     "name": "stdout",
     "output_type": "stream",
     "text": [
      "Epoch 85/250 | Train MAE (log): 0.39842 | Val Loss: 0.46792 | Val SMAPE: 43.93% | LR: 2.2e-04\n"
     ]
    },
    {
     "name": "stderr",
     "output_type": "stream",
     "text": [
      "                                                                       \r"
     ]
    },
    {
     "name": "stdout",
     "output_type": "stream",
     "text": [
      "Epoch 86/250 | Train MAE (log): 0.39796 | Val Loss: 0.46787 | Val SMAPE: 43.98% | LR: 2.2e-04\n"
     ]
    },
    {
     "name": "stderr",
     "output_type": "stream",
     "text": [
      "                                                                       \r"
     ]
    },
    {
     "name": "stdout",
     "output_type": "stream",
     "text": [
      "Epoch 87/250 | Train MAE (log): 0.39781 | Val Loss: 0.46892 | Val SMAPE: 43.36% | LR: 2.2e-04\n",
      "  -> New best validation SMAPE: 43.36%. Model saved.\n"
     ]
    },
    {
     "name": "stderr",
     "output_type": "stream",
     "text": [
      "                                                                       \r"
     ]
    },
    {
     "name": "stdout",
     "output_type": "stream",
     "text": [
      "Epoch 88/250 | Train MAE (log): 0.39786 | Val Loss: 0.46789 | Val SMAPE: 43.39% | LR: 2.2e-04\n"
     ]
    },
    {
     "name": "stderr",
     "output_type": "stream",
     "text": [
      "                                                                       \r"
     ]
    },
    {
     "name": "stdout",
     "output_type": "stream",
     "text": [
      "Epoch 89/250 | Train MAE (log): 0.39778 | Val Loss: 0.46583 | Val SMAPE: 44.26% | LR: 2.2e-04\n"
     ]
    },
    {
     "name": "stderr",
     "output_type": "stream",
     "text": [
      "                                                                       \r"
     ]
    },
    {
     "name": "stdout",
     "output_type": "stream",
     "text": [
      "Epoch 90/250 | Train MAE (log): 0.39758 | Val Loss: 0.46918 | Val SMAPE: 43.62% | LR: 2.2e-04\n"
     ]
    },
    {
     "name": "stderr",
     "output_type": "stream",
     "text": [
      "                                                                       \r"
     ]
    },
    {
     "name": "stdout",
     "output_type": "stream",
     "text": [
      "Epoch 91/250 | Train MAE (log): 0.39757 | Val Loss: 0.47020 | Val SMAPE: 44.03% | LR: 2.1e-04\n"
     ]
    },
    {
     "name": "stderr",
     "output_type": "stream",
     "text": [
      "                                                                       \r"
     ]
    },
    {
     "name": "stdout",
     "output_type": "stream",
     "text": [
      "Epoch 92/250 | Train MAE (log): 0.39744 | Val Loss: 0.46678 | Val SMAPE: 43.64% | LR: 2.1e-04\n"
     ]
    },
    {
     "name": "stderr",
     "output_type": "stream",
     "text": [
      "                                                                       \r"
     ]
    },
    {
     "name": "stdout",
     "output_type": "stream",
     "text": [
      "Epoch 93/250 | Train MAE (log): 0.39746 | Val Loss: 0.46640 | Val SMAPE: 43.58% | LR: 2.1e-04\n"
     ]
    },
    {
     "name": "stderr",
     "output_type": "stream",
     "text": [
      "                                                                       \r"
     ]
    },
    {
     "name": "stdout",
     "output_type": "stream",
     "text": [
      "Epoch 94/250 | Train MAE (log): 0.39743 | Val Loss: 0.46679 | Val SMAPE: 43.53% | LR: 2.1e-04\n"
     ]
    },
    {
     "name": "stderr",
     "output_type": "stream",
     "text": [
      "                                                                       \r"
     ]
    },
    {
     "name": "stdout",
     "output_type": "stream",
     "text": [
      "Epoch 95/250 | Train MAE (log): 0.39746 | Val Loss: 0.46984 | Val SMAPE: 43.46% | LR: 2.1e-04\n"
     ]
    },
    {
     "name": "stderr",
     "output_type": "stream",
     "text": [
      "                                                                       \r"
     ]
    },
    {
     "name": "stdout",
     "output_type": "stream",
     "text": [
      "Epoch 96/250 | Train MAE (log): 0.39735 | Val Loss: 0.46622 | Val SMAPE: 43.75% | LR: 2.1e-04\n"
     ]
    },
    {
     "name": "stderr",
     "output_type": "stream",
     "text": [
      "                                                                       \r"
     ]
    },
    {
     "name": "stdout",
     "output_type": "stream",
     "text": [
      "Epoch 97/250 | Train MAE (log): 0.39751 | Val Loss: 0.46913 | Val SMAPE: 43.55% | LR: 2.0e-04\n"
     ]
    },
    {
     "name": "stderr",
     "output_type": "stream",
     "text": [
      "                                                                       \r"
     ]
    },
    {
     "name": "stdout",
     "output_type": "stream",
     "text": [
      "Epoch 98/250 | Train MAE (log): 0.39724 | Val Loss: 0.46822 | Val SMAPE: 43.57% | LR: 2.0e-04\n"
     ]
    },
    {
     "name": "stderr",
     "output_type": "stream",
     "text": [
      "                                                                       \r"
     ]
    },
    {
     "name": "stdout",
     "output_type": "stream",
     "text": [
      "Epoch 99/250 | Train MAE (log): 0.39734 | Val Loss: 0.46836 | Val SMAPE: 43.74% | LR: 2.0e-04\n"
     ]
    },
    {
     "name": "stderr",
     "output_type": "stream",
     "text": [
      "                                                                        \r"
     ]
    },
    {
     "name": "stdout",
     "output_type": "stream",
     "text": [
      "Epoch 100/250 | Train MAE (log): 0.39761 | Val Loss: 0.46793 | Val SMAPE: 43.46% | LR: 2.0e-04\n"
     ]
    },
    {
     "name": "stderr",
     "output_type": "stream",
     "text": [
      "                                                                        \r"
     ]
    },
    {
     "name": "stdout",
     "output_type": "stream",
     "text": [
      "Epoch 101/250 | Train MAE (log): 0.39715 | Val Loss: 0.46968 | Val SMAPE: 43.54% | LR: 2.0e-04\n"
     ]
    },
    {
     "name": "stderr",
     "output_type": "stream",
     "text": [
      "                                                                        \r"
     ]
    },
    {
     "name": "stdout",
     "output_type": "stream",
     "text": [
      "Epoch 102/250 | Train MAE (log): 0.39728 | Val Loss: 0.47045 | Val SMAPE: 43.24% | LR: 1.9e-04\n",
      "  -> New best validation SMAPE: 43.24%. Model saved.\n"
     ]
    },
    {
     "name": "stderr",
     "output_type": "stream",
     "text": [
      "                                                                        \r"
     ]
    },
    {
     "name": "stdout",
     "output_type": "stream",
     "text": [
      "Epoch 103/250 | Train MAE (log): 0.39766 | Val Loss: 0.46806 | Val SMAPE: 43.33% | LR: 1.9e-04\n"
     ]
    },
    {
     "name": "stderr",
     "output_type": "stream",
     "text": [
      "                                                                        \r"
     ]
    },
    {
     "name": "stdout",
     "output_type": "stream",
     "text": [
      "Epoch 104/250 | Train MAE (log): 0.39791 | Val Loss: 0.47058 | Val SMAPE: 43.83% | LR: 1.9e-04\n"
     ]
    },
    {
     "name": "stderr",
     "output_type": "stream",
     "text": [
      "                                                                        \r"
     ]
    },
    {
     "name": "stdout",
     "output_type": "stream",
     "text": [
      "Epoch 105/250 | Train MAE (log): 0.39753 | Val Loss: 0.46684 | Val SMAPE: 43.85% | LR: 1.9e-04\n"
     ]
    },
    {
     "name": "stderr",
     "output_type": "stream",
     "text": [
      "                                                                        \r"
     ]
    },
    {
     "name": "stdout",
     "output_type": "stream",
     "text": [
      "Epoch 106/250 | Train MAE (log): 0.39702 | Val Loss: 0.46824 | Val SMAPE: 43.20% | LR: 1.9e-04\n",
      "  -> New best validation SMAPE: 43.20%. Model saved.\n"
     ]
    },
    {
     "name": "stderr",
     "output_type": "stream",
     "text": [
      "                                                                        \r"
     ]
    },
    {
     "name": "stdout",
     "output_type": "stream",
     "text": [
      "Epoch 107/250 | Train MAE (log): 0.39681 | Val Loss: 0.46673 | Val SMAPE: 43.21% | LR: 1.9e-04\n"
     ]
    },
    {
     "name": "stderr",
     "output_type": "stream",
     "text": [
      "                                                                        \r"
     ]
    },
    {
     "name": "stdout",
     "output_type": "stream",
     "text": [
      "Epoch 108/250 | Train MAE (log): 0.39672 | Val Loss: 0.46783 | Val SMAPE: 43.11% | LR: 1.8e-04\n",
      "  -> New best validation SMAPE: 43.11%. Model saved.\n"
     ]
    },
    {
     "name": "stderr",
     "output_type": "stream",
     "text": [
      "                                                                        \r"
     ]
    },
    {
     "name": "stdout",
     "output_type": "stream",
     "text": [
      "Epoch 109/250 | Train MAE (log): 0.39697 | Val Loss: 0.46649 | Val SMAPE: 43.17% | LR: 1.8e-04\n"
     ]
    },
    {
     "name": "stderr",
     "output_type": "stream",
     "text": [
      "                                                                        \r"
     ]
    },
    {
     "name": "stdout",
     "output_type": "stream",
     "text": [
      "Epoch 110/250 | Train MAE (log): 0.39681 | Val Loss: 0.46865 | Val SMAPE: 43.19% | LR: 1.8e-04\n"
     ]
    },
    {
     "name": "stderr",
     "output_type": "stream",
     "text": [
      "                                                                        \r"
     ]
    },
    {
     "name": "stdout",
     "output_type": "stream",
     "text": [
      "Epoch 111/250 | Train MAE (log): 0.39673 | Val Loss: 0.46896 | Val SMAPE: 43.05% | LR: 1.8e-04\n",
      "  -> New best validation SMAPE: 43.05%. Model saved.\n"
     ]
    },
    {
     "name": "stderr",
     "output_type": "stream",
     "text": [
      "                                                                        \r"
     ]
    },
    {
     "name": "stdout",
     "output_type": "stream",
     "text": [
      "Epoch 112/250 | Train MAE (log): 0.39659 | Val Loss: 0.46987 | Val SMAPE: 43.37% | LR: 1.8e-04\n"
     ]
    },
    {
     "name": "stderr",
     "output_type": "stream",
     "text": [
      "                                                                        \r"
     ]
    },
    {
     "name": "stdout",
     "output_type": "stream",
     "text": [
      "Epoch 113/250 | Train MAE (log): 0.39675 | Val Loss: 0.46944 | Val SMAPE: 43.06% | LR: 1.7e-04\n"
     ]
    },
    {
     "name": "stderr",
     "output_type": "stream",
     "text": [
      "                                                                        \r"
     ]
    },
    {
     "name": "stdout",
     "output_type": "stream",
     "text": [
      "Epoch 114/250 | Train MAE (log): 0.39644 | Val Loss: 0.46864 | Val SMAPE: 43.13% | LR: 1.7e-04\n"
     ]
    },
    {
     "name": "stderr",
     "output_type": "stream",
     "text": [
      "                                                                        \r"
     ]
    },
    {
     "name": "stdout",
     "output_type": "stream",
     "text": [
      "Epoch 115/250 | Train MAE (log): 0.39675 | Val Loss: 0.46943 | Val SMAPE: 42.90% | LR: 1.7e-04\n",
      "  -> New best validation SMAPE: 42.90%. Model saved.\n"
     ]
    },
    {
     "name": "stderr",
     "output_type": "stream",
     "text": [
      "                                                                        \r"
     ]
    },
    {
     "name": "stdout",
     "output_type": "stream",
     "text": [
      "Epoch 116/250 | Train MAE (log): 0.39659 | Val Loss: 0.46814 | Val SMAPE: 43.04% | LR: 1.7e-04\n"
     ]
    },
    {
     "name": "stderr",
     "output_type": "stream",
     "text": [
      "                                                                        \r"
     ]
    },
    {
     "name": "stdout",
     "output_type": "stream",
     "text": [
      "Epoch 117/250 | Train MAE (log): 0.39679 | Val Loss: 0.46848 | Val SMAPE: 43.50% | LR: 1.7e-04\n"
     ]
    },
    {
     "name": "stderr",
     "output_type": "stream",
     "text": [
      "                                                                        \r"
     ]
    },
    {
     "name": "stdout",
     "output_type": "stream",
     "text": [
      "Epoch 118/250 | Train MAE (log): 0.39687 | Val Loss: 0.46741 | Val SMAPE: 43.14% | LR: 1.7e-04\n"
     ]
    },
    {
     "name": "stderr",
     "output_type": "stream",
     "text": [
      "                                                                        \r"
     ]
    },
    {
     "name": "stdout",
     "output_type": "stream",
     "text": [
      "Epoch 119/250 | Train MAE (log): 0.39673 | Val Loss: 0.47007 | Val SMAPE: 42.99% | LR: 1.6e-04\n"
     ]
    },
    {
     "name": "stderr",
     "output_type": "stream",
     "text": [
      "                                                                        \r"
     ]
    },
    {
     "name": "stdout",
     "output_type": "stream",
     "text": [
      "Epoch 120/250 | Train MAE (log): 0.39679 | Val Loss: 0.46823 | Val SMAPE: 43.16% | LR: 1.6e-04\n"
     ]
    },
    {
     "name": "stderr",
     "output_type": "stream",
     "text": [
      "                                                                        \r"
     ]
    },
    {
     "name": "stdout",
     "output_type": "stream",
     "text": [
      "Epoch 121/250 | Train MAE (log): 0.39672 | Val Loss: 0.46828 | Val SMAPE: 43.22% | LR: 1.6e-04\n"
     ]
    },
    {
     "name": "stderr",
     "output_type": "stream",
     "text": [
      "                                                                        \r"
     ]
    },
    {
     "name": "stdout",
     "output_type": "stream",
     "text": [
      "Epoch 122/250 | Train MAE (log): 0.39662 | Val Loss: 0.46713 | Val SMAPE: 43.33% | LR: 1.6e-04\n"
     ]
    },
    {
     "name": "stderr",
     "output_type": "stream",
     "text": [
      "                                                                        \r"
     ]
    },
    {
     "name": "stdout",
     "output_type": "stream",
     "text": [
      "Epoch 123/250 | Train MAE (log): 0.39630 | Val Loss: 0.46790 | Val SMAPE: 42.83% | LR: 1.6e-04\n",
      "  -> New best validation SMAPE: 42.83%. Model saved.\n"
     ]
    },
    {
     "name": "stderr",
     "output_type": "stream",
     "text": [
      "                                                                        \r"
     ]
    },
    {
     "name": "stdout",
     "output_type": "stream",
     "text": [
      "Epoch 124/250 | Train MAE (log): 0.39635 | Val Loss: 0.46955 | Val SMAPE: 42.87% | LR: 1.5e-04\n"
     ]
    },
    {
     "name": "stderr",
     "output_type": "stream",
     "text": [
      "                                                                        \r"
     ]
    },
    {
     "name": "stdout",
     "output_type": "stream",
     "text": [
      "Epoch 125/250 | Train MAE (log): 0.39630 | Val Loss: 0.46856 | Val SMAPE: 42.82% | LR: 1.5e-04\n",
      "  -> New best validation SMAPE: 42.82%. Model saved.\n"
     ]
    },
    {
     "name": "stderr",
     "output_type": "stream",
     "text": [
      "                                                                        \r"
     ]
    },
    {
     "name": "stdout",
     "output_type": "stream",
     "text": [
      "Epoch 126/250 | Train MAE (log): 0.39627 | Val Loss: 0.46862 | Val SMAPE: 43.05% | LR: 1.5e-04\n"
     ]
    },
    {
     "name": "stderr",
     "output_type": "stream",
     "text": [
      "                                                                        \r"
     ]
    },
    {
     "name": "stdout",
     "output_type": "stream",
     "text": [
      "Epoch 127/250 | Train MAE (log): 0.39644 | Val Loss: 0.46737 | Val SMAPE: 43.08% | LR: 1.5e-04\n"
     ]
    },
    {
     "name": "stderr",
     "output_type": "stream",
     "text": [
      "                                                                        \r"
     ]
    },
    {
     "name": "stdout",
     "output_type": "stream",
     "text": [
      "Epoch 128/250 | Train MAE (log): 0.39650 | Val Loss: 0.46888 | Val SMAPE: 42.94% | LR: 1.5e-04\n"
     ]
    },
    {
     "name": "stderr",
     "output_type": "stream",
     "text": [
      "                                                                        \r"
     ]
    },
    {
     "name": "stdout",
     "output_type": "stream",
     "text": [
      "Epoch 129/250 | Train MAE (log): 0.39623 | Val Loss: 0.46902 | Val SMAPE: 42.95% | LR: 1.4e-04\n"
     ]
    },
    {
     "name": "stderr",
     "output_type": "stream",
     "text": [
      "                                                                        \r"
     ]
    },
    {
     "name": "stdout",
     "output_type": "stream",
     "text": [
      "Epoch 130/250 | Train MAE (log): 0.39618 | Val Loss: 0.46771 | Val SMAPE: 42.99% | LR: 1.4e-04\n"
     ]
    },
    {
     "name": "stderr",
     "output_type": "stream",
     "text": [
      "                                                                        \r"
     ]
    },
    {
     "name": "stdout",
     "output_type": "stream",
     "text": [
      "Epoch 131/250 | Train MAE (log): 0.39629 | Val Loss: 0.46905 | Val SMAPE: 42.83% | LR: 1.4e-04\n"
     ]
    },
    {
     "name": "stderr",
     "output_type": "stream",
     "text": [
      "                                                                        \r"
     ]
    },
    {
     "name": "stdout",
     "output_type": "stream",
     "text": [
      "Epoch 132/250 | Train MAE (log): 0.39617 | Val Loss: 0.46695 | Val SMAPE: 43.20% | LR: 1.4e-04\n"
     ]
    },
    {
     "name": "stderr",
     "output_type": "stream",
     "text": [
      "                                                                        \r"
     ]
    },
    {
     "name": "stdout",
     "output_type": "stream",
     "text": [
      "Epoch 133/250 | Train MAE (log): 0.39622 | Val Loss: 0.46815 | Val SMAPE: 43.05% | LR: 1.4e-04\n"
     ]
    },
    {
     "name": "stderr",
     "output_type": "stream",
     "text": [
      "                                                                        \r"
     ]
    },
    {
     "name": "stdout",
     "output_type": "stream",
     "text": [
      "Epoch 134/250 | Train MAE (log): 0.39623 | Val Loss: 0.47002 | Val SMAPE: 43.03% | LR: 1.3e-04\n"
     ]
    },
    {
     "name": "stderr",
     "output_type": "stream",
     "text": [
      "                                                                        \r"
     ]
    },
    {
     "name": "stdout",
     "output_type": "stream",
     "text": [
      "Epoch 135/250 | Train MAE (log): 0.39620 | Val Loss: 0.46966 | Val SMAPE: 42.80% | LR: 1.3e-04\n",
      "  -> New best validation SMAPE: 42.80%. Model saved.\n"
     ]
    },
    {
     "name": "stderr",
     "output_type": "stream",
     "text": [
      "                                                                        \r"
     ]
    },
    {
     "name": "stdout",
     "output_type": "stream",
     "text": [
      "Epoch 136/250 | Train MAE (log): 0.39621 | Val Loss: 0.46969 | Val SMAPE: 42.96% | LR: 1.3e-04\n"
     ]
    },
    {
     "name": "stderr",
     "output_type": "stream",
     "text": [
      "                                                                        \r"
     ]
    },
    {
     "name": "stdout",
     "output_type": "stream",
     "text": [
      "Epoch 137/250 | Train MAE (log): 0.39614 | Val Loss: 0.46888 | Val SMAPE: 43.14% | LR: 1.3e-04\n"
     ]
    },
    {
     "name": "stderr",
     "output_type": "stream",
     "text": [
      "                                                                        \r"
     ]
    },
    {
     "name": "stdout",
     "output_type": "stream",
     "text": [
      "Epoch 138/250 | Train MAE (log): 0.39592 | Val Loss: 0.46976 | Val SMAPE: 42.82% | LR: 1.3e-04\n"
     ]
    },
    {
     "name": "stderr",
     "output_type": "stream",
     "text": [
      "                                                                        \r"
     ]
    },
    {
     "name": "stdout",
     "output_type": "stream",
     "text": [
      "Epoch 139/250 | Train MAE (log): 0.39600 | Val Loss: 0.46714 | Val SMAPE: 42.72% | LR: 1.3e-04\n",
      "  -> New best validation SMAPE: 42.72%. Model saved.\n"
     ]
    },
    {
     "name": "stderr",
     "output_type": "stream",
     "text": [
      "                                                                        \r"
     ]
    },
    {
     "name": "stdout",
     "output_type": "stream",
     "text": [
      "Epoch 140/250 | Train MAE (log): 0.39611 | Val Loss: 0.46749 | Val SMAPE: 42.67% | LR: 1.2e-04\n",
      "  -> New best validation SMAPE: 42.67%. Model saved.\n"
     ]
    },
    {
     "name": "stderr",
     "output_type": "stream",
     "text": [
      "                                                                        \r"
     ]
    },
    {
     "name": "stdout",
     "output_type": "stream",
     "text": [
      "Epoch 141/250 | Train MAE (log): 0.39605 | Val Loss: 0.46822 | Val SMAPE: 42.85% | LR: 1.2e-04\n"
     ]
    },
    {
     "name": "stderr",
     "output_type": "stream",
     "text": [
      "                                                                        \r"
     ]
    },
    {
     "name": "stdout",
     "output_type": "stream",
     "text": [
      "Epoch 142/250 | Train MAE (log): 0.39597 | Val Loss: 0.46887 | Val SMAPE: 42.72% | LR: 1.2e-04\n"
     ]
    },
    {
     "name": "stderr",
     "output_type": "stream",
     "text": [
      "                                                                        \r"
     ]
    },
    {
     "name": "stdout",
     "output_type": "stream",
     "text": [
      "Epoch 143/250 | Train MAE (log): 0.39606 | Val Loss: 0.46906 | Val SMAPE: 42.87% | LR: 1.2e-04\n"
     ]
    },
    {
     "name": "stderr",
     "output_type": "stream",
     "text": [
      "                                                                        \r"
     ]
    },
    {
     "name": "stdout",
     "output_type": "stream",
     "text": [
      "Epoch 144/250 | Train MAE (log): 0.39602 | Val Loss: 0.46819 | Val SMAPE: 43.02% | LR: 1.2e-04\n"
     ]
    },
    {
     "name": "stderr",
     "output_type": "stream",
     "text": [
      "                                                                        \r"
     ]
    },
    {
     "name": "stdout",
     "output_type": "stream",
     "text": [
      "Epoch 145/250 | Train MAE (log): 0.39587 | Val Loss: 0.46712 | Val SMAPE: 42.85% | LR: 1.1e-04\n"
     ]
    },
    {
     "name": "stderr",
     "output_type": "stream",
     "text": [
      "                                                                        \r"
     ]
    },
    {
     "name": "stdout",
     "output_type": "stream",
     "text": [
      "Epoch 146/250 | Train MAE (log): 0.39589 | Val Loss: 0.46837 | Val SMAPE: 42.81% | LR: 1.1e-04\n"
     ]
    },
    {
     "name": "stderr",
     "output_type": "stream",
     "text": [
      "                                                                        \r"
     ]
    },
    {
     "name": "stdout",
     "output_type": "stream",
     "text": [
      "Epoch 147/250 | Train MAE (log): 0.39582 | Val Loss: 0.46927 | Val SMAPE: 42.73% | LR: 1.1e-04\n"
     ]
    },
    {
     "name": "stderr",
     "output_type": "stream",
     "text": [
      "                                                                        \r"
     ]
    },
    {
     "name": "stdout",
     "output_type": "stream",
     "text": [
      "Epoch 148/250 | Train MAE (log): 0.39581 | Val Loss: 0.46778 | Val SMAPE: 42.72% | LR: 1.1e-04\n"
     ]
    },
    {
     "name": "stderr",
     "output_type": "stream",
     "text": [
      "                                                                        \r"
     ]
    },
    {
     "name": "stdout",
     "output_type": "stream",
     "text": [
      "Epoch 149/250 | Train MAE (log): 0.39585 | Val Loss: 0.47044 | Val SMAPE: 42.63% | LR: 1.1e-04\n",
      "  -> New best validation SMAPE: 42.63%. Model saved.\n"
     ]
    },
    {
     "name": "stderr",
     "output_type": "stream",
     "text": [
      "                                                                        \r"
     ]
    },
    {
     "name": "stdout",
     "output_type": "stream",
     "text": [
      "Epoch 150/250 | Train MAE (log): 0.39576 | Val Loss: 0.46900 | Val SMAPE: 42.64% | LR: 1.1e-04\n"
     ]
    },
    {
     "name": "stderr",
     "output_type": "stream",
     "text": [
      "                                                                        \r"
     ]
    },
    {
     "name": "stdout",
     "output_type": "stream",
     "text": [
      "Epoch 151/250 | Train MAE (log): 0.39593 | Val Loss: 0.46798 | Val SMAPE: 43.00% | LR: 1.0e-04\n"
     ]
    },
    {
     "name": "stderr",
     "output_type": "stream",
     "text": [
      "                                                                        \r"
     ]
    },
    {
     "name": "stdout",
     "output_type": "stream",
     "text": [
      "Epoch 152/250 | Train MAE (log): 0.39570 | Val Loss: 0.46827 | Val SMAPE: 42.95% | LR: 1.0e-04\n"
     ]
    },
    {
     "name": "stderr",
     "output_type": "stream",
     "text": [
      "                                                                        \r"
     ]
    },
    {
     "name": "stdout",
     "output_type": "stream",
     "text": [
      "Epoch 153/250 | Train MAE (log): 0.39585 | Val Loss: 0.46989 | Val SMAPE: 42.63% | LR: 1.0e-04\n",
      "  -> New best validation SMAPE: 42.63%. Model saved.\n"
     ]
    },
    {
     "name": "stderr",
     "output_type": "stream",
     "text": [
      "                                                                        \r"
     ]
    },
    {
     "name": "stdout",
     "output_type": "stream",
     "text": [
      "Epoch 154/250 | Train MAE (log): 0.39577 | Val Loss: 0.46993 | Val SMAPE: 42.65% | LR: 9.8e-05\n"
     ]
    },
    {
     "name": "stderr",
     "output_type": "stream",
     "text": [
      "                                                                        \r"
     ]
    },
    {
     "name": "stdout",
     "output_type": "stream",
     "text": [
      "Epoch 155/250 | Train MAE (log): 0.39579 | Val Loss: 0.46867 | Val SMAPE: 42.82% | LR: 9.7e-05\n"
     ]
    },
    {
     "name": "stderr",
     "output_type": "stream",
     "text": [
      "                                                                        \r"
     ]
    },
    {
     "name": "stdout",
     "output_type": "stream",
     "text": [
      "Epoch 156/250 | Train MAE (log): 0.39562 | Val Loss: 0.46814 | Val SMAPE: 42.74% | LR: 9.5e-05\n"
     ]
    },
    {
     "name": "stderr",
     "output_type": "stream",
     "text": [
      "                                                                        \r"
     ]
    },
    {
     "name": "stdout",
     "output_type": "stream",
     "text": [
      "Epoch 157/250 | Train MAE (log): 0.39568 | Val Loss: 0.46766 | Val SMAPE: 42.94% | LR: 9.3e-05\n"
     ]
    },
    {
     "name": "stderr",
     "output_type": "stream",
     "text": [
      "                                                                        \r"
     ]
    },
    {
     "name": "stdout",
     "output_type": "stream",
     "text": [
      "Epoch 158/250 | Train MAE (log): 0.39566 | Val Loss: 0.46968 | Val SMAPE: 42.76% | LR: 9.1e-05\n"
     ]
    },
    {
     "name": "stderr",
     "output_type": "stream",
     "text": [
      "                                                                        \r"
     ]
    },
    {
     "name": "stdout",
     "output_type": "stream",
     "text": [
      "Epoch 159/250 | Train MAE (log): 0.39571 | Val Loss: 0.46948 | Val SMAPE: 42.48% | LR: 9.0e-05\n",
      "  -> New best validation SMAPE: 42.48%. Model saved.\n"
     ]
    },
    {
     "name": "stderr",
     "output_type": "stream",
     "text": [
      "                                                                        \r"
     ]
    },
    {
     "name": "stdout",
     "output_type": "stream",
     "text": [
      "Epoch 160/250 | Train MAE (log): 0.39550 | Val Loss: 0.46909 | Val SMAPE: 42.47% | LR: 8.8e-05\n",
      "  -> New best validation SMAPE: 42.47%. Model saved.\n"
     ]
    },
    {
     "name": "stderr",
     "output_type": "stream",
     "text": [
      "                                                                        \r"
     ]
    },
    {
     "name": "stdout",
     "output_type": "stream",
     "text": [
      "Epoch 161/250 | Train MAE (log): 0.39561 | Val Loss: 0.46817 | Val SMAPE: 42.66% | LR: 8.6e-05\n"
     ]
    },
    {
     "name": "stderr",
     "output_type": "stream",
     "text": [
      "                                                                        \r"
     ]
    },
    {
     "name": "stdout",
     "output_type": "stream",
     "text": [
      "Epoch 162/250 | Train MAE (log): 0.39569 | Val Loss: 0.46810 | Val SMAPE: 42.49% | LR: 8.4e-05\n"
     ]
    },
    {
     "name": "stderr",
     "output_type": "stream",
     "text": [
      "                                                                        \r"
     ]
    },
    {
     "name": "stdout",
     "output_type": "stream",
     "text": [
      "Epoch 163/250 | Train MAE (log): 0.39568 | Val Loss: 0.46870 | Val SMAPE: 42.50% | LR: 8.3e-05\n"
     ]
    },
    {
     "name": "stderr",
     "output_type": "stream",
     "text": [
      "                                                                        \r"
     ]
    },
    {
     "name": "stdout",
     "output_type": "stream",
     "text": [
      "Epoch 164/250 | Train MAE (log): 0.39554 | Val Loss: 0.46778 | Val SMAPE: 42.96% | LR: 8.1e-05\n"
     ]
    },
    {
     "name": "stderr",
     "output_type": "stream",
     "text": [
      "                                                                        \r"
     ]
    },
    {
     "name": "stdout",
     "output_type": "stream",
     "text": [
      "Epoch 165/250 | Train MAE (log): 0.39568 | Val Loss: 0.46897 | Val SMAPE: 42.40% | LR: 7.9e-05\n",
      "  -> New best validation SMAPE: 42.40%. Model saved.\n"
     ]
    },
    {
     "name": "stderr",
     "output_type": "stream",
     "text": [
      "                                                                        \r"
     ]
    },
    {
     "name": "stdout",
     "output_type": "stream",
     "text": [
      "Epoch 166/250 | Train MAE (log): 0.39575 | Val Loss: 0.46843 | Val SMAPE: 42.89% | LR: 7.8e-05\n"
     ]
    },
    {
     "name": "stderr",
     "output_type": "stream",
     "text": [
      "                                                                        \r"
     ]
    },
    {
     "name": "stdout",
     "output_type": "stream",
     "text": [
      "Epoch 167/250 | Train MAE (log): 0.39554 | Val Loss: 0.46706 | Val SMAPE: 42.82% | LR: 7.6e-05\n"
     ]
    },
    {
     "name": "stderr",
     "output_type": "stream",
     "text": [
      "                                                                        \r"
     ]
    },
    {
     "name": "stdout",
     "output_type": "stream",
     "text": [
      "Epoch 168/250 | Train MAE (log): 0.39549 | Val Loss: 0.46901 | Val SMAPE: 42.44% | LR: 7.4e-05\n"
     ]
    },
    {
     "name": "stderr",
     "output_type": "stream",
     "text": [
      "                                                                        \r"
     ]
    },
    {
     "name": "stdout",
     "output_type": "stream",
     "text": [
      "Epoch 169/250 | Train MAE (log): 0.39555 | Val Loss: 0.46778 | Val SMAPE: 42.48% | LR: 7.3e-05\n"
     ]
    },
    {
     "name": "stderr",
     "output_type": "stream",
     "text": [
      "                                                                        \r"
     ]
    },
    {
     "name": "stdout",
     "output_type": "stream",
     "text": [
      "Epoch 170/250 | Train MAE (log): 0.39551 | Val Loss: 0.46853 | Val SMAPE: 42.55% | LR: 7.1e-05\n"
     ]
    },
    {
     "name": "stderr",
     "output_type": "stream",
     "text": [
      "                                                                        \r"
     ]
    },
    {
     "name": "stdout",
     "output_type": "stream",
     "text": [
      "Epoch 171/250 | Train MAE (log): 0.39560 | Val Loss: 0.46980 | Val SMAPE: 42.37% | LR: 7.0e-05\n",
      "  -> New best validation SMAPE: 42.37%. Model saved.\n"
     ]
    },
    {
     "name": "stderr",
     "output_type": "stream",
     "text": [
      "                                                                        \r"
     ]
    },
    {
     "name": "stdout",
     "output_type": "stream",
     "text": [
      "Epoch 172/250 | Train MAE (log): 0.39553 | Val Loss: 0.46876 | Val SMAPE: 42.37% | LR: 6.8e-05\n",
      "  -> New best validation SMAPE: 42.37%. Model saved.\n"
     ]
    },
    {
     "name": "stderr",
     "output_type": "stream",
     "text": [
      "                                                                        \r"
     ]
    },
    {
     "name": "stdout",
     "output_type": "stream",
     "text": [
      "Epoch 173/250 | Train MAE (log): 0.39547 | Val Loss: 0.46830 | Val SMAPE: 42.75% | LR: 6.6e-05\n"
     ]
    },
    {
     "name": "stderr",
     "output_type": "stream",
     "text": [
      "                                                                        \r"
     ]
    },
    {
     "name": "stdout",
     "output_type": "stream",
     "text": [
      "Epoch 174/250 | Train MAE (log): 0.39581 | Val Loss: 0.46850 | Val SMAPE: 42.30% | LR: 6.5e-05\n",
      "  -> New best validation SMAPE: 42.30%. Model saved.\n"
     ]
    },
    {
     "name": "stderr",
     "output_type": "stream",
     "text": [
      "                                                                        \r"
     ]
    },
    {
     "name": "stdout",
     "output_type": "stream",
     "text": [
      "Epoch 175/250 | Train MAE (log): 0.39551 | Val Loss: 0.46848 | Val SMAPE: 42.38% | LR: 6.3e-05\n"
     ]
    },
    {
     "name": "stderr",
     "output_type": "stream",
     "text": [
      "                                                                        \r"
     ]
    },
    {
     "name": "stdout",
     "output_type": "stream",
     "text": [
      "Epoch 176/250 | Train MAE (log): 0.39550 | Val Loss: 0.46763 | Val SMAPE: 42.36% | LR: 6.2e-05\n"
     ]
    },
    {
     "name": "stderr",
     "output_type": "stream",
     "text": [
      "                                                                        \r"
     ]
    },
    {
     "name": "stdout",
     "output_type": "stream",
     "text": [
      "Epoch 177/250 | Train MAE (log): 0.39536 | Val Loss: 0.46750 | Val SMAPE: 42.46% | LR: 6.0e-05\n"
     ]
    },
    {
     "name": "stderr",
     "output_type": "stream",
     "text": [
      "                                                                        \r"
     ]
    },
    {
     "name": "stdout",
     "output_type": "stream",
     "text": [
      "Epoch 178/250 | Train MAE (log): 0.39532 | Val Loss: 0.46826 | Val SMAPE: 42.32% | LR: 5.9e-05\n"
     ]
    },
    {
     "name": "stderr",
     "output_type": "stream",
     "text": [
      "                                                                        \r"
     ]
    },
    {
     "name": "stdout",
     "output_type": "stream",
     "text": [
      "Epoch 179/250 | Train MAE (log): 0.39542 | Val Loss: 0.46991 | Val SMAPE: 42.20% | LR: 5.7e-05\n",
      "  -> New best validation SMAPE: 42.20%. Model saved.\n"
     ]
    },
    {
     "name": "stderr",
     "output_type": "stream",
     "text": [
      "                                                                        \r"
     ]
    },
    {
     "name": "stdout",
     "output_type": "stream",
     "text": [
      "Epoch 180/250 | Train MAE (log): 0.39542 | Val Loss: 0.46677 | Val SMAPE: 42.61% | LR: 5.6e-05\n"
     ]
    },
    {
     "name": "stderr",
     "output_type": "stream",
     "text": [
      "                                                                        \r"
     ]
    },
    {
     "name": "stdout",
     "output_type": "stream",
     "text": [
      "Epoch 181/250 | Train MAE (log): 0.39544 | Val Loss: 0.46896 | Val SMAPE: 42.26% | LR: 5.4e-05\n"
     ]
    },
    {
     "name": "stderr",
     "output_type": "stream",
     "text": [
      "                                                                        \r"
     ]
    },
    {
     "name": "stdout",
     "output_type": "stream",
     "text": [
      "Epoch 182/250 | Train MAE (log): 0.39547 | Val Loss: 0.46737 | Val SMAPE: 42.69% | LR: 5.3e-05\n"
     ]
    },
    {
     "name": "stderr",
     "output_type": "stream",
     "text": [
      "                                                                        \r"
     ]
    },
    {
     "name": "stdout",
     "output_type": "stream",
     "text": [
      "Epoch 183/250 | Train MAE (log): 0.39544 | Val Loss: 0.46784 | Val SMAPE: 42.30% | LR: 5.2e-05\n"
     ]
    },
    {
     "name": "stderr",
     "output_type": "stream",
     "text": [
      "                                                                        \r"
     ]
    },
    {
     "name": "stdout",
     "output_type": "stream",
     "text": [
      "Epoch 184/250 | Train MAE (log): 0.39544 | Val Loss: 0.46927 | Val SMAPE: 42.28% | LR: 5.0e-05\n"
     ]
    },
    {
     "name": "stderr",
     "output_type": "stream",
     "text": [
      "                                                                        \r"
     ]
    },
    {
     "name": "stdout",
     "output_type": "stream",
     "text": [
      "Epoch 185/250 | Train MAE (log): 0.39547 | Val Loss: 0.46816 | Val SMAPE: 42.24% | LR: 4.9e-05\n"
     ]
    },
    {
     "name": "stderr",
     "output_type": "stream",
     "text": [
      "                                                                        \r"
     ]
    },
    {
     "name": "stdout",
     "output_type": "stream",
     "text": [
      "Epoch 186/250 | Train MAE (log): 0.39542 | Val Loss: 0.46873 | Val SMAPE: 42.28% | LR: 4.7e-05\n"
     ]
    },
    {
     "name": "stderr",
     "output_type": "stream",
     "text": [
      "                                                                        \r"
     ]
    },
    {
     "name": "stdout",
     "output_type": "stream",
     "text": [
      "Epoch 187/250 | Train MAE (log): 0.39543 | Val Loss: 0.46980 | Val SMAPE: 42.34% | LR: 4.6e-05\n"
     ]
    },
    {
     "name": "stderr",
     "output_type": "stream",
     "text": [
      "                                                                        \r"
     ]
    },
    {
     "name": "stdout",
     "output_type": "stream",
     "text": [
      "Epoch 188/250 | Train MAE (log): 0.39527 | Val Loss: 0.46764 | Val SMAPE: 42.75% | LR: 4.5e-05\n"
     ]
    },
    {
     "name": "stderr",
     "output_type": "stream",
     "text": [
      "                                                                        \r"
     ]
    },
    {
     "name": "stdout",
     "output_type": "stream",
     "text": [
      "Epoch 189/250 | Train MAE (log): 0.39541 | Val Loss: 0.46803 | Val SMAPE: 42.45% | LR: 4.3e-05\n"
     ]
    },
    {
     "name": "stderr",
     "output_type": "stream",
     "text": [
      "                                                                        \r"
     ]
    },
    {
     "name": "stdout",
     "output_type": "stream",
     "text": [
      "Epoch 190/250 | Train MAE (log): 0.39529 | Val Loss: 0.46787 | Val SMAPE: 42.33% | LR: 4.2e-05\n"
     ]
    },
    {
     "name": "stderr",
     "output_type": "stream",
     "text": [
      "                                                                        \r"
     ]
    },
    {
     "name": "stdout",
     "output_type": "stream",
     "text": [
      "Epoch 191/250 | Train MAE (log): 0.39532 | Val Loss: 0.46868 | Val SMAPE: 42.28% | LR: 4.1e-05\n"
     ]
    },
    {
     "name": "stderr",
     "output_type": "stream",
     "text": [
      "                                                                        \r"
     ]
    },
    {
     "name": "stdout",
     "output_type": "stream",
     "text": [
      "Epoch 192/250 | Train MAE (log): 0.39531 | Val Loss: 0.46783 | Val SMAPE: 42.45% | LR: 3.9e-05\n"
     ]
    },
    {
     "name": "stderr",
     "output_type": "stream",
     "text": [
      "                                                                        \r"
     ]
    },
    {
     "name": "stdout",
     "output_type": "stream",
     "text": [
      "Epoch 193/250 | Train MAE (log): 0.39522 | Val Loss: 0.46907 | Val SMAPE: 42.19% | LR: 3.8e-05\n",
      "  -> New best validation SMAPE: 42.19%. Model saved.\n"
     ]
    },
    {
     "name": "stderr",
     "output_type": "stream",
     "text": [
      "                                                                        \r"
     ]
    },
    {
     "name": "stdout",
     "output_type": "stream",
     "text": [
      "Epoch 194/250 | Train MAE (log): 0.39525 | Val Loss: 0.46857 | Val SMAPE: 42.21% | LR: 3.7e-05\n"
     ]
    },
    {
     "name": "stderr",
     "output_type": "stream",
     "text": [
      "                                                                        \r"
     ]
    },
    {
     "name": "stdout",
     "output_type": "stream",
     "text": [
      "Epoch 195/250 | Train MAE (log): 0.39528 | Val Loss: 0.46825 | Val SMAPE: 42.22% | LR: 3.6e-05\n"
     ]
    },
    {
     "name": "stderr",
     "output_type": "stream",
     "text": [
      "                                                                        \r"
     ]
    },
    {
     "name": "stdout",
     "output_type": "stream",
     "text": [
      "Epoch 196/250 | Train MAE (log): 0.39533 | Val Loss: 0.46731 | Val SMAPE: 42.49% | LR: 3.4e-05\n"
     ]
    },
    {
     "name": "stderr",
     "output_type": "stream",
     "text": [
      "                                                                        \r"
     ]
    },
    {
     "name": "stdout",
     "output_type": "stream",
     "text": [
      "Epoch 197/250 | Train MAE (log): 0.39533 | Val Loss: 0.46843 | Val SMAPE: 42.43% | LR: 3.3e-05\n"
     ]
    },
    {
     "name": "stderr",
     "output_type": "stream",
     "text": [
      "                                                                        \r"
     ]
    },
    {
     "name": "stdout",
     "output_type": "stream",
     "text": [
      "Epoch 198/250 | Train MAE (log): 0.39520 | Val Loss: 0.46905 | Val SMAPE: 42.16% | LR: 3.2e-05\n",
      "  -> New best validation SMAPE: 42.16%. Model saved.\n"
     ]
    },
    {
     "name": "stderr",
     "output_type": "stream",
     "text": [
      "                                                                        \r"
     ]
    },
    {
     "name": "stdout",
     "output_type": "stream",
     "text": [
      "Epoch 199/250 | Train MAE (log): 0.39527 | Val Loss: 0.46818 | Val SMAPE: 42.43% | LR: 3.1e-05\n"
     ]
    },
    {
     "name": "stderr",
     "output_type": "stream",
     "text": [
      "                                                                        \r"
     ]
    },
    {
     "name": "stdout",
     "output_type": "stream",
     "text": [
      "Epoch 200/250 | Train MAE (log): 0.39523 | Val Loss: 0.46762 | Val SMAPE: 42.42% | LR: 3.0e-05\n"
     ]
    },
    {
     "name": "stderr",
     "output_type": "stream",
     "text": [
      "                                                                        \r"
     ]
    },
    {
     "name": "stdout",
     "output_type": "stream",
     "text": [
      "Epoch 201/250 | Train MAE (log): 0.39532 | Val Loss: 0.46923 | Val SMAPE: 42.24% | LR: 2.9e-05\n"
     ]
    },
    {
     "name": "stderr",
     "output_type": "stream",
     "text": [
      "                                                                        \r"
     ]
    },
    {
     "name": "stdout",
     "output_type": "stream",
     "text": [
      "Epoch 202/250 | Train MAE (log): 0.39526 | Val Loss: 0.46821 | Val SMAPE: 42.26% | LR: 2.8e-05\n"
     ]
    },
    {
     "name": "stderr",
     "output_type": "stream",
     "text": [
      "                                                                        \r"
     ]
    },
    {
     "name": "stdout",
     "output_type": "stream",
     "text": [
      "Epoch 203/250 | Train MAE (log): 0.39528 | Val Loss: 0.46924 | Val SMAPE: 42.15% | LR: 2.6e-05\n",
      "  -> New best validation SMAPE: 42.15%. Model saved.\n"
     ]
    },
    {
     "name": "stderr",
     "output_type": "stream",
     "text": [
      "                                                                        \r"
     ]
    },
    {
     "name": "stdout",
     "output_type": "stream",
     "text": [
      "Epoch 204/250 | Train MAE (log): 0.39516 | Val Loss: 0.46980 | Val SMAPE: 42.17% | LR: 2.5e-05\n"
     ]
    },
    {
     "name": "stderr",
     "output_type": "stream",
     "text": [
      "                                                                        \r"
     ]
    },
    {
     "name": "stdout",
     "output_type": "stream",
     "text": [
      "Epoch 205/250 | Train MAE (log): 0.39527 | Val Loss: 0.46831 | Val SMAPE: 42.20% | LR: 2.4e-05\n"
     ]
    },
    {
     "name": "stderr",
     "output_type": "stream",
     "text": [
      "                                                                        \r"
     ]
    },
    {
     "name": "stdout",
     "output_type": "stream",
     "text": [
      "Epoch 206/250 | Train MAE (log): 0.39528 | Val Loss: 0.46787 | Val SMAPE: 42.30% | LR: 2.3e-05\n"
     ]
    },
    {
     "name": "stderr",
     "output_type": "stream",
     "text": [
      "                                                                        \r"
     ]
    },
    {
     "name": "stdout",
     "output_type": "stream",
     "text": [
      "Epoch 207/250 | Train MAE (log): 0.39530 | Val Loss: 0.46668 | Val SMAPE: 42.54% | LR: 2.2e-05\n"
     ]
    },
    {
     "name": "stderr",
     "output_type": "stream",
     "text": [
      "                                                                        \r"
     ]
    },
    {
     "name": "stdout",
     "output_type": "stream",
     "text": [
      "Epoch 208/250 | Train MAE (log): 0.39527 | Val Loss: 0.46922 | Val SMAPE: 42.19% | LR: 2.1e-05\n"
     ]
    },
    {
     "name": "stderr",
     "output_type": "stream",
     "text": [
      "                                                                        \r"
     ]
    },
    {
     "name": "stdout",
     "output_type": "stream",
     "text": [
      "Epoch 209/250 | Train MAE (log): 0.39521 | Val Loss: 0.46868 | Val SMAPE: 42.35% | LR: 2.0e-05\n"
     ]
    },
    {
     "name": "stderr",
     "output_type": "stream",
     "text": [
      "                                                                        \r"
     ]
    },
    {
     "name": "stdout",
     "output_type": "stream",
     "text": [
      "Epoch 210/250 | Train MAE (log): 0.39519 | Val Loss: 0.46776 | Val SMAPE: 42.25% | LR: 1.9e-05\n"
     ]
    },
    {
     "name": "stderr",
     "output_type": "stream",
     "text": [
      "                                                                        \r"
     ]
    },
    {
     "name": "stdout",
     "output_type": "stream",
     "text": [
      "Epoch 211/250 | Train MAE (log): 0.39523 | Val Loss: 0.46797 | Val SMAPE: 42.20% | LR: 1.9e-05\n"
     ]
    },
    {
     "name": "stderr",
     "output_type": "stream",
     "text": [
      "                                                                        \r"
     ]
    },
    {
     "name": "stdout",
     "output_type": "stream",
     "text": [
      "Epoch 212/250 | Train MAE (log): 0.39523 | Val Loss: 0.46900 | Val SMAPE: 42.16% | LR: 1.8e-05\n"
     ]
    },
    {
     "name": "stderr",
     "output_type": "stream",
     "text": [
      "                                                                        \r"
     ]
    },
    {
     "name": "stdout",
     "output_type": "stream",
     "text": [
      "Epoch 213/250 | Train MAE (log): 0.39523 | Val Loss: 0.46814 | Val SMAPE: 42.12% | LR: 1.7e-05\n",
      "  -> New best validation SMAPE: 42.12%. Model saved.\n"
     ]
    },
    {
     "name": "stderr",
     "output_type": "stream",
     "text": [
      "                                                                        \r"
     ]
    },
    {
     "name": "stdout",
     "output_type": "stream",
     "text": [
      "Epoch 214/250 | Train MAE (log): 0.39525 | Val Loss: 0.46882 | Val SMAPE: 42.15% | LR: 1.6e-05\n"
     ]
    },
    {
     "name": "stderr",
     "output_type": "stream",
     "text": [
      "                                                                        \r"
     ]
    },
    {
     "name": "stdout",
     "output_type": "stream",
     "text": [
      "Epoch 215/250 | Train MAE (log): 0.39515 | Val Loss: 0.46887 | Val SMAPE: 42.17% | LR: 1.5e-05\n"
     ]
    },
    {
     "name": "stderr",
     "output_type": "stream",
     "text": [
      "                                                                        \r"
     ]
    },
    {
     "name": "stdout",
     "output_type": "stream",
     "text": [
      "Epoch 216/250 | Train MAE (log): 0.39511 | Val Loss: 0.46732 | Val SMAPE: 42.48% | LR: 1.4e-05\n"
     ]
    },
    {
     "name": "stderr",
     "output_type": "stream",
     "text": [
      "                                                                        \r"
     ]
    },
    {
     "name": "stdout",
     "output_type": "stream",
     "text": [
      "Epoch 217/250 | Train MAE (log): 0.39509 | Val Loss: 0.46852 | Val SMAPE: 42.18% | LR: 1.3e-05\n"
     ]
    },
    {
     "name": "stderr",
     "output_type": "stream",
     "text": [
      "                                                                        \r"
     ]
    },
    {
     "name": "stdout",
     "output_type": "stream",
     "text": [
      "Epoch 218/250 | Train MAE (log): 0.39512 | Val Loss: 0.46787 | Val SMAPE: 42.46% | LR: 1.3e-05\n"
     ]
    },
    {
     "name": "stderr",
     "output_type": "stream",
     "text": [
      "                                                                        \r"
     ]
    },
    {
     "name": "stdout",
     "output_type": "stream",
     "text": [
      "Epoch 219/250 | Train MAE (log): 0.39513 | Val Loss: 0.46917 | Val SMAPE: 42.14% | LR: 1.2e-05\n"
     ]
    },
    {
     "name": "stderr",
     "output_type": "stream",
     "text": [
      "                                                                        \r"
     ]
    },
    {
     "name": "stdout",
     "output_type": "stream",
     "text": [
      "Epoch 220/250 | Train MAE (log): 0.39514 | Val Loss: 0.46854 | Val SMAPE: 42.28% | LR: 1.1e-05\n"
     ]
    },
    {
     "name": "stderr",
     "output_type": "stream",
     "text": [
      "                                                                        \r"
     ]
    },
    {
     "name": "stdout",
     "output_type": "stream",
     "text": [
      "Epoch 221/250 | Train MAE (log): 0.39508 | Val Loss: 0.47083 | Val SMAPE: 42.20% | LR: 1.1e-05\n"
     ]
    },
    {
     "name": "stderr",
     "output_type": "stream",
     "text": [
      "                                                                        \r"
     ]
    },
    {
     "name": "stdout",
     "output_type": "stream",
     "text": [
      "Epoch 222/250 | Train MAE (log): 0.39516 | Val Loss: 0.46695 | Val SMAPE: 42.53% | LR: 9.9e-06\n"
     ]
    },
    {
     "name": "stderr",
     "output_type": "stream",
     "text": [
      "                                                                        \r"
     ]
    },
    {
     "name": "stdout",
     "output_type": "stream",
     "text": [
      "Epoch 223/250 | Train MAE (log): 0.39521 | Val Loss: 0.46935 | Val SMAPE: 42.18% | LR: 9.2e-06\n"
     ]
    },
    {
     "name": "stderr",
     "output_type": "stream",
     "text": [
      "                                                                        \r"
     ]
    },
    {
     "name": "stdout",
     "output_type": "stream",
     "text": [
      "Epoch 224/250 | Train MAE (log): 0.39529 | Val Loss: 0.46746 | Val SMAPE: 42.34% | LR: 8.6e-06\n"
     ]
    },
    {
     "name": "stderr",
     "output_type": "stream",
     "text": [
      "                                                                        \r"
     ]
    },
    {
     "name": "stdout",
     "output_type": "stream",
     "text": [
      "Epoch 225/250 | Train MAE (log): 0.39520 | Val Loss: 0.46880 | Val SMAPE: 42.47% | LR: 7.9e-06\n"
     ]
    },
    {
     "name": "stderr",
     "output_type": "stream",
     "text": [
      "                                                                        \r"
     ]
    },
    {
     "name": "stdout",
     "output_type": "stream",
     "text": [
      "Epoch 226/250 | Train MAE (log): 0.39512 | Val Loss: 0.46713 | Val SMAPE: 42.68% | LR: 7.4e-06\n"
     ]
    },
    {
     "name": "stderr",
     "output_type": "stream",
     "text": [
      "                                                                        \r"
     ]
    },
    {
     "name": "stdout",
     "output_type": "stream",
     "text": [
      "Epoch 227/250 | Train MAE (log): 0.39511 | Val Loss: 0.46840 | Val SMAPE: 42.69% | LR: 6.8e-06\n"
     ]
    },
    {
     "name": "stderr",
     "output_type": "stream",
     "text": [
      "                                                                        \r"
     ]
    },
    {
     "name": "stdout",
     "output_type": "stream",
     "text": [
      "Epoch 228/250 | Train MAE (log): 0.39520 | Val Loss: 0.46820 | Val SMAPE: 42.56% | LR: 6.2e-06\n"
     ]
    },
    {
     "name": "stderr",
     "output_type": "stream",
     "text": [
      "                                                                        \r"
     ]
    },
    {
     "name": "stdout",
     "output_type": "stream",
     "text": [
      "Epoch 229/250 | Train MAE (log): 0.39519 | Val Loss: 0.46925 | Val SMAPE: 42.07% | LR: 5.7e-06\n",
      "  -> New best validation SMAPE: 42.07%. Model saved.\n"
     ]
    },
    {
     "name": "stderr",
     "output_type": "stream",
     "text": [
      "                                                                        \r"
     ]
    },
    {
     "name": "stdout",
     "output_type": "stream",
     "text": [
      "Epoch 230/250 | Train MAE (log): 0.39516 | Val Loss: 0.46857 | Val SMAPE: 42.20% | LR: 5.2e-06\n"
     ]
    },
    {
     "name": "stderr",
     "output_type": "stream",
     "text": [
      "                                                                        \r"
     ]
    },
    {
     "name": "stdout",
     "output_type": "stream",
     "text": [
      "Epoch 231/250 | Train MAE (log): 0.39517 | Val Loss: 0.46813 | Val SMAPE: 42.15% | LR: 4.7e-06\n"
     ]
    },
    {
     "name": "stderr",
     "output_type": "stream",
     "text": [
      "                                                                        \r"
     ]
    },
    {
     "name": "stdout",
     "output_type": "stream",
     "text": [
      "Epoch 232/250 | Train MAE (log): 0.39511 | Val Loss: 0.46900 | Val SMAPE: 42.05% | LR: 4.3e-06\n",
      "  -> New best validation SMAPE: 42.05%. Model saved.\n"
     ]
    },
    {
     "name": "stderr",
     "output_type": "stream",
     "text": [
      "                                                                        \r"
     ]
    },
    {
     "name": "stdout",
     "output_type": "stream",
     "text": [
      "Epoch 233/250 | Train MAE (log): 0.39511 | Val Loss: 0.46827 | Val SMAPE: 42.22% | LR: 3.8e-06\n"
     ]
    },
    {
     "name": "stderr",
     "output_type": "stream",
     "text": [
      "                                                                        \r"
     ]
    },
    {
     "name": "stdout",
     "output_type": "stream",
     "text": [
      "Epoch 234/250 | Train MAE (log): 0.39516 | Val Loss: 0.46820 | Val SMAPE: 42.17% | LR: 3.4e-06\n"
     ]
    },
    {
     "name": "stderr",
     "output_type": "stream",
     "text": [
      "                                                                        \r"
     ]
    },
    {
     "name": "stdout",
     "output_type": "stream",
     "text": [
      "Epoch 235/250 | Train MAE (log): 0.39523 | Val Loss: 0.46902 | Val SMAPE: 42.16% | LR: 3.0e-06\n"
     ]
    },
    {
     "name": "stderr",
     "output_type": "stream",
     "text": [
      "                                                                        \r"
     ]
    },
    {
     "name": "stdout",
     "output_type": "stream",
     "text": [
      "Epoch 236/250 | Train MAE (log): 0.39518 | Val Loss: 0.47061 | Val SMAPE: 42.02% | LR: 2.7e-06\n",
      "  -> New best validation SMAPE: 42.02%. Model saved.\n"
     ]
    },
    {
     "name": "stderr",
     "output_type": "stream",
     "text": [
      "                                                                        \r"
     ]
    },
    {
     "name": "stdout",
     "output_type": "stream",
     "text": [
      "Epoch 237/250 | Train MAE (log): 0.39521 | Val Loss: 0.46788 | Val SMAPE: 42.40% | LR: 2.3e-06\n"
     ]
    },
    {
     "name": "stderr",
     "output_type": "stream",
     "text": [
      "                                                                        \r"
     ]
    },
    {
     "name": "stdout",
     "output_type": "stream",
     "text": [
      "Epoch 238/250 | Train MAE (log): 0.39518 | Val Loss: 0.46709 | Val SMAPE: 42.64% | LR: 2.0e-06\n"
     ]
    },
    {
     "name": "stderr",
     "output_type": "stream",
     "text": [
      "                                                                        \r"
     ]
    },
    {
     "name": "stdout",
     "output_type": "stream",
     "text": [
      "Epoch 239/250 | Train MAE (log): 0.39508 | Val Loss: 0.46815 | Val SMAPE: 42.18% | LR: 1.7e-06\n"
     ]
    },
    {
     "name": "stderr",
     "output_type": "stream",
     "text": [
      "                                                                        \r"
     ]
    },
    {
     "name": "stdout",
     "output_type": "stream",
     "text": [
      "Epoch 240/250 | Train MAE (log): 0.39519 | Val Loss: 0.46958 | Val SMAPE: 42.08% | LR: 1.4e-06\n"
     ]
    },
    {
     "name": "stderr",
     "output_type": "stream",
     "text": [
      "                                                                        \r"
     ]
    },
    {
     "name": "stdout",
     "output_type": "stream",
     "text": [
      "Epoch 241/250 | Train MAE (log): 0.39513 | Val Loss: 0.46791 | Val SMAPE: 42.56% | LR: 1.2e-06\n"
     ]
    },
    {
     "name": "stderr",
     "output_type": "stream",
     "text": [
      "                                                                        \r"
     ]
    },
    {
     "name": "stdout",
     "output_type": "stream",
     "text": [
      "Epoch 242/250 | Train MAE (log): 0.39513 | Val Loss: 0.46864 | Val SMAPE: 42.17% | LR: 9.7e-07\n"
     ]
    },
    {
     "name": "stderr",
     "output_type": "stream",
     "text": [
      "                                                                        \r"
     ]
    },
    {
     "name": "stdout",
     "output_type": "stream",
     "text": [
      "Epoch 243/250 | Train MAE (log): 0.39503 | Val Loss: 0.47029 | Val SMAPE: 42.11% | LR: 7.7e-07\n"
     ]
    },
    {
     "name": "stderr",
     "output_type": "stream",
     "text": [
      "                                                                        \r"
     ]
    },
    {
     "name": "stdout",
     "output_type": "stream",
     "text": [
      "Epoch 244/250 | Train MAE (log): 0.39519 | Val Loss: 0.46742 | Val SMAPE: 42.43% | LR: 5.9e-07\n"
     ]
    },
    {
     "name": "stderr",
     "output_type": "stream",
     "text": [
      "                                                                        \r"
     ]
    },
    {
     "name": "stdout",
     "output_type": "stream",
     "text": [
      "Epoch 245/250 | Train MAE (log): 0.39523 | Val Loss: 0.46999 | Val SMAPE: 42.07% | LR: 4.4e-07\n"
     ]
    },
    {
     "name": "stderr",
     "output_type": "stream",
     "text": [
      "                                                                        \r"
     ]
    },
    {
     "name": "stdout",
     "output_type": "stream",
     "text": [
      "Epoch 246/250 | Train MAE (log): 0.39508 | Val Loss: 0.46856 | Val SMAPE: 42.16% | LR: 3.1e-07\n"
     ]
    },
    {
     "name": "stderr",
     "output_type": "stream",
     "text": [
      "                                                                        \r"
     ]
    },
    {
     "name": "stdout",
     "output_type": "stream",
     "text": [
      "Epoch 247/250 | Train MAE (log): 0.39508 | Val Loss: 0.46842 | Val SMAPE: 42.26% | LR: 2.0e-07\n"
     ]
    },
    {
     "name": "stderr",
     "output_type": "stream",
     "text": [
      "                                                                        \r"
     ]
    },
    {
     "name": "stdout",
     "output_type": "stream",
     "text": [
      "Epoch 248/250 | Train MAE (log): 0.39507 | Val Loss: 0.46815 | Val SMAPE: 42.31% | LR: 1.2e-07\n"
     ]
    },
    {
     "name": "stderr",
     "output_type": "stream",
     "text": [
      "                                                                        \r"
     ]
    },
    {
     "name": "stdout",
     "output_type": "stream",
     "text": [
      "Epoch 249/250 | Train MAE (log): 0.39513 | Val Loss: 0.46827 | Val SMAPE: 42.29% | LR: 5.7e-08\n"
     ]
    },
    {
     "name": "stderr",
     "output_type": "stream",
     "text": [
      "                                                                        \r"
     ]
    },
    {
     "name": "stdout",
     "output_type": "stream",
     "text": [
      "Epoch 250/250 | Train MAE (log): 0.39511 | Val Loss: 0.46865 | Val SMAPE: 42.14% | LR: 2.2e-08\n",
      "\n",
      "--- Starting Fold 2/5 ---\n"
     ]
    },
    {
     "name": "stderr",
     "output_type": "stream",
     "text": [
      "                                                                      \r"
     ]
    },
    {
     "name": "stdout",
     "output_type": "stream",
     "text": [
      "Epoch 1/250 | Train MAE (log): 0.70446 | Val Loss: 0.67927 | Val SMAPE: 99.52% | LR: 1.0e-06\n",
      "  -> New best validation SMAPE: 99.52%. Model saved.\n"
     ]
    },
    {
     "name": "stderr",
     "output_type": "stream",
     "text": [
      "                                                                      \r"
     ]
    },
    {
     "name": "stdout",
     "output_type": "stream",
     "text": [
      "Epoch 2/250 | Train MAE (log): 0.68404 | Val Loss: 0.66334 | Val SMAPE: 98.22% | LR: 3.1e-05\n",
      "  -> New best validation SMAPE: 98.22%. Model saved.\n"
     ]
    },
    {
     "name": "stderr",
     "output_type": "stream",
     "text": [
      "                                                                      \r"
     ]
    },
    {
     "name": "stdout",
     "output_type": "stream",
     "text": [
      "Epoch 3/250 | Train MAE (log): 0.63151 | Val Loss: 0.57655 | Val SMAPE: 88.22% | LR: 6.1e-05\n",
      "  -> New best validation SMAPE: 88.22%. Model saved.\n"
     ]
    },
    {
     "name": "stderr",
     "output_type": "stream",
     "text": [
      "                                                                      \r"
     ]
    },
    {
     "name": "stdout",
     "output_type": "stream",
     "text": [
      "Epoch 4/250 | Train MAE (log): 0.55865 | Val Loss: 0.51838 | Val SMAPE: 75.99% | LR: 9.1e-05\n",
      "  -> New best validation SMAPE: 75.99%. Model saved.\n"
     ]
    },
    {
     "name": "stderr",
     "output_type": "stream",
     "text": [
      "                                                                      \r"
     ]
    },
    {
     "name": "stdout",
     "output_type": "stream",
     "text": [
      "Epoch 5/250 | Train MAE (log): 0.49772 | Val Loss: 0.48067 | Val SMAPE: 62.06% | LR: 1.2e-04\n",
      "  -> New best validation SMAPE: 62.06%. Model saved.\n"
     ]
    },
    {
     "name": "stderr",
     "output_type": "stream",
     "text": [
      "                                                                      \r"
     ]
    },
    {
     "name": "stdout",
     "output_type": "stream",
     "text": [
      "Epoch 6/250 | Train MAE (log): 0.46998 | Val Loss: 0.47177 | Val SMAPE: 53.08% | LR: 1.5e-04\n",
      "  -> New best validation SMAPE: 53.08%. Model saved.\n"
     ]
    },
    {
     "name": "stderr",
     "output_type": "stream",
     "text": [
      "                                                                      \r"
     ]
    },
    {
     "name": "stdout",
     "output_type": "stream",
     "text": [
      "Epoch 7/250 | Train MAE (log): 0.45910 | Val Loss: 0.46552 | Val SMAPE: 50.58% | LR: 1.8e-04\n",
      "  -> New best validation SMAPE: 50.58%. Model saved.\n"
     ]
    },
    {
     "name": "stderr",
     "output_type": "stream",
     "text": [
      "                                                                      \r"
     ]
    },
    {
     "name": "stdout",
     "output_type": "stream",
     "text": [
      "Epoch 8/250 | Train MAE (log): 0.45222 | Val Loss: 0.46855 | Val SMAPE: 51.07% | LR: 2.1e-04\n"
     ]
    },
    {
     "name": "stderr",
     "output_type": "stream",
     "text": [
      "                                                                      \r"
     ]
    },
    {
     "name": "stdout",
     "output_type": "stream",
     "text": [
      "Epoch 9/250 | Train MAE (log): 0.44744 | Val Loss: 0.47018 | Val SMAPE: 51.78% | LR: 2.4e-04\n"
     ]
    },
    {
     "name": "stderr",
     "output_type": "stream",
     "text": [
      "                                                                       \r"
     ]
    },
    {
     "name": "stdout",
     "output_type": "stream",
     "text": [
      "Epoch 10/250 | Train MAE (log): 0.44327 | Val Loss: 0.46641 | Val SMAPE: 51.39% | LR: 2.7e-04\n"
     ]
    },
    {
     "name": "stderr",
     "output_type": "stream",
     "text": [
      "                                                                       \r"
     ]
    },
    {
     "name": "stdout",
     "output_type": "stream",
     "text": [
      "Epoch 11/250 | Train MAE (log): 0.44151 | Val Loss: 0.46676 | Val SMAPE: 49.76% | LR: 3.0e-04\n",
      "  -> New best validation SMAPE: 49.76%. Model saved.\n"
     ]
    },
    {
     "name": "stderr",
     "output_type": "stream",
     "text": [
      "                                                                       \r"
     ]
    },
    {
     "name": "stdout",
     "output_type": "stream",
     "text": [
      "Epoch 12/250 | Train MAE (log): 0.43870 | Val Loss: 0.46692 | Val SMAPE: 49.81% | LR: 3.0e-04\n"
     ]
    },
    {
     "name": "stderr",
     "output_type": "stream",
     "text": [
      "                                                                       \r"
     ]
    },
    {
     "name": "stdout",
     "output_type": "stream",
     "text": [
      "Epoch 13/250 | Train MAE (log): 0.43489 | Val Loss: 0.47015 | Val SMAPE: 50.31% | LR: 3.0e-04\n"
     ]
    },
    {
     "name": "stderr",
     "output_type": "stream",
     "text": [
      "                                                                       \r"
     ]
    },
    {
     "name": "stdout",
     "output_type": "stream",
     "text": [
      "Epoch 14/250 | Train MAE (log): 0.43056 | Val Loss: 0.46968 | Val SMAPE: 48.99% | LR: 3.0e-04\n",
      "  -> New best validation SMAPE: 48.99%. Model saved.\n"
     ]
    },
    {
     "name": "stderr",
     "output_type": "stream",
     "text": [
      "                                                                       \r"
     ]
    },
    {
     "name": "stdout",
     "output_type": "stream",
     "text": [
      "Epoch 15/250 | Train MAE (log): 0.42852 | Val Loss: 0.46560 | Val SMAPE: 48.67% | LR: 3.0e-04\n",
      "  -> New best validation SMAPE: 48.67%. Model saved.\n"
     ]
    },
    {
     "name": "stderr",
     "output_type": "stream",
     "text": [
      "                                                                       \r"
     ]
    },
    {
     "name": "stdout",
     "output_type": "stream",
     "text": [
      "Epoch 16/250 | Train MAE (log): 0.42649 | Val Loss: 0.46579 | Val SMAPE: 48.06% | LR: 3.0e-04\n",
      "  -> New best validation SMAPE: 48.06%. Model saved.\n"
     ]
    },
    {
     "name": "stderr",
     "output_type": "stream",
     "text": [
      "                                                                       \r"
     ]
    },
    {
     "name": "stdout",
     "output_type": "stream",
     "text": [
      "Epoch 17/250 | Train MAE (log): 0.42331 | Val Loss: 0.46835 | Val SMAPE: 49.19% | LR: 3.0e-04\n"
     ]
    },
    {
     "name": "stderr",
     "output_type": "stream",
     "text": [
      "                                                                       \r"
     ]
    },
    {
     "name": "stdout",
     "output_type": "stream",
     "text": [
      "Epoch 18/250 | Train MAE (log): 0.42185 | Val Loss: 0.46828 | Val SMAPE: 48.03% | LR: 3.0e-04\n",
      "  -> New best validation SMAPE: 48.03%. Model saved.\n"
     ]
    },
    {
     "name": "stderr",
     "output_type": "stream",
     "text": [
      "                                                                       \r"
     ]
    },
    {
     "name": "stdout",
     "output_type": "stream",
     "text": [
      "Epoch 19/250 | Train MAE (log): 0.42055 | Val Loss: 0.46731 | Val SMAPE: 47.91% | LR: 3.0e-04\n",
      "  -> New best validation SMAPE: 47.91%. Model saved.\n"
     ]
    },
    {
     "name": "stderr",
     "output_type": "stream",
     "text": [
      "                                                                       \r"
     ]
    },
    {
     "name": "stdout",
     "output_type": "stream",
     "text": [
      "Epoch 20/250 | Train MAE (log): 0.41921 | Val Loss: 0.46862 | Val SMAPE: 48.34% | LR: 3.0e-04\n"
     ]
    },
    {
     "name": "stderr",
     "output_type": "stream",
     "text": [
      "                                                                       \r"
     ]
    },
    {
     "name": "stdout",
     "output_type": "stream",
     "text": [
      "Epoch 21/250 | Train MAE (log): 0.41758 | Val Loss: 0.46903 | Val SMAPE: 48.01% | LR: 3.0e-04\n"
     ]
    },
    {
     "name": "stderr",
     "output_type": "stream",
     "text": [
      "                                                                       \r"
     ]
    },
    {
     "name": "stdout",
     "output_type": "stream",
     "text": [
      "Epoch 22/250 | Train MAE (log): 0.41574 | Val Loss: 0.46554 | Val SMAPE: 47.37% | LR: 2.9e-04\n",
      "  -> New best validation SMAPE: 47.37%. Model saved.\n"
     ]
    },
    {
     "name": "stderr",
     "output_type": "stream",
     "text": [
      "                                                                       \r"
     ]
    },
    {
     "name": "stdout",
     "output_type": "stream",
     "text": [
      "Epoch 23/250 | Train MAE (log): 0.41424 | Val Loss: 0.46666 | Val SMAPE: 47.35% | LR: 2.9e-04\n",
      "  -> New best validation SMAPE: 47.35%. Model saved.\n"
     ]
    },
    {
     "name": "stderr",
     "output_type": "stream",
     "text": [
      "                                                                       \r"
     ]
    },
    {
     "name": "stdout",
     "output_type": "stream",
     "text": [
      "Epoch 24/250 | Train MAE (log): 0.41405 | Val Loss: 0.46594 | Val SMAPE: 47.53% | LR: 2.9e-04\n"
     ]
    },
    {
     "name": "stderr",
     "output_type": "stream",
     "text": [
      "                                                                       \r"
     ]
    },
    {
     "name": "stdout",
     "output_type": "stream",
     "text": [
      "Epoch 25/250 | Train MAE (log): 0.41250 | Val Loss: 0.46514 | Val SMAPE: 46.90% | LR: 2.9e-04\n",
      "  -> New best validation SMAPE: 46.90%. Model saved.\n"
     ]
    },
    {
     "name": "stderr",
     "output_type": "stream",
     "text": [
      "                                                                       \r"
     ]
    },
    {
     "name": "stdout",
     "output_type": "stream",
     "text": [
      "Epoch 26/250 | Train MAE (log): 0.41063 | Val Loss: 0.46492 | Val SMAPE: 46.86% | LR: 2.9e-04\n",
      "  -> New best validation SMAPE: 46.86%. Model saved.\n"
     ]
    },
    {
     "name": "stderr",
     "output_type": "stream",
     "text": [
      "                                                                       \r"
     ]
    },
    {
     "name": "stdout",
     "output_type": "stream",
     "text": [
      "Epoch 27/250 | Train MAE (log): 0.41022 | Val Loss: 0.46583 | Val SMAPE: 46.27% | LR: 2.9e-04\n",
      "  -> New best validation SMAPE: 46.27%. Model saved.\n"
     ]
    },
    {
     "name": "stderr",
     "output_type": "stream",
     "text": [
      "                                                                       \r"
     ]
    },
    {
     "name": "stdout",
     "output_type": "stream",
     "text": [
      "Epoch 28/250 | Train MAE (log): 0.40960 | Val Loss: 0.46871 | Val SMAPE: 46.33% | LR: 2.9e-04\n"
     ]
    },
    {
     "name": "stderr",
     "output_type": "stream",
     "text": [
      "                                                                       \r"
     ]
    },
    {
     "name": "stdout",
     "output_type": "stream",
     "text": [
      "Epoch 29/250 | Train MAE (log): 0.40904 | Val Loss: 0.46694 | Val SMAPE: 47.73% | LR: 2.9e-04\n"
     ]
    },
    {
     "name": "stderr",
     "output_type": "stream",
     "text": [
      "                                                                       \r"
     ]
    },
    {
     "name": "stdout",
     "output_type": "stream",
     "text": [
      "Epoch 30/250 | Train MAE (log): 0.40841 | Val Loss: 0.46514 | Val SMAPE: 47.22% | LR: 2.9e-04\n"
     ]
    },
    {
     "name": "stderr",
     "output_type": "stream",
     "text": [
      "                                                                       \r"
     ]
    },
    {
     "name": "stdout",
     "output_type": "stream",
     "text": [
      "Epoch 31/250 | Train MAE (log): 0.40755 | Val Loss: 0.46682 | Val SMAPE: 46.71% | LR: 2.9e-04\n"
     ]
    },
    {
     "name": "stderr",
     "output_type": "stream",
     "text": [
      "                                                                       \r"
     ]
    },
    {
     "name": "stdout",
     "output_type": "stream",
     "text": [
      "Epoch 32/250 | Train MAE (log): 0.40662 | Val Loss: 0.46575 | Val SMAPE: 47.23% | LR: 2.9e-04\n"
     ]
    },
    {
     "name": "stderr",
     "output_type": "stream",
     "text": [
      "                                                                       \r"
     ]
    },
    {
     "name": "stdout",
     "output_type": "stream",
     "text": [
      "Epoch 33/250 | Train MAE (log): 0.40580 | Val Loss: 0.47204 | Val SMAPE: 46.58% | LR: 2.9e-04\n"
     ]
    },
    {
     "name": "stderr",
     "output_type": "stream",
     "text": [
      "                                                                       \r"
     ]
    },
    {
     "name": "stdout",
     "output_type": "stream",
     "text": [
      "Epoch 34/250 | Train MAE (log): 0.40626 | Val Loss: 0.46624 | Val SMAPE: 46.38% | LR: 2.9e-04\n"
     ]
    },
    {
     "name": "stderr",
     "output_type": "stream",
     "text": [
      "                                                                       \r"
     ]
    },
    {
     "name": "stdout",
     "output_type": "stream",
     "text": [
      "Epoch 35/250 | Train MAE (log): 0.40538 | Val Loss: 0.46640 | Val SMAPE: 46.29% | LR: 2.9e-04\n"
     ]
    },
    {
     "name": "stderr",
     "output_type": "stream",
     "text": [
      "                                                                       \r"
     ]
    },
    {
     "name": "stdout",
     "output_type": "stream",
     "text": [
      "Epoch 36/250 | Train MAE (log): 0.40482 | Val Loss: 0.46794 | Val SMAPE: 45.48% | LR: 2.9e-04\n",
      "  -> New best validation SMAPE: 45.48%. Model saved.\n"
     ]
    },
    {
     "name": "stderr",
     "output_type": "stream",
     "text": [
      "                                                                       \r"
     ]
    },
    {
     "name": "stdout",
     "output_type": "stream",
     "text": [
      "Epoch 37/250 | Train MAE (log): 0.40444 | Val Loss: 0.46781 | Val SMAPE: 46.03% | LR: 2.8e-04\n"
     ]
    },
    {
     "name": "stderr",
     "output_type": "stream",
     "text": [
      "                                                                       \r"
     ]
    },
    {
     "name": "stdout",
     "output_type": "stream",
     "text": [
      "Epoch 38/250 | Train MAE (log): 0.40477 | Val Loss: 0.46816 | Val SMAPE: 45.65% | LR: 2.8e-04\n"
     ]
    },
    {
     "name": "stderr",
     "output_type": "stream",
     "text": [
      "                                                                       \r"
     ]
    },
    {
     "name": "stdout",
     "output_type": "stream",
     "text": [
      "Epoch 39/250 | Train MAE (log): 0.40383 | Val Loss: 0.46550 | Val SMAPE: 45.52% | LR: 2.8e-04\n"
     ]
    },
    {
     "name": "stderr",
     "output_type": "stream",
     "text": [
      "                                                                       \r"
     ]
    },
    {
     "name": "stdout",
     "output_type": "stream",
     "text": [
      "Epoch 40/250 | Train MAE (log): 0.40332 | Val Loss: 0.46675 | Val SMAPE: 45.11% | LR: 2.8e-04\n",
      "  -> New best validation SMAPE: 45.11%. Model saved.\n"
     ]
    },
    {
     "name": "stderr",
     "output_type": "stream",
     "text": [
      "                                                                       \r"
     ]
    },
    {
     "name": "stdout",
     "output_type": "stream",
     "text": [
      "Epoch 41/250 | Train MAE (log): 0.40331 | Val Loss: 0.46588 | Val SMAPE: 45.58% | LR: 2.8e-04\n"
     ]
    },
    {
     "name": "stderr",
     "output_type": "stream",
     "text": [
      "                                                                       \r"
     ]
    },
    {
     "name": "stdout",
     "output_type": "stream",
     "text": [
      "Epoch 42/250 | Train MAE (log): 0.40238 | Val Loss: 0.46626 | Val SMAPE: 45.46% | LR: 2.8e-04\n"
     ]
    },
    {
     "name": "stderr",
     "output_type": "stream",
     "text": [
      "                                                                       \r"
     ]
    },
    {
     "name": "stdout",
     "output_type": "stream",
     "text": [
      "Epoch 43/250 | Train MAE (log): 0.40175 | Val Loss: 0.46650 | Val SMAPE: 45.27% | LR: 2.8e-04\n"
     ]
    },
    {
     "name": "stderr",
     "output_type": "stream",
     "text": [
      "                                                                       \r"
     ]
    },
    {
     "name": "stdout",
     "output_type": "stream",
     "text": [
      "Epoch 44/250 | Train MAE (log): 0.40192 | Val Loss: 0.46918 | Val SMAPE: 45.55% | LR: 2.8e-04\n"
     ]
    },
    {
     "name": "stderr",
     "output_type": "stream",
     "text": [
      "                                                                       \r"
     ]
    },
    {
     "name": "stdout",
     "output_type": "stream",
     "text": [
      "Epoch 45/250 | Train MAE (log): 0.40189 | Val Loss: 0.46486 | Val SMAPE: 45.14% | LR: 2.8e-04\n"
     ]
    },
    {
     "name": "stderr",
     "output_type": "stream",
     "text": [
      "                                                                       \r"
     ]
    },
    {
     "name": "stdout",
     "output_type": "stream",
     "text": [
      "Epoch 46/250 | Train MAE (log): 0.40131 | Val Loss: 0.46459 | Val SMAPE: 45.12% | LR: 2.8e-04\n"
     ]
    },
    {
     "name": "stderr",
     "output_type": "stream",
     "text": [
      "                                                                       \r"
     ]
    },
    {
     "name": "stdout",
     "output_type": "stream",
     "text": [
      "Epoch 47/250 | Train MAE (log): 0.40081 | Val Loss: 0.46710 | Val SMAPE: 44.64% | LR: 2.8e-04\n",
      "  -> New best validation SMAPE: 44.64%. Model saved.\n"
     ]
    },
    {
     "name": "stderr",
     "output_type": "stream",
     "text": [
      "                                                                       \r"
     ]
    },
    {
     "name": "stdout",
     "output_type": "stream",
     "text": [
      "Epoch 48/250 | Train MAE (log): 0.40161 | Val Loss: 0.46650 | Val SMAPE: 44.49% | LR: 2.7e-04\n",
      "  -> New best validation SMAPE: 44.49%. Model saved.\n"
     ]
    },
    {
     "name": "stderr",
     "output_type": "stream",
     "text": [
      "                                                                       \r"
     ]
    },
    {
     "name": "stdout",
     "output_type": "stream",
     "text": [
      "Epoch 49/250 | Train MAE (log): 0.40144 | Val Loss: 0.46550 | Val SMAPE: 45.19% | LR: 2.7e-04\n"
     ]
    },
    {
     "name": "stderr",
     "output_type": "stream",
     "text": [
      "                                                                       \r"
     ]
    },
    {
     "name": "stdout",
     "output_type": "stream",
     "text": [
      "Epoch 50/250 | Train MAE (log): 0.40094 | Val Loss: 0.46607 | Val SMAPE: 44.77% | LR: 2.7e-04\n"
     ]
    },
    {
     "name": "stderr",
     "output_type": "stream",
     "text": [
      "                                                                       \r"
     ]
    },
    {
     "name": "stdout",
     "output_type": "stream",
     "text": [
      "Epoch 51/250 | Train MAE (log): 0.40114 | Val Loss: 0.46591 | Val SMAPE: 44.92% | LR: 2.7e-04\n"
     ]
    },
    {
     "name": "stderr",
     "output_type": "stream",
     "text": [
      "                                                                       \r"
     ]
    },
    {
     "name": "stdout",
     "output_type": "stream",
     "text": [
      "Epoch 52/250 | Train MAE (log): 0.40064 | Val Loss: 0.46795 | Val SMAPE: 45.11% | LR: 2.7e-04\n"
     ]
    },
    {
     "name": "stderr",
     "output_type": "stream",
     "text": [
      "                                                                       \r"
     ]
    },
    {
     "name": "stdout",
     "output_type": "stream",
     "text": [
      "Epoch 53/250 | Train MAE (log): 0.40116 | Val Loss: 0.46691 | Val SMAPE: 44.56% | LR: 2.7e-04\n"
     ]
    },
    {
     "name": "stderr",
     "output_type": "stream",
     "text": [
      "                                                                       \r"
     ]
    },
    {
     "name": "stdout",
     "output_type": "stream",
     "text": [
      "Epoch 54/250 | Train MAE (log): 0.40075 | Val Loss: 0.46492 | Val SMAPE: 44.95% | LR: 2.7e-04\n"
     ]
    },
    {
     "name": "stderr",
     "output_type": "stream",
     "text": [
      "                                                                       \r"
     ]
    },
    {
     "name": "stdout",
     "output_type": "stream",
     "text": [
      "Epoch 55/250 | Train MAE (log): 0.40003 | Val Loss: 0.46716 | Val SMAPE: 44.38% | LR: 2.7e-04\n",
      "  -> New best validation SMAPE: 44.38%. Model saved.\n"
     ]
    },
    {
     "name": "stderr",
     "output_type": "stream",
     "text": [
      "                                                                       \r"
     ]
    },
    {
     "name": "stdout",
     "output_type": "stream",
     "text": [
      "Epoch 56/250 | Train MAE (log): 0.39956 | Val Loss: 0.46377 | Val SMAPE: 44.34% | LR: 2.7e-04\n",
      "  -> New best validation SMAPE: 44.34%. Model saved.\n"
     ]
    },
    {
     "name": "stderr",
     "output_type": "stream",
     "text": [
      "                                                                       \r"
     ]
    },
    {
     "name": "stdout",
     "output_type": "stream",
     "text": [
      "Epoch 57/250 | Train MAE (log): 0.39957 | Val Loss: 0.46436 | Val SMAPE: 44.11% | LR: 2.6e-04\n",
      "  -> New best validation SMAPE: 44.11%. Model saved.\n"
     ]
    },
    {
     "name": "stderr",
     "output_type": "stream",
     "text": [
      "                                                                       \r"
     ]
    },
    {
     "name": "stdout",
     "output_type": "stream",
     "text": [
      "Epoch 58/250 | Train MAE (log): 0.39937 | Val Loss: 0.46511 | Val SMAPE: 44.45% | LR: 2.6e-04\n"
     ]
    },
    {
     "name": "stderr",
     "output_type": "stream",
     "text": [
      "                                                                       \r"
     ]
    },
    {
     "name": "stdout",
     "output_type": "stream",
     "text": [
      "Epoch 59/250 | Train MAE (log): 0.39972 | Val Loss: 0.46486 | Val SMAPE: 44.99% | LR: 2.6e-04\n"
     ]
    },
    {
     "name": "stderr",
     "output_type": "stream",
     "text": [
      "                                                                       \r"
     ]
    },
    {
     "name": "stdout",
     "output_type": "stream",
     "text": [
      "Epoch 60/250 | Train MAE (log): 0.39929 | Val Loss: 0.46431 | Val SMAPE: 44.09% | LR: 2.6e-04\n",
      "  -> New best validation SMAPE: 44.09%. Model saved.\n"
     ]
    },
    {
     "name": "stderr",
     "output_type": "stream",
     "text": [
      "                                                                       \r"
     ]
    },
    {
     "name": "stdout",
     "output_type": "stream",
     "text": [
      "Epoch 61/250 | Train MAE (log): 0.39926 | Val Loss: 0.46510 | Val SMAPE: 44.71% | LR: 2.6e-04\n"
     ]
    },
    {
     "name": "stderr",
     "output_type": "stream",
     "text": [
      "                                                                       \r"
     ]
    },
    {
     "name": "stdout",
     "output_type": "stream",
     "text": [
      "Epoch 62/250 | Train MAE (log): 0.39935 | Val Loss: 0.46662 | Val SMAPE: 44.09% | LR: 2.6e-04\n"
     ]
    },
    {
     "name": "stderr",
     "output_type": "stream",
     "text": [
      "                                                                       \r"
     ]
    },
    {
     "name": "stdout",
     "output_type": "stream",
     "text": [
      "Epoch 63/250 | Train MAE (log): 0.39897 | Val Loss: 0.46371 | Val SMAPE: 44.21% | LR: 2.6e-04\n"
     ]
    },
    {
     "name": "stderr",
     "output_type": "stream",
     "text": [
      "                                                                       \r"
     ]
    },
    {
     "name": "stdout",
     "output_type": "stream",
     "text": [
      "Epoch 64/250 | Train MAE (log): 0.39900 | Val Loss: 0.46559 | Val SMAPE: 45.20% | LR: 2.6e-04\n"
     ]
    },
    {
     "name": "stderr",
     "output_type": "stream",
     "text": [
      "                                                                       \r"
     ]
    },
    {
     "name": "stdout",
     "output_type": "stream",
     "text": [
      "Epoch 65/250 | Train MAE (log): 0.39956 | Val Loss: 0.46385 | Val SMAPE: 44.34% | LR: 2.5e-04\n"
     ]
    },
    {
     "name": "stderr",
     "output_type": "stream",
     "text": [
      "                                                                       \r"
     ]
    },
    {
     "name": "stdout",
     "output_type": "stream",
     "text": [
      "Epoch 66/250 | Train MAE (log): 0.39906 | Val Loss: 0.46266 | Val SMAPE: 44.36% | LR: 2.5e-04\n"
     ]
    },
    {
     "name": "stderr",
     "output_type": "stream",
     "text": [
      "                                                                       \r"
     ]
    },
    {
     "name": "stdout",
     "output_type": "stream",
     "text": [
      "Epoch 67/250 | Train MAE (log): 0.39844 | Val Loss: 0.46414 | Val SMAPE: 44.43% | LR: 2.5e-04\n"
     ]
    },
    {
     "name": "stderr",
     "output_type": "stream",
     "text": [
      "                                                                       \r"
     ]
    },
    {
     "name": "stdout",
     "output_type": "stream",
     "text": [
      "Epoch 68/250 | Train MAE (log): 0.39871 | Val Loss: 0.46696 | Val SMAPE: 44.28% | LR: 2.5e-04\n"
     ]
    },
    {
     "name": "stderr",
     "output_type": "stream",
     "text": [
      "                                                                       \r"
     ]
    },
    {
     "name": "stdout",
     "output_type": "stream",
     "text": [
      "Epoch 69/250 | Train MAE (log): 0.39797 | Val Loss: 0.46445 | Val SMAPE: 43.67% | LR: 2.5e-04\n",
      "  -> New best validation SMAPE: 43.67%. Model saved.\n"
     ]
    },
    {
     "name": "stderr",
     "output_type": "stream",
     "text": [
      "                                                                       \r"
     ]
    },
    {
     "name": "stdout",
     "output_type": "stream",
     "text": [
      "Epoch 70/250 | Train MAE (log): 0.39778 | Val Loss: 0.46275 | Val SMAPE: 44.10% | LR: 2.5e-04\n"
     ]
    },
    {
     "name": "stderr",
     "output_type": "stream",
     "text": [
      "                                                                       \r"
     ]
    },
    {
     "name": "stdout",
     "output_type": "stream",
     "text": [
      "Epoch 71/250 | Train MAE (log): 0.39750 | Val Loss: 0.46543 | Val SMAPE: 43.28% | LR: 2.5e-04\n",
      "  -> New best validation SMAPE: 43.28%. Model saved.\n"
     ]
    },
    {
     "name": "stderr",
     "output_type": "stream",
     "text": [
      "                                                                       \r"
     ]
    },
    {
     "name": "stdout",
     "output_type": "stream",
     "text": [
      "Epoch 72/250 | Train MAE (log): 0.39759 | Val Loss: 0.46322 | Val SMAPE: 43.77% | LR: 2.4e-04\n"
     ]
    },
    {
     "name": "stderr",
     "output_type": "stream",
     "text": [
      "                                                                       \r"
     ]
    },
    {
     "name": "stdout",
     "output_type": "stream",
     "text": [
      "Epoch 73/250 | Train MAE (log): 0.39751 | Val Loss: 0.46372 | Val SMAPE: 43.79% | LR: 2.4e-04\n"
     ]
    },
    {
     "name": "stderr",
     "output_type": "stream",
     "text": [
      "                                                                       \r"
     ]
    },
    {
     "name": "stdout",
     "output_type": "stream",
     "text": [
      "Epoch 74/250 | Train MAE (log): 0.39778 | Val Loss: 0.46724 | Val SMAPE: 44.15% | LR: 2.4e-04\n"
     ]
    },
    {
     "name": "stderr",
     "output_type": "stream",
     "text": [
      "                                                                       \r"
     ]
    },
    {
     "name": "stdout",
     "output_type": "stream",
     "text": [
      "Epoch 75/250 | Train MAE (log): 0.39839 | Val Loss: 0.46856 | Val SMAPE: 44.42% | LR: 2.4e-04\n"
     ]
    },
    {
     "name": "stderr",
     "output_type": "stream",
     "text": [
      "                                                                       \r"
     ]
    },
    {
     "name": "stdout",
     "output_type": "stream",
     "text": [
      "Epoch 76/250 | Train MAE (log): 0.39841 | Val Loss: 0.46712 | Val SMAPE: 44.01% | LR: 2.4e-04\n"
     ]
    },
    {
     "name": "stderr",
     "output_type": "stream",
     "text": [
      "                                                                       \r"
     ]
    },
    {
     "name": "stdout",
     "output_type": "stream",
     "text": [
      "Epoch 77/250 | Train MAE (log): 0.39788 | Val Loss: 0.46700 | Val SMAPE: 43.97% | LR: 2.4e-04\n"
     ]
    },
    {
     "name": "stderr",
     "output_type": "stream",
     "text": [
      "                                                                       \r"
     ]
    },
    {
     "name": "stdout",
     "output_type": "stream",
     "text": [
      "Epoch 78/250 | Train MAE (log): 0.39767 | Val Loss: 0.46543 | Val SMAPE: 43.60% | LR: 2.4e-04\n"
     ]
    },
    {
     "name": "stderr",
     "output_type": "stream",
     "text": [
      "                                                                       \r"
     ]
    },
    {
     "name": "stdout",
     "output_type": "stream",
     "text": [
      "Epoch 79/250 | Train MAE (log): 0.39761 | Val Loss: 0.46394 | Val SMAPE: 43.69% | LR: 2.3e-04\n"
     ]
    },
    {
     "name": "stderr",
     "output_type": "stream",
     "text": [
      "                                                                       \r"
     ]
    },
    {
     "name": "stdout",
     "output_type": "stream",
     "text": [
      "Epoch 80/250 | Train MAE (log): 0.39798 | Val Loss: 0.46702 | Val SMAPE: 43.61% | LR: 2.3e-04\n"
     ]
    },
    {
     "name": "stderr",
     "output_type": "stream",
     "text": [
      "                                                                       \r"
     ]
    },
    {
     "name": "stdout",
     "output_type": "stream",
     "text": [
      "Epoch 81/250 | Train MAE (log): 0.39745 | Val Loss: 0.46395 | Val SMAPE: 43.82% | LR: 2.3e-04\n"
     ]
    },
    {
     "name": "stderr",
     "output_type": "stream",
     "text": [
      "                                                                       \r"
     ]
    },
    {
     "name": "stdout",
     "output_type": "stream",
     "text": [
      "Epoch 82/250 | Train MAE (log): 0.39736 | Val Loss: 0.46388 | Val SMAPE: 43.16% | LR: 2.3e-04\n",
      "  -> New best validation SMAPE: 43.16%. Model saved.\n"
     ]
    },
    {
     "name": "stderr",
     "output_type": "stream",
     "text": [
      "                                                                       \r"
     ]
    },
    {
     "name": "stdout",
     "output_type": "stream",
     "text": [
      "Epoch 83/250 | Train MAE (log): 0.39703 | Val Loss: 0.46618 | Val SMAPE: 43.38% | LR: 2.3e-04\n"
     ]
    },
    {
     "name": "stderr",
     "output_type": "stream",
     "text": [
      "                                                                       \r"
     ]
    },
    {
     "name": "stdout",
     "output_type": "stream",
     "text": [
      "Epoch 84/250 | Train MAE (log): 0.39703 | Val Loss: 0.46475 | Val SMAPE: 43.13% | LR: 2.3e-04\n",
      "  -> New best validation SMAPE: 43.13%. Model saved.\n"
     ]
    },
    {
     "name": "stderr",
     "output_type": "stream",
     "text": [
      "                                                                       \r"
     ]
    },
    {
     "name": "stdout",
     "output_type": "stream",
     "text": [
      "Epoch 85/250 | Train MAE (log): 0.39719 | Val Loss: 0.46448 | Val SMAPE: 43.25% | LR: 2.2e-04\n"
     ]
    },
    {
     "name": "stderr",
     "output_type": "stream",
     "text": [
      "                                                                       \r"
     ]
    },
    {
     "name": "stdout",
     "output_type": "stream",
     "text": [
      "Epoch 86/250 | Train MAE (log): 0.39716 | Val Loss: 0.46462 | Val SMAPE: 43.52% | LR: 2.2e-04\n"
     ]
    },
    {
     "name": "stderr",
     "output_type": "stream",
     "text": [
      "                                                                       \r"
     ]
    },
    {
     "name": "stdout",
     "output_type": "stream",
     "text": [
      "Epoch 87/250 | Train MAE (log): 0.39724 | Val Loss: 0.46527 | Val SMAPE: 43.54% | LR: 2.2e-04\n"
     ]
    },
    {
     "name": "stderr",
     "output_type": "stream",
     "text": [
      "                                                                       \r"
     ]
    },
    {
     "name": "stdout",
     "output_type": "stream",
     "text": [
      "Epoch 88/250 | Train MAE (log): 0.39749 | Val Loss: 0.46372 | Val SMAPE: 43.71% | LR: 2.2e-04\n"
     ]
    },
    {
     "name": "stderr",
     "output_type": "stream",
     "text": [
      "                                                                       \r"
     ]
    },
    {
     "name": "stdout",
     "output_type": "stream",
     "text": [
      "Epoch 89/250 | Train MAE (log): 0.39745 | Val Loss: 0.46476 | Val SMAPE: 43.24% | LR: 2.2e-04\n"
     ]
    },
    {
     "name": "stderr",
     "output_type": "stream",
     "text": [
      "                                                                       \r"
     ]
    },
    {
     "name": "stdout",
     "output_type": "stream",
     "text": [
      "Epoch 90/250 | Train MAE (log): 0.39675 | Val Loss: 0.46448 | Val SMAPE: 43.16% | LR: 2.2e-04\n"
     ]
    },
    {
     "name": "stderr",
     "output_type": "stream",
     "text": [
      "                                                                       \r"
     ]
    },
    {
     "name": "stdout",
     "output_type": "stream",
     "text": [
      "Epoch 91/250 | Train MAE (log): 0.39660 | Val Loss: 0.46333 | Val SMAPE: 43.29% | LR: 2.1e-04\n"
     ]
    },
    {
     "name": "stderr",
     "output_type": "stream",
     "text": [
      "                                                                       \r"
     ]
    },
    {
     "name": "stdout",
     "output_type": "stream",
     "text": [
      "Epoch 92/250 | Train MAE (log): 0.39678 | Val Loss: 0.46498 | Val SMAPE: 43.14% | LR: 2.1e-04\n"
     ]
    },
    {
     "name": "stderr",
     "output_type": "stream",
     "text": [
      "                                                                       \r"
     ]
    },
    {
     "name": "stdout",
     "output_type": "stream",
     "text": [
      "Epoch 93/250 | Train MAE (log): 0.39677 | Val Loss: 0.46432 | Val SMAPE: 43.04% | LR: 2.1e-04\n",
      "  -> New best validation SMAPE: 43.04%. Model saved.\n"
     ]
    },
    {
     "name": "stderr",
     "output_type": "stream",
     "text": [
      "                                                                       \r"
     ]
    },
    {
     "name": "stdout",
     "output_type": "stream",
     "text": [
      "Epoch 94/250 | Train MAE (log): 0.39669 | Val Loss: 0.46311 | Val SMAPE: 43.60% | LR: 2.1e-04\n"
     ]
    },
    {
     "name": "stderr",
     "output_type": "stream",
     "text": [
      "                                                                       \r"
     ]
    },
    {
     "name": "stdout",
     "output_type": "stream",
     "text": [
      "Epoch 95/250 | Train MAE (log): 0.39662 | Val Loss: 0.46286 | Val SMAPE: 43.56% | LR: 2.1e-04\n"
     ]
    },
    {
     "name": "stderr",
     "output_type": "stream",
     "text": [
      "                                                                       \r"
     ]
    },
    {
     "name": "stdout",
     "output_type": "stream",
     "text": [
      "Epoch 96/250 | Train MAE (log): 0.39651 | Val Loss: 0.46434 | Val SMAPE: 42.77% | LR: 2.1e-04\n",
      "  -> New best validation SMAPE: 42.77%. Model saved.\n"
     ]
    },
    {
     "name": "stderr",
     "output_type": "stream",
     "text": [
      "                                                                       \r"
     ]
    },
    {
     "name": "stdout",
     "output_type": "stream",
     "text": [
      "Epoch 97/250 | Train MAE (log): 0.39661 | Val Loss: 0.46560 | Val SMAPE: 43.25% | LR: 2.0e-04\n"
     ]
    },
    {
     "name": "stderr",
     "output_type": "stream",
     "text": [
      "                                                                       \r"
     ]
    },
    {
     "name": "stdout",
     "output_type": "stream",
     "text": [
      "Epoch 98/250 | Train MAE (log): 0.39695 | Val Loss: 0.46337 | Val SMAPE: 43.47% | LR: 2.0e-04\n"
     ]
    },
    {
     "name": "stderr",
     "output_type": "stream",
     "text": [
      "                                                                       \r"
     ]
    },
    {
     "name": "stdout",
     "output_type": "stream",
     "text": [
      "Epoch 99/250 | Train MAE (log): 0.39669 | Val Loss: 0.46375 | Val SMAPE: 43.16% | LR: 2.0e-04\n"
     ]
    },
    {
     "name": "stderr",
     "output_type": "stream",
     "text": [
      "                                                                        \r"
     ]
    },
    {
     "name": "stdout",
     "output_type": "stream",
     "text": [
      "Epoch 100/250 | Train MAE (log): 0.39649 | Val Loss: 0.46359 | Val SMAPE: 43.05% | LR: 2.0e-04\n"
     ]
    },
    {
     "name": "stderr",
     "output_type": "stream",
     "text": [
      "                                                                        \r"
     ]
    },
    {
     "name": "stdout",
     "output_type": "stream",
     "text": [
      "Epoch 101/250 | Train MAE (log): 0.39678 | Val Loss: 0.46409 | Val SMAPE: 42.91% | LR: 2.0e-04\n"
     ]
    },
    {
     "name": "stderr",
     "output_type": "stream",
     "text": [
      "                                                                        \r"
     ]
    },
    {
     "name": "stdout",
     "output_type": "stream",
     "text": [
      "Epoch 102/250 | Train MAE (log): 0.39649 | Val Loss: 0.46427 | Val SMAPE: 43.12% | LR: 1.9e-04\n"
     ]
    },
    {
     "name": "stderr",
     "output_type": "stream",
     "text": [
      "                                                                        \r"
     ]
    },
    {
     "name": "stdout",
     "output_type": "stream",
     "text": [
      "Epoch 103/250 | Train MAE (log): 0.39620 | Val Loss: 0.46430 | Val SMAPE: 43.24% | LR: 1.9e-04\n"
     ]
    },
    {
     "name": "stderr",
     "output_type": "stream",
     "text": [
      "                                                                        \r"
     ]
    },
    {
     "name": "stdout",
     "output_type": "stream",
     "text": [
      "Epoch 104/250 | Train MAE (log): 0.39629 | Val Loss: 0.46496 | Val SMAPE: 43.09% | LR: 1.9e-04\n"
     ]
    },
    {
     "name": "stderr",
     "output_type": "stream",
     "text": [
      "                                                                        \r"
     ]
    },
    {
     "name": "stdout",
     "output_type": "stream",
     "text": [
      "Epoch 105/250 | Train MAE (log): 0.39631 | Val Loss: 0.46535 | Val SMAPE: 43.12% | LR: 1.9e-04\n"
     ]
    },
    {
     "name": "stderr",
     "output_type": "stream",
     "text": [
      "                                                                        \r"
     ]
    },
    {
     "name": "stdout",
     "output_type": "stream",
     "text": [
      "Epoch 106/250 | Train MAE (log): 0.39644 | Val Loss: 0.46464 | Val SMAPE: 43.13% | LR: 1.9e-04\n"
     ]
    },
    {
     "name": "stderr",
     "output_type": "stream",
     "text": [
      "                                                                        \r"
     ]
    },
    {
     "name": "stdout",
     "output_type": "stream",
     "text": [
      "Epoch 107/250 | Train MAE (log): 0.39606 | Val Loss: 0.46539 | Val SMAPE: 42.81% | LR: 1.9e-04\n"
     ]
    },
    {
     "name": "stderr",
     "output_type": "stream",
     "text": [
      "                                                                        \r"
     ]
    },
    {
     "name": "stdout",
     "output_type": "stream",
     "text": [
      "Epoch 108/250 | Train MAE (log): 0.39607 | Val Loss: 0.46434 | Val SMAPE: 43.05% | LR: 1.8e-04\n"
     ]
    },
    {
     "name": "stderr",
     "output_type": "stream",
     "text": [
      "                                                                        \r"
     ]
    },
    {
     "name": "stdout",
     "output_type": "stream",
     "text": [
      "Epoch 109/250 | Train MAE (log): 0.39610 | Val Loss: 0.46546 | Val SMAPE: 43.13% | LR: 1.8e-04\n"
     ]
    },
    {
     "name": "stderr",
     "output_type": "stream",
     "text": [
      "                                                                        \r"
     ]
    },
    {
     "name": "stdout",
     "output_type": "stream",
     "text": [
      "Epoch 110/250 | Train MAE (log): 0.39616 | Val Loss: 0.46616 | Val SMAPE: 43.18% | LR: 1.8e-04\n"
     ]
    },
    {
     "name": "stderr",
     "output_type": "stream",
     "text": [
      "                                                                        \r"
     ]
    },
    {
     "name": "stdout",
     "output_type": "stream",
     "text": [
      "Epoch 111/250 | Train MAE (log): 0.39604 | Val Loss: 0.46690 | Val SMAPE: 42.90% | LR: 1.8e-04\n"
     ]
    },
    {
     "name": "stderr",
     "output_type": "stream",
     "text": [
      "                                                                        \r"
     ]
    },
    {
     "name": "stdout",
     "output_type": "stream",
     "text": [
      "Epoch 112/250 | Train MAE (log): 0.39612 | Val Loss: 0.46525 | Val SMAPE: 43.28% | LR: 1.8e-04\n"
     ]
    },
    {
     "name": "stderr",
     "output_type": "stream",
     "text": [
      "                                                                        \r"
     ]
    },
    {
     "name": "stdout",
     "output_type": "stream",
     "text": [
      "Epoch 113/250 | Train MAE (log): 0.39634 | Val Loss: 0.46707 | Val SMAPE: 42.87% | LR: 1.7e-04\n"
     ]
    },
    {
     "name": "stderr",
     "output_type": "stream",
     "text": [
      "                                                                        \r"
     ]
    },
    {
     "name": "stdout",
     "output_type": "stream",
     "text": [
      "Epoch 114/250 | Train MAE (log): 0.39580 | Val Loss: 0.46449 | Val SMAPE: 43.11% | LR: 1.7e-04\n"
     ]
    },
    {
     "name": "stderr",
     "output_type": "stream",
     "text": [
      "                                                                        \r"
     ]
    },
    {
     "name": "stdout",
     "output_type": "stream",
     "text": [
      "Epoch 115/250 | Train MAE (log): 0.39637 | Val Loss: 0.46555 | Val SMAPE: 43.01% | LR: 1.7e-04\n"
     ]
    },
    {
     "name": "stderr",
     "output_type": "stream",
     "text": [
      "                                                                        \r"
     ]
    },
    {
     "name": "stdout",
     "output_type": "stream",
     "text": [
      "Epoch 116/250 | Train MAE (log): 0.39583 | Val Loss: 0.46636 | Val SMAPE: 42.74% | LR: 1.7e-04\n",
      "  -> New best validation SMAPE: 42.74%. Model saved.\n"
     ]
    },
    {
     "name": "stderr",
     "output_type": "stream",
     "text": [
      "                                                                        \r"
     ]
    },
    {
     "name": "stdout",
     "output_type": "stream",
     "text": [
      "Epoch 117/250 | Train MAE (log): 0.39583 | Val Loss: 0.46510 | Val SMAPE: 42.91% | LR: 1.7e-04\n"
     ]
    },
    {
     "name": "stderr",
     "output_type": "stream",
     "text": [
      "                                                                        \r"
     ]
    },
    {
     "name": "stdout",
     "output_type": "stream",
     "text": [
      "Epoch 118/250 | Train MAE (log): 0.39562 | Val Loss: 0.46412 | Val SMAPE: 42.66% | LR: 1.7e-04\n",
      "  -> New best validation SMAPE: 42.66%. Model saved.\n"
     ]
    },
    {
     "name": "stderr",
     "output_type": "stream",
     "text": [
      "                                                                        \r"
     ]
    },
    {
     "name": "stdout",
     "output_type": "stream",
     "text": [
      "Epoch 119/250 | Train MAE (log): 0.39561 | Val Loss: 0.46656 | Val SMAPE: 42.62% | LR: 1.6e-04\n",
      "  -> New best validation SMAPE: 42.62%. Model saved.\n"
     ]
    },
    {
     "name": "stderr",
     "output_type": "stream",
     "text": [
      "                                                                        \r"
     ]
    },
    {
     "name": "stdout",
     "output_type": "stream",
     "text": [
      "Epoch 120/250 | Train MAE (log): 0.39550 | Val Loss: 0.46479 | Val SMAPE: 42.71% | LR: 1.6e-04\n"
     ]
    },
    {
     "name": "stderr",
     "output_type": "stream",
     "text": [
      "                                                                        \r"
     ]
    },
    {
     "name": "stdout",
     "output_type": "stream",
     "text": [
      "Epoch 121/250 | Train MAE (log): 0.39563 | Val Loss: 0.46514 | Val SMAPE: 43.03% | LR: 1.6e-04\n"
     ]
    },
    {
     "name": "stderr",
     "output_type": "stream",
     "text": [
      "                                                                        \r"
     ]
    },
    {
     "name": "stdout",
     "output_type": "stream",
     "text": [
      "Epoch 122/250 | Train MAE (log): 0.39559 | Val Loss: 0.46433 | Val SMAPE: 42.70% | LR: 1.6e-04\n"
     ]
    },
    {
     "name": "stderr",
     "output_type": "stream",
     "text": [
      "                                                                        \r"
     ]
    },
    {
     "name": "stdout",
     "output_type": "stream",
     "text": [
      "Epoch 123/250 | Train MAE (log): 0.39542 | Val Loss: 0.46330 | Val SMAPE: 43.10% | LR: 1.6e-04\n"
     ]
    },
    {
     "name": "stderr",
     "output_type": "stream",
     "text": [
      "                                                                        \r"
     ]
    },
    {
     "name": "stdout",
     "output_type": "stream",
     "text": [
      "Epoch 124/250 | Train MAE (log): 0.39545 | Val Loss: 0.46561 | Val SMAPE: 42.68% | LR: 1.5e-04\n"
     ]
    },
    {
     "name": "stderr",
     "output_type": "stream",
     "text": [
      "                                                                        \r"
     ]
    },
    {
     "name": "stdout",
     "output_type": "stream",
     "text": [
      "Epoch 125/250 | Train MAE (log): 0.39556 | Val Loss: 0.46464 | Val SMAPE: 43.20% | LR: 1.5e-04\n"
     ]
    },
    {
     "name": "stderr",
     "output_type": "stream",
     "text": [
      "                                                                        \r"
     ]
    },
    {
     "name": "stdout",
     "output_type": "stream",
     "text": [
      "Epoch 126/250 | Train MAE (log): 0.39560 | Val Loss: 0.46516 | Val SMAPE: 42.70% | LR: 1.5e-04\n"
     ]
    },
    {
     "name": "stderr",
     "output_type": "stream",
     "text": [
      "                                                                        \r"
     ]
    },
    {
     "name": "stdout",
     "output_type": "stream",
     "text": [
      "Epoch 127/250 | Train MAE (log): 0.39545 | Val Loss: 0.46509 | Val SMAPE: 42.62% | LR: 1.5e-04\n"
     ]
    },
    {
     "name": "stderr",
     "output_type": "stream",
     "text": [
      "                                                                        \r"
     ]
    },
    {
     "name": "stdout",
     "output_type": "stream",
     "text": [
      "Epoch 128/250 | Train MAE (log): 0.39535 | Val Loss: 0.46466 | Val SMAPE: 42.77% | LR: 1.5e-04\n"
     ]
    },
    {
     "name": "stderr",
     "output_type": "stream",
     "text": [
      "                                                                        \r"
     ]
    },
    {
     "name": "stdout",
     "output_type": "stream",
     "text": [
      "Epoch 129/250 | Train MAE (log): 0.39537 | Val Loss: 0.46327 | Val SMAPE: 42.53% | LR: 1.4e-04\n",
      "  -> New best validation SMAPE: 42.53%. Model saved.\n"
     ]
    },
    {
     "name": "stderr",
     "output_type": "stream",
     "text": [
      "                                                                        \r"
     ]
    },
    {
     "name": "stdout",
     "output_type": "stream",
     "text": [
      "Epoch 130/250 | Train MAE (log): 0.39546 | Val Loss: 0.46419 | Val SMAPE: 42.79% | LR: 1.4e-04\n"
     ]
    },
    {
     "name": "stderr",
     "output_type": "stream",
     "text": [
      "                                                                        \r"
     ]
    },
    {
     "name": "stdout",
     "output_type": "stream",
     "text": [
      "Epoch 131/250 | Train MAE (log): 0.39553 | Val Loss: 0.46460 | Val SMAPE: 42.57% | LR: 1.4e-04\n"
     ]
    },
    {
     "name": "stderr",
     "output_type": "stream",
     "text": [
      "                                                                        \r"
     ]
    },
    {
     "name": "stdout",
     "output_type": "stream",
     "text": [
      "Epoch 132/250 | Train MAE (log): 0.39555 | Val Loss: 0.46396 | Val SMAPE: 42.53% | LR: 1.4e-04\n",
      "  -> New best validation SMAPE: 42.53%. Model saved.\n"
     ]
    },
    {
     "name": "stderr",
     "output_type": "stream",
     "text": [
      "                                                                        \r"
     ]
    },
    {
     "name": "stdout",
     "output_type": "stream",
     "text": [
      "Epoch 133/250 | Train MAE (log): 0.39539 | Val Loss: 0.46538 | Val SMAPE: 42.44% | LR: 1.4e-04\n",
      "  -> New best validation SMAPE: 42.44%. Model saved.\n"
     ]
    },
    {
     "name": "stderr",
     "output_type": "stream",
     "text": [
      "                                                                        \r"
     ]
    },
    {
     "name": "stdout",
     "output_type": "stream",
     "text": [
      "Epoch 134/250 | Train MAE (log): 0.39530 | Val Loss: 0.46574 | Val SMAPE: 42.32% | LR: 1.3e-04\n",
      "  -> New best validation SMAPE: 42.32%. Model saved.\n"
     ]
    },
    {
     "name": "stderr",
     "output_type": "stream",
     "text": [
      "                                                                        \r"
     ]
    },
    {
     "name": "stdout",
     "output_type": "stream",
     "text": [
      "Epoch 135/250 | Train MAE (log): 0.39535 | Val Loss: 0.46534 | Val SMAPE: 42.58% | LR: 1.3e-04\n"
     ]
    },
    {
     "name": "stderr",
     "output_type": "stream",
     "text": [
      "                                                                        \r"
     ]
    },
    {
     "name": "stdout",
     "output_type": "stream",
     "text": [
      "Epoch 136/250 | Train MAE (log): 0.39543 | Val Loss: 0.46583 | Val SMAPE: 42.60% | LR: 1.3e-04\n"
     ]
    },
    {
     "name": "stderr",
     "output_type": "stream",
     "text": [
      "                                                                        \r"
     ]
    },
    {
     "name": "stdout",
     "output_type": "stream",
     "text": [
      "Epoch 137/250 | Train MAE (log): 0.39518 | Val Loss: 0.46597 | Val SMAPE: 42.40% | LR: 1.3e-04\n"
     ]
    },
    {
     "name": "stderr",
     "output_type": "stream",
     "text": [
      "                                                                        \r"
     ]
    },
    {
     "name": "stdout",
     "output_type": "stream",
     "text": [
      "Epoch 138/250 | Train MAE (log): 0.39543 | Val Loss: 0.46672 | Val SMAPE: 42.33% | LR: 1.3e-04\n"
     ]
    },
    {
     "name": "stderr",
     "output_type": "stream",
     "text": [
      "                                                                        \r"
     ]
    },
    {
     "name": "stdout",
     "output_type": "stream",
     "text": [
      "Epoch 139/250 | Train MAE (log): 0.39533 | Val Loss: 0.46501 | Val SMAPE: 42.49% | LR: 1.3e-04\n"
     ]
    },
    {
     "name": "stderr",
     "output_type": "stream",
     "text": [
      "                                                                        \r"
     ]
    },
    {
     "name": "stdout",
     "output_type": "stream",
     "text": [
      "Epoch 140/250 | Train MAE (log): 0.39527 | Val Loss: 0.46389 | Val SMAPE: 42.42% | LR: 1.2e-04\n"
     ]
    },
    {
     "name": "stderr",
     "output_type": "stream",
     "text": [
      "                                                                        \r"
     ]
    },
    {
     "name": "stdout",
     "output_type": "stream",
     "text": [
      "Epoch 141/250 | Train MAE (log): 0.39517 | Val Loss: 0.46437 | Val SMAPE: 42.41% | LR: 1.2e-04\n"
     ]
    },
    {
     "name": "stderr",
     "output_type": "stream",
     "text": [
      "                                                                        \r"
     ]
    },
    {
     "name": "stdout",
     "output_type": "stream",
     "text": [
      "Epoch 142/250 | Train MAE (log): 0.39521 | Val Loss: 0.46344 | Val SMAPE: 42.26% | LR: 1.2e-04\n",
      "  -> New best validation SMAPE: 42.26%. Model saved.\n"
     ]
    },
    {
     "name": "stderr",
     "output_type": "stream",
     "text": [
      "                                                                        \r"
     ]
    },
    {
     "name": "stdout",
     "output_type": "stream",
     "text": [
      "Epoch 143/250 | Train MAE (log): 0.39514 | Val Loss: 0.46497 | Val SMAPE: 42.30% | LR: 1.2e-04\n"
     ]
    },
    {
     "name": "stderr",
     "output_type": "stream",
     "text": [
      "                                                                        \r"
     ]
    },
    {
     "name": "stdout",
     "output_type": "stream",
     "text": [
      "Epoch 144/250 | Train MAE (log): 0.39512 | Val Loss: 0.46430 | Val SMAPE: 42.41% | LR: 1.2e-04\n"
     ]
    },
    {
     "name": "stderr",
     "output_type": "stream",
     "text": [
      "                                                                        \r"
     ]
    },
    {
     "name": "stdout",
     "output_type": "stream",
     "text": [
      "Epoch 145/250 | Train MAE (log): 0.39514 | Val Loss: 0.46444 | Val SMAPE: 42.35% | LR: 1.1e-04\n"
     ]
    },
    {
     "name": "stderr",
     "output_type": "stream",
     "text": [
      "                                                                        \r"
     ]
    },
    {
     "name": "stdout",
     "output_type": "stream",
     "text": [
      "Epoch 146/250 | Train MAE (log): 0.39505 | Val Loss: 0.46623 | Val SMAPE: 42.25% | LR: 1.1e-04\n",
      "  -> New best validation SMAPE: 42.25%. Model saved.\n"
     ]
    },
    {
     "name": "stderr",
     "output_type": "stream",
     "text": [
      "                                                                        \r"
     ]
    },
    {
     "name": "stdout",
     "output_type": "stream",
     "text": [
      "Epoch 147/250 | Train MAE (log): 0.39499 | Val Loss: 0.46500 | Val SMAPE: 42.77% | LR: 1.1e-04\n"
     ]
    },
    {
     "name": "stderr",
     "output_type": "stream",
     "text": [
      "                                                                        \r"
     ]
    },
    {
     "name": "stdout",
     "output_type": "stream",
     "text": [
      "Epoch 148/250 | Train MAE (log): 0.39503 | Val Loss: 0.46457 | Val SMAPE: 42.49% | LR: 1.1e-04\n"
     ]
    },
    {
     "name": "stderr",
     "output_type": "stream",
     "text": [
      "                                                                        \r"
     ]
    },
    {
     "name": "stdout",
     "output_type": "stream",
     "text": [
      "Epoch 149/250 | Train MAE (log): 0.39498 | Val Loss: 0.46478 | Val SMAPE: 42.16% | LR: 1.1e-04\n",
      "  -> New best validation SMAPE: 42.16%. Model saved.\n"
     ]
    },
    {
     "name": "stderr",
     "output_type": "stream",
     "text": [
      "                                                                        \r"
     ]
    },
    {
     "name": "stdout",
     "output_type": "stream",
     "text": [
      "Epoch 150/250 | Train MAE (log): 0.39490 | Val Loss: 0.46490 | Val SMAPE: 42.27% | LR: 1.1e-04\n"
     ]
    },
    {
     "name": "stderr",
     "output_type": "stream",
     "text": [
      "                                                                        \r"
     ]
    },
    {
     "name": "stdout",
     "output_type": "stream",
     "text": [
      "Epoch 151/250 | Train MAE (log): 0.39496 | Val Loss: 0.46362 | Val SMAPE: 42.52% | LR: 1.0e-04\n"
     ]
    },
    {
     "name": "stderr",
     "output_type": "stream",
     "text": [
      "                                                                        \r"
     ]
    },
    {
     "name": "stdout",
     "output_type": "stream",
     "text": [
      "Epoch 152/250 | Train MAE (log): 0.39486 | Val Loss: 0.46348 | Val SMAPE: 42.40% | LR: 1.0e-04\n"
     ]
    },
    {
     "name": "stderr",
     "output_type": "stream",
     "text": [
      "                                                                        \r"
     ]
    },
    {
     "name": "stdout",
     "output_type": "stream",
     "text": [
      "Epoch 153/250 | Train MAE (log): 0.39487 | Val Loss: 0.46450 | Val SMAPE: 42.18% | LR: 1.0e-04\n"
     ]
    },
    {
     "name": "stderr",
     "output_type": "stream",
     "text": [
      "                                                                        \r"
     ]
    },
    {
     "name": "stdout",
     "output_type": "stream",
     "text": [
      "Epoch 154/250 | Train MAE (log): 0.39495 | Val Loss: 0.46477 | Val SMAPE: 42.17% | LR: 9.8e-05\n"
     ]
    },
    {
     "name": "stderr",
     "output_type": "stream",
     "text": [
      "                                                                        \r"
     ]
    },
    {
     "name": "stdout",
     "output_type": "stream",
     "text": [
      "Epoch 155/250 | Train MAE (log): 0.39496 | Val Loss: 0.46559 | Val SMAPE: 42.24% | LR: 9.7e-05\n"
     ]
    },
    {
     "name": "stderr",
     "output_type": "stream",
     "text": [
      "                                                                        \r"
     ]
    },
    {
     "name": "stdout",
     "output_type": "stream",
     "text": [
      "Epoch 156/250 | Train MAE (log): 0.39490 | Val Loss: 0.46546 | Val SMAPE: 42.16% | LR: 9.5e-05\n",
      "  -> New best validation SMAPE: 42.16%. Model saved.\n"
     ]
    },
    {
     "name": "stderr",
     "output_type": "stream",
     "text": [
      "                                                                        \r"
     ]
    },
    {
     "name": "stdout",
     "output_type": "stream",
     "text": [
      "Epoch 157/250 | Train MAE (log): 0.39487 | Val Loss: 0.46612 | Val SMAPE: 42.12% | LR: 9.3e-05\n",
      "  -> New best validation SMAPE: 42.12%. Model saved.\n"
     ]
    },
    {
     "name": "stderr",
     "output_type": "stream",
     "text": [
      "                                                                        \r"
     ]
    },
    {
     "name": "stdout",
     "output_type": "stream",
     "text": [
      "Epoch 158/250 | Train MAE (log): 0.39502 | Val Loss: 0.46430 | Val SMAPE: 42.40% | LR: 9.1e-05\n"
     ]
    },
    {
     "name": "stderr",
     "output_type": "stream",
     "text": [
      "                                                                        \r"
     ]
    },
    {
     "name": "stdout",
     "output_type": "stream",
     "text": [
      "Epoch 159/250 | Train MAE (log): 0.39489 | Val Loss: 0.46401 | Val SMAPE: 42.53% | LR: 9.0e-05\n"
     ]
    },
    {
     "name": "stderr",
     "output_type": "stream",
     "text": [
      "                                                                        \r"
     ]
    },
    {
     "name": "stdout",
     "output_type": "stream",
     "text": [
      "Epoch 160/250 | Train MAE (log): 0.39489 | Val Loss: 0.46427 | Val SMAPE: 42.10% | LR: 8.8e-05\n",
      "  -> New best validation SMAPE: 42.10%. Model saved.\n"
     ]
    },
    {
     "name": "stderr",
     "output_type": "stream",
     "text": [
      "                                                                        \r"
     ]
    },
    {
     "name": "stdout",
     "output_type": "stream",
     "text": [
      "Epoch 161/250 | Train MAE (log): 0.39470 | Val Loss: 0.46387 | Val SMAPE: 42.13% | LR: 8.6e-05\n"
     ]
    },
    {
     "name": "stderr",
     "output_type": "stream",
     "text": [
      "                                                                        \r"
     ]
    },
    {
     "name": "stdout",
     "output_type": "stream",
     "text": [
      "Epoch 162/250 | Train MAE (log): 0.39479 | Val Loss: 0.46372 | Val SMAPE: 42.03% | LR: 8.4e-05\n",
      "  -> New best validation SMAPE: 42.03%. Model saved.\n"
     ]
    },
    {
     "name": "stderr",
     "output_type": "stream",
     "text": [
      "                                                                        \r"
     ]
    },
    {
     "name": "stdout",
     "output_type": "stream",
     "text": [
      "Epoch 163/250 | Train MAE (log): 0.39475 | Val Loss: 0.46463 | Val SMAPE: 41.89% | LR: 8.3e-05\n",
      "  -> New best validation SMAPE: 41.89%. Model saved.\n"
     ]
    },
    {
     "name": "stderr",
     "output_type": "stream",
     "text": [
      "                                                                        \r"
     ]
    },
    {
     "name": "stdout",
     "output_type": "stream",
     "text": [
      "Epoch 164/250 | Train MAE (log): 0.39473 | Val Loss: 0.46439 | Val SMAPE: 42.07% | LR: 8.1e-05\n"
     ]
    },
    {
     "name": "stderr",
     "output_type": "stream",
     "text": [
      "                                                                        \r"
     ]
    },
    {
     "name": "stdout",
     "output_type": "stream",
     "text": [
      "Epoch 165/250 | Train MAE (log): 0.39479 | Val Loss: 0.46560 | Val SMAPE: 41.94% | LR: 7.9e-05\n"
     ]
    },
    {
     "name": "stderr",
     "output_type": "stream",
     "text": [
      "                                                                        \r"
     ]
    },
    {
     "name": "stdout",
     "output_type": "stream",
     "text": [
      "Epoch 166/250 | Train MAE (log): 0.39474 | Val Loss: 0.46411 | Val SMAPE: 41.99% | LR: 7.8e-05\n"
     ]
    },
    {
     "name": "stderr",
     "output_type": "stream",
     "text": [
      "                                                                        \r"
     ]
    },
    {
     "name": "stdout",
     "output_type": "stream",
     "text": [
      "Epoch 167/250 | Train MAE (log): 0.39480 | Val Loss: 0.46446 | Val SMAPE: 41.95% | LR: 7.6e-05\n"
     ]
    },
    {
     "name": "stderr",
     "output_type": "stream",
     "text": [
      "                                                                        \r"
     ]
    },
    {
     "name": "stdout",
     "output_type": "stream",
     "text": [
      "Epoch 168/250 | Train MAE (log): 0.39462 | Val Loss: 0.46453 | Val SMAPE: 41.83% | LR: 7.4e-05\n",
      "  -> New best validation SMAPE: 41.83%. Model saved.\n"
     ]
    },
    {
     "name": "stderr",
     "output_type": "stream",
     "text": [
      "                                                                        \r"
     ]
    },
    {
     "name": "stdout",
     "output_type": "stream",
     "text": [
      "Epoch 169/250 | Train MAE (log): 0.39465 | Val Loss: 0.46499 | Val SMAPE: 41.89% | LR: 7.3e-05\n"
     ]
    },
    {
     "name": "stderr",
     "output_type": "stream",
     "text": [
      "                                                                        \r"
     ]
    },
    {
     "name": "stdout",
     "output_type": "stream",
     "text": [
      "Epoch 170/250 | Train MAE (log): 0.39485 | Val Loss: 0.46453 | Val SMAPE: 42.04% | LR: 7.1e-05\n"
     ]
    },
    {
     "name": "stderr",
     "output_type": "stream",
     "text": [
      "                                                                        \r"
     ]
    },
    {
     "name": "stdout",
     "output_type": "stream",
     "text": [
      "Epoch 171/250 | Train MAE (log): 0.39475 | Val Loss: 0.46460 | Val SMAPE: 41.91% | LR: 7.0e-05\n"
     ]
    },
    {
     "name": "stderr",
     "output_type": "stream",
     "text": [
      "                                                                        \r"
     ]
    },
    {
     "name": "stdout",
     "output_type": "stream",
     "text": [
      "Epoch 172/250 | Train MAE (log): 0.39474 | Val Loss: 0.46484 | Val SMAPE: 42.14% | LR: 6.8e-05\n"
     ]
    },
    {
     "name": "stderr",
     "output_type": "stream",
     "text": [
      "                                                                        \r"
     ]
    },
    {
     "name": "stdout",
     "output_type": "stream",
     "text": [
      "Epoch 173/250 | Train MAE (log): 0.39457 | Val Loss: 0.46430 | Val SMAPE: 41.88% | LR: 6.6e-05\n"
     ]
    },
    {
     "name": "stderr",
     "output_type": "stream",
     "text": [
      "                                                                        \r"
     ]
    },
    {
     "name": "stdout",
     "output_type": "stream",
     "text": [
      "Epoch 174/250 | Train MAE (log): 0.39457 | Val Loss: 0.46387 | Val SMAPE: 41.93% | LR: 6.5e-05\n"
     ]
    },
    {
     "name": "stderr",
     "output_type": "stream",
     "text": [
      "                                                                        \r"
     ]
    },
    {
     "name": "stdout",
     "output_type": "stream",
     "text": [
      "Epoch 175/250 | Train MAE (log): 0.39477 | Val Loss: 0.46490 | Val SMAPE: 41.85% | LR: 6.3e-05\n"
     ]
    },
    {
     "name": "stderr",
     "output_type": "stream",
     "text": [
      "                                                                        \r"
     ]
    },
    {
     "name": "stdout",
     "output_type": "stream",
     "text": [
      "Epoch 176/250 | Train MAE (log): 0.39463 | Val Loss: 0.46476 | Val SMAPE: 42.00% | LR: 6.2e-05\n"
     ]
    },
    {
     "name": "stderr",
     "output_type": "stream",
     "text": [
      "                                                                        \r"
     ]
    },
    {
     "name": "stdout",
     "output_type": "stream",
     "text": [
      "Epoch 177/250 | Train MAE (log): 0.39463 | Val Loss: 0.46477 | Val SMAPE: 41.87% | LR: 6.0e-05\n"
     ]
    },
    {
     "name": "stderr",
     "output_type": "stream",
     "text": [
      "                                                                        \r"
     ]
    },
    {
     "name": "stdout",
     "output_type": "stream",
     "text": [
      "Epoch 178/250 | Train MAE (log): 0.39467 | Val Loss: 0.46452 | Val SMAPE: 42.13% | LR: 5.9e-05\n"
     ]
    },
    {
     "name": "stderr",
     "output_type": "stream",
     "text": [
      "                                                                        \r"
     ]
    },
    {
     "name": "stdout",
     "output_type": "stream",
     "text": [
      "Epoch 179/250 | Train MAE (log): 0.39463 | Val Loss: 0.46433 | Val SMAPE: 42.02% | LR: 5.7e-05\n"
     ]
    },
    {
     "name": "stderr",
     "output_type": "stream",
     "text": [
      "                                                                        \r"
     ]
    },
    {
     "name": "stdout",
     "output_type": "stream",
     "text": [
      "Epoch 180/250 | Train MAE (log): 0.39459 | Val Loss: 0.46343 | Val SMAPE: 42.22% | LR: 5.6e-05\n"
     ]
    },
    {
     "name": "stderr",
     "output_type": "stream",
     "text": [
      "                                                                        \r"
     ]
    },
    {
     "name": "stdout",
     "output_type": "stream",
     "text": [
      "Epoch 181/250 | Train MAE (log): 0.39455 | Val Loss: 0.46472 | Val SMAPE: 41.83% | LR: 5.4e-05\n",
      "  -> New best validation SMAPE: 41.83%. Model saved.\n"
     ]
    },
    {
     "name": "stderr",
     "output_type": "stream",
     "text": [
      "                                                                        \r"
     ]
    },
    {
     "name": "stdout",
     "output_type": "stream",
     "text": [
      "Epoch 182/250 | Train MAE (log): 0.39455 | Val Loss: 0.46390 | Val SMAPE: 42.10% | LR: 5.3e-05\n"
     ]
    },
    {
     "name": "stderr",
     "output_type": "stream",
     "text": [
      "                                                                        \r"
     ]
    },
    {
     "name": "stdout",
     "output_type": "stream",
     "text": [
      "Epoch 183/250 | Train MAE (log): 0.39449 | Val Loss: 0.46413 | Val SMAPE: 42.05% | LR: 5.2e-05\n"
     ]
    },
    {
     "name": "stderr",
     "output_type": "stream",
     "text": [
      "                                                                        \r"
     ]
    },
    {
     "name": "stdout",
     "output_type": "stream",
     "text": [
      "Epoch 184/250 | Train MAE (log): 0.39463 | Val Loss: 0.46517 | Val SMAPE: 41.87% | LR: 5.0e-05\n"
     ]
    },
    {
     "name": "stderr",
     "output_type": "stream",
     "text": [
      "                                                                        \r"
     ]
    },
    {
     "name": "stdout",
     "output_type": "stream",
     "text": [
      "Epoch 185/250 | Train MAE (log): 0.39457 | Val Loss: 0.46366 | Val SMAPE: 41.89% | LR: 4.9e-05\n"
     ]
    },
    {
     "name": "stderr",
     "output_type": "stream",
     "text": [
      "                                                                        \r"
     ]
    },
    {
     "name": "stdout",
     "output_type": "stream",
     "text": [
      "Epoch 186/250 | Train MAE (log): 0.39451 | Val Loss: 0.46299 | Val SMAPE: 41.97% | LR: 4.7e-05\n"
     ]
    },
    {
     "name": "stderr",
     "output_type": "stream",
     "text": [
      "                                                                        \r"
     ]
    },
    {
     "name": "stdout",
     "output_type": "stream",
     "text": [
      "Epoch 187/250 | Train MAE (log): 0.39450 | Val Loss: 0.46478 | Val SMAPE: 41.91% | LR: 4.6e-05\n"
     ]
    },
    {
     "name": "stderr",
     "output_type": "stream",
     "text": [
      "                                                                        \r"
     ]
    },
    {
     "name": "stdout",
     "output_type": "stream",
     "text": [
      "Epoch 188/250 | Train MAE (log): 0.39441 | Val Loss: 0.46406 | Val SMAPE: 41.95% | LR: 4.5e-05\n"
     ]
    },
    {
     "name": "stderr",
     "output_type": "stream",
     "text": [
      "                                                                        \r"
     ]
    },
    {
     "name": "stdout",
     "output_type": "stream",
     "text": [
      "Epoch 189/250 | Train MAE (log): 0.39456 | Val Loss: 0.46359 | Val SMAPE: 41.99% | LR: 4.3e-05\n"
     ]
    },
    {
     "name": "stderr",
     "output_type": "stream",
     "text": [
      "                                                                        \r"
     ]
    },
    {
     "name": "stdout",
     "output_type": "stream",
     "text": [
      "Epoch 190/250 | Train MAE (log): 0.39447 | Val Loss: 0.46349 | Val SMAPE: 42.05% | LR: 4.2e-05\n"
     ]
    },
    {
     "name": "stderr",
     "output_type": "stream",
     "text": [
      "                                                                        \r"
     ]
    },
    {
     "name": "stdout",
     "output_type": "stream",
     "text": [
      "Epoch 191/250 | Train MAE (log): 0.39448 | Val Loss: 0.46384 | Val SMAPE: 41.83% | LR: 4.1e-05\n"
     ]
    },
    {
     "name": "stderr",
     "output_type": "stream",
     "text": [
      "                                                                        \r"
     ]
    },
    {
     "name": "stdout",
     "output_type": "stream",
     "text": [
      "Epoch 192/250 | Train MAE (log): 0.39439 | Val Loss: 0.46414 | Val SMAPE: 41.71% | LR: 3.9e-05\n",
      "  -> New best validation SMAPE: 41.71%. Model saved.\n"
     ]
    },
    {
     "name": "stderr",
     "output_type": "stream",
     "text": [
      "                                                                        \r"
     ]
    },
    {
     "name": "stdout",
     "output_type": "stream",
     "text": [
      "Epoch 193/250 | Train MAE (log): 0.39457 | Val Loss: 0.46414 | Val SMAPE: 41.78% | LR: 3.8e-05\n"
     ]
    },
    {
     "name": "stderr",
     "output_type": "stream",
     "text": [
      "                                                                        \r"
     ]
    },
    {
     "name": "stdout",
     "output_type": "stream",
     "text": [
      "Epoch 194/250 | Train MAE (log): 0.39440 | Val Loss: 0.46514 | Val SMAPE: 41.73% | LR: 3.7e-05\n"
     ]
    },
    {
     "name": "stderr",
     "output_type": "stream",
     "text": [
      "                                                                        \r"
     ]
    },
    {
     "name": "stdout",
     "output_type": "stream",
     "text": [
      "Epoch 195/250 | Train MAE (log): 0.39439 | Val Loss: 0.46443 | Val SMAPE: 42.01% | LR: 3.6e-05\n"
     ]
    },
    {
     "name": "stderr",
     "output_type": "stream",
     "text": [
      "                                                                        \r"
     ]
    },
    {
     "name": "stdout",
     "output_type": "stream",
     "text": [
      "Epoch 196/250 | Train MAE (log): 0.39454 | Val Loss: 0.46404 | Val SMAPE: 41.74% | LR: 3.4e-05\n"
     ]
    },
    {
     "name": "stderr",
     "output_type": "stream",
     "text": [
      "                                                                        \r"
     ]
    },
    {
     "name": "stdout",
     "output_type": "stream",
     "text": [
      "Epoch 197/250 | Train MAE (log): 0.39448 | Val Loss: 0.46494 | Val SMAPE: 41.66% | LR: 3.3e-05\n",
      "  -> New best validation SMAPE: 41.66%. Model saved.\n"
     ]
    },
    {
     "name": "stderr",
     "output_type": "stream",
     "text": [
      "                                                                        \r"
     ]
    },
    {
     "name": "stdout",
     "output_type": "stream",
     "text": [
      "Epoch 198/250 | Train MAE (log): 0.39448 | Val Loss: 0.46551 | Val SMAPE: 41.65% | LR: 3.2e-05\n",
      "  -> New best validation SMAPE: 41.65%. Model saved.\n"
     ]
    },
    {
     "name": "stderr",
     "output_type": "stream",
     "text": [
      "                                                                        \r"
     ]
    },
    {
     "name": "stdout",
     "output_type": "stream",
     "text": [
      "Epoch 199/250 | Train MAE (log): 0.39439 | Val Loss: 0.46434 | Val SMAPE: 41.81% | LR: 3.1e-05\n"
     ]
    },
    {
     "name": "stderr",
     "output_type": "stream",
     "text": [
      "                                                                        \r"
     ]
    },
    {
     "name": "stdout",
     "output_type": "stream",
     "text": [
      "Epoch 200/250 | Train MAE (log): 0.39445 | Val Loss: 0.46503 | Val SMAPE: 41.68% | LR: 3.0e-05\n"
     ]
    },
    {
     "name": "stderr",
     "output_type": "stream",
     "text": [
      "                                                                        \r"
     ]
    },
    {
     "name": "stdout",
     "output_type": "stream",
     "text": [
      "Epoch 201/250 | Train MAE (log): 0.39442 | Val Loss: 0.46515 | Val SMAPE: 41.69% | LR: 2.9e-05\n"
     ]
    },
    {
     "name": "stderr",
     "output_type": "stream",
     "text": [
      "                                                                        \r"
     ]
    },
    {
     "name": "stdout",
     "output_type": "stream",
     "text": [
      "Epoch 202/250 | Train MAE (log): 0.39447 | Val Loss: 0.46570 | Val SMAPE: 41.78% | LR: 2.8e-05\n"
     ]
    },
    {
     "name": "stderr",
     "output_type": "stream",
     "text": [
      "                                                                        \r"
     ]
    },
    {
     "name": "stdout",
     "output_type": "stream",
     "text": [
      "Epoch 203/250 | Train MAE (log): 0.39445 | Val Loss: 0.46386 | Val SMAPE: 41.99% | LR: 2.6e-05\n"
     ]
    },
    {
     "name": "stderr",
     "output_type": "stream",
     "text": [
      "                                                                        \r"
     ]
    },
    {
     "name": "stdout",
     "output_type": "stream",
     "text": [
      "Epoch 204/250 | Train MAE (log): 0.39432 | Val Loss: 0.46408 | Val SMAPE: 42.24% | LR: 2.5e-05\n"
     ]
    },
    {
     "name": "stderr",
     "output_type": "stream",
     "text": [
      "                                                                        \r"
     ]
    },
    {
     "name": "stdout",
     "output_type": "stream",
     "text": [
      "Epoch 205/250 | Train MAE (log): 0.39431 | Val Loss: 0.46382 | Val SMAPE: 42.05% | LR: 2.4e-05\n"
     ]
    },
    {
     "name": "stderr",
     "output_type": "stream",
     "text": [
      "                                                                        \r"
     ]
    },
    {
     "name": "stdout",
     "output_type": "stream",
     "text": [
      "Epoch 206/250 | Train MAE (log): 0.39445 | Val Loss: 0.46368 | Val SMAPE: 41.79% | LR: 2.3e-05\n"
     ]
    },
    {
     "name": "stderr",
     "output_type": "stream",
     "text": [
      "                                                                        \r"
     ]
    },
    {
     "name": "stdout",
     "output_type": "stream",
     "text": [
      "Epoch 207/250 | Train MAE (log): 0.39435 | Val Loss: 0.46373 | Val SMAPE: 41.99% | LR: 2.2e-05\n"
     ]
    },
    {
     "name": "stderr",
     "output_type": "stream",
     "text": [
      "                                                                        \r"
     ]
    },
    {
     "name": "stdout",
     "output_type": "stream",
     "text": [
      "Epoch 208/250 | Train MAE (log): 0.39432 | Val Loss: 0.46421 | Val SMAPE: 41.79% | LR: 2.1e-05\n"
     ]
    },
    {
     "name": "stderr",
     "output_type": "stream",
     "text": [
      "                                                                        \r"
     ]
    },
    {
     "name": "stdout",
     "output_type": "stream",
     "text": [
      "Epoch 209/250 | Train MAE (log): 0.39433 | Val Loss: 0.46437 | Val SMAPE: 41.72% | LR: 2.0e-05\n"
     ]
    },
    {
     "name": "stderr",
     "output_type": "stream",
     "text": [
      "                                                                        \r"
     ]
    },
    {
     "name": "stdout",
     "output_type": "stream",
     "text": [
      "Epoch 210/250 | Train MAE (log): 0.39432 | Val Loss: 0.46378 | Val SMAPE: 41.70% | LR: 1.9e-05\n"
     ]
    },
    {
     "name": "stderr",
     "output_type": "stream",
     "text": [
      "                                                                        \r"
     ]
    },
    {
     "name": "stdout",
     "output_type": "stream",
     "text": [
      "Epoch 211/250 | Train MAE (log): 0.39449 | Val Loss: 0.46524 | Val SMAPE: 41.66% | LR: 1.9e-05\n"
     ]
    },
    {
     "name": "stderr",
     "output_type": "stream",
     "text": [
      "                                                                        \r"
     ]
    },
    {
     "name": "stdout",
     "output_type": "stream",
     "text": [
      "Epoch 212/250 | Train MAE (log): 0.39435 | Val Loss: 0.46470 | Val SMAPE: 42.33% | LR: 1.8e-05\n"
     ]
    },
    {
     "name": "stderr",
     "output_type": "stream",
     "text": [
      "                                                                        \r"
     ]
    },
    {
     "name": "stdout",
     "output_type": "stream",
     "text": [
      "Epoch 213/250 | Train MAE (log): 0.39433 | Val Loss: 0.46362 | Val SMAPE: 41.85% | LR: 1.7e-05\n"
     ]
    },
    {
     "name": "stderr",
     "output_type": "stream",
     "text": [
      "                                                                        \r"
     ]
    },
    {
     "name": "stdout",
     "output_type": "stream",
     "text": [
      "Epoch 214/250 | Train MAE (log): 0.39433 | Val Loss: 0.46408 | Val SMAPE: 41.87% | LR: 1.6e-05\n"
     ]
    },
    {
     "name": "stderr",
     "output_type": "stream",
     "text": [
      "                                                                        \r"
     ]
    },
    {
     "name": "stdout",
     "output_type": "stream",
     "text": [
      "Epoch 215/250 | Train MAE (log): 0.39432 | Val Loss: 0.46411 | Val SMAPE: 41.76% | LR: 1.5e-05\n"
     ]
    },
    {
     "name": "stderr",
     "output_type": "stream",
     "text": [
      "                                                                        \r"
     ]
    },
    {
     "name": "stdout",
     "output_type": "stream",
     "text": [
      "Epoch 216/250 | Train MAE (log): 0.39425 | Val Loss: 0.46433 | Val SMAPE: 41.74% | LR: 1.4e-05\n"
     ]
    },
    {
     "name": "stderr",
     "output_type": "stream",
     "text": [
      "                                                                        \r"
     ]
    },
    {
     "name": "stdout",
     "output_type": "stream",
     "text": [
      "Epoch 217/250 | Train MAE (log): 0.39422 | Val Loss: 0.46395 | Val SMAPE: 41.82% | LR: 1.3e-05\n"
     ]
    },
    {
     "name": "stderr",
     "output_type": "stream",
     "text": [
      "                                                                        \r"
     ]
    },
    {
     "name": "stdout",
     "output_type": "stream",
     "text": [
      "Epoch 218/250 | Train MAE (log): 0.39423 | Val Loss: 0.46548 | Val SMAPE: 41.66% | LR: 1.3e-05\n"
     ]
    },
    {
     "name": "stderr",
     "output_type": "stream",
     "text": [
      "                                                                        \r"
     ]
    },
    {
     "name": "stdout",
     "output_type": "stream",
     "text": [
      "Epoch 219/250 | Train MAE (log): 0.39437 | Val Loss: 0.46328 | Val SMAPE: 41.83% | LR: 1.2e-05\n"
     ]
    },
    {
     "name": "stderr",
     "output_type": "stream",
     "text": [
      "                                                                        \r"
     ]
    },
    {
     "name": "stdout",
     "output_type": "stream",
     "text": [
      "Epoch 220/250 | Train MAE (log): 0.39427 | Val Loss: 0.46238 | Val SMAPE: 42.46% | LR: 1.1e-05\n"
     ]
    },
    {
     "name": "stderr",
     "output_type": "stream",
     "text": [
      "                                                                        \r"
     ]
    },
    {
     "name": "stdout",
     "output_type": "stream",
     "text": [
      "Epoch 221/250 | Train MAE (log): 0.39423 | Val Loss: 0.46449 | Val SMAPE: 41.87% | LR: 1.1e-05\n"
     ]
    },
    {
     "name": "stderr",
     "output_type": "stream",
     "text": [
      "                                                                        \r"
     ]
    },
    {
     "name": "stdout",
     "output_type": "stream",
     "text": [
      "Epoch 222/250 | Train MAE (log): 0.39425 | Val Loss: 0.46385 | Val SMAPE: 41.69% | LR: 9.9e-06\n"
     ]
    },
    {
     "name": "stderr",
     "output_type": "stream",
     "text": [
      "                                                                        \r"
     ]
    },
    {
     "name": "stdout",
     "output_type": "stream",
     "text": [
      "Epoch 223/250 | Train MAE (log): 0.39439 | Val Loss: 0.46590 | Val SMAPE: 41.60% | LR: 9.2e-06\n",
      "  -> New best validation SMAPE: 41.60%. Model saved.\n"
     ]
    },
    {
     "name": "stderr",
     "output_type": "stream",
     "text": [
      "                                                                        \r"
     ]
    },
    {
     "name": "stdout",
     "output_type": "stream",
     "text": [
      "Epoch 224/250 | Train MAE (log): 0.39433 | Val Loss: 0.46429 | Val SMAPE: 41.70% | LR: 8.6e-06\n"
     ]
    },
    {
     "name": "stderr",
     "output_type": "stream",
     "text": [
      "                                                                        \r"
     ]
    },
    {
     "name": "stdout",
     "output_type": "stream",
     "text": [
      "Epoch 225/250 | Train MAE (log): 0.39433 | Val Loss: 0.46485 | Val SMAPE: 41.68% | LR: 7.9e-06\n"
     ]
    },
    {
     "name": "stderr",
     "output_type": "stream",
     "text": [
      "                                                                        \r"
     ]
    },
    {
     "name": "stdout",
     "output_type": "stream",
     "text": [
      "Epoch 226/250 | Train MAE (log): 0.39434 | Val Loss: 0.46517 | Val SMAPE: 41.63% | LR: 7.4e-06\n"
     ]
    },
    {
     "name": "stderr",
     "output_type": "stream",
     "text": [
      "                                                                        \r"
     ]
    },
    {
     "name": "stdout",
     "output_type": "stream",
     "text": [
      "Epoch 227/250 | Train MAE (log): 0.39441 | Val Loss: 0.46370 | Val SMAPE: 42.52% | LR: 6.8e-06\n"
     ]
    },
    {
     "name": "stderr",
     "output_type": "stream",
     "text": [
      "                                                                        \r"
     ]
    },
    {
     "name": "stdout",
     "output_type": "stream",
     "text": [
      "Epoch 228/250 | Train MAE (log): 0.39426 | Val Loss: 0.46303 | Val SMAPE: 42.07% | LR: 6.2e-06\n"
     ]
    },
    {
     "name": "stderr",
     "output_type": "stream",
     "text": [
      "                                                                        \r"
     ]
    },
    {
     "name": "stdout",
     "output_type": "stream",
     "text": [
      "Epoch 229/250 | Train MAE (log): 0.39419 | Val Loss: 0.46434 | Val SMAPE: 41.65% | LR: 5.7e-06\n"
     ]
    },
    {
     "name": "stderr",
     "output_type": "stream",
     "text": [
      "                                                                        \r"
     ]
    },
    {
     "name": "stdout",
     "output_type": "stream",
     "text": [
      "Epoch 230/250 | Train MAE (log): 0.39429 | Val Loss: 0.46478 | Val SMAPE: 41.67% | LR: 5.2e-06\n"
     ]
    },
    {
     "name": "stderr",
     "output_type": "stream",
     "text": [
      "                                                                        \r"
     ]
    },
    {
     "name": "stdout",
     "output_type": "stream",
     "text": [
      "Epoch 231/250 | Train MAE (log): 0.39434 | Val Loss: 0.46555 | Val SMAPE: 41.59% | LR: 4.7e-06\n",
      "  -> New best validation SMAPE: 41.59%. Model saved.\n"
     ]
    },
    {
     "name": "stderr",
     "output_type": "stream",
     "text": [
      "                                                                        \r"
     ]
    },
    {
     "name": "stdout",
     "output_type": "stream",
     "text": [
      "Epoch 232/250 | Train MAE (log): 0.39433 | Val Loss: 0.46352 | Val SMAPE: 41.79% | LR: 4.3e-06\n"
     ]
    },
    {
     "name": "stderr",
     "output_type": "stream",
     "text": [
      "                                                                        \r"
     ]
    },
    {
     "name": "stdout",
     "output_type": "stream",
     "text": [
      "Epoch 233/250 | Train MAE (log): 0.39426 | Val Loss: 0.46506 | Val SMAPE: 41.61% | LR: 3.8e-06\n"
     ]
    },
    {
     "name": "stderr",
     "output_type": "stream",
     "text": [
      "                                                                        \r"
     ]
    },
    {
     "name": "stdout",
     "output_type": "stream",
     "text": [
      "Epoch 234/250 | Train MAE (log): 0.39428 | Val Loss: 0.46476 | Val SMAPE: 41.68% | LR: 3.4e-06\n"
     ]
    },
    {
     "name": "stderr",
     "output_type": "stream",
     "text": [
      "                                                                        \r"
     ]
    },
    {
     "name": "stdout",
     "output_type": "stream",
     "text": [
      "Epoch 235/250 | Train MAE (log): 0.39428 | Val Loss: 0.46491 | Val SMAPE: 41.61% | LR: 3.0e-06\n"
     ]
    },
    {
     "name": "stderr",
     "output_type": "stream",
     "text": [
      "                                                                        \r"
     ]
    },
    {
     "name": "stdout",
     "output_type": "stream",
     "text": [
      "Epoch 236/250 | Train MAE (log): 0.39431 | Val Loss: 0.46220 | Val SMAPE: 42.13% | LR: 2.7e-06\n"
     ]
    },
    {
     "name": "stderr",
     "output_type": "stream",
     "text": [
      "                                                                        \r"
     ]
    },
    {
     "name": "stdout",
     "output_type": "stream",
     "text": [
      "Epoch 237/250 | Train MAE (log): 0.39421 | Val Loss: 0.46341 | Val SMAPE: 41.85% | LR: 2.3e-06\n"
     ]
    },
    {
     "name": "stderr",
     "output_type": "stream",
     "text": [
      "                                                                        \r"
     ]
    },
    {
     "name": "stdout",
     "output_type": "stream",
     "text": [
      "Epoch 238/250 | Train MAE (log): 0.39438 | Val Loss: 0.46617 | Val SMAPE: 41.62% | LR: 2.0e-06\n"
     ]
    },
    {
     "name": "stderr",
     "output_type": "stream",
     "text": [
      "                                                                        \r"
     ]
    },
    {
     "name": "stdout",
     "output_type": "stream",
     "text": [
      "Epoch 239/250 | Train MAE (log): 0.39423 | Val Loss: 0.46420 | Val SMAPE: 41.64% | LR: 1.7e-06\n"
     ]
    },
    {
     "name": "stderr",
     "output_type": "stream",
     "text": [
      "                                                                        \r"
     ]
    },
    {
     "name": "stdout",
     "output_type": "stream",
     "text": [
      "Epoch 240/250 | Train MAE (log): 0.39430 | Val Loss: 0.46442 | Val SMAPE: 41.69% | LR: 1.4e-06\n"
     ]
    },
    {
     "name": "stderr",
     "output_type": "stream",
     "text": [
      "                                                                        \r"
     ]
    },
    {
     "name": "stdout",
     "output_type": "stream",
     "text": [
      "Epoch 241/250 | Train MAE (log): 0.39435 | Val Loss: 0.46301 | Val SMAPE: 41.97% | LR: 1.2e-06\n"
     ]
    },
    {
     "name": "stderr",
     "output_type": "stream",
     "text": [
      "                                                                        \r"
     ]
    },
    {
     "name": "stdout",
     "output_type": "stream",
     "text": [
      "Epoch 242/250 | Train MAE (log): 0.39422 | Val Loss: 0.46601 | Val SMAPE: 41.83% | LR: 9.7e-07\n"
     ]
    },
    {
     "name": "stderr",
     "output_type": "stream",
     "text": [
      "                                                                        \r"
     ]
    },
    {
     "name": "stdout",
     "output_type": "stream",
     "text": [
      "Epoch 243/250 | Train MAE (log): 0.39423 | Val Loss: 0.46244 | Val SMAPE: 42.14% | LR: 7.7e-07\n"
     ]
    },
    {
     "name": "stderr",
     "output_type": "stream",
     "text": [
      "                                                                        \r"
     ]
    },
    {
     "name": "stdout",
     "output_type": "stream",
     "text": [
      "Epoch 244/250 | Train MAE (log): 0.39427 | Val Loss: 0.46299 | Val SMAPE: 41.81% | LR: 5.9e-07\n"
     ]
    },
    {
     "name": "stderr",
     "output_type": "stream",
     "text": [
      "                                                                        \r"
     ]
    },
    {
     "name": "stdout",
     "output_type": "stream",
     "text": [
      "Epoch 245/250 | Train MAE (log): 0.39423 | Val Loss: 0.46425 | Val SMAPE: 42.04% | LR: 4.4e-07\n"
     ]
    },
    {
     "name": "stderr",
     "output_type": "stream",
     "text": [
      "                                                                        \r"
     ]
    },
    {
     "name": "stdout",
     "output_type": "stream",
     "text": [
      "Epoch 246/250 | Train MAE (log): 0.39429 | Val Loss: 0.46370 | Val SMAPE: 42.04% | LR: 3.1e-07\n"
     ]
    },
    {
     "name": "stderr",
     "output_type": "stream",
     "text": [
      "                                                                        \r"
     ]
    },
    {
     "name": "stdout",
     "output_type": "stream",
     "text": [
      "Epoch 247/250 | Train MAE (log): 0.39419 | Val Loss: 0.46406 | Val SMAPE: 42.24% | LR: 2.0e-07\n"
     ]
    },
    {
     "name": "stderr",
     "output_type": "stream",
     "text": [
      "                                                                        \r"
     ]
    },
    {
     "name": "stdout",
     "output_type": "stream",
     "text": [
      "Epoch 248/250 | Train MAE (log): 0.39425 | Val Loss: 0.46354 | Val SMAPE: 41.90% | LR: 1.2e-07\n"
     ]
    },
    {
     "name": "stderr",
     "output_type": "stream",
     "text": [
      "                                                                        \r"
     ]
    },
    {
     "name": "stdout",
     "output_type": "stream",
     "text": [
      "Epoch 249/250 | Train MAE (log): 0.39424 | Val Loss: 0.46461 | Val SMAPE: 41.65% | LR: 5.7e-08\n"
     ]
    },
    {
     "name": "stderr",
     "output_type": "stream",
     "text": [
      "                                                                        \r"
     ]
    },
    {
     "name": "stdout",
     "output_type": "stream",
     "text": [
      "Epoch 250/250 | Train MAE (log): 0.39423 | Val Loss: 0.46386 | Val SMAPE: 42.04% | LR: 2.2e-08\n",
      "\n",
      "--- Starting Fold 3/5 ---\n"
     ]
    },
    {
     "name": "stderr",
     "output_type": "stream",
     "text": [
      "                                                                      \r"
     ]
    },
    {
     "name": "stdout",
     "output_type": "stream",
     "text": [
      "Epoch 1/250 | Train MAE (log): 0.71838 | Val Loss: 0.67891 | Val SMAPE: 100.64% | LR: 1.0e-06\n",
      "  -> New best validation SMAPE: 100.64%. Model saved.\n"
     ]
    },
    {
     "name": "stderr",
     "output_type": "stream",
     "text": [
      "                                                                      \r"
     ]
    },
    {
     "name": "stdout",
     "output_type": "stream",
     "text": [
      "Epoch 2/250 | Train MAE (log): 0.69998 | Val Loss: 0.67349 | Val SMAPE: 100.40% | LR: 3.1e-05\n",
      "  -> New best validation SMAPE: 100.40%. Model saved.\n"
     ]
    },
    {
     "name": "stderr",
     "output_type": "stream",
     "text": [
      "                                                                      \r"
     ]
    },
    {
     "name": "stdout",
     "output_type": "stream",
     "text": [
      "Epoch 3/250 | Train MAE (log): 0.64422 | Val Loss: 0.59483 | Val SMAPE: 91.31% | LR: 6.1e-05\n",
      "  -> New best validation SMAPE: 91.31%. Model saved.\n"
     ]
    },
    {
     "name": "stderr",
     "output_type": "stream",
     "text": [
      "                                                                      \r"
     ]
    },
    {
     "name": "stdout",
     "output_type": "stream",
     "text": [
      "Epoch 4/250 | Train MAE (log): 0.56653 | Val Loss: 0.53143 | Val SMAPE: 78.95% | LR: 9.1e-05\n",
      "  -> New best validation SMAPE: 78.95%. Model saved.\n"
     ]
    },
    {
     "name": "stderr",
     "output_type": "stream",
     "text": [
      "                                                                      \r"
     ]
    },
    {
     "name": "stdout",
     "output_type": "stream",
     "text": [
      "Epoch 5/250 | Train MAE (log): 0.49954 | Val Loss: 0.47623 | Val SMAPE: 59.32% | LR: 1.2e-04\n",
      "  -> New best validation SMAPE: 59.32%. Model saved.\n"
     ]
    },
    {
     "name": "stderr",
     "output_type": "stream",
     "text": [
      "                                                                      \r"
     ]
    },
    {
     "name": "stdout",
     "output_type": "stream",
     "text": [
      "Epoch 6/250 | Train MAE (log): 0.46888 | Val Loss: 0.46659 | Val SMAPE: 54.44% | LR: 1.5e-04\n",
      "  -> New best validation SMAPE: 54.44%. Model saved.\n"
     ]
    },
    {
     "name": "stderr",
     "output_type": "stream",
     "text": [
      "                                                                      \r"
     ]
    },
    {
     "name": "stdout",
     "output_type": "stream",
     "text": [
      "Epoch 7/250 | Train MAE (log): 0.45712 | Val Loss: 0.46694 | Val SMAPE: 51.46% | LR: 1.8e-04\n",
      "  -> New best validation SMAPE: 51.46%. Model saved.\n"
     ]
    },
    {
     "name": "stderr",
     "output_type": "stream",
     "text": [
      "                                                                      \r"
     ]
    },
    {
     "name": "stdout",
     "output_type": "stream",
     "text": [
      "Epoch 8/250 | Train MAE (log): 0.45099 | Val Loss: 0.46999 | Val SMAPE: 52.10% | LR: 2.1e-04\n"
     ]
    },
    {
     "name": "stderr",
     "output_type": "stream",
     "text": [
      "                                                                      \r"
     ]
    },
    {
     "name": "stdout",
     "output_type": "stream",
     "text": [
      "Epoch 9/250 | Train MAE (log): 0.44650 | Val Loss: 0.46661 | Val SMAPE: 50.49% | LR: 2.4e-04\n",
      "  -> New best validation SMAPE: 50.49%. Model saved.\n"
     ]
    },
    {
     "name": "stderr",
     "output_type": "stream",
     "text": [
      "                                                                       \r"
     ]
    },
    {
     "name": "stdout",
     "output_type": "stream",
     "text": [
      "Epoch 10/250 | Train MAE (log): 0.44359 | Val Loss: 0.46454 | Val SMAPE: 49.25% | LR: 2.7e-04\n",
      "  -> New best validation SMAPE: 49.25%. Model saved.\n"
     ]
    },
    {
     "name": "stderr",
     "output_type": "stream",
     "text": [
      "                                                                       \r"
     ]
    },
    {
     "name": "stdout",
     "output_type": "stream",
     "text": [
      "Epoch 11/250 | Train MAE (log): 0.44060 | Val Loss: 0.46555 | Val SMAPE: 49.43% | LR: 3.0e-04\n"
     ]
    },
    {
     "name": "stderr",
     "output_type": "stream",
     "text": [
      "                                                                       \r"
     ]
    },
    {
     "name": "stdout",
     "output_type": "stream",
     "text": [
      "Epoch 12/250 | Train MAE (log): 0.43930 | Val Loss: 0.47182 | Val SMAPE: 50.29% | LR: 3.0e-04\n"
     ]
    },
    {
     "name": "stderr",
     "output_type": "stream",
     "text": [
      "                                                                       \r"
     ]
    },
    {
     "name": "stdout",
     "output_type": "stream",
     "text": [
      "Epoch 13/250 | Train MAE (log): 0.43425 | Val Loss: 0.46435 | Val SMAPE: 49.92% | LR: 3.0e-04\n"
     ]
    },
    {
     "name": "stderr",
     "output_type": "stream",
     "text": [
      "                                                                       \r"
     ]
    },
    {
     "name": "stdout",
     "output_type": "stream",
     "text": [
      "Epoch 14/250 | Train MAE (log): 0.43050 | Val Loss: 0.46537 | Val SMAPE: 49.44% | LR: 3.0e-04\n"
     ]
    },
    {
     "name": "stderr",
     "output_type": "stream",
     "text": [
      "                                                                       \r"
     ]
    },
    {
     "name": "stdout",
     "output_type": "stream",
     "text": [
      "Epoch 15/250 | Train MAE (log): 0.42775 | Val Loss: 0.46943 | Val SMAPE: 49.69% | LR: 3.0e-04\n"
     ]
    },
    {
     "name": "stderr",
     "output_type": "stream",
     "text": [
      "                                                                       \r"
     ]
    },
    {
     "name": "stdout",
     "output_type": "stream",
     "text": [
      "Epoch 16/250 | Train MAE (log): 0.42526 | Val Loss: 0.46732 | Val SMAPE: 49.68% | LR: 3.0e-04\n"
     ]
    },
    {
     "name": "stderr",
     "output_type": "stream",
     "text": [
      "                                                                       \r"
     ]
    },
    {
     "name": "stdout",
     "output_type": "stream",
     "text": [
      "Epoch 17/250 | Train MAE (log): 0.42263 | Val Loss: 0.46565 | Val SMAPE: 49.23% | LR: 3.0e-04\n",
      "  -> New best validation SMAPE: 49.23%. Model saved.\n"
     ]
    },
    {
     "name": "stderr",
     "output_type": "stream",
     "text": [
      "                                                                       \r"
     ]
    },
    {
     "name": "stdout",
     "output_type": "stream",
     "text": [
      "Epoch 18/250 | Train MAE (log): 0.42111 | Val Loss: 0.46717 | Val SMAPE: 48.68% | LR: 3.0e-04\n",
      "  -> New best validation SMAPE: 48.68%. Model saved.\n"
     ]
    },
    {
     "name": "stderr",
     "output_type": "stream",
     "text": [
      "                                                                       \r"
     ]
    },
    {
     "name": "stdout",
     "output_type": "stream",
     "text": [
      "Epoch 19/250 | Train MAE (log): 0.41956 | Val Loss: 0.46734 | Val SMAPE: 48.58% | LR: 3.0e-04\n",
      "  -> New best validation SMAPE: 48.58%. Model saved.\n"
     ]
    },
    {
     "name": "stderr",
     "output_type": "stream",
     "text": [
      "                                                                       \r"
     ]
    },
    {
     "name": "stdout",
     "output_type": "stream",
     "text": [
      "Epoch 20/250 | Train MAE (log): 0.41775 | Val Loss: 0.46458 | Val SMAPE: 48.39% | LR: 3.0e-04\n",
      "  -> New best validation SMAPE: 48.39%. Model saved.\n"
     ]
    },
    {
     "name": "stderr",
     "output_type": "stream",
     "text": [
      "                                                                       \r"
     ]
    },
    {
     "name": "stdout",
     "output_type": "stream",
     "text": [
      "Epoch 21/250 | Train MAE (log): 0.41659 | Val Loss: 0.46765 | Val SMAPE: 48.33% | LR: 3.0e-04\n",
      "  -> New best validation SMAPE: 48.33%. Model saved.\n"
     ]
    },
    {
     "name": "stderr",
     "output_type": "stream",
     "text": [
      "                                                                       \r"
     ]
    },
    {
     "name": "stdout",
     "output_type": "stream",
     "text": [
      "Epoch 22/250 | Train MAE (log): 0.41508 | Val Loss: 0.46604 | Val SMAPE: 47.90% | LR: 2.9e-04\n",
      "  -> New best validation SMAPE: 47.90%. Model saved.\n"
     ]
    },
    {
     "name": "stderr",
     "output_type": "stream",
     "text": [
      "                                                                       \r"
     ]
    },
    {
     "name": "stdout",
     "output_type": "stream",
     "text": [
      "Epoch 23/250 | Train MAE (log): 0.41341 | Val Loss: 0.46782 | Val SMAPE: 48.15% | LR: 2.9e-04\n"
     ]
    },
    {
     "name": "stderr",
     "output_type": "stream",
     "text": [
      "                                                                       \r"
     ]
    },
    {
     "name": "stdout",
     "output_type": "stream",
     "text": [
      "Epoch 24/250 | Train MAE (log): 0.41297 | Val Loss: 0.46806 | Val SMAPE: 47.13% | LR: 2.9e-04\n",
      "  -> New best validation SMAPE: 47.13%. Model saved.\n"
     ]
    },
    {
     "name": "stderr",
     "output_type": "stream",
     "text": [
      "                                                                       \r"
     ]
    },
    {
     "name": "stdout",
     "output_type": "stream",
     "text": [
      "Epoch 25/250 | Train MAE (log): 0.41198 | Val Loss: 0.47035 | Val SMAPE: 48.23% | LR: 2.9e-04\n"
     ]
    },
    {
     "name": "stderr",
     "output_type": "stream",
     "text": [
      "                                                                       \r"
     ]
    },
    {
     "name": "stdout",
     "output_type": "stream",
     "text": [
      "Epoch 26/250 | Train MAE (log): 0.41065 | Val Loss: 0.46828 | Val SMAPE: 47.72% | LR: 2.9e-04\n"
     ]
    },
    {
     "name": "stderr",
     "output_type": "stream",
     "text": [
      "                                                                       \r"
     ]
    },
    {
     "name": "stdout",
     "output_type": "stream",
     "text": [
      "Epoch 27/250 | Train MAE (log): 0.41020 | Val Loss: 0.46751 | Val SMAPE: 47.52% | LR: 2.9e-04\n"
     ]
    },
    {
     "name": "stderr",
     "output_type": "stream",
     "text": [
      "                                                                       \r"
     ]
    },
    {
     "name": "stdout",
     "output_type": "stream",
     "text": [
      "Epoch 28/250 | Train MAE (log): 0.40956 | Val Loss: 0.46531 | Val SMAPE: 47.50% | LR: 2.9e-04\n"
     ]
    },
    {
     "name": "stderr",
     "output_type": "stream",
     "text": [
      "                                                                       \r"
     ]
    },
    {
     "name": "stdout",
     "output_type": "stream",
     "text": [
      "Epoch 29/250 | Train MAE (log): 0.40856 | Val Loss: 0.46881 | Val SMAPE: 47.73% | LR: 2.9e-04\n"
     ]
    },
    {
     "name": "stderr",
     "output_type": "stream",
     "text": [
      "                                                                       \r"
     ]
    },
    {
     "name": "stdout",
     "output_type": "stream",
     "text": [
      "Epoch 30/250 | Train MAE (log): 0.40748 | Val Loss: 0.46736 | Val SMAPE: 47.15% | LR: 2.9e-04\n"
     ]
    },
    {
     "name": "stderr",
     "output_type": "stream",
     "text": [
      "                                                                       \r"
     ]
    },
    {
     "name": "stdout",
     "output_type": "stream",
     "text": [
      "Epoch 31/250 | Train MAE (log): 0.40703 | Val Loss: 0.46564 | Val SMAPE: 47.22% | LR: 2.9e-04\n"
     ]
    },
    {
     "name": "stderr",
     "output_type": "stream",
     "text": [
      "                                                                       \r"
     ]
    },
    {
     "name": "stdout",
     "output_type": "stream",
     "text": [
      "Epoch 32/250 | Train MAE (log): 0.40632 | Val Loss: 0.46413 | Val SMAPE: 47.71% | LR: 2.9e-04\n"
     ]
    },
    {
     "name": "stderr",
     "output_type": "stream",
     "text": [
      "                                                                       \r"
     ]
    },
    {
     "name": "stdout",
     "output_type": "stream",
     "text": [
      "Epoch 33/250 | Train MAE (log): 0.40590 | Val Loss: 0.46445 | Val SMAPE: 46.98% | LR: 2.9e-04\n",
      "  -> New best validation SMAPE: 46.98%. Model saved.\n"
     ]
    },
    {
     "name": "stderr",
     "output_type": "stream",
     "text": [
      "                                                                       \r"
     ]
    },
    {
     "name": "stdout",
     "output_type": "stream",
     "text": [
      "Epoch 34/250 | Train MAE (log): 0.40492 | Val Loss: 0.46800 | Val SMAPE: 46.86% | LR: 2.9e-04\n",
      "  -> New best validation SMAPE: 46.86%. Model saved.\n"
     ]
    },
    {
     "name": "stderr",
     "output_type": "stream",
     "text": [
      "                                                                       \r"
     ]
    },
    {
     "name": "stdout",
     "output_type": "stream",
     "text": [
      "Epoch 35/250 | Train MAE (log): 0.40480 | Val Loss: 0.46943 | Val SMAPE: 46.53% | LR: 2.9e-04\n",
      "  -> New best validation SMAPE: 46.53%. Model saved.\n"
     ]
    },
    {
     "name": "stderr",
     "output_type": "stream",
     "text": [
      "                                                                       \r"
     ]
    },
    {
     "name": "stdout",
     "output_type": "stream",
     "text": [
      "Epoch 36/250 | Train MAE (log): 0.40384 | Val Loss: 0.46805 | Val SMAPE: 46.28% | LR: 2.9e-04\n",
      "  -> New best validation SMAPE: 46.28%. Model saved.\n"
     ]
    },
    {
     "name": "stderr",
     "output_type": "stream",
     "text": [
      "                                                                       \r"
     ]
    },
    {
     "name": "stdout",
     "output_type": "stream",
     "text": [
      "Epoch 37/250 | Train MAE (log): 0.40383 | Val Loss: 0.46853 | Val SMAPE: 46.25% | LR: 2.8e-04\n",
      "  -> New best validation SMAPE: 46.25%. Model saved.\n"
     ]
    },
    {
     "name": "stderr",
     "output_type": "stream",
     "text": [
      "                                                                       \r"
     ]
    },
    {
     "name": "stdout",
     "output_type": "stream",
     "text": [
      "Epoch 38/250 | Train MAE (log): 0.40323 | Val Loss: 0.46557 | Val SMAPE: 47.02% | LR: 2.8e-04\n"
     ]
    },
    {
     "name": "stderr",
     "output_type": "stream",
     "text": [
      "                                                                       \r"
     ]
    },
    {
     "name": "stdout",
     "output_type": "stream",
     "text": [
      "Epoch 39/250 | Train MAE (log): 0.40306 | Val Loss: 0.46629 | Val SMAPE: 46.30% | LR: 2.8e-04\n"
     ]
    },
    {
     "name": "stderr",
     "output_type": "stream",
     "text": [
      "                                                                       \r"
     ]
    },
    {
     "name": "stdout",
     "output_type": "stream",
     "text": [
      "Epoch 40/250 | Train MAE (log): 0.40279 | Val Loss: 0.46743 | Val SMAPE: 46.43% | LR: 2.8e-04\n"
     ]
    },
    {
     "name": "stderr",
     "output_type": "stream",
     "text": [
      "                                                                       \r"
     ]
    },
    {
     "name": "stdout",
     "output_type": "stream",
     "text": [
      "Epoch 41/250 | Train MAE (log): 0.40247 | Val Loss: 0.46840 | Val SMAPE: 46.27% | LR: 2.8e-04\n"
     ]
    },
    {
     "name": "stderr",
     "output_type": "stream",
     "text": [
      "                                                                       \r"
     ]
    },
    {
     "name": "stdout",
     "output_type": "stream",
     "text": [
      "Epoch 42/250 | Train MAE (log): 0.40270 | Val Loss: 0.46594 | Val SMAPE: 46.53% | LR: 2.8e-04\n"
     ]
    },
    {
     "name": "stderr",
     "output_type": "stream",
     "text": [
      "                                                                       \r"
     ]
    },
    {
     "name": "stdout",
     "output_type": "stream",
     "text": [
      "Epoch 43/250 | Train MAE (log): 0.40223 | Val Loss: 0.46708 | Val SMAPE: 45.95% | LR: 2.8e-04\n",
      "  -> New best validation SMAPE: 45.95%. Model saved.\n"
     ]
    },
    {
     "name": "stderr",
     "output_type": "stream",
     "text": [
      "                                                                       \r"
     ]
    },
    {
     "name": "stdout",
     "output_type": "stream",
     "text": [
      "Epoch 44/250 | Train MAE (log): 0.40192 | Val Loss: 0.46740 | Val SMAPE: 46.30% | LR: 2.8e-04\n"
     ]
    },
    {
     "name": "stderr",
     "output_type": "stream",
     "text": [
      "                                                                       \r"
     ]
    },
    {
     "name": "stdout",
     "output_type": "stream",
     "text": [
      "Epoch 45/250 | Train MAE (log): 0.40104 | Val Loss: 0.46535 | Val SMAPE: 46.26% | LR: 2.8e-04\n"
     ]
    },
    {
     "name": "stderr",
     "output_type": "stream",
     "text": [
      "                                                                       \r"
     ]
    },
    {
     "name": "stdout",
     "output_type": "stream",
     "text": [
      "Epoch 46/250 | Train MAE (log): 0.40195 | Val Loss: 0.47017 | Val SMAPE: 45.96% | LR: 2.8e-04\n"
     ]
    },
    {
     "name": "stderr",
     "output_type": "stream",
     "text": [
      "                                                                       \r"
     ]
    },
    {
     "name": "stdout",
     "output_type": "stream",
     "text": [
      "Epoch 47/250 | Train MAE (log): 0.40181 | Val Loss: 0.46704 | Val SMAPE: 45.70% | LR: 2.8e-04\n",
      "  -> New best validation SMAPE: 45.70%. Model saved.\n"
     ]
    },
    {
     "name": "stderr",
     "output_type": "stream",
     "text": [
      "                                                                       \r"
     ]
    },
    {
     "name": "stdout",
     "output_type": "stream",
     "text": [
      "Epoch 48/250 | Train MAE (log): 0.40044 | Val Loss: 0.46653 | Val SMAPE: 45.39% | LR: 2.7e-04\n",
      "  -> New best validation SMAPE: 45.39%. Model saved.\n"
     ]
    },
    {
     "name": "stderr",
     "output_type": "stream",
     "text": [
      "                                                                       \r"
     ]
    },
    {
     "name": "stdout",
     "output_type": "stream",
     "text": [
      "Epoch 49/250 | Train MAE (log): 0.39933 | Val Loss: 0.46661 | Val SMAPE: 45.17% | LR: 2.7e-04\n",
      "  -> New best validation SMAPE: 45.17%. Model saved.\n"
     ]
    },
    {
     "name": "stderr",
     "output_type": "stream",
     "text": [
      "                                                                       \r"
     ]
    },
    {
     "name": "stdout",
     "output_type": "stream",
     "text": [
      "Epoch 50/250 | Train MAE (log): 0.39968 | Val Loss: 0.46579 | Val SMAPE: 45.59% | LR: 2.7e-04\n"
     ]
    },
    {
     "name": "stderr",
     "output_type": "stream",
     "text": [
      "                                                                       \r"
     ]
    },
    {
     "name": "stdout",
     "output_type": "stream",
     "text": [
      "Epoch 51/250 | Train MAE (log): 0.39924 | Val Loss: 0.46809 | Val SMAPE: 45.33% | LR: 2.7e-04\n"
     ]
    },
    {
     "name": "stderr",
     "output_type": "stream",
     "text": [
      "                                                                       \r"
     ]
    },
    {
     "name": "stdout",
     "output_type": "stream",
     "text": [
      "Epoch 52/250 | Train MAE (log): 0.40055 | Val Loss: 0.46903 | Val SMAPE: 46.01% | LR: 2.7e-04\n"
     ]
    },
    {
     "name": "stderr",
     "output_type": "stream",
     "text": [
      "                                                                       \r"
     ]
    },
    {
     "name": "stdout",
     "output_type": "stream",
     "text": [
      "Epoch 53/250 | Train MAE (log): 0.40097 | Val Loss: 0.46693 | Val SMAPE: 45.58% | LR: 2.7e-04\n"
     ]
    },
    {
     "name": "stderr",
     "output_type": "stream",
     "text": [
      "                                                                       \r"
     ]
    },
    {
     "name": "stdout",
     "output_type": "stream",
     "text": [
      "Epoch 54/250 | Train MAE (log): 0.39989 | Val Loss: 0.46914 | Val SMAPE: 45.80% | LR: 2.7e-04\n"
     ]
    },
    {
     "name": "stderr",
     "output_type": "stream",
     "text": [
      "                                                                       \r"
     ]
    },
    {
     "name": "stdout",
     "output_type": "stream",
     "text": [
      "Epoch 55/250 | Train MAE (log): 0.39910 | Val Loss: 0.46625 | Val SMAPE: 45.45% | LR: 2.7e-04\n"
     ]
    },
    {
     "name": "stderr",
     "output_type": "stream",
     "text": [
      "                                                                       \r"
     ]
    },
    {
     "name": "stdout",
     "output_type": "stream",
     "text": [
      "Epoch 56/250 | Train MAE (log): 0.39913 | Val Loss: 0.46655 | Val SMAPE: 45.17% | LR: 2.7e-04\n"
     ]
    },
    {
     "name": "stderr",
     "output_type": "stream",
     "text": [
      "                                                                       \r"
     ]
    },
    {
     "name": "stdout",
     "output_type": "stream",
     "text": [
      "Epoch 57/250 | Train MAE (log): 0.39912 | Val Loss: 0.46476 | Val SMAPE: 45.48% | LR: 2.6e-04\n"
     ]
    },
    {
     "name": "stderr",
     "output_type": "stream",
     "text": [
      "                                                                       \r"
     ]
    },
    {
     "name": "stdout",
     "output_type": "stream",
     "text": [
      "Epoch 58/250 | Train MAE (log): 0.39887 | Val Loss: 0.46724 | Val SMAPE: 45.05% | LR: 2.6e-04\n",
      "  -> New best validation SMAPE: 45.05%. Model saved.\n"
     ]
    },
    {
     "name": "stderr",
     "output_type": "stream",
     "text": [
      "                                                                       \r"
     ]
    },
    {
     "name": "stdout",
     "output_type": "stream",
     "text": [
      "Epoch 59/250 | Train MAE (log): 0.39854 | Val Loss: 0.46356 | Val SMAPE: 45.21% | LR: 2.6e-04\n"
     ]
    },
    {
     "name": "stderr",
     "output_type": "stream",
     "text": [
      "                                                                       \r"
     ]
    },
    {
     "name": "stdout",
     "output_type": "stream",
     "text": [
      "Epoch 60/250 | Train MAE (log): 0.39871 | Val Loss: 0.46636 | Val SMAPE: 44.91% | LR: 2.6e-04\n",
      "  -> New best validation SMAPE: 44.91%. Model saved.\n"
     ]
    },
    {
     "name": "stderr",
     "output_type": "stream",
     "text": [
      "                                                                       \r"
     ]
    },
    {
     "name": "stdout",
     "output_type": "stream",
     "text": [
      "Epoch 61/250 | Train MAE (log): 0.39838 | Val Loss: 0.46542 | Val SMAPE: 45.41% | LR: 2.6e-04\n"
     ]
    },
    {
     "name": "stderr",
     "output_type": "stream",
     "text": [
      "                                                                       \r"
     ]
    },
    {
     "name": "stdout",
     "output_type": "stream",
     "text": [
      "Epoch 62/250 | Train MAE (log): 0.39800 | Val Loss: 0.46582 | Val SMAPE: 44.55% | LR: 2.6e-04\n",
      "  -> New best validation SMAPE: 44.55%. Model saved.\n"
     ]
    },
    {
     "name": "stderr",
     "output_type": "stream",
     "text": [
      "                                                                       \r"
     ]
    },
    {
     "name": "stdout",
     "output_type": "stream",
     "text": [
      "Epoch 63/250 | Train MAE (log): 0.39797 | Val Loss: 0.46552 | Val SMAPE: 45.20% | LR: 2.6e-04\n"
     ]
    },
    {
     "name": "stderr",
     "output_type": "stream",
     "text": [
      "                                                                       \r"
     ]
    },
    {
     "name": "stdout",
     "output_type": "stream",
     "text": [
      "Epoch 64/250 | Train MAE (log): 0.39997 | Val Loss: 0.46648 | Val SMAPE: 45.43% | LR: 2.6e-04\n"
     ]
    },
    {
     "name": "stderr",
     "output_type": "stream",
     "text": [
      "                                                                       \r"
     ]
    },
    {
     "name": "stdout",
     "output_type": "stream",
     "text": [
      "Epoch 65/250 | Train MAE (log): 0.39970 | Val Loss: 0.46888 | Val SMAPE: 46.18% | LR: 2.5e-04\n"
     ]
    },
    {
     "name": "stderr",
     "output_type": "stream",
     "text": [
      "                                                                       \r"
     ]
    },
    {
     "name": "stdout",
     "output_type": "stream",
     "text": [
      "Epoch 66/250 | Train MAE (log): 0.39896 | Val Loss: 0.46579 | Val SMAPE: 44.94% | LR: 2.5e-04\n"
     ]
    },
    {
     "name": "stderr",
     "output_type": "stream",
     "text": [
      "                                                                       \r"
     ]
    },
    {
     "name": "stdout",
     "output_type": "stream",
     "text": [
      "Epoch 67/250 | Train MAE (log): 0.39789 | Val Loss: 0.46615 | Val SMAPE: 44.81% | LR: 2.5e-04\n"
     ]
    },
    {
     "name": "stderr",
     "output_type": "stream",
     "text": [
      "                                                                       \r"
     ]
    },
    {
     "name": "stdout",
     "output_type": "stream",
     "text": [
      "Epoch 68/250 | Train MAE (log): 0.39728 | Val Loss: 0.46483 | Val SMAPE: 44.49% | LR: 2.5e-04\n",
      "  -> New best validation SMAPE: 44.49%. Model saved.\n"
     ]
    },
    {
     "name": "stderr",
     "output_type": "stream",
     "text": [
      "                                                                       \r"
     ]
    },
    {
     "name": "stdout",
     "output_type": "stream",
     "text": [
      "Epoch 69/250 | Train MAE (log): 0.39749 | Val Loss: 0.46529 | Val SMAPE: 44.50% | LR: 2.5e-04\n"
     ]
    },
    {
     "name": "stderr",
     "output_type": "stream",
     "text": [
      "                                                                       \r"
     ]
    },
    {
     "name": "stdout",
     "output_type": "stream",
     "text": [
      "Epoch 70/250 | Train MAE (log): 0.39743 | Val Loss: 0.46570 | Val SMAPE: 44.53% | LR: 2.5e-04\n"
     ]
    },
    {
     "name": "stderr",
     "output_type": "stream",
     "text": [
      "                                                                       \r"
     ]
    },
    {
     "name": "stdout",
     "output_type": "stream",
     "text": [
      "Epoch 71/250 | Train MAE (log): 0.39722 | Val Loss: 0.46571 | Val SMAPE: 44.33% | LR: 2.5e-04\n",
      "  -> New best validation SMAPE: 44.33%. Model saved.\n"
     ]
    },
    {
     "name": "stderr",
     "output_type": "stream",
     "text": [
      "                                                                       \r"
     ]
    },
    {
     "name": "stdout",
     "output_type": "stream",
     "text": [
      "Epoch 72/250 | Train MAE (log): 0.39788 | Val Loss: 0.46475 | Val SMAPE: 44.56% | LR: 2.4e-04\n"
     ]
    },
    {
     "name": "stderr",
     "output_type": "stream",
     "text": [
      "                                                                       \r"
     ]
    },
    {
     "name": "stdout",
     "output_type": "stream",
     "text": [
      "Epoch 73/250 | Train MAE (log): 0.39816 | Val Loss: 0.46690 | Val SMAPE: 44.80% | LR: 2.4e-04\n"
     ]
    },
    {
     "name": "stderr",
     "output_type": "stream",
     "text": [
      "                                                                       \r"
     ]
    },
    {
     "name": "stdout",
     "output_type": "stream",
     "text": [
      "Epoch 74/250 | Train MAE (log): 0.39779 | Val Loss: 0.46550 | Val SMAPE: 44.44% | LR: 2.4e-04\n"
     ]
    },
    {
     "name": "stderr",
     "output_type": "stream",
     "text": [
      "                                                                       \r"
     ]
    },
    {
     "name": "stdout",
     "output_type": "stream",
     "text": [
      "Epoch 75/250 | Train MAE (log): 0.39769 | Val Loss: 0.46354 | Val SMAPE: 44.92% | LR: 2.4e-04\n"
     ]
    },
    {
     "name": "stderr",
     "output_type": "stream",
     "text": [
      "                                                                       \r"
     ]
    },
    {
     "name": "stdout",
     "output_type": "stream",
     "text": [
      "Epoch 76/250 | Train MAE (log): 0.39728 | Val Loss: 0.46628 | Val SMAPE: 44.43% | LR: 2.4e-04\n"
     ]
    },
    {
     "name": "stderr",
     "output_type": "stream",
     "text": [
      "                                                                       \r"
     ]
    },
    {
     "name": "stdout",
     "output_type": "stream",
     "text": [
      "Epoch 77/250 | Train MAE (log): 0.39730 | Val Loss: 0.46488 | Val SMAPE: 44.33% | LR: 2.4e-04\n",
      "  -> New best validation SMAPE: 44.33%. Model saved.\n"
     ]
    },
    {
     "name": "stderr",
     "output_type": "stream",
     "text": [
      "                                                                       \r"
     ]
    },
    {
     "name": "stdout",
     "output_type": "stream",
     "text": [
      "Epoch 78/250 | Train MAE (log): 0.39706 | Val Loss: 0.46464 | Val SMAPE: 44.12% | LR: 2.4e-04\n",
      "  -> New best validation SMAPE: 44.12%. Model saved.\n"
     ]
    },
    {
     "name": "stderr",
     "output_type": "stream",
     "text": [
      "                                                                       \r"
     ]
    },
    {
     "name": "stdout",
     "output_type": "stream",
     "text": [
      "Epoch 79/250 | Train MAE (log): 0.39684 | Val Loss: 0.46437 | Val SMAPE: 43.90% | LR: 2.3e-04\n",
      "  -> New best validation SMAPE: 43.90%. Model saved.\n"
     ]
    },
    {
     "name": "stderr",
     "output_type": "stream",
     "text": [
      "                                                                       \r"
     ]
    },
    {
     "name": "stdout",
     "output_type": "stream",
     "text": [
      "Epoch 80/250 | Train MAE (log): 0.39658 | Val Loss: 0.46483 | Val SMAPE: 44.15% | LR: 2.3e-04\n"
     ]
    },
    {
     "name": "stderr",
     "output_type": "stream",
     "text": [
      "                                                                       \r"
     ]
    },
    {
     "name": "stdout",
     "output_type": "stream",
     "text": [
      "Epoch 81/250 | Train MAE (log): 0.39675 | Val Loss: 0.46590 | Val SMAPE: 44.13% | LR: 2.3e-04\n"
     ]
    },
    {
     "name": "stderr",
     "output_type": "stream",
     "text": [
      "                                                                       \r"
     ]
    },
    {
     "name": "stdout",
     "output_type": "stream",
     "text": [
      "Epoch 82/250 | Train MAE (log): 0.39721 | Val Loss: 0.46666 | Val SMAPE: 44.05% | LR: 2.3e-04\n"
     ]
    },
    {
     "name": "stderr",
     "output_type": "stream",
     "text": [
      "                                                                       \r"
     ]
    },
    {
     "name": "stdout",
     "output_type": "stream",
     "text": [
      "Epoch 83/250 | Train MAE (log): 0.39718 | Val Loss: 0.46582 | Val SMAPE: 44.02% | LR: 2.3e-04\n"
     ]
    },
    {
     "name": "stderr",
     "output_type": "stream",
     "text": [
      "                                                                       \r"
     ]
    },
    {
     "name": "stdout",
     "output_type": "stream",
     "text": [
      "Epoch 84/250 | Train MAE (log): 0.39663 | Val Loss: 0.46467 | Val SMAPE: 43.90% | LR: 2.3e-04\n",
      "  -> New best validation SMAPE: 43.90%. Model saved.\n"
     ]
    },
    {
     "name": "stderr",
     "output_type": "stream",
     "text": [
      "                                                                       \r"
     ]
    },
    {
     "name": "stdout",
     "output_type": "stream",
     "text": [
      "Epoch 85/250 | Train MAE (log): 0.39686 | Val Loss: 0.46556 | Val SMAPE: 44.05% | LR: 2.2e-04\n"
     ]
    },
    {
     "name": "stderr",
     "output_type": "stream",
     "text": [
      "                                                                       \r"
     ]
    },
    {
     "name": "stdout",
     "output_type": "stream",
     "text": [
      "Epoch 86/250 | Train MAE (log): 0.39662 | Val Loss: 0.46596 | Val SMAPE: 44.23% | LR: 2.2e-04\n"
     ]
    },
    {
     "name": "stderr",
     "output_type": "stream",
     "text": [
      "                                                                       \r"
     ]
    },
    {
     "name": "stdout",
     "output_type": "stream",
     "text": [
      "Epoch 87/250 | Train MAE (log): 0.39672 | Val Loss: 0.46554 | Val SMAPE: 43.95% | LR: 2.2e-04\n"
     ]
    },
    {
     "name": "stderr",
     "output_type": "stream",
     "text": [
      "                                                                       \r"
     ]
    },
    {
     "name": "stdout",
     "output_type": "stream",
     "text": [
      "Epoch 88/250 | Train MAE (log): 0.39622 | Val Loss: 0.46543 | Val SMAPE: 43.93% | LR: 2.2e-04\n"
     ]
    },
    {
     "name": "stderr",
     "output_type": "stream",
     "text": [
      "                                                                       \r"
     ]
    },
    {
     "name": "stdout",
     "output_type": "stream",
     "text": [
      "Epoch 89/250 | Train MAE (log): 0.39613 | Val Loss: 0.46636 | Val SMAPE: 44.34% | LR: 2.2e-04\n"
     ]
    },
    {
     "name": "stderr",
     "output_type": "stream",
     "text": [
      "                                                                       \r"
     ]
    },
    {
     "name": "stdout",
     "output_type": "stream",
     "text": [
      "Epoch 90/250 | Train MAE (log): 0.39607 | Val Loss: 0.46709 | Val SMAPE: 43.76% | LR: 2.2e-04\n",
      "  -> New best validation SMAPE: 43.76%. Model saved.\n"
     ]
    },
    {
     "name": "stderr",
     "output_type": "stream",
     "text": [
      "                                                                       \r"
     ]
    },
    {
     "name": "stdout",
     "output_type": "stream",
     "text": [
      "Epoch 91/250 | Train MAE (log): 0.39642 | Val Loss: 0.46444 | Val SMAPE: 43.58% | LR: 2.1e-04\n",
      "  -> New best validation SMAPE: 43.58%. Model saved.\n"
     ]
    },
    {
     "name": "stderr",
     "output_type": "stream",
     "text": [
      "                                                                       \r"
     ]
    },
    {
     "name": "stdout",
     "output_type": "stream",
     "text": [
      "Epoch 92/250 | Train MAE (log): 0.39652 | Val Loss: 0.46467 | Val SMAPE: 44.21% | LR: 2.1e-04\n"
     ]
    },
    {
     "name": "stderr",
     "output_type": "stream",
     "text": [
      "                                                                       \r"
     ]
    },
    {
     "name": "stdout",
     "output_type": "stream",
     "text": [
      "Epoch 93/250 | Train MAE (log): 0.39630 | Val Loss: 0.46449 | Val SMAPE: 43.82% | LR: 2.1e-04\n"
     ]
    },
    {
     "name": "stderr",
     "output_type": "stream",
     "text": [
      "                                                                       \r"
     ]
    },
    {
     "name": "stdout",
     "output_type": "stream",
     "text": [
      "Epoch 94/250 | Train MAE (log): 0.39626 | Val Loss: 0.46838 | Val SMAPE: 44.50% | LR: 2.1e-04\n"
     ]
    },
    {
     "name": "stderr",
     "output_type": "stream",
     "text": [
      "                                                                       \r"
     ]
    },
    {
     "name": "stdout",
     "output_type": "stream",
     "text": [
      "Epoch 95/250 | Train MAE (log): 0.39706 | Val Loss: 0.46566 | Val SMAPE: 44.57% | LR: 2.1e-04\n"
     ]
    },
    {
     "name": "stderr",
     "output_type": "stream",
     "text": [
      "                                                                       \r"
     ]
    },
    {
     "name": "stdout",
     "output_type": "stream",
     "text": [
      "Epoch 96/250 | Train MAE (log): 0.39694 | Val Loss: 0.46533 | Val SMAPE: 44.19% | LR: 2.1e-04\n"
     ]
    },
    {
     "name": "stderr",
     "output_type": "stream",
     "text": [
      "                                                                       \r"
     ]
    },
    {
     "name": "stdout",
     "output_type": "stream",
     "text": [
      "Epoch 97/250 | Train MAE (log): 0.39666 | Val Loss: 0.46335 | Val SMAPE: 43.98% | LR: 2.0e-04\n"
     ]
    },
    {
     "name": "stderr",
     "output_type": "stream",
     "text": [
      "                                                                       \r"
     ]
    },
    {
     "name": "stdout",
     "output_type": "stream",
     "text": [
      "Epoch 98/250 | Train MAE (log): 0.39605 | Val Loss: 0.46460 | Val SMAPE: 43.71% | LR: 2.0e-04\n"
     ]
    },
    {
     "name": "stderr",
     "output_type": "stream",
     "text": [
      "                                                                       \r"
     ]
    },
    {
     "name": "stdout",
     "output_type": "stream",
     "text": [
      "Epoch 99/250 | Train MAE (log): 0.39587 | Val Loss: 0.46641 | Val SMAPE: 43.83% | LR: 2.0e-04\n"
     ]
    },
    {
     "name": "stderr",
     "output_type": "stream",
     "text": [
      "                                                                        \r"
     ]
    },
    {
     "name": "stdout",
     "output_type": "stream",
     "text": [
      "Epoch 100/250 | Train MAE (log): 0.39566 | Val Loss: 0.46413 | Val SMAPE: 44.29% | LR: 2.0e-04\n"
     ]
    },
    {
     "name": "stderr",
     "output_type": "stream",
     "text": [
      "                                                                        \r"
     ]
    },
    {
     "name": "stdout",
     "output_type": "stream",
     "text": [
      "Epoch 101/250 | Train MAE (log): 0.39609 | Val Loss: 0.46618 | Val SMAPE: 43.53% | LR: 2.0e-04\n",
      "  -> New best validation SMAPE: 43.53%. Model saved.\n"
     ]
    },
    {
     "name": "stderr",
     "output_type": "stream",
     "text": [
      "                                                                        \r"
     ]
    },
    {
     "name": "stdout",
     "output_type": "stream",
     "text": [
      "Epoch 102/250 | Train MAE (log): 0.39565 | Val Loss: 0.46701 | Val SMAPE: 43.54% | LR: 1.9e-04\n"
     ]
    },
    {
     "name": "stderr",
     "output_type": "stream",
     "text": [
      "                                                                        \r"
     ]
    },
    {
     "name": "stdout",
     "output_type": "stream",
     "text": [
      "Epoch 103/250 | Train MAE (log): 0.39582 | Val Loss: 0.46568 | Val SMAPE: 43.83% | LR: 1.9e-04\n"
     ]
    },
    {
     "name": "stderr",
     "output_type": "stream",
     "text": [
      "                                                                        \r"
     ]
    },
    {
     "name": "stdout",
     "output_type": "stream",
     "text": [
      "Epoch 104/250 | Train MAE (log): 0.39595 | Val Loss: 0.46313 | Val SMAPE: 44.09% | LR: 1.9e-04\n"
     ]
    },
    {
     "name": "stderr",
     "output_type": "stream",
     "text": [
      "                                                                        \r"
     ]
    },
    {
     "name": "stdout",
     "output_type": "stream",
     "text": [
      "Epoch 105/250 | Train MAE (log): 0.39577 | Val Loss: 0.46430 | Val SMAPE: 43.76% | LR: 1.9e-04\n"
     ]
    },
    {
     "name": "stderr",
     "output_type": "stream",
     "text": [
      "                                                                        \r"
     ]
    },
    {
     "name": "stdout",
     "output_type": "stream",
     "text": [
      "Epoch 106/250 | Train MAE (log): 0.39544 | Val Loss: 0.46395 | Val SMAPE: 43.46% | LR: 1.9e-04\n",
      "  -> New best validation SMAPE: 43.46%. Model saved.\n"
     ]
    },
    {
     "name": "stderr",
     "output_type": "stream",
     "text": [
      "                                                                        \r"
     ]
    },
    {
     "name": "stdout",
     "output_type": "stream",
     "text": [
      "Epoch 107/250 | Train MAE (log): 0.39569 | Val Loss: 0.46475 | Val SMAPE: 43.43% | LR: 1.9e-04\n",
      "  -> New best validation SMAPE: 43.43%. Model saved.\n"
     ]
    },
    {
     "name": "stderr",
     "output_type": "stream",
     "text": [
      "                                                                        \r"
     ]
    },
    {
     "name": "stdout",
     "output_type": "stream",
     "text": [
      "Epoch 108/250 | Train MAE (log): 0.39550 | Val Loss: 0.46453 | Val SMAPE: 43.55% | LR: 1.8e-04\n"
     ]
    },
    {
     "name": "stderr",
     "output_type": "stream",
     "text": [
      "                                                                        \r"
     ]
    },
    {
     "name": "stdout",
     "output_type": "stream",
     "text": [
      "Epoch 109/250 | Train MAE (log): 0.39583 | Val Loss: 0.46819 | Val SMAPE: 44.14% | LR: 1.8e-04\n"
     ]
    },
    {
     "name": "stderr",
     "output_type": "stream",
     "text": [
      "                                                                        \r"
     ]
    },
    {
     "name": "stdout",
     "output_type": "stream",
     "text": [
      "Epoch 110/250 | Train MAE (log): 0.39611 | Val Loss: 0.46317 | Val SMAPE: 43.95% | LR: 1.8e-04\n"
     ]
    },
    {
     "name": "stderr",
     "output_type": "stream",
     "text": [
      "                                                                        \r"
     ]
    },
    {
     "name": "stdout",
     "output_type": "stream",
     "text": [
      "Epoch 111/250 | Train MAE (log): 0.39562 | Val Loss: 0.46568 | Val SMAPE: 43.58% | LR: 1.8e-04\n"
     ]
    },
    {
     "name": "stderr",
     "output_type": "stream",
     "text": [
      "                                                                        \r"
     ]
    },
    {
     "name": "stdout",
     "output_type": "stream",
     "text": [
      "Epoch 112/250 | Train MAE (log): 0.39559 | Val Loss: 0.46674 | Val SMAPE: 43.59% | LR: 1.8e-04\n"
     ]
    },
    {
     "name": "stderr",
     "output_type": "stream",
     "text": [
      "                                                                        \r"
     ]
    },
    {
     "name": "stdout",
     "output_type": "stream",
     "text": [
      "Epoch 113/250 | Train MAE (log): 0.39570 | Val Loss: 0.46600 | Val SMAPE: 43.69% | LR: 1.7e-04\n"
     ]
    },
    {
     "name": "stderr",
     "output_type": "stream",
     "text": [
      "                                                                        \r"
     ]
    },
    {
     "name": "stdout",
     "output_type": "stream",
     "text": [
      "Epoch 114/250 | Train MAE (log): 0.39549 | Val Loss: 0.46607 | Val SMAPE: 43.67% | LR: 1.7e-04\n"
     ]
    },
    {
     "name": "stderr",
     "output_type": "stream",
     "text": [
      "                                                                        \r"
     ]
    },
    {
     "name": "stdout",
     "output_type": "stream",
     "text": [
      "Epoch 115/250 | Train MAE (log): 0.39521 | Val Loss: 0.46453 | Val SMAPE: 43.64% | LR: 1.7e-04\n"
     ]
    },
    {
     "name": "stderr",
     "output_type": "stream",
     "text": [
      "                                                                        \r"
     ]
    },
    {
     "name": "stdout",
     "output_type": "stream",
     "text": [
      "Epoch 116/250 | Train MAE (log): 0.39520 | Val Loss: 0.46529 | Val SMAPE: 43.36% | LR: 1.7e-04\n",
      "  -> New best validation SMAPE: 43.36%. Model saved.\n"
     ]
    },
    {
     "name": "stderr",
     "output_type": "stream",
     "text": [
      "                                                                        \r"
     ]
    },
    {
     "name": "stdout",
     "output_type": "stream",
     "text": [
      "Epoch 117/250 | Train MAE (log): 0.39526 | Val Loss: 0.46482 | Val SMAPE: 43.59% | LR: 1.7e-04\n"
     ]
    },
    {
     "name": "stderr",
     "output_type": "stream",
     "text": [
      "                                                                        \r"
     ]
    },
    {
     "name": "stdout",
     "output_type": "stream",
     "text": [
      "Epoch 118/250 | Train MAE (log): 0.39515 | Val Loss: 0.46518 | Val SMAPE: 43.20% | LR: 1.7e-04\n",
      "  -> New best validation SMAPE: 43.20%. Model saved.\n"
     ]
    },
    {
     "name": "stderr",
     "output_type": "stream",
     "text": [
      "                                                                        \r"
     ]
    },
    {
     "name": "stdout",
     "output_type": "stream",
     "text": [
      "Epoch 119/250 | Train MAE (log): 0.39509 | Val Loss: 0.46491 | Val SMAPE: 43.55% | LR: 1.6e-04\n"
     ]
    },
    {
     "name": "stderr",
     "output_type": "stream",
     "text": [
      "                                                                        \r"
     ]
    },
    {
     "name": "stdout",
     "output_type": "stream",
     "text": [
      "Epoch 120/250 | Train MAE (log): 0.39547 | Val Loss: 0.46491 | Val SMAPE: 43.09% | LR: 1.6e-04\n",
      "  -> New best validation SMAPE: 43.09%. Model saved.\n"
     ]
    },
    {
     "name": "stderr",
     "output_type": "stream",
     "text": [
      "                                                                        \r"
     ]
    },
    {
     "name": "stdout",
     "output_type": "stream",
     "text": [
      "Epoch 121/250 | Train MAE (log): 0.39521 | Val Loss: 0.46394 | Val SMAPE: 43.64% | LR: 1.6e-04\n"
     ]
    },
    {
     "name": "stderr",
     "output_type": "stream",
     "text": [
      "                                                                        \r"
     ]
    },
    {
     "name": "stdout",
     "output_type": "stream",
     "text": [
      "Epoch 122/250 | Train MAE (log): 0.39524 | Val Loss: 0.46425 | Val SMAPE: 43.49% | LR: 1.6e-04\n"
     ]
    },
    {
     "name": "stderr",
     "output_type": "stream",
     "text": [
      "                                                                        \r"
     ]
    },
    {
     "name": "stdout",
     "output_type": "stream",
     "text": [
      "Epoch 123/250 | Train MAE (log): 0.39505 | Val Loss: 0.46629 | Val SMAPE: 43.20% | LR: 1.6e-04\n"
     ]
    },
    {
     "name": "stderr",
     "output_type": "stream",
     "text": [
      "                                                                        \r"
     ]
    },
    {
     "name": "stdout",
     "output_type": "stream",
     "text": [
      "Epoch 124/250 | Train MAE (log): 0.39506 | Val Loss: 0.46420 | Val SMAPE: 43.50% | LR: 1.5e-04\n"
     ]
    },
    {
     "name": "stderr",
     "output_type": "stream",
     "text": [
      "                                                                        \r"
     ]
    },
    {
     "name": "stdout",
     "output_type": "stream",
     "text": [
      "Epoch 125/250 | Train MAE (log): 0.39497 | Val Loss: 0.46403 | Val SMAPE: 43.45% | LR: 1.5e-04\n"
     ]
    },
    {
     "name": "stderr",
     "output_type": "stream",
     "text": [
      "                                                                        \r"
     ]
    },
    {
     "name": "stdout",
     "output_type": "stream",
     "text": [
      "Epoch 126/250 | Train MAE (log): 0.39531 | Val Loss: 0.46653 | Val SMAPE: 43.33% | LR: 1.5e-04\n"
     ]
    },
    {
     "name": "stderr",
     "output_type": "stream",
     "text": [
      "                                                                        \r"
     ]
    },
    {
     "name": "stdout",
     "output_type": "stream",
     "text": [
      "Epoch 127/250 | Train MAE (log): 0.39513 | Val Loss: 0.46435 | Val SMAPE: 43.51% | LR: 1.5e-04\n"
     ]
    },
    {
     "name": "stderr",
     "output_type": "stream",
     "text": [
      "                                                                        \r"
     ]
    },
    {
     "name": "stdout",
     "output_type": "stream",
     "text": [
      "Epoch 128/250 | Train MAE (log): 0.39493 | Val Loss: 0.46788 | Val SMAPE: 43.22% | LR: 1.5e-04\n"
     ]
    },
    {
     "name": "stderr",
     "output_type": "stream",
     "text": [
      "                                                                        \r"
     ]
    },
    {
     "name": "stdout",
     "output_type": "stream",
     "text": [
      "Epoch 129/250 | Train MAE (log): 0.39491 | Val Loss: 0.46652 | Val SMAPE: 43.27% | LR: 1.4e-04\n"
     ]
    },
    {
     "name": "stderr",
     "output_type": "stream",
     "text": [
      "                                                                        \r"
     ]
    },
    {
     "name": "stdout",
     "output_type": "stream",
     "text": [
      "Epoch 130/250 | Train MAE (log): 0.39484 | Val Loss: 0.46500 | Val SMAPE: 43.29% | LR: 1.4e-04\n"
     ]
    },
    {
     "name": "stderr",
     "output_type": "stream",
     "text": [
      "                                                                        \r"
     ]
    },
    {
     "name": "stdout",
     "output_type": "stream",
     "text": [
      "Epoch 131/250 | Train MAE (log): 0.39481 | Val Loss: 0.46558 | Val SMAPE: 43.21% | LR: 1.4e-04\n"
     ]
    },
    {
     "name": "stderr",
     "output_type": "stream",
     "text": [
      "                                                                        \r"
     ]
    },
    {
     "name": "stdout",
     "output_type": "stream",
     "text": [
      "Epoch 132/250 | Train MAE (log): 0.39481 | Val Loss: 0.46659 | Val SMAPE: 43.01% | LR: 1.4e-04\n",
      "  -> New best validation SMAPE: 43.01%. Model saved.\n"
     ]
    },
    {
     "name": "stderr",
     "output_type": "stream",
     "text": [
      "                                                                        \r"
     ]
    },
    {
     "name": "stdout",
     "output_type": "stream",
     "text": [
      "Epoch 133/250 | Train MAE (log): 0.39473 | Val Loss: 0.46490 | Val SMAPE: 43.15% | LR: 1.4e-04\n"
     ]
    },
    {
     "name": "stderr",
     "output_type": "stream",
     "text": [
      "                                                                        \r"
     ]
    },
    {
     "name": "stdout",
     "output_type": "stream",
     "text": [
      "Epoch 134/250 | Train MAE (log): 0.39495 | Val Loss: 0.46625 | Val SMAPE: 43.26% | LR: 1.3e-04\n"
     ]
    },
    {
     "name": "stderr",
     "output_type": "stream",
     "text": [
      "                                                                        \r"
     ]
    },
    {
     "name": "stdout",
     "output_type": "stream",
     "text": [
      "Epoch 135/250 | Train MAE (log): 0.39480 | Val Loss: 0.46539 | Val SMAPE: 43.10% | LR: 1.3e-04\n"
     ]
    },
    {
     "name": "stderr",
     "output_type": "stream",
     "text": [
      "                                                                        \r"
     ]
    },
    {
     "name": "stdout",
     "output_type": "stream",
     "text": [
      "Epoch 136/250 | Train MAE (log): 0.39472 | Val Loss: 0.46612 | Val SMAPE: 42.86% | LR: 1.3e-04\n",
      "  -> New best validation SMAPE: 42.86%. Model saved.\n"
     ]
    },
    {
     "name": "stderr",
     "output_type": "stream",
     "text": [
      "                                                                        \r"
     ]
    },
    {
     "name": "stdout",
     "output_type": "stream",
     "text": [
      "Epoch 137/250 | Train MAE (log): 0.39475 | Val Loss: 0.46583 | Val SMAPE: 43.54% | LR: 1.3e-04\n"
     ]
    },
    {
     "name": "stderr",
     "output_type": "stream",
     "text": [
      "                                                                        \r"
     ]
    },
    {
     "name": "stdout",
     "output_type": "stream",
     "text": [
      "Epoch 138/250 | Train MAE (log): 0.39492 | Val Loss: 0.46372 | Val SMAPE: 43.70% | LR: 1.3e-04\n"
     ]
    },
    {
     "name": "stderr",
     "output_type": "stream",
     "text": [
      "                                                                        \r"
     ]
    },
    {
     "name": "stdout",
     "output_type": "stream",
     "text": [
      "Epoch 139/250 | Train MAE (log): 0.39475 | Val Loss: 0.46707 | Val SMAPE: 43.08% | LR: 1.3e-04\n"
     ]
    },
    {
     "name": "stderr",
     "output_type": "stream",
     "text": [
      "                                                                        \r"
     ]
    },
    {
     "name": "stdout",
     "output_type": "stream",
     "text": [
      "Epoch 140/250 | Train MAE (log): 0.39471 | Val Loss: 0.46594 | Val SMAPE: 43.37% | LR: 1.2e-04\n"
     ]
    },
    {
     "name": "stderr",
     "output_type": "stream",
     "text": [
      "                                                                        \r"
     ]
    },
    {
     "name": "stdout",
     "output_type": "stream",
     "text": [
      "Epoch 141/250 | Train MAE (log): 0.39466 | Val Loss: 0.46751 | Val SMAPE: 43.01% | LR: 1.2e-04\n"
     ]
    },
    {
     "name": "stderr",
     "output_type": "stream",
     "text": [
      "                                                                        \r"
     ]
    },
    {
     "name": "stdout",
     "output_type": "stream",
     "text": [
      "Epoch 142/250 | Train MAE (log): 0.39466 | Val Loss: 0.46496 | Val SMAPE: 42.99% | LR: 1.2e-04\n"
     ]
    },
    {
     "name": "stderr",
     "output_type": "stream",
     "text": [
      "                                                                        \r"
     ]
    },
    {
     "name": "stdout",
     "output_type": "stream",
     "text": [
      "Epoch 143/250 | Train MAE (log): 0.39455 | Val Loss: 0.46632 | Val SMAPE: 43.06% | LR: 1.2e-04\n"
     ]
    },
    {
     "name": "stderr",
     "output_type": "stream",
     "text": [
      "                                                                        \r"
     ]
    },
    {
     "name": "stdout",
     "output_type": "stream",
     "text": [
      "Epoch 144/250 | Train MAE (log): 0.39500 | Val Loss: 0.46551 | Val SMAPE: 43.72% | LR: 1.2e-04\n"
     ]
    },
    {
     "name": "stderr",
     "output_type": "stream",
     "text": [
      "                                                                        \r"
     ]
    },
    {
     "name": "stdout",
     "output_type": "stream",
     "text": [
      "Epoch 145/250 | Train MAE (log): 0.39464 | Val Loss: 0.46505 | Val SMAPE: 43.18% | LR: 1.1e-04\n"
     ]
    },
    {
     "name": "stderr",
     "output_type": "stream",
     "text": [
      "                                                                        \r"
     ]
    },
    {
     "name": "stdout",
     "output_type": "stream",
     "text": [
      "Epoch 146/250 | Train MAE (log): 0.39456 | Val Loss: 0.46579 | Val SMAPE: 43.04% | LR: 1.1e-04\n"
     ]
    },
    {
     "name": "stderr",
     "output_type": "stream",
     "text": [
      "                                                                        \r"
     ]
    },
    {
     "name": "stdout",
     "output_type": "stream",
     "text": [
      "Epoch 147/250 | Train MAE (log): 0.39463 | Val Loss: 0.46709 | Val SMAPE: 43.01% | LR: 1.1e-04\n"
     ]
    },
    {
     "name": "stderr",
     "output_type": "stream",
     "text": [
      "                                                                        \r"
     ]
    },
    {
     "name": "stdout",
     "output_type": "stream",
     "text": [
      "Epoch 148/250 | Train MAE (log): 0.39466 | Val Loss: 0.46632 | Val SMAPE: 43.42% | LR: 1.1e-04\n"
     ]
    },
    {
     "name": "stderr",
     "output_type": "stream",
     "text": [
      "                                                                        \r"
     ]
    },
    {
     "name": "stdout",
     "output_type": "stream",
     "text": [
      "Epoch 149/250 | Train MAE (log): 0.39453 | Val Loss: 0.46564 | Val SMAPE: 43.08% | LR: 1.1e-04\n"
     ]
    },
    {
     "name": "stderr",
     "output_type": "stream",
     "text": [
      "                                                                        \r"
     ]
    },
    {
     "name": "stdout",
     "output_type": "stream",
     "text": [
      "Epoch 150/250 | Train MAE (log): 0.39465 | Val Loss: 0.46626 | Val SMAPE: 42.95% | LR: 1.1e-04\n"
     ]
    },
    {
     "name": "stderr",
     "output_type": "stream",
     "text": [
      "                                                                        \r"
     ]
    },
    {
     "name": "stdout",
     "output_type": "stream",
     "text": [
      "Epoch 151/250 | Train MAE (log): 0.39444 | Val Loss: 0.46625 | Val SMAPE: 42.89% | LR: 1.0e-04\n"
     ]
    },
    {
     "name": "stderr",
     "output_type": "stream",
     "text": [
      "                                                                        \r"
     ]
    },
    {
     "name": "stdout",
     "output_type": "stream",
     "text": [
      "Epoch 152/250 | Train MAE (log): 0.39440 | Val Loss: 0.46673 | Val SMAPE: 43.22% | LR: 1.0e-04\n"
     ]
    },
    {
     "name": "stderr",
     "output_type": "stream",
     "text": [
      "                                                                        \r"
     ]
    },
    {
     "name": "stdout",
     "output_type": "stream",
     "text": [
      "Epoch 153/250 | Train MAE (log): 0.39442 | Val Loss: 0.46513 | Val SMAPE: 43.13% | LR: 1.0e-04\n"
     ]
    },
    {
     "name": "stderr",
     "output_type": "stream",
     "text": [
      "                                                                        \r"
     ]
    },
    {
     "name": "stdout",
     "output_type": "stream",
     "text": [
      "Epoch 154/250 | Train MAE (log): 0.39445 | Val Loss: 0.46521 | Val SMAPE: 43.05% | LR: 9.8e-05\n"
     ]
    },
    {
     "name": "stderr",
     "output_type": "stream",
     "text": [
      "                                                                        \r"
     ]
    },
    {
     "name": "stdout",
     "output_type": "stream",
     "text": [
      "Epoch 155/250 | Train MAE (log): 0.39439 | Val Loss: 0.46641 | Val SMAPE: 42.97% | LR: 9.7e-05\n"
     ]
    },
    {
     "name": "stderr",
     "output_type": "stream",
     "text": [
      "                                                                        \r"
     ]
    },
    {
     "name": "stdout",
     "output_type": "stream",
     "text": [
      "Epoch 156/250 | Train MAE (log): 0.39459 | Val Loss: 0.46453 | Val SMAPE: 43.62% | LR: 9.5e-05\n"
     ]
    },
    {
     "name": "stderr",
     "output_type": "stream",
     "text": [
      "                                                                        \r"
     ]
    },
    {
     "name": "stdout",
     "output_type": "stream",
     "text": [
      "Epoch 157/250 | Train MAE (log): 0.39442 | Val Loss: 0.46458 | Val SMAPE: 43.31% | LR: 9.3e-05\n"
     ]
    },
    {
     "name": "stderr",
     "output_type": "stream",
     "text": [
      "                                                                        \r"
     ]
    },
    {
     "name": "stdout",
     "output_type": "stream",
     "text": [
      "Epoch 158/250 | Train MAE (log): 0.39443 | Val Loss: 0.46612 | Val SMAPE: 42.98% | LR: 9.1e-05\n"
     ]
    },
    {
     "name": "stderr",
     "output_type": "stream",
     "text": [
      "                                                                        \r"
     ]
    },
    {
     "name": "stdout",
     "output_type": "stream",
     "text": [
      "Epoch 159/250 | Train MAE (log): 0.39439 | Val Loss: 0.46529 | Val SMAPE: 43.00% | LR: 9.0e-05\n"
     ]
    },
    {
     "name": "stderr",
     "output_type": "stream",
     "text": [
      "                                                                        \r"
     ]
    },
    {
     "name": "stdout",
     "output_type": "stream",
     "text": [
      "Epoch 160/250 | Train MAE (log): 0.39430 | Val Loss: 0.46415 | Val SMAPE: 43.08% | LR: 8.8e-05\n"
     ]
    },
    {
     "name": "stderr",
     "output_type": "stream",
     "text": [
      "                                                                        \r"
     ]
    },
    {
     "name": "stdout",
     "output_type": "stream",
     "text": [
      "Epoch 161/250 | Train MAE (log): 0.39431 | Val Loss: 0.46500 | Val SMAPE: 42.84% | LR: 8.6e-05\n",
      "  -> New best validation SMAPE: 42.84%. Model saved.\n"
     ]
    },
    {
     "name": "stderr",
     "output_type": "stream",
     "text": [
      "                                                                        \r"
     ]
    },
    {
     "name": "stdout",
     "output_type": "stream",
     "text": [
      "Epoch 162/250 | Train MAE (log): 0.39428 | Val Loss: 0.46506 | Val SMAPE: 43.10% | LR: 8.4e-05\n"
     ]
    },
    {
     "name": "stderr",
     "output_type": "stream",
     "text": [
      "                                                                        \r"
     ]
    },
    {
     "name": "stdout",
     "output_type": "stream",
     "text": [
      "Epoch 163/250 | Train MAE (log): 0.39438 | Val Loss: 0.46495 | Val SMAPE: 42.99% | LR: 8.3e-05\n"
     ]
    },
    {
     "name": "stderr",
     "output_type": "stream",
     "text": [
      "                                                                        \r"
     ]
    },
    {
     "name": "stdout",
     "output_type": "stream",
     "text": [
      "Epoch 164/250 | Train MAE (log): 0.39433 | Val Loss: 0.46372 | Val SMAPE: 43.11% | LR: 8.1e-05\n"
     ]
    },
    {
     "name": "stderr",
     "output_type": "stream",
     "text": [
      "                                                                        \r"
     ]
    },
    {
     "name": "stdout",
     "output_type": "stream",
     "text": [
      "Epoch 165/250 | Train MAE (log): 0.39415 | Val Loss: 0.46484 | Val SMAPE: 42.80% | LR: 7.9e-05\n",
      "  -> New best validation SMAPE: 42.80%. Model saved.\n"
     ]
    },
    {
     "name": "stderr",
     "output_type": "stream",
     "text": [
      "                                                                        \r"
     ]
    },
    {
     "name": "stdout",
     "output_type": "stream",
     "text": [
      "Epoch 166/250 | Train MAE (log): 0.39425 | Val Loss: 0.46410 | Val SMAPE: 43.35% | LR: 7.8e-05\n"
     ]
    },
    {
     "name": "stderr",
     "output_type": "stream",
     "text": [
      "                                                                        \r"
     ]
    },
    {
     "name": "stdout",
     "output_type": "stream",
     "text": [
      "Epoch 167/250 | Train MAE (log): 0.39438 | Val Loss: 0.46512 | Val SMAPE: 42.74% | LR: 7.6e-05\n",
      "  -> New best validation SMAPE: 42.74%. Model saved.\n"
     ]
    },
    {
     "name": "stderr",
     "output_type": "stream",
     "text": [
      "                                                                        \r"
     ]
    },
    {
     "name": "stdout",
     "output_type": "stream",
     "text": [
      "Epoch 168/250 | Train MAE (log): 0.39432 | Val Loss: 0.46494 | Val SMAPE: 42.76% | LR: 7.4e-05\n"
     ]
    },
    {
     "name": "stderr",
     "output_type": "stream",
     "text": [
      "                                                                        \r"
     ]
    },
    {
     "name": "stdout",
     "output_type": "stream",
     "text": [
      "Epoch 169/250 | Train MAE (log): 0.39411 | Val Loss: 0.46498 | Val SMAPE: 42.92% | LR: 7.3e-05\n"
     ]
    },
    {
     "name": "stderr",
     "output_type": "stream",
     "text": [
      "                                                                        \r"
     ]
    },
    {
     "name": "stdout",
     "output_type": "stream",
     "text": [
      "Epoch 170/250 | Train MAE (log): 0.39413 | Val Loss: 0.46437 | Val SMAPE: 42.78% | LR: 7.1e-05\n"
     ]
    },
    {
     "name": "stderr",
     "output_type": "stream",
     "text": [
      "                                                                        \r"
     ]
    },
    {
     "name": "stdout",
     "output_type": "stream",
     "text": [
      "Epoch 171/250 | Train MAE (log): 0.39416 | Val Loss: 0.46358 | Val SMAPE: 43.12% | LR: 7.0e-05\n"
     ]
    },
    {
     "name": "stderr",
     "output_type": "stream",
     "text": [
      "                                                                        \r"
     ]
    },
    {
     "name": "stdout",
     "output_type": "stream",
     "text": [
      "Epoch 172/250 | Train MAE (log): 0.39408 | Val Loss: 0.46473 | Val SMAPE: 42.72% | LR: 6.8e-05\n",
      "  -> New best validation SMAPE: 42.72%. Model saved.\n"
     ]
    },
    {
     "name": "stderr",
     "output_type": "stream",
     "text": [
      "                                                                        \r"
     ]
    },
    {
     "name": "stdout",
     "output_type": "stream",
     "text": [
      "Epoch 173/250 | Train MAE (log): 0.39417 | Val Loss: 0.46453 | Val SMAPE: 42.77% | LR: 6.6e-05\n"
     ]
    },
    {
     "name": "stderr",
     "output_type": "stream",
     "text": [
      "                                                                        \r"
     ]
    },
    {
     "name": "stdout",
     "output_type": "stream",
     "text": [
      "Epoch 174/250 | Train MAE (log): 0.39414 | Val Loss: 0.46601 | Val SMAPE: 42.61% | LR: 6.5e-05\n",
      "  -> New best validation SMAPE: 42.61%. Model saved.\n"
     ]
    },
    {
     "name": "stderr",
     "output_type": "stream",
     "text": [
      "                                                                        \r"
     ]
    },
    {
     "name": "stdout",
     "output_type": "stream",
     "text": [
      "Epoch 175/250 | Train MAE (log): 0.39415 | Val Loss: 0.46466 | Val SMAPE: 42.98% | LR: 6.3e-05\n"
     ]
    },
    {
     "name": "stderr",
     "output_type": "stream",
     "text": [
      "                                                                        \r"
     ]
    },
    {
     "name": "stdout",
     "output_type": "stream",
     "text": [
      "Epoch 176/250 | Train MAE (log): 0.39415 | Val Loss: 0.46765 | Val SMAPE: 42.91% | LR: 6.2e-05\n"
     ]
    },
    {
     "name": "stderr",
     "output_type": "stream",
     "text": [
      "                                                                        \r"
     ]
    },
    {
     "name": "stdout",
     "output_type": "stream",
     "text": [
      "Epoch 177/250 | Train MAE (log): 0.39424 | Val Loss: 0.46573 | Val SMAPE: 42.65% | LR: 6.0e-05\n"
     ]
    },
    {
     "name": "stderr",
     "output_type": "stream",
     "text": [
      "                                                                        \r"
     ]
    },
    {
     "name": "stdout",
     "output_type": "stream",
     "text": [
      "Epoch 178/250 | Train MAE (log): 0.39416 | Val Loss: 0.46498 | Val SMAPE: 42.57% | LR: 5.9e-05\n",
      "  -> New best validation SMAPE: 42.57%. Model saved.\n"
     ]
    },
    {
     "name": "stderr",
     "output_type": "stream",
     "text": [
      "                                                                        \r"
     ]
    },
    {
     "name": "stdout",
     "output_type": "stream",
     "text": [
      "Epoch 179/250 | Train MAE (log): 0.39408 | Val Loss: 0.46472 | Val SMAPE: 42.64% | LR: 5.7e-05\n"
     ]
    },
    {
     "name": "stderr",
     "output_type": "stream",
     "text": [
      "                                                                        \r"
     ]
    },
    {
     "name": "stdout",
     "output_type": "stream",
     "text": [
      "Epoch 180/250 | Train MAE (log): 0.39402 | Val Loss: 0.46466 | Val SMAPE: 42.72% | LR: 5.6e-05\n"
     ]
    },
    {
     "name": "stderr",
     "output_type": "stream",
     "text": [
      "                                                                        \r"
     ]
    },
    {
     "name": "stdout",
     "output_type": "stream",
     "text": [
      "Epoch 181/250 | Train MAE (log): 0.39418 | Val Loss: 0.46445 | Val SMAPE: 43.01% | LR: 5.4e-05\n"
     ]
    },
    {
     "name": "stderr",
     "output_type": "stream",
     "text": [
      "                                                                        \r"
     ]
    },
    {
     "name": "stdout",
     "output_type": "stream",
     "text": [
      "Epoch 182/250 | Train MAE (log): 0.39405 | Val Loss: 0.46501 | Val SMAPE: 42.59% | LR: 5.3e-05\n"
     ]
    },
    {
     "name": "stderr",
     "output_type": "stream",
     "text": [
      "                                                                        \r"
     ]
    },
    {
     "name": "stdout",
     "output_type": "stream",
     "text": [
      "Epoch 183/250 | Train MAE (log): 0.39393 | Val Loss: 0.46537 | Val SMAPE: 42.76% | LR: 5.2e-05\n"
     ]
    },
    {
     "name": "stderr",
     "output_type": "stream",
     "text": [
      "                                                                        \r"
     ]
    },
    {
     "name": "stdout",
     "output_type": "stream",
     "text": [
      "Epoch 184/250 | Train MAE (log): 0.39404 | Val Loss: 0.46450 | Val SMAPE: 42.78% | LR: 5.0e-05\n"
     ]
    },
    {
     "name": "stderr",
     "output_type": "stream",
     "text": [
      "                                                                        \r"
     ]
    },
    {
     "name": "stdout",
     "output_type": "stream",
     "text": [
      "Epoch 185/250 | Train MAE (log): 0.39399 | Val Loss: 0.46417 | Val SMAPE: 43.28% | LR: 4.9e-05\n"
     ]
    },
    {
     "name": "stderr",
     "output_type": "stream",
     "text": [
      "                                                                        \r"
     ]
    },
    {
     "name": "stdout",
     "output_type": "stream",
     "text": [
      "Epoch 186/250 | Train MAE (log): 0.39397 | Val Loss: 0.46638 | Val SMAPE: 42.56% | LR: 4.7e-05\n",
      "  -> New best validation SMAPE: 42.56%. Model saved.\n"
     ]
    },
    {
     "name": "stderr",
     "output_type": "stream",
     "text": [
      "                                                                        \r"
     ]
    },
    {
     "name": "stdout",
     "output_type": "stream",
     "text": [
      "Epoch 187/250 | Train MAE (log): 0.39397 | Val Loss: 0.46358 | Val SMAPE: 42.82% | LR: 4.6e-05\n"
     ]
    },
    {
     "name": "stderr",
     "output_type": "stream",
     "text": [
      "                                                                        \r"
     ]
    },
    {
     "name": "stdout",
     "output_type": "stream",
     "text": [
      "Epoch 188/250 | Train MAE (log): 0.39408 | Val Loss: 0.46645 | Val SMAPE: 42.63% | LR: 4.5e-05\n"
     ]
    },
    {
     "name": "stderr",
     "output_type": "stream",
     "text": [
      "                                                                        \r"
     ]
    },
    {
     "name": "stdout",
     "output_type": "stream",
     "text": [
      "Epoch 189/250 | Train MAE (log): 0.39398 | Val Loss: 0.46533 | Val SMAPE: 42.75% | LR: 4.3e-05\n"
     ]
    },
    {
     "name": "stderr",
     "output_type": "stream",
     "text": [
      "                                                                        \r"
     ]
    },
    {
     "name": "stdout",
     "output_type": "stream",
     "text": [
      "Epoch 190/250 | Train MAE (log): 0.39403 | Val Loss: 0.46635 | Val SMAPE: 42.60% | LR: 4.2e-05\n"
     ]
    },
    {
     "name": "stderr",
     "output_type": "stream",
     "text": [
      "                                                                        \r"
     ]
    },
    {
     "name": "stdout",
     "output_type": "stream",
     "text": [
      "Epoch 191/250 | Train MAE (log): 0.39388 | Val Loss: 0.46546 | Val SMAPE: 42.97% | LR: 4.1e-05\n"
     ]
    },
    {
     "name": "stderr",
     "output_type": "stream",
     "text": [
      "                                                                        \r"
     ]
    },
    {
     "name": "stdout",
     "output_type": "stream",
     "text": [
      "Epoch 192/250 | Train MAE (log): 0.39399 | Val Loss: 0.46489 | Val SMAPE: 42.66% | LR: 3.9e-05\n"
     ]
    },
    {
     "name": "stderr",
     "output_type": "stream",
     "text": [
      "                                                                        \r"
     ]
    },
    {
     "name": "stdout",
     "output_type": "stream",
     "text": [
      "Epoch 193/250 | Train MAE (log): 0.39389 | Val Loss: 0.46501 | Val SMAPE: 42.68% | LR: 3.8e-05\n"
     ]
    },
    {
     "name": "stderr",
     "output_type": "stream",
     "text": [
      "                                                                        \r"
     ]
    },
    {
     "name": "stdout",
     "output_type": "stream",
     "text": [
      "Epoch 194/250 | Train MAE (log): 0.39385 | Val Loss: 0.46498 | Val SMAPE: 42.82% | LR: 3.7e-05\n"
     ]
    },
    {
     "name": "stderr",
     "output_type": "stream",
     "text": [
      "                                                                        \r"
     ]
    },
    {
     "name": "stdout",
     "output_type": "stream",
     "text": [
      "Epoch 195/250 | Train MAE (log): 0.39384 | Val Loss: 0.46399 | Val SMAPE: 42.84% | LR: 3.6e-05\n"
     ]
    },
    {
     "name": "stderr",
     "output_type": "stream",
     "text": [
      "                                                                        \r"
     ]
    },
    {
     "name": "stdout",
     "output_type": "stream",
     "text": [
      "Epoch 196/250 | Train MAE (log): 0.39389 | Val Loss: 0.46419 | Val SMAPE: 42.66% | LR: 3.4e-05\n"
     ]
    },
    {
     "name": "stderr",
     "output_type": "stream",
     "text": [
      "                                                                        \r"
     ]
    },
    {
     "name": "stdout",
     "output_type": "stream",
     "text": [
      "Epoch 197/250 | Train MAE (log): 0.39393 | Val Loss: 0.46456 | Val SMAPE: 43.14% | LR: 3.3e-05\n"
     ]
    },
    {
     "name": "stderr",
     "output_type": "stream",
     "text": [
      "                                                                        \r"
     ]
    },
    {
     "name": "stdout",
     "output_type": "stream",
     "text": [
      "Epoch 198/250 | Train MAE (log): 0.39387 | Val Loss: 0.46569 | Val SMAPE: 42.55% | LR: 3.2e-05\n",
      "  -> New best validation SMAPE: 42.55%. Model saved.\n"
     ]
    },
    {
     "name": "stderr",
     "output_type": "stream",
     "text": [
      "                                                                        \r"
     ]
    },
    {
     "name": "stdout",
     "output_type": "stream",
     "text": [
      "Epoch 199/250 | Train MAE (log): 0.39397 | Val Loss: 0.46436 | Val SMAPE: 42.62% | LR: 3.1e-05\n"
     ]
    },
    {
     "name": "stderr",
     "output_type": "stream",
     "text": [
      "                                                                        \r"
     ]
    },
    {
     "name": "stdout",
     "output_type": "stream",
     "text": [
      "Epoch 200/250 | Train MAE (log): 0.39382 | Val Loss: 0.46511 | Val SMAPE: 43.07% | LR: 3.0e-05\n"
     ]
    },
    {
     "name": "stderr",
     "output_type": "stream",
     "text": [
      "                                                                        \r"
     ]
    },
    {
     "name": "stdout",
     "output_type": "stream",
     "text": [
      "Epoch 201/250 | Train MAE (log): 0.39395 | Val Loss: 0.46649 | Val SMAPE: 42.82% | LR: 2.9e-05\n"
     ]
    },
    {
     "name": "stderr",
     "output_type": "stream",
     "text": [
      "                                                                        \r"
     ]
    },
    {
     "name": "stdout",
     "output_type": "stream",
     "text": [
      "Epoch 202/250 | Train MAE (log): 0.39380 | Val Loss: 0.46589 | Val SMAPE: 42.51% | LR: 2.8e-05\n",
      "  -> New best validation SMAPE: 42.51%. Model saved.\n"
     ]
    },
    {
     "name": "stderr",
     "output_type": "stream",
     "text": [
      "                                                                        \r"
     ]
    },
    {
     "name": "stdout",
     "output_type": "stream",
     "text": [
      "Epoch 203/250 | Train MAE (log): 0.39386 | Val Loss: 0.46559 | Val SMAPE: 42.85% | LR: 2.6e-05\n"
     ]
    },
    {
     "name": "stderr",
     "output_type": "stream",
     "text": [
      "                                                                        \r"
     ]
    },
    {
     "name": "stdout",
     "output_type": "stream",
     "text": [
      "Epoch 204/250 | Train MAE (log): 0.39393 | Val Loss: 0.46624 | Val SMAPE: 42.38% | LR: 2.5e-05\n",
      "  -> New best validation SMAPE: 42.38%. Model saved.\n"
     ]
    },
    {
     "name": "stderr",
     "output_type": "stream",
     "text": [
      "                                                                        \r"
     ]
    },
    {
     "name": "stdout",
     "output_type": "stream",
     "text": [
      "Epoch 205/250 | Train MAE (log): 0.39392 | Val Loss: 0.46540 | Val SMAPE: 42.82% | LR: 2.4e-05\n"
     ]
    },
    {
     "name": "stderr",
     "output_type": "stream",
     "text": [
      "                                                                        \r"
     ]
    },
    {
     "name": "stdout",
     "output_type": "stream",
     "text": [
      "Epoch 206/250 | Train MAE (log): 0.39384 | Val Loss: 0.46693 | Val SMAPE: 42.39% | LR: 2.3e-05\n"
     ]
    },
    {
     "name": "stderr",
     "output_type": "stream",
     "text": [
      "                                                                        \r"
     ]
    },
    {
     "name": "stdout",
     "output_type": "stream",
     "text": [
      "Epoch 207/250 | Train MAE (log): 0.39376 | Val Loss: 0.46512 | Val SMAPE: 42.46% | LR: 2.2e-05\n"
     ]
    },
    {
     "name": "stderr",
     "output_type": "stream",
     "text": [
      "                                                                        \r"
     ]
    },
    {
     "name": "stdout",
     "output_type": "stream",
     "text": [
      "Epoch 208/250 | Train MAE (log): 0.39374 | Val Loss: 0.46427 | Val SMAPE: 42.54% | LR: 2.1e-05\n"
     ]
    },
    {
     "name": "stderr",
     "output_type": "stream",
     "text": [
      "                                                                        \r"
     ]
    },
    {
     "name": "stdout",
     "output_type": "stream",
     "text": [
      "Epoch 209/250 | Train MAE (log): 0.39373 | Val Loss: 0.46583 | Val SMAPE: 42.55% | LR: 2.0e-05\n"
     ]
    },
    {
     "name": "stderr",
     "output_type": "stream",
     "text": [
      "                                                                        \r"
     ]
    },
    {
     "name": "stdout",
     "output_type": "stream",
     "text": [
      "Epoch 210/250 | Train MAE (log): 0.39381 | Val Loss: 0.46467 | Val SMAPE: 42.66% | LR: 1.9e-05\n"
     ]
    },
    {
     "name": "stderr",
     "output_type": "stream",
     "text": [
      "                                                                        \r"
     ]
    },
    {
     "name": "stdout",
     "output_type": "stream",
     "text": [
      "Epoch 211/250 | Train MAE (log): 0.39374 | Val Loss: 0.46491 | Val SMAPE: 42.59% | LR: 1.9e-05\n"
     ]
    },
    {
     "name": "stderr",
     "output_type": "stream",
     "text": [
      "                                                                        \r"
     ]
    },
    {
     "name": "stdout",
     "output_type": "stream",
     "text": [
      "Epoch 212/250 | Train MAE (log): 0.39394 | Val Loss: 0.46502 | Val SMAPE: 42.85% | LR: 1.8e-05\n"
     ]
    },
    {
     "name": "stderr",
     "output_type": "stream",
     "text": [
      "                                                                        \r"
     ]
    },
    {
     "name": "stdout",
     "output_type": "stream",
     "text": [
      "Epoch 213/250 | Train MAE (log): 0.39382 | Val Loss: 0.46602 | Val SMAPE: 42.37% | LR: 1.7e-05\n",
      "  -> New best validation SMAPE: 42.37%. Model saved.\n"
     ]
    },
    {
     "name": "stderr",
     "output_type": "stream",
     "text": [
      "                                                                        \r"
     ]
    },
    {
     "name": "stdout",
     "output_type": "stream",
     "text": [
      "Epoch 214/250 | Train MAE (log): 0.39396 | Val Loss: 0.46430 | Val SMAPE: 42.66% | LR: 1.6e-05\n"
     ]
    },
    {
     "name": "stderr",
     "output_type": "stream",
     "text": [
      "                                                                        \r"
     ]
    },
    {
     "name": "stdout",
     "output_type": "stream",
     "text": [
      "Epoch 215/250 | Train MAE (log): 0.39385 | Val Loss: 0.46527 | Val SMAPE: 42.37% | LR: 1.5e-05\n"
     ]
    },
    {
     "name": "stderr",
     "output_type": "stream",
     "text": [
      "                                                                        \r"
     ]
    },
    {
     "name": "stdout",
     "output_type": "stream",
     "text": [
      "Epoch 216/250 | Train MAE (log): 0.39381 | Val Loss: 0.46534 | Val SMAPE: 42.37% | LR: 1.4e-05\n",
      "  -> New best validation SMAPE: 42.37%. Model saved.\n"
     ]
    },
    {
     "name": "stderr",
     "output_type": "stream",
     "text": [
      "                                                                        \r"
     ]
    },
    {
     "name": "stdout",
     "output_type": "stream",
     "text": [
      "Epoch 217/250 | Train MAE (log): 0.39387 | Val Loss: 0.46380 | Val SMAPE: 42.90% | LR: 1.3e-05\n"
     ]
    },
    {
     "name": "stderr",
     "output_type": "stream",
     "text": [
      "                                                                        \r"
     ]
    },
    {
     "name": "stdout",
     "output_type": "stream",
     "text": [
      "Epoch 218/250 | Train MAE (log): 0.39381 | Val Loss: 0.46563 | Val SMAPE: 42.34% | LR: 1.3e-05\n",
      "  -> New best validation SMAPE: 42.34%. Model saved.\n"
     ]
    },
    {
     "name": "stderr",
     "output_type": "stream",
     "text": [
      "                                                                        \r"
     ]
    },
    {
     "name": "stdout",
     "output_type": "stream",
     "text": [
      "Epoch 219/250 | Train MAE (log): 0.39390 | Val Loss: 0.46409 | Val SMAPE: 42.62% | LR: 1.2e-05\n"
     ]
    },
    {
     "name": "stderr",
     "output_type": "stream",
     "text": [
      "                                                                        \r"
     ]
    },
    {
     "name": "stdout",
     "output_type": "stream",
     "text": [
      "Epoch 220/250 | Train MAE (log): 0.39378 | Val Loss: 0.46343 | Val SMAPE: 42.56% | LR: 1.1e-05\n"
     ]
    },
    {
     "name": "stderr",
     "output_type": "stream",
     "text": [
      "                                                                        \r"
     ]
    },
    {
     "name": "stdout",
     "output_type": "stream",
     "text": [
      "Epoch 221/250 | Train MAE (log): 0.39388 | Val Loss: 0.46600 | Val SMAPE: 42.34% | LR: 1.1e-05\n"
     ]
    },
    {
     "name": "stderr",
     "output_type": "stream",
     "text": [
      "                                                                        \r"
     ]
    },
    {
     "name": "stdout",
     "output_type": "stream",
     "text": [
      "Epoch 222/250 | Train MAE (log): 0.39376 | Val Loss: 0.46293 | Val SMAPE: 42.91% | LR: 9.9e-06\n"
     ]
    },
    {
     "name": "stderr",
     "output_type": "stream",
     "text": [
      "                                                                        \r"
     ]
    },
    {
     "name": "stdout",
     "output_type": "stream",
     "text": [
      "Epoch 223/250 | Train MAE (log): 0.39382 | Val Loss: 0.46386 | Val SMAPE: 42.73% | LR: 9.2e-06\n"
     ]
    },
    {
     "name": "stderr",
     "output_type": "stream",
     "text": [
      "                                                                        \r"
     ]
    },
    {
     "name": "stdout",
     "output_type": "stream",
     "text": [
      "Epoch 224/250 | Train MAE (log): 0.39375 | Val Loss: 0.46563 | Val SMAPE: 42.33% | LR: 8.6e-06\n",
      "  -> New best validation SMAPE: 42.33%. Model saved.\n"
     ]
    },
    {
     "name": "stderr",
     "output_type": "stream",
     "text": [
      "                                                                        \r"
     ]
    },
    {
     "name": "stdout",
     "output_type": "stream",
     "text": [
      "Epoch 225/250 | Train MAE (log): 0.39375 | Val Loss: 0.46553 | Val SMAPE: 42.50% | LR: 7.9e-06\n"
     ]
    },
    {
     "name": "stderr",
     "output_type": "stream",
     "text": [
      "                                                                        \r"
     ]
    },
    {
     "name": "stdout",
     "output_type": "stream",
     "text": [
      "Epoch 226/250 | Train MAE (log): 0.39383 | Val Loss: 0.46582 | Val SMAPE: 42.32% | LR: 7.4e-06\n",
      "  -> New best validation SMAPE: 42.32%. Model saved.\n"
     ]
    },
    {
     "name": "stderr",
     "output_type": "stream",
     "text": [
      "                                                                        \r"
     ]
    },
    {
     "name": "stdout",
     "output_type": "stream",
     "text": [
      "Epoch 227/250 | Train MAE (log): 0.39379 | Val Loss: 0.46586 | Val SMAPE: 42.44% | LR: 6.8e-06\n"
     ]
    },
    {
     "name": "stderr",
     "output_type": "stream",
     "text": [
      "                                                                        \r"
     ]
    },
    {
     "name": "stdout",
     "output_type": "stream",
     "text": [
      "Epoch 228/250 | Train MAE (log): 0.39375 | Val Loss: 0.46475 | Val SMAPE: 42.80% | LR: 6.2e-06\n"
     ]
    },
    {
     "name": "stderr",
     "output_type": "stream",
     "text": [
      "                                                                        \r"
     ]
    },
    {
     "name": "stdout",
     "output_type": "stream",
     "text": [
      "Epoch 229/250 | Train MAE (log): 0.39377 | Val Loss: 0.46516 | Val SMAPE: 42.42% | LR: 5.7e-06\n"
     ]
    },
    {
     "name": "stderr",
     "output_type": "stream",
     "text": [
      "                                                                        \r"
     ]
    },
    {
     "name": "stdout",
     "output_type": "stream",
     "text": [
      "Epoch 230/250 | Train MAE (log): 0.39385 | Val Loss: 0.46549 | Val SMAPE: 42.38% | LR: 5.2e-06\n"
     ]
    },
    {
     "name": "stderr",
     "output_type": "stream",
     "text": [
      "                                                                        \r"
     ]
    },
    {
     "name": "stdout",
     "output_type": "stream",
     "text": [
      "Epoch 231/250 | Train MAE (log): 0.39377 | Val Loss: 0.46421 | Val SMAPE: 42.44% | LR: 4.7e-06\n"
     ]
    },
    {
     "name": "stderr",
     "output_type": "stream",
     "text": [
      "                                                                        \r"
     ]
    },
    {
     "name": "stdout",
     "output_type": "stream",
     "text": [
      "Epoch 232/250 | Train MAE (log): 0.39371 | Val Loss: 0.46443 | Val SMAPE: 42.42% | LR: 4.3e-06\n"
     ]
    },
    {
     "name": "stderr",
     "output_type": "stream",
     "text": [
      "                                                                        \r"
     ]
    },
    {
     "name": "stdout",
     "output_type": "stream",
     "text": [
      "Epoch 233/250 | Train MAE (log): 0.39383 | Val Loss: 0.46429 | Val SMAPE: 42.92% | LR: 3.8e-06\n"
     ]
    },
    {
     "name": "stderr",
     "output_type": "stream",
     "text": [
      "                                                                        \r"
     ]
    },
    {
     "name": "stdout",
     "output_type": "stream",
     "text": [
      "Epoch 234/250 | Train MAE (log): 0.39375 | Val Loss: 0.46695 | Val SMAPE: 42.32% | LR: 3.4e-06\n",
      "  -> New best validation SMAPE: 42.32%. Model saved.\n"
     ]
    },
    {
     "name": "stderr",
     "output_type": "stream",
     "text": [
      "                                                                        \r"
     ]
    },
    {
     "name": "stdout",
     "output_type": "stream",
     "text": [
      "Epoch 235/250 | Train MAE (log): 0.39360 | Val Loss: 0.46479 | Val SMAPE: 42.38% | LR: 3.0e-06\n"
     ]
    },
    {
     "name": "stderr",
     "output_type": "stream",
     "text": [
      "                                                                        \r"
     ]
    },
    {
     "name": "stdout",
     "output_type": "stream",
     "text": [
      "Epoch 236/250 | Train MAE (log): 0.39372 | Val Loss: 0.46400 | Val SMAPE: 42.91% | LR: 2.7e-06\n"
     ]
    },
    {
     "name": "stderr",
     "output_type": "stream",
     "text": [
      "                                                                        \r"
     ]
    },
    {
     "name": "stdout",
     "output_type": "stream",
     "text": [
      "Epoch 237/250 | Train MAE (log): 0.39375 | Val Loss: 0.46527 | Val SMAPE: 42.47% | LR: 2.3e-06\n"
     ]
    },
    {
     "name": "stderr",
     "output_type": "stream",
     "text": [
      "                                                                        \r"
     ]
    },
    {
     "name": "stdout",
     "output_type": "stream",
     "text": [
      "Epoch 238/250 | Train MAE (log): 0.39383 | Val Loss: 0.46389 | Val SMAPE: 43.01% | LR: 2.0e-06\n"
     ]
    },
    {
     "name": "stderr",
     "output_type": "stream",
     "text": [
      "                                                                        \r"
     ]
    },
    {
     "name": "stdout",
     "output_type": "stream",
     "text": [
      "Epoch 239/250 | Train MAE (log): 0.39375 | Val Loss: 0.46534 | Val SMAPE: 42.33% | LR: 1.7e-06\n"
     ]
    },
    {
     "name": "stderr",
     "output_type": "stream",
     "text": [
      "                                                                        \r"
     ]
    },
    {
     "name": "stdout",
     "output_type": "stream",
     "text": [
      "Epoch 240/250 | Train MAE (log): 0.39377 | Val Loss: 0.46435 | Val SMAPE: 42.36% | LR: 1.4e-06\n"
     ]
    },
    {
     "name": "stderr",
     "output_type": "stream",
     "text": [
      "                                                                        \r"
     ]
    },
    {
     "name": "stdout",
     "output_type": "stream",
     "text": [
      "Epoch 241/250 | Train MAE (log): 0.39386 | Val Loss: 0.46545 | Val SMAPE: 42.30% | LR: 1.2e-06\n",
      "  -> New best validation SMAPE: 42.30%. Model saved.\n"
     ]
    },
    {
     "name": "stderr",
     "output_type": "stream",
     "text": [
      "                                                                        \r"
     ]
    },
    {
     "name": "stdout",
     "output_type": "stream",
     "text": [
      "Epoch 242/250 | Train MAE (log): 0.39376 | Val Loss: 0.46520 | Val SMAPE: 42.30% | LR: 9.7e-07\n",
      "  -> New best validation SMAPE: 42.30%. Model saved.\n"
     ]
    },
    {
     "name": "stderr",
     "output_type": "stream",
     "text": [
      "                                                                        \r"
     ]
    },
    {
     "name": "stdout",
     "output_type": "stream",
     "text": [
      "Epoch 243/250 | Train MAE (log): 0.39375 | Val Loss: 0.46364 | Val SMAPE: 42.55% | LR: 7.7e-07\n"
     ]
    },
    {
     "name": "stderr",
     "output_type": "stream",
     "text": [
      "                                                                        \r"
     ]
    },
    {
     "name": "stdout",
     "output_type": "stream",
     "text": [
      "Epoch 244/250 | Train MAE (log): 0.39372 | Val Loss: 0.46525 | Val SMAPE: 42.31% | LR: 5.9e-07\n"
     ]
    },
    {
     "name": "stderr",
     "output_type": "stream",
     "text": [
      "                                                                        \r"
     ]
    },
    {
     "name": "stdout",
     "output_type": "stream",
     "text": [
      "Epoch 245/250 | Train MAE (log): 0.39388 | Val Loss: 0.46445 | Val SMAPE: 42.81% | LR: 4.4e-07\n"
     ]
    },
    {
     "name": "stderr",
     "output_type": "stream",
     "text": [
      "                                                                        \r"
     ]
    },
    {
     "name": "stdout",
     "output_type": "stream",
     "text": [
      "Epoch 246/250 | Train MAE (log): 0.39374 | Val Loss: 0.46529 | Val SMAPE: 42.47% | LR: 3.1e-07\n"
     ]
    },
    {
     "name": "stderr",
     "output_type": "stream",
     "text": [
      "                                                                        \r"
     ]
    },
    {
     "name": "stdout",
     "output_type": "stream",
     "text": [
      "Epoch 247/250 | Train MAE (log): 0.39377 | Val Loss: 0.46513 | Val SMAPE: 42.37% | LR: 2.0e-07\n"
     ]
    },
    {
     "name": "stderr",
     "output_type": "stream",
     "text": [
      "                                                                        \r"
     ]
    },
    {
     "name": "stdout",
     "output_type": "stream",
     "text": [
      "Epoch 248/250 | Train MAE (log): 0.39374 | Val Loss: 0.46508 | Val SMAPE: 42.36% | LR: 1.2e-07\n"
     ]
    },
    {
     "name": "stderr",
     "output_type": "stream",
     "text": [
      "                                                                        \r"
     ]
    },
    {
     "name": "stdout",
     "output_type": "stream",
     "text": [
      "Epoch 249/250 | Train MAE (log): 0.39381 | Val Loss: 0.46647 | Val SMAPE: 42.26% | LR: 5.7e-08\n",
      "  -> New best validation SMAPE: 42.26%. Model saved.\n"
     ]
    },
    {
     "name": "stderr",
     "output_type": "stream",
     "text": [
      "                                                                        \r"
     ]
    },
    {
     "name": "stdout",
     "output_type": "stream",
     "text": [
      "Epoch 250/250 | Train MAE (log): 0.39384 | Val Loss: 0.46511 | Val SMAPE: 42.43% | LR: 2.2e-08\n",
      "\n",
      "--- Starting Fold 4/5 ---\n"
     ]
    },
    {
     "name": "stderr",
     "output_type": "stream",
     "text": [
      "                                                                      \r"
     ]
    },
    {
     "name": "stdout",
     "output_type": "stream",
     "text": [
      "Epoch 1/250 | Train MAE (log): 0.70899 | Val Loss: 0.68878 | Val SMAPE: 100.87% | LR: 1.0e-06\n",
      "  -> New best validation SMAPE: 100.87%. Model saved.\n"
     ]
    },
    {
     "name": "stderr",
     "output_type": "stream",
     "text": [
      "                                                                      \r"
     ]
    },
    {
     "name": "stdout",
     "output_type": "stream",
     "text": [
      "Epoch 2/250 | Train MAE (log): 0.69066 | Val Loss: 0.67816 | Val SMAPE: 100.08% | LR: 3.1e-05\n",
      "  -> New best validation SMAPE: 100.08%. Model saved.\n"
     ]
    },
    {
     "name": "stderr",
     "output_type": "stream",
     "text": [
      "                                                                      \r"
     ]
    },
    {
     "name": "stdout",
     "output_type": "stream",
     "text": [
      "Epoch 3/250 | Train MAE (log): 0.63929 | Val Loss: 0.58634 | Val SMAPE: 89.94% | LR: 6.1e-05\n",
      "  -> New best validation SMAPE: 89.94%. Model saved.\n"
     ]
    },
    {
     "name": "stderr",
     "output_type": "stream",
     "text": [
      "                                                                      \r"
     ]
    },
    {
     "name": "stdout",
     "output_type": "stream",
     "text": [
      "Epoch 4/250 | Train MAE (log): 0.56471 | Val Loss: 0.52713 | Val SMAPE: 76.82% | LR: 9.1e-05\n",
      "  -> New best validation SMAPE: 76.82%. Model saved.\n"
     ]
    },
    {
     "name": "stderr",
     "output_type": "stream",
     "text": [
      "                                                                      \r"
     ]
    },
    {
     "name": "stdout",
     "output_type": "stream",
     "text": [
      "Epoch 5/250 | Train MAE (log): 0.50161 | Val Loss: 0.47833 | Val SMAPE: 57.69% | LR: 1.2e-04\n",
      "  -> New best validation SMAPE: 57.69%. Model saved.\n"
     ]
    },
    {
     "name": "stderr",
     "output_type": "stream",
     "text": [
      "                                                                      \r"
     ]
    },
    {
     "name": "stdout",
     "output_type": "stream",
     "text": [
      "Epoch 6/250 | Train MAE (log): 0.47028 | Val Loss: 0.47253 | Val SMAPE: 53.77% | LR: 1.5e-04\n",
      "  -> New best validation SMAPE: 53.77%. Model saved.\n"
     ]
    },
    {
     "name": "stderr",
     "output_type": "stream",
     "text": [
      "                                                                      \r"
     ]
    },
    {
     "name": "stdout",
     "output_type": "stream",
     "text": [
      "Epoch 7/250 | Train MAE (log): 0.45810 | Val Loss: 0.46637 | Val SMAPE: 50.32% | LR: 1.8e-04\n",
      "  -> New best validation SMAPE: 50.32%. Model saved.\n"
     ]
    },
    {
     "name": "stderr",
     "output_type": "stream",
     "text": [
      "                                                                      \r"
     ]
    },
    {
     "name": "stdout",
     "output_type": "stream",
     "text": [
      "Epoch 8/250 | Train MAE (log): 0.45193 | Val Loss: 0.46738 | Val SMAPE: 50.35% | LR: 2.1e-04\n"
     ]
    },
    {
     "name": "stderr",
     "output_type": "stream",
     "text": [
      "                                                                      \r"
     ]
    },
    {
     "name": "stdout",
     "output_type": "stream",
     "text": [
      "Epoch 9/250 | Train MAE (log): 0.44734 | Val Loss: 0.46596 | Val SMAPE: 49.82% | LR: 2.4e-04\n",
      "  -> New best validation SMAPE: 49.82%. Model saved.\n"
     ]
    },
    {
     "name": "stderr",
     "output_type": "stream",
     "text": [
      "                                                                       \r"
     ]
    },
    {
     "name": "stdout",
     "output_type": "stream",
     "text": [
      "Epoch 10/250 | Train MAE (log): 0.44296 | Val Loss: 0.46814 | Val SMAPE: 49.06% | LR: 2.7e-04\n",
      "  -> New best validation SMAPE: 49.06%. Model saved.\n"
     ]
    },
    {
     "name": "stderr",
     "output_type": "stream",
     "text": [
      "                                                                       \r"
     ]
    },
    {
     "name": "stdout",
     "output_type": "stream",
     "text": [
      "Epoch 11/250 | Train MAE (log): 0.44037 | Val Loss: 0.46708 | Val SMAPE: 48.87% | LR: 3.0e-04\n",
      "  -> New best validation SMAPE: 48.87%. Model saved.\n"
     ]
    },
    {
     "name": "stderr",
     "output_type": "stream",
     "text": [
      "                                                                       \r"
     ]
    },
    {
     "name": "stdout",
     "output_type": "stream",
     "text": [
      "Epoch 12/250 | Train MAE (log): 0.43813 | Val Loss: 0.46930 | Val SMAPE: 49.89% | LR: 3.0e-04\n"
     ]
    },
    {
     "name": "stderr",
     "output_type": "stream",
     "text": [
      "                                                                       \r"
     ]
    },
    {
     "name": "stdout",
     "output_type": "stream",
     "text": [
      "Epoch 13/250 | Train MAE (log): 0.43380 | Val Loss: 0.46577 | Val SMAPE: 48.23% | LR: 3.0e-04\n",
      "  -> New best validation SMAPE: 48.23%. Model saved.\n"
     ]
    },
    {
     "name": "stderr",
     "output_type": "stream",
     "text": [
      "                                                                       \r"
     ]
    },
    {
     "name": "stdout",
     "output_type": "stream",
     "text": [
      "Epoch 14/250 | Train MAE (log): 0.43054 | Val Loss: 0.46885 | Val SMAPE: 49.07% | LR: 3.0e-04\n"
     ]
    },
    {
     "name": "stderr",
     "output_type": "stream",
     "text": [
      "                                                                       \r"
     ]
    },
    {
     "name": "stdout",
     "output_type": "stream",
     "text": [
      "Epoch 15/250 | Train MAE (log): 0.42760 | Val Loss: 0.46973 | Val SMAPE: 48.76% | LR: 3.0e-04\n"
     ]
    },
    {
     "name": "stderr",
     "output_type": "stream",
     "text": [
      "                                                                       \r"
     ]
    },
    {
     "name": "stdout",
     "output_type": "stream",
     "text": [
      "Epoch 16/250 | Train MAE (log): 0.42570 | Val Loss: 0.46443 | Val SMAPE: 47.73% | LR: 3.0e-04\n",
      "  -> New best validation SMAPE: 47.73%. Model saved.\n"
     ]
    },
    {
     "name": "stderr",
     "output_type": "stream",
     "text": [
      "                                                                       \r"
     ]
    },
    {
     "name": "stdout",
     "output_type": "stream",
     "text": [
      "Epoch 17/250 | Train MAE (log): 0.42262 | Val Loss: 0.46760 | Val SMAPE: 47.45% | LR: 3.0e-04\n",
      "  -> New best validation SMAPE: 47.45%. Model saved.\n"
     ]
    },
    {
     "name": "stderr",
     "output_type": "stream",
     "text": [
      "                                                                       \r"
     ]
    },
    {
     "name": "stdout",
     "output_type": "stream",
     "text": [
      "Epoch 18/250 | Train MAE (log): 0.42074 | Val Loss: 0.47267 | Val SMAPE: 48.51% | LR: 3.0e-04\n"
     ]
    },
    {
     "name": "stderr",
     "output_type": "stream",
     "text": [
      "                                                                       \r"
     ]
    },
    {
     "name": "stdout",
     "output_type": "stream",
     "text": [
      "Epoch 19/250 | Train MAE (log): 0.41922 | Val Loss: 0.46981 | Val SMAPE: 47.82% | LR: 3.0e-04\n"
     ]
    },
    {
     "name": "stderr",
     "output_type": "stream",
     "text": [
      "                                                                       \r"
     ]
    },
    {
     "name": "stdout",
     "output_type": "stream",
     "text": [
      "Epoch 20/250 | Train MAE (log): 0.41786 | Val Loss: 0.46903 | Val SMAPE: 47.31% | LR: 3.0e-04\n",
      "  -> New best validation SMAPE: 47.31%. Model saved.\n"
     ]
    },
    {
     "name": "stderr",
     "output_type": "stream",
     "text": [
      "                                                                       \r"
     ]
    },
    {
     "name": "stdout",
     "output_type": "stream",
     "text": [
      "Epoch 21/250 | Train MAE (log): 0.41643 | Val Loss: 0.46875 | Val SMAPE: 46.56% | LR: 3.0e-04\n",
      "  -> New best validation SMAPE: 46.56%. Model saved.\n"
     ]
    },
    {
     "name": "stderr",
     "output_type": "stream",
     "text": [
      "                                                                       \r"
     ]
    },
    {
     "name": "stdout",
     "output_type": "stream",
     "text": [
      "Epoch 22/250 | Train MAE (log): 0.41598 | Val Loss: 0.46867 | Val SMAPE: 47.26% | LR: 2.9e-04\n"
     ]
    },
    {
     "name": "stderr",
     "output_type": "stream",
     "text": [
      "                                                                       \r"
     ]
    },
    {
     "name": "stdout",
     "output_type": "stream",
     "text": [
      "Epoch 23/250 | Train MAE (log): 0.41464 | Val Loss: 0.47092 | Val SMAPE: 47.47% | LR: 2.9e-04\n"
     ]
    },
    {
     "name": "stderr",
     "output_type": "stream",
     "text": [
      "                                                                       \r"
     ]
    },
    {
     "name": "stdout",
     "output_type": "stream",
     "text": [
      "Epoch 24/250 | Train MAE (log): 0.41273 | Val Loss: 0.47124 | Val SMAPE: 48.28% | LR: 2.9e-04\n"
     ]
    },
    {
     "name": "stderr",
     "output_type": "stream",
     "text": [
      "                                                                       \r"
     ]
    },
    {
     "name": "stdout",
     "output_type": "stream",
     "text": [
      "Epoch 25/250 | Train MAE (log): 0.41175 | Val Loss: 0.46751 | Val SMAPE: 47.34% | LR: 2.9e-04\n"
     ]
    },
    {
     "name": "stderr",
     "output_type": "stream",
     "text": [
      "                                                                       \r"
     ]
    },
    {
     "name": "stdout",
     "output_type": "stream",
     "text": [
      "Epoch 26/250 | Train MAE (log): 0.41110 | Val Loss: 0.47212 | Val SMAPE: 47.54% | LR: 2.9e-04\n"
     ]
    },
    {
     "name": "stderr",
     "output_type": "stream",
     "text": [
      "                                                                       \r"
     ]
    },
    {
     "name": "stdout",
     "output_type": "stream",
     "text": [
      "Epoch 27/250 | Train MAE (log): 0.41029 | Val Loss: 0.47081 | Val SMAPE: 47.41% | LR: 2.9e-04\n"
     ]
    },
    {
     "name": "stderr",
     "output_type": "stream",
     "text": [
      "                                                                       \r"
     ]
    },
    {
     "name": "stdout",
     "output_type": "stream",
     "text": [
      "Epoch 28/250 | Train MAE (log): 0.40843 | Val Loss: 0.46893 | Val SMAPE: 46.05% | LR: 2.9e-04\n",
      "  -> New best validation SMAPE: 46.05%. Model saved.\n"
     ]
    },
    {
     "name": "stderr",
     "output_type": "stream",
     "text": [
      "                                                                       \r"
     ]
    },
    {
     "name": "stdout",
     "output_type": "stream",
     "text": [
      "Epoch 29/250 | Train MAE (log): 0.40820 | Val Loss: 0.46949 | Val SMAPE: 45.75% | LR: 2.9e-04\n",
      "  -> New best validation SMAPE: 45.75%. Model saved.\n"
     ]
    },
    {
     "name": "stderr",
     "output_type": "stream",
     "text": [
      "                                                                       \r"
     ]
    },
    {
     "name": "stdout",
     "output_type": "stream",
     "text": [
      "Epoch 30/250 | Train MAE (log): 0.40783 | Val Loss: 0.47131 | Val SMAPE: 46.30% | LR: 2.9e-04\n"
     ]
    },
    {
     "name": "stderr",
     "output_type": "stream",
     "text": [
      "                                                                       \r"
     ]
    },
    {
     "name": "stdout",
     "output_type": "stream",
     "text": [
      "Epoch 31/250 | Train MAE (log): 0.40695 | Val Loss: 0.46776 | Val SMAPE: 47.02% | LR: 2.9e-04\n"
     ]
    },
    {
     "name": "stderr",
     "output_type": "stream",
     "text": [
      "                                                                       \r"
     ]
    },
    {
     "name": "stdout",
     "output_type": "stream",
     "text": [
      "Epoch 32/250 | Train MAE (log): 0.40652 | Val Loss: 0.46784 | Val SMAPE: 45.81% | LR: 2.9e-04\n"
     ]
    },
    {
     "name": "stderr",
     "output_type": "stream",
     "text": [
      "                                                                       \r"
     ]
    },
    {
     "name": "stdout",
     "output_type": "stream",
     "text": [
      "Epoch 33/250 | Train MAE (log): 0.40573 | Val Loss: 0.46908 | Val SMAPE: 46.25% | LR: 2.9e-04\n"
     ]
    },
    {
     "name": "stderr",
     "output_type": "stream",
     "text": [
      "                                                                       \r"
     ]
    },
    {
     "name": "stdout",
     "output_type": "stream",
     "text": [
      "Epoch 34/250 | Train MAE (log): 0.40480 | Val Loss: 0.46845 | Val SMAPE: 45.41% | LR: 2.9e-04\n",
      "  -> New best validation SMAPE: 45.41%. Model saved.\n"
     ]
    },
    {
     "name": "stderr",
     "output_type": "stream",
     "text": [
      "                                                                       \r"
     ]
    },
    {
     "name": "stdout",
     "output_type": "stream",
     "text": [
      "Epoch 35/250 | Train MAE (log): 0.40434 | Val Loss: 0.46732 | Val SMAPE: 45.47% | LR: 2.9e-04\n"
     ]
    },
    {
     "name": "stderr",
     "output_type": "stream",
     "text": [
      "                                                                       \r"
     ]
    },
    {
     "name": "stdout",
     "output_type": "stream",
     "text": [
      "Epoch 36/250 | Train MAE (log): 0.40387 | Val Loss: 0.46836 | Val SMAPE: 45.92% | LR: 2.9e-04\n"
     ]
    },
    {
     "name": "stderr",
     "output_type": "stream",
     "text": [
      "                                                                       \r"
     ]
    },
    {
     "name": "stdout",
     "output_type": "stream",
     "text": [
      "Epoch 37/250 | Train MAE (log): 0.40376 | Val Loss: 0.46996 | Val SMAPE: 45.85% | LR: 2.8e-04\n"
     ]
    },
    {
     "name": "stderr",
     "output_type": "stream",
     "text": [
      "                                                                       \r"
     ]
    },
    {
     "name": "stdout",
     "output_type": "stream",
     "text": [
      "Epoch 38/250 | Train MAE (log): 0.40336 | Val Loss: 0.46662 | Val SMAPE: 44.96% | LR: 2.8e-04\n",
      "  -> New best validation SMAPE: 44.96%. Model saved.\n"
     ]
    },
    {
     "name": "stderr",
     "output_type": "stream",
     "text": [
      "                                                                       \r"
     ]
    },
    {
     "name": "stdout",
     "output_type": "stream",
     "text": [
      "Epoch 39/250 | Train MAE (log): 0.40363 | Val Loss: 0.46816 | Val SMAPE: 45.59% | LR: 2.8e-04\n"
     ]
    },
    {
     "name": "stderr",
     "output_type": "stream",
     "text": [
      "                                                                       \r"
     ]
    },
    {
     "name": "stdout",
     "output_type": "stream",
     "text": [
      "Epoch 40/250 | Train MAE (log): 0.40325 | Val Loss: 0.46907 | Val SMAPE: 45.99% | LR: 2.8e-04\n"
     ]
    },
    {
     "name": "stderr",
     "output_type": "stream",
     "text": [
      "                                                                       \r"
     ]
    },
    {
     "name": "stdout",
     "output_type": "stream",
     "text": [
      "Epoch 41/250 | Train MAE (log): 0.40282 | Val Loss: 0.46917 | Val SMAPE: 45.21% | LR: 2.8e-04\n"
     ]
    },
    {
     "name": "stderr",
     "output_type": "stream",
     "text": [
      "                                                                       \r"
     ]
    },
    {
     "name": "stdout",
     "output_type": "stream",
     "text": [
      "Epoch 42/250 | Train MAE (log): 0.40197 | Val Loss: 0.46913 | Val SMAPE: 45.48% | LR: 2.8e-04\n"
     ]
    },
    {
     "name": "stderr",
     "output_type": "stream",
     "text": [
      "                                                                       \r"
     ]
    },
    {
     "name": "stdout",
     "output_type": "stream",
     "text": [
      "Epoch 43/250 | Train MAE (log): 0.40144 | Val Loss: 0.46974 | Val SMAPE: 44.84% | LR: 2.8e-04\n",
      "  -> New best validation SMAPE: 44.84%. Model saved.\n"
     ]
    },
    {
     "name": "stderr",
     "output_type": "stream",
     "text": [
      "                                                                       \r"
     ]
    },
    {
     "name": "stdout",
     "output_type": "stream",
     "text": [
      "Epoch 44/250 | Train MAE (log): 0.40121 | Val Loss: 0.46932 | Val SMAPE: 44.99% | LR: 2.8e-04\n"
     ]
    },
    {
     "name": "stderr",
     "output_type": "stream",
     "text": [
      "                                                                       \r"
     ]
    },
    {
     "name": "stdout",
     "output_type": "stream",
     "text": [
      "Epoch 45/250 | Train MAE (log): 0.40083 | Val Loss: 0.46755 | Val SMAPE: 44.57% | LR: 2.8e-04\n",
      "  -> New best validation SMAPE: 44.57%. Model saved.\n"
     ]
    },
    {
     "name": "stderr",
     "output_type": "stream",
     "text": [
      "                                                                       \r"
     ]
    },
    {
     "name": "stdout",
     "output_type": "stream",
     "text": [
      "Epoch 46/250 | Train MAE (log): 0.40089 | Val Loss: 0.46738 | Val SMAPE: 44.59% | LR: 2.8e-04\n"
     ]
    },
    {
     "name": "stderr",
     "output_type": "stream",
     "text": [
      "                                                                       \r"
     ]
    },
    {
     "name": "stdout",
     "output_type": "stream",
     "text": [
      "Epoch 47/250 | Train MAE (log): 0.40045 | Val Loss: 0.46732 | Val SMAPE: 44.48% | LR: 2.8e-04\n",
      "  -> New best validation SMAPE: 44.48%. Model saved.\n"
     ]
    },
    {
     "name": "stderr",
     "output_type": "stream",
     "text": [
      "                                                                       \r"
     ]
    },
    {
     "name": "stdout",
     "output_type": "stream",
     "text": [
      "Epoch 48/250 | Train MAE (log): 0.40100 | Val Loss: 0.46638 | Val SMAPE: 44.85% | LR: 2.7e-04\n"
     ]
    },
    {
     "name": "stderr",
     "output_type": "stream",
     "text": [
      "                                                                       \r"
     ]
    },
    {
     "name": "stdout",
     "output_type": "stream",
     "text": [
      "Epoch 49/250 | Train MAE (log): 0.40112 | Val Loss: 0.46747 | Val SMAPE: 45.00% | LR: 2.7e-04\n"
     ]
    },
    {
     "name": "stderr",
     "output_type": "stream",
     "text": [
      "                                                                       \r"
     ]
    },
    {
     "name": "stdout",
     "output_type": "stream",
     "text": [
      "Epoch 50/250 | Train MAE (log): 0.40003 | Val Loss: 0.46995 | Val SMAPE: 44.65% | LR: 2.7e-04\n"
     ]
    },
    {
     "name": "stderr",
     "output_type": "stream",
     "text": [
      "                                                                       \r"
     ]
    },
    {
     "name": "stdout",
     "output_type": "stream",
     "text": [
      "Epoch 51/250 | Train MAE (log): 0.39953 | Val Loss: 0.46932 | Val SMAPE: 44.32% | LR: 2.7e-04\n",
      "  -> New best validation SMAPE: 44.32%. Model saved.\n"
     ]
    },
    {
     "name": "stderr",
     "output_type": "stream",
     "text": [
      "                                                                       \r"
     ]
    },
    {
     "name": "stdout",
     "output_type": "stream",
     "text": [
      "Epoch 52/250 | Train MAE (log): 0.39927 | Val Loss: 0.46900 | Val SMAPE: 44.40% | LR: 2.7e-04\n"
     ]
    },
    {
     "name": "stderr",
     "output_type": "stream",
     "text": [
      "                                                                       \r"
     ]
    },
    {
     "name": "stdout",
     "output_type": "stream",
     "text": [
      "Epoch 53/250 | Train MAE (log): 0.39978 | Val Loss: 0.47028 | Val SMAPE: 44.80% | LR: 2.7e-04\n"
     ]
    },
    {
     "name": "stderr",
     "output_type": "stream",
     "text": [
      "                                                                       \r"
     ]
    },
    {
     "name": "stdout",
     "output_type": "stream",
     "text": [
      "Epoch 54/250 | Train MAE (log): 0.40012 | Val Loss: 0.46781 | Val SMAPE: 44.50% | LR: 2.7e-04\n"
     ]
    },
    {
     "name": "stderr",
     "output_type": "stream",
     "text": [
      "                                                                       \r"
     ]
    },
    {
     "name": "stdout",
     "output_type": "stream",
     "text": [
      "Epoch 55/250 | Train MAE (log): 0.39923 | Val Loss: 0.47023 | Val SMAPE: 44.38% | LR: 2.7e-04\n"
     ]
    },
    {
     "name": "stderr",
     "output_type": "stream",
     "text": [
      "                                                                       \r"
     ]
    },
    {
     "name": "stdout",
     "output_type": "stream",
     "text": [
      "Epoch 56/250 | Train MAE (log): 0.39910 | Val Loss: 0.46750 | Val SMAPE: 44.24% | LR: 2.7e-04\n",
      "  -> New best validation SMAPE: 44.24%. Model saved.\n"
     ]
    },
    {
     "name": "stderr",
     "output_type": "stream",
     "text": [
      "                                                                       \r"
     ]
    },
    {
     "name": "stdout",
     "output_type": "stream",
     "text": [
      "Epoch 57/250 | Train MAE (log): 0.39829 | Val Loss: 0.46790 | Val SMAPE: 44.10% | LR: 2.6e-04\n",
      "  -> New best validation SMAPE: 44.10%. Model saved.\n"
     ]
    },
    {
     "name": "stderr",
     "output_type": "stream",
     "text": [
      "                                                                       \r"
     ]
    },
    {
     "name": "stdout",
     "output_type": "stream",
     "text": [
      "Epoch 58/250 | Train MAE (log): 0.39854 | Val Loss: 0.46847 | Val SMAPE: 44.21% | LR: 2.6e-04\n"
     ]
    },
    {
     "name": "stderr",
     "output_type": "stream",
     "text": [
      "                                                                       \r"
     ]
    },
    {
     "name": "stdout",
     "output_type": "stream",
     "text": [
      "Epoch 59/250 | Train MAE (log): 0.39859 | Val Loss: 0.46925 | Val SMAPE: 44.02% | LR: 2.6e-04\n",
      "  -> New best validation SMAPE: 44.02%. Model saved.\n"
     ]
    },
    {
     "name": "stderr",
     "output_type": "stream",
     "text": [
      "                                                                       \r"
     ]
    },
    {
     "name": "stdout",
     "output_type": "stream",
     "text": [
      "Epoch 60/250 | Train MAE (log): 0.39886 | Val Loss: 0.46944 | Val SMAPE: 44.12% | LR: 2.6e-04\n"
     ]
    },
    {
     "name": "stderr",
     "output_type": "stream",
     "text": [
      "                                                                       \r"
     ]
    },
    {
     "name": "stdout",
     "output_type": "stream",
     "text": [
      "Epoch 61/250 | Train MAE (log): 0.39928 | Val Loss: 0.46941 | Val SMAPE: 44.25% | LR: 2.6e-04\n"
     ]
    },
    {
     "name": "stderr",
     "output_type": "stream",
     "text": [
      "                                                                       \r"
     ]
    },
    {
     "name": "stdout",
     "output_type": "stream",
     "text": [
      "Epoch 62/250 | Train MAE (log): 0.39908 | Val Loss: 0.46991 | Val SMAPE: 44.15% | LR: 2.6e-04\n"
     ]
    },
    {
     "name": "stderr",
     "output_type": "stream",
     "text": [
      "                                                                       \r"
     ]
    },
    {
     "name": "stdout",
     "output_type": "stream",
     "text": [
      "Epoch 63/250 | Train MAE (log): 0.39813 | Val Loss: 0.47042 | Val SMAPE: 44.12% | LR: 2.6e-04\n"
     ]
    },
    {
     "name": "stderr",
     "output_type": "stream",
     "text": [
      "                                                                       \r"
     ]
    },
    {
     "name": "stdout",
     "output_type": "stream",
     "text": [
      "Epoch 64/250 | Train MAE (log): 0.39845 | Val Loss: 0.46852 | Val SMAPE: 44.02% | LR: 2.6e-04\n",
      "  -> New best validation SMAPE: 44.02%. Model saved.\n"
     ]
    },
    {
     "name": "stderr",
     "output_type": "stream",
     "text": [
      "                                                                       \r"
     ]
    },
    {
     "name": "stdout",
     "output_type": "stream",
     "text": [
      "Epoch 65/250 | Train MAE (log): 0.39762 | Val Loss: 0.46979 | Val SMAPE: 44.24% | LR: 2.5e-04\n"
     ]
    },
    {
     "name": "stderr",
     "output_type": "stream",
     "text": [
      "                                                                       \r"
     ]
    },
    {
     "name": "stdout",
     "output_type": "stream",
     "text": [
      "Epoch 66/250 | Train MAE (log): 0.39777 | Val Loss: 0.47394 | Val SMAPE: 43.89% | LR: 2.5e-04\n",
      "  -> New best validation SMAPE: 43.89%. Model saved.\n"
     ]
    },
    {
     "name": "stderr",
     "output_type": "stream",
     "text": [
      "                                                                       \r"
     ]
    },
    {
     "name": "stdout",
     "output_type": "stream",
     "text": [
      "Epoch 67/250 | Train MAE (log): 0.39747 | Val Loss: 0.46827 | Val SMAPE: 44.26% | LR: 2.5e-04\n"
     ]
    },
    {
     "name": "stderr",
     "output_type": "stream",
     "text": [
      "                                                                       \r"
     ]
    },
    {
     "name": "stdout",
     "output_type": "stream",
     "text": [
      "Epoch 68/250 | Train MAE (log): 0.39783 | Val Loss: 0.46830 | Val SMAPE: 43.89% | LR: 2.5e-04\n",
      "  -> New best validation SMAPE: 43.89%. Model saved.\n"
     ]
    },
    {
     "name": "stderr",
     "output_type": "stream",
     "text": [
      "                                                                       \r"
     ]
    },
    {
     "name": "stdout",
     "output_type": "stream",
     "text": [
      "Epoch 69/250 | Train MAE (log): 0.39705 | Val Loss: 0.46944 | Val SMAPE: 43.93% | LR: 2.5e-04\n"
     ]
    },
    {
     "name": "stderr",
     "output_type": "stream",
     "text": [
      "                                                                       \r"
     ]
    },
    {
     "name": "stdout",
     "output_type": "stream",
     "text": [
      "Epoch 70/250 | Train MAE (log): 0.39735 | Val Loss: 0.47010 | Val SMAPE: 44.50% | LR: 2.5e-04\n"
     ]
    },
    {
     "name": "stderr",
     "output_type": "stream",
     "text": [
      "                                                                       \r"
     ]
    },
    {
     "name": "stdout",
     "output_type": "stream",
     "text": [
      "Epoch 71/250 | Train MAE (log): 0.39790 | Val Loss: 0.47053 | Val SMAPE: 44.01% | LR: 2.5e-04\n"
     ]
    },
    {
     "name": "stderr",
     "output_type": "stream",
     "text": [
      "                                                                       \r"
     ]
    },
    {
     "name": "stdout",
     "output_type": "stream",
     "text": [
      "Epoch 72/250 | Train MAE (log): 0.39750 | Val Loss: 0.46684 | Val SMAPE: 44.06% | LR: 2.4e-04\n"
     ]
    },
    {
     "name": "stderr",
     "output_type": "stream",
     "text": [
      "                                                                       \r"
     ]
    },
    {
     "name": "stdout",
     "output_type": "stream",
     "text": [
      "Epoch 73/250 | Train MAE (log): 0.39789 | Val Loss: 0.46964 | Val SMAPE: 44.38% | LR: 2.4e-04\n"
     ]
    },
    {
     "name": "stderr",
     "output_type": "stream",
     "text": [
      "                                                                       \r"
     ]
    },
    {
     "name": "stdout",
     "output_type": "stream",
     "text": [
      "Epoch 74/250 | Train MAE (log): 0.39797 | Val Loss: 0.46909 | Val SMAPE: 44.19% | LR: 2.4e-04\n"
     ]
    },
    {
     "name": "stderr",
     "output_type": "stream",
     "text": [
      "                                                                       \r"
     ]
    },
    {
     "name": "stdout",
     "output_type": "stream",
     "text": [
      "Epoch 75/250 | Train MAE (log): 0.39709 | Val Loss: 0.46725 | Val SMAPE: 43.78% | LR: 2.4e-04\n",
      "  -> New best validation SMAPE: 43.78%. Model saved.\n"
     ]
    },
    {
     "name": "stderr",
     "output_type": "stream",
     "text": [
      "                                                                       \r"
     ]
    },
    {
     "name": "stdout",
     "output_type": "stream",
     "text": [
      "Epoch 76/250 | Train MAE (log): 0.39685 | Val Loss: 0.47020 | Val SMAPE: 43.90% | LR: 2.4e-04\n"
     ]
    },
    {
     "name": "stderr",
     "output_type": "stream",
     "text": [
      "                                                                       \r"
     ]
    },
    {
     "name": "stdout",
     "output_type": "stream",
     "text": [
      "Epoch 77/250 | Train MAE (log): 0.39661 | Val Loss: 0.46916 | Val SMAPE: 43.50% | LR: 2.4e-04\n",
      "  -> New best validation SMAPE: 43.50%. Model saved.\n"
     ]
    },
    {
     "name": "stderr",
     "output_type": "stream",
     "text": [
      "                                                                       \r"
     ]
    },
    {
     "name": "stdout",
     "output_type": "stream",
     "text": [
      "Epoch 78/250 | Train MAE (log): 0.39647 | Val Loss: 0.46950 | Val SMAPE: 43.31% | LR: 2.4e-04\n",
      "  -> New best validation SMAPE: 43.31%. Model saved.\n"
     ]
    },
    {
     "name": "stderr",
     "output_type": "stream",
     "text": [
      "                                                                       \r"
     ]
    },
    {
     "name": "stdout",
     "output_type": "stream",
     "text": [
      "Epoch 79/250 | Train MAE (log): 0.39651 | Val Loss: 0.46807 | Val SMAPE: 43.65% | LR: 2.3e-04\n"
     ]
    },
    {
     "name": "stderr",
     "output_type": "stream",
     "text": [
      "                                                                       \r"
     ]
    },
    {
     "name": "stdout",
     "output_type": "stream",
     "text": [
      "Epoch 80/250 | Train MAE (log): 0.39672 | Val Loss: 0.47042 | Val SMAPE: 43.41% | LR: 2.3e-04\n"
     ]
    },
    {
     "name": "stderr",
     "output_type": "stream",
     "text": [
      "                                                                       \r"
     ]
    },
    {
     "name": "stdout",
     "output_type": "stream",
     "text": [
      "Epoch 81/250 | Train MAE (log): 0.39673 | Val Loss: 0.46708 | Val SMAPE: 43.64% | LR: 2.3e-04\n"
     ]
    },
    {
     "name": "stderr",
     "output_type": "stream",
     "text": [
      "                                                                       \r"
     ]
    },
    {
     "name": "stdout",
     "output_type": "stream",
     "text": [
      "Epoch 82/250 | Train MAE (log): 0.39686 | Val Loss: 0.46805 | Val SMAPE: 43.93% | LR: 2.3e-04\n"
     ]
    },
    {
     "name": "stderr",
     "output_type": "stream",
     "text": [
      "                                                                       \r"
     ]
    },
    {
     "name": "stdout",
     "output_type": "stream",
     "text": [
      "Epoch 83/250 | Train MAE (log): 0.39706 | Val Loss: 0.47194 | Val SMAPE: 43.35% | LR: 2.3e-04\n"
     ]
    },
    {
     "name": "stderr",
     "output_type": "stream",
     "text": [
      "                                                                       \r"
     ]
    },
    {
     "name": "stdout",
     "output_type": "stream",
     "text": [
      "Epoch 84/250 | Train MAE (log): 0.39683 | Val Loss: 0.46890 | Val SMAPE: 43.52% | LR: 2.3e-04\n"
     ]
    },
    {
     "name": "stderr",
     "output_type": "stream",
     "text": [
      "                                                                       \r"
     ]
    },
    {
     "name": "stdout",
     "output_type": "stream",
     "text": [
      "Epoch 85/250 | Train MAE (log): 0.39658 | Val Loss: 0.47290 | Val SMAPE: 43.36% | LR: 2.2e-04\n"
     ]
    },
    {
     "name": "stderr",
     "output_type": "stream",
     "text": [
      "                                                                       \r"
     ]
    },
    {
     "name": "stdout",
     "output_type": "stream",
     "text": [
      "Epoch 86/250 | Train MAE (log): 0.39631 | Val Loss: 0.47199 | Val SMAPE: 43.28% | LR: 2.2e-04\n",
      "  -> New best validation SMAPE: 43.28%. Model saved.\n"
     ]
    },
    {
     "name": "stderr",
     "output_type": "stream",
     "text": [
      "                                                                       \r"
     ]
    },
    {
     "name": "stdout",
     "output_type": "stream",
     "text": [
      "Epoch 87/250 | Train MAE (log): 0.39678 | Val Loss: 0.47068 | Val SMAPE: 43.66% | LR: 2.2e-04\n"
     ]
    },
    {
     "name": "stderr",
     "output_type": "stream",
     "text": [
      "                                                                       \r"
     ]
    },
    {
     "name": "stdout",
     "output_type": "stream",
     "text": [
      "Epoch 88/250 | Train MAE (log): 0.39688 | Val Loss: 0.47179 | Val SMAPE: 43.95% | LR: 2.2e-04\n"
     ]
    },
    {
     "name": "stderr",
     "output_type": "stream",
     "text": [
      "                                                                       \r"
     ]
    },
    {
     "name": "stdout",
     "output_type": "stream",
     "text": [
      "Epoch 89/250 | Train MAE (log): 0.39658 | Val Loss: 0.47059 | Val SMAPE: 42.96% | LR: 2.2e-04\n",
      "  -> New best validation SMAPE: 42.96%. Model saved.\n"
     ]
    },
    {
     "name": "stderr",
     "output_type": "stream",
     "text": [
      "                                                                       \r"
     ]
    },
    {
     "name": "stdout",
     "output_type": "stream",
     "text": [
      "Epoch 90/250 | Train MAE (log): 0.39635 | Val Loss: 0.47040 | Val SMAPE: 43.01% | LR: 2.2e-04\n"
     ]
    },
    {
     "name": "stderr",
     "output_type": "stream",
     "text": [
      "                                                                       \r"
     ]
    },
    {
     "name": "stdout",
     "output_type": "stream",
     "text": [
      "Epoch 91/250 | Train MAE (log): 0.39637 | Val Loss: 0.46818 | Val SMAPE: 43.17% | LR: 2.1e-04\n"
     ]
    },
    {
     "name": "stderr",
     "output_type": "stream",
     "text": [
      "                                                                       \r"
     ]
    },
    {
     "name": "stdout",
     "output_type": "stream",
     "text": [
      "Epoch 92/250 | Train MAE (log): 0.39614 | Val Loss: 0.46917 | Val SMAPE: 43.20% | LR: 2.1e-04\n"
     ]
    },
    {
     "name": "stderr",
     "output_type": "stream",
     "text": [
      "                                                                       \r"
     ]
    },
    {
     "name": "stdout",
     "output_type": "stream",
     "text": [
      "Epoch 93/250 | Train MAE (log): 0.39694 | Val Loss: 0.46918 | Val SMAPE: 43.45% | LR: 2.1e-04\n"
     ]
    },
    {
     "name": "stderr",
     "output_type": "stream",
     "text": [
      "                                                                       \r"
     ]
    },
    {
     "name": "stdout",
     "output_type": "stream",
     "text": [
      "Epoch 94/250 | Train MAE (log): 0.39625 | Val Loss: 0.47238 | Val SMAPE: 43.37% | LR: 2.1e-04\n"
     ]
    },
    {
     "name": "stderr",
     "output_type": "stream",
     "text": [
      "                                                                       \r"
     ]
    },
    {
     "name": "stdout",
     "output_type": "stream",
     "text": [
      "Epoch 95/250 | Train MAE (log): 0.39636 | Val Loss: 0.47065 | Val SMAPE: 43.67% | LR: 2.1e-04\n"
     ]
    },
    {
     "name": "stderr",
     "output_type": "stream",
     "text": [
      "                                                                       \r"
     ]
    },
    {
     "name": "stdout",
     "output_type": "stream",
     "text": [
      "Epoch 96/250 | Train MAE (log): 0.39628 | Val Loss: 0.46809 | Val SMAPE: 43.84% | LR: 2.1e-04\n"
     ]
    },
    {
     "name": "stderr",
     "output_type": "stream",
     "text": [
      "                                                                       \r"
     ]
    },
    {
     "name": "stdout",
     "output_type": "stream",
     "text": [
      "Epoch 97/250 | Train MAE (log): 0.39604 | Val Loss: 0.46874 | Val SMAPE: 43.03% | LR: 2.0e-04\n"
     ]
    },
    {
     "name": "stderr",
     "output_type": "stream",
     "text": [
      "                                                                       \r"
     ]
    },
    {
     "name": "stdout",
     "output_type": "stream",
     "text": [
      "Epoch 98/250 | Train MAE (log): 0.39569 | Val Loss: 0.46893 | Val SMAPE: 43.29% | LR: 2.0e-04\n"
     ]
    },
    {
     "name": "stderr",
     "output_type": "stream",
     "text": [
      "                                                                       \r"
     ]
    },
    {
     "name": "stdout",
     "output_type": "stream",
     "text": [
      "Epoch 99/250 | Train MAE (log): 0.39560 | Val Loss: 0.46635 | Val SMAPE: 43.19% | LR: 2.0e-04\n"
     ]
    },
    {
     "name": "stderr",
     "output_type": "stream",
     "text": [
      "                                                                        \r"
     ]
    },
    {
     "name": "stdout",
     "output_type": "stream",
     "text": [
      "Epoch 100/250 | Train MAE (log): 0.39562 | Val Loss: 0.46842 | Val SMAPE: 43.04% | LR: 2.0e-04\n"
     ]
    },
    {
     "name": "stderr",
     "output_type": "stream",
     "text": [
      "                                                                        \r"
     ]
    },
    {
     "name": "stdout",
     "output_type": "stream",
     "text": [
      "Epoch 101/250 | Train MAE (log): 0.39609 | Val Loss: 0.46900 | Val SMAPE: 43.20% | LR: 2.0e-04\n"
     ]
    },
    {
     "name": "stderr",
     "output_type": "stream",
     "text": [
      "                                                                        \r"
     ]
    },
    {
     "name": "stdout",
     "output_type": "stream",
     "text": [
      "Epoch 102/250 | Train MAE (log): 0.39628 | Val Loss: 0.46934 | Val SMAPE: 43.26% | LR: 1.9e-04\n"
     ]
    },
    {
     "name": "stderr",
     "output_type": "stream",
     "text": [
      "                                                                        \r"
     ]
    },
    {
     "name": "stdout",
     "output_type": "stream",
     "text": [
      "Epoch 103/250 | Train MAE (log): 0.39563 | Val Loss: 0.46868 | Val SMAPE: 42.96% | LR: 1.9e-04\n"
     ]
    },
    {
     "name": "stderr",
     "output_type": "stream",
     "text": [
      "                                                                        \r"
     ]
    },
    {
     "name": "stdout",
     "output_type": "stream",
     "text": [
      "Epoch 104/250 | Train MAE (log): 0.39535 | Val Loss: 0.46906 | Val SMAPE: 43.25% | LR: 1.9e-04\n"
     ]
    },
    {
     "name": "stderr",
     "output_type": "stream",
     "text": [
      "                                                                        \r"
     ]
    },
    {
     "name": "stdout",
     "output_type": "stream",
     "text": [
      "Epoch 105/250 | Train MAE (log): 0.39567 | Val Loss: 0.46838 | Val SMAPE: 42.69% | LR: 1.9e-04\n",
      "  -> New best validation SMAPE: 42.69%. Model saved.\n"
     ]
    },
    {
     "name": "stderr",
     "output_type": "stream",
     "text": [
      "                                                                        \r"
     ]
    },
    {
     "name": "stdout",
     "output_type": "stream",
     "text": [
      "Epoch 106/250 | Train MAE (log): 0.39556 | Val Loss: 0.46890 | Val SMAPE: 42.95% | LR: 1.9e-04\n"
     ]
    },
    {
     "name": "stderr",
     "output_type": "stream",
     "text": [
      "                                                                        \r"
     ]
    },
    {
     "name": "stdout",
     "output_type": "stream",
     "text": [
      "Epoch 107/250 | Train MAE (log): 0.39591 | Val Loss: 0.47074 | Val SMAPE: 43.85% | LR: 1.9e-04\n"
     ]
    },
    {
     "name": "stderr",
     "output_type": "stream",
     "text": [
      "                                                                        \r"
     ]
    },
    {
     "name": "stdout",
     "output_type": "stream",
     "text": [
      "Epoch 108/250 | Train MAE (log): 0.39602 | Val Loss: 0.47259 | Val SMAPE: 42.98% | LR: 1.8e-04\n"
     ]
    },
    {
     "name": "stderr",
     "output_type": "stream",
     "text": [
      "                                                                        \r"
     ]
    },
    {
     "name": "stdout",
     "output_type": "stream",
     "text": [
      "Epoch 109/250 | Train MAE (log): 0.39579 | Val Loss: 0.46782 | Val SMAPE: 43.12% | LR: 1.8e-04\n"
     ]
    },
    {
     "name": "stderr",
     "output_type": "stream",
     "text": [
      "                                                                        \r"
     ]
    },
    {
     "name": "stdout",
     "output_type": "stream",
     "text": [
      "Epoch 110/250 | Train MAE (log): 0.39556 | Val Loss: 0.46986 | Val SMAPE: 42.83% | LR: 1.8e-04\n"
     ]
    },
    {
     "name": "stderr",
     "output_type": "stream",
     "text": [
      "                                                                        \r"
     ]
    },
    {
     "name": "stdout",
     "output_type": "stream",
     "text": [
      "Epoch 111/250 | Train MAE (log): 0.39546 | Val Loss: 0.46934 | Val SMAPE: 42.75% | LR: 1.8e-04\n"
     ]
    },
    {
     "name": "stderr",
     "output_type": "stream",
     "text": [
      "                                                                        \r"
     ]
    },
    {
     "name": "stdout",
     "output_type": "stream",
     "text": [
      "Epoch 112/250 | Train MAE (log): 0.39533 | Val Loss: 0.46829 | Val SMAPE: 43.71% | LR: 1.8e-04\n"
     ]
    },
    {
     "name": "stderr",
     "output_type": "stream",
     "text": [
      "                                                                        \r"
     ]
    },
    {
     "name": "stdout",
     "output_type": "stream",
     "text": [
      "Epoch 113/250 | Train MAE (log): 0.39522 | Val Loss: 0.46928 | Val SMAPE: 42.83% | LR: 1.7e-04\n"
     ]
    },
    {
     "name": "stderr",
     "output_type": "stream",
     "text": [
      "                                                                        \r"
     ]
    },
    {
     "name": "stdout",
     "output_type": "stream",
     "text": [
      "Epoch 114/250 | Train MAE (log): 0.39519 | Val Loss: 0.46852 | Val SMAPE: 42.80% | LR: 1.7e-04\n"
     ]
    },
    {
     "name": "stderr",
     "output_type": "stream",
     "text": [
      "                                                                        \r"
     ]
    },
    {
     "name": "stdout",
     "output_type": "stream",
     "text": [
      "Epoch 115/250 | Train MAE (log): 0.39522 | Val Loss: 0.46914 | Val SMAPE: 42.86% | LR: 1.7e-04\n"
     ]
    },
    {
     "name": "stderr",
     "output_type": "stream",
     "text": [
      "                                                                        \r"
     ]
    },
    {
     "name": "stdout",
     "output_type": "stream",
     "text": [
      "Epoch 116/250 | Train MAE (log): 0.39524 | Val Loss: 0.46869 | Val SMAPE: 43.06% | LR: 1.7e-04\n"
     ]
    },
    {
     "name": "stderr",
     "output_type": "stream",
     "text": [
      "                                                                        \r"
     ]
    },
    {
     "name": "stdout",
     "output_type": "stream",
     "text": [
      "Epoch 117/250 | Train MAE (log): 0.39526 | Val Loss: 0.46923 | Val SMAPE: 42.94% | LR: 1.7e-04\n"
     ]
    },
    {
     "name": "stderr",
     "output_type": "stream",
     "text": [
      "                                                                        \r"
     ]
    },
    {
     "name": "stdout",
     "output_type": "stream",
     "text": [
      "Epoch 118/250 | Train MAE (log): 0.39510 | Val Loss: 0.46870 | Val SMAPE: 42.80% | LR: 1.7e-04\n"
     ]
    },
    {
     "name": "stderr",
     "output_type": "stream",
     "text": [
      "                                                                        \r"
     ]
    },
    {
     "name": "stdout",
     "output_type": "stream",
     "text": [
      "Epoch 119/250 | Train MAE (log): 0.39496 | Val Loss: 0.46725 | Val SMAPE: 42.85% | LR: 1.6e-04\n"
     ]
    },
    {
     "name": "stderr",
     "output_type": "stream",
     "text": [
      "                                                                        \r"
     ]
    },
    {
     "name": "stdout",
     "output_type": "stream",
     "text": [
      "Epoch 120/250 | Train MAE (log): 0.39529 | Val Loss: 0.46750 | Val SMAPE: 43.16% | LR: 1.6e-04\n"
     ]
    },
    {
     "name": "stderr",
     "output_type": "stream",
     "text": [
      "                                                                        \r"
     ]
    },
    {
     "name": "stdout",
     "output_type": "stream",
     "text": [
      "Epoch 121/250 | Train MAE (log): 0.39512 | Val Loss: 0.46814 | Val SMAPE: 42.79% | LR: 1.6e-04\n"
     ]
    },
    {
     "name": "stderr",
     "output_type": "stream",
     "text": [
      "                                                                        \r"
     ]
    },
    {
     "name": "stdout",
     "output_type": "stream",
     "text": [
      "Epoch 122/250 | Train MAE (log): 0.39506 | Val Loss: 0.46968 | Val SMAPE: 42.62% | LR: 1.6e-04\n",
      "  -> New best validation SMAPE: 42.62%. Model saved.\n"
     ]
    },
    {
     "name": "stderr",
     "output_type": "stream",
     "text": [
      "                                                                        \r"
     ]
    },
    {
     "name": "stdout",
     "output_type": "stream",
     "text": [
      "Epoch 123/250 | Train MAE (log): 0.39484 | Val Loss: 0.46758 | Val SMAPE: 42.83% | LR: 1.6e-04\n"
     ]
    },
    {
     "name": "stderr",
     "output_type": "stream",
     "text": [
      "                                                                        \r"
     ]
    },
    {
     "name": "stdout",
     "output_type": "stream",
     "text": [
      "Epoch 124/250 | Train MAE (log): 0.39485 | Val Loss: 0.46810 | Val SMAPE: 43.43% | LR: 1.5e-04\n"
     ]
    },
    {
     "name": "stderr",
     "output_type": "stream",
     "text": [
      "                                                                        \r"
     ]
    },
    {
     "name": "stdout",
     "output_type": "stream",
     "text": [
      "Epoch 125/250 | Train MAE (log): 0.39482 | Val Loss: 0.46862 | Val SMAPE: 42.63% | LR: 1.5e-04\n"
     ]
    },
    {
     "name": "stderr",
     "output_type": "stream",
     "text": [
      "                                                                        \r"
     ]
    },
    {
     "name": "stdout",
     "output_type": "stream",
     "text": [
      "Epoch 126/250 | Train MAE (log): 0.39474 | Val Loss: 0.47061 | Val SMAPE: 42.58% | LR: 1.5e-04\n",
      "  -> New best validation SMAPE: 42.58%. Model saved.\n"
     ]
    },
    {
     "name": "stderr",
     "output_type": "stream",
     "text": [
      "                                                                        \r"
     ]
    },
    {
     "name": "stdout",
     "output_type": "stream",
     "text": [
      "Epoch 127/250 | Train MAE (log): 0.39488 | Val Loss: 0.47284 | Val SMAPE: 42.45% | LR: 1.5e-04\n",
      "  -> New best validation SMAPE: 42.45%. Model saved.\n"
     ]
    },
    {
     "name": "stderr",
     "output_type": "stream",
     "text": [
      "                                                                        \r"
     ]
    },
    {
     "name": "stdout",
     "output_type": "stream",
     "text": [
      "Epoch 128/250 | Train MAE (log): 0.39512 | Val Loss: 0.46923 | Val SMAPE: 42.47% | LR: 1.5e-04\n"
     ]
    },
    {
     "name": "stderr",
     "output_type": "stream",
     "text": [
      "                                                                        \r"
     ]
    },
    {
     "name": "stdout",
     "output_type": "stream",
     "text": [
      "Epoch 129/250 | Train MAE (log): 0.39484 | Val Loss: 0.46706 | Val SMAPE: 42.82% | LR: 1.4e-04\n"
     ]
    },
    {
     "name": "stderr",
     "output_type": "stream",
     "text": [
      "                                                                        \r"
     ]
    },
    {
     "name": "stdout",
     "output_type": "stream",
     "text": [
      "Epoch 130/250 | Train MAE (log): 0.39464 | Val Loss: 0.46780 | Val SMAPE: 42.69% | LR: 1.4e-04\n"
     ]
    },
    {
     "name": "stderr",
     "output_type": "stream",
     "text": [
      "                                                                        \r"
     ]
    },
    {
     "name": "stdout",
     "output_type": "stream",
     "text": [
      "Epoch 131/250 | Train MAE (log): 0.39488 | Val Loss: 0.47073 | Val SMAPE: 42.52% | LR: 1.4e-04\n"
     ]
    },
    {
     "name": "stderr",
     "output_type": "stream",
     "text": [
      "                                                                        \r"
     ]
    },
    {
     "name": "stdout",
     "output_type": "stream",
     "text": [
      "Epoch 132/250 | Train MAE (log): 0.39482 | Val Loss: 0.46970 | Val SMAPE: 42.60% | LR: 1.4e-04\n"
     ]
    },
    {
     "name": "stderr",
     "output_type": "stream",
     "text": [
      "                                                                        \r"
     ]
    },
    {
     "name": "stdout",
     "output_type": "stream",
     "text": [
      "Epoch 133/250 | Train MAE (log): 0.39480 | Val Loss: 0.46917 | Val SMAPE: 42.45% | LR: 1.4e-04\n"
     ]
    },
    {
     "name": "stderr",
     "output_type": "stream",
     "text": [
      "                                                                        \r"
     ]
    },
    {
     "name": "stdout",
     "output_type": "stream",
     "text": [
      "Epoch 134/250 | Train MAE (log): 0.39491 | Val Loss: 0.46902 | Val SMAPE: 42.76% | LR: 1.3e-04\n"
     ]
    },
    {
     "name": "stderr",
     "output_type": "stream",
     "text": [
      "                                                                        \r"
     ]
    },
    {
     "name": "stdout",
     "output_type": "stream",
     "text": [
      "Epoch 135/250 | Train MAE (log): 0.39477 | Val Loss: 0.46814 | Val SMAPE: 42.73% | LR: 1.3e-04\n"
     ]
    },
    {
     "name": "stderr",
     "output_type": "stream",
     "text": [
      "                                                                        \r"
     ]
    },
    {
     "name": "stdout",
     "output_type": "stream",
     "text": [
      "Epoch 136/250 | Train MAE (log): 0.39461 | Val Loss: 0.46950 | Val SMAPE: 42.42% | LR: 1.3e-04\n",
      "  -> New best validation SMAPE: 42.42%. Model saved.\n"
     ]
    },
    {
     "name": "stderr",
     "output_type": "stream",
     "text": [
      "                                                                        \r"
     ]
    },
    {
     "name": "stdout",
     "output_type": "stream",
     "text": [
      "Epoch 137/250 | Train MAE (log): 0.39445 | Val Loss: 0.47027 | Val SMAPE: 42.17% | LR: 1.3e-04\n",
      "  -> New best validation SMAPE: 42.17%. Model saved.\n"
     ]
    },
    {
     "name": "stderr",
     "output_type": "stream",
     "text": [
      "                                                                        \r"
     ]
    },
    {
     "name": "stdout",
     "output_type": "stream",
     "text": [
      "Epoch 138/250 | Train MAE (log): 0.39450 | Val Loss: 0.46919 | Val SMAPE: 42.39% | LR: 1.3e-04\n"
     ]
    },
    {
     "name": "stderr",
     "output_type": "stream",
     "text": [
      "                                                                        \r"
     ]
    },
    {
     "name": "stdout",
     "output_type": "stream",
     "text": [
      "Epoch 139/250 | Train MAE (log): 0.39466 | Val Loss: 0.46831 | Val SMAPE: 42.61% | LR: 1.3e-04\n"
     ]
    },
    {
     "name": "stderr",
     "output_type": "stream",
     "text": [
      "                                                                        \r"
     ]
    },
    {
     "name": "stdout",
     "output_type": "stream",
     "text": [
      "Epoch 140/250 | Train MAE (log): 0.39449 | Val Loss: 0.46807 | Val SMAPE: 42.68% | LR: 1.2e-04\n"
     ]
    },
    {
     "name": "stderr",
     "output_type": "stream",
     "text": [
      "                                                                        \r"
     ]
    },
    {
     "name": "stdout",
     "output_type": "stream",
     "text": [
      "Epoch 141/250 | Train MAE (log): 0.39461 | Val Loss: 0.46864 | Val SMAPE: 42.61% | LR: 1.2e-04\n"
     ]
    },
    {
     "name": "stderr",
     "output_type": "stream",
     "text": [
      "                                                                        \r"
     ]
    },
    {
     "name": "stdout",
     "output_type": "stream",
     "text": [
      "Epoch 142/250 | Train MAE (log): 0.39474 | Val Loss: 0.46889 | Val SMAPE: 42.43% | LR: 1.2e-04\n"
     ]
    },
    {
     "name": "stderr",
     "output_type": "stream",
     "text": [
      "                                                                        \r"
     ]
    },
    {
     "name": "stdout",
     "output_type": "stream",
     "text": [
      "Epoch 143/250 | Train MAE (log): 0.39460 | Val Loss: 0.46908 | Val SMAPE: 42.42% | LR: 1.2e-04\n"
     ]
    },
    {
     "name": "stderr",
     "output_type": "stream",
     "text": [
      "                                                                        \r"
     ]
    },
    {
     "name": "stdout",
     "output_type": "stream",
     "text": [
      "Epoch 144/250 | Train MAE (log): 0.39431 | Val Loss: 0.47008 | Val SMAPE: 42.33% | LR: 1.2e-04\n"
     ]
    },
    {
     "name": "stderr",
     "output_type": "stream",
     "text": [
      "                                                                        \r"
     ]
    },
    {
     "name": "stdout",
     "output_type": "stream",
     "text": [
      "Epoch 145/250 | Train MAE (log): 0.39448 | Val Loss: 0.46869 | Val SMAPE: 42.12% | LR: 1.1e-04\n",
      "  -> New best validation SMAPE: 42.12%. Model saved.\n"
     ]
    },
    {
     "name": "stderr",
     "output_type": "stream",
     "text": [
      "                                                                        \r"
     ]
    },
    {
     "name": "stdout",
     "output_type": "stream",
     "text": [
      "Epoch 146/250 | Train MAE (log): 0.39463 | Val Loss: 0.46767 | Val SMAPE: 42.77% | LR: 1.1e-04\n"
     ]
    },
    {
     "name": "stderr",
     "output_type": "stream",
     "text": [
      "                                                                        \r"
     ]
    },
    {
     "name": "stdout",
     "output_type": "stream",
     "text": [
      "Epoch 147/250 | Train MAE (log): 0.39456 | Val Loss: 0.46824 | Val SMAPE: 42.49% | LR: 1.1e-04\n"
     ]
    },
    {
     "name": "stderr",
     "output_type": "stream",
     "text": [
      "                                                                        \r"
     ]
    },
    {
     "name": "stdout",
     "output_type": "stream",
     "text": [
      "Epoch 148/250 | Train MAE (log): 0.39440 | Val Loss: 0.46825 | Val SMAPE: 42.72% | LR: 1.1e-04\n"
     ]
    },
    {
     "name": "stderr",
     "output_type": "stream",
     "text": [
      "                                                                        \r"
     ]
    },
    {
     "name": "stdout",
     "output_type": "stream",
     "text": [
      "Epoch 149/250 | Train MAE (log): 0.39434 | Val Loss: 0.47029 | Val SMAPE: 42.12% | LR: 1.1e-04\n"
     ]
    },
    {
     "name": "stderr",
     "output_type": "stream",
     "text": [
      "                                                                        \r"
     ]
    },
    {
     "name": "stdout",
     "output_type": "stream",
     "text": [
      "Epoch 150/250 | Train MAE (log): 0.39423 | Val Loss: 0.46915 | Val SMAPE: 41.96% | LR: 1.1e-04\n",
      "  -> New best validation SMAPE: 41.96%. Model saved.\n"
     ]
    },
    {
     "name": "stderr",
     "output_type": "stream",
     "text": [
      "                                                                        \r"
     ]
    },
    {
     "name": "stdout",
     "output_type": "stream",
     "text": [
      "Epoch 151/250 | Train MAE (log): 0.39432 | Val Loss: 0.46936 | Val SMAPE: 42.17% | LR: 1.0e-04\n"
     ]
    },
    {
     "name": "stderr",
     "output_type": "stream",
     "text": [
      "                                                                        \r"
     ]
    },
    {
     "name": "stdout",
     "output_type": "stream",
     "text": [
      "Epoch 152/250 | Train MAE (log): 0.39428 | Val Loss: 0.46758 | Val SMAPE: 42.06% | LR: 1.0e-04\n"
     ]
    },
    {
     "name": "stderr",
     "output_type": "stream",
     "text": [
      "                                                                        \r"
     ]
    },
    {
     "name": "stdout",
     "output_type": "stream",
     "text": [
      "Epoch 153/250 | Train MAE (log): 0.39439 | Val Loss: 0.46800 | Val SMAPE: 42.17% | LR: 1.0e-04\n"
     ]
    },
    {
     "name": "stderr",
     "output_type": "stream",
     "text": [
      "                                                                        \r"
     ]
    },
    {
     "name": "stdout",
     "output_type": "stream",
     "text": [
      "Epoch 154/250 | Train MAE (log): 0.39416 | Val Loss: 0.46919 | Val SMAPE: 42.11% | LR: 9.8e-05\n"
     ]
    },
    {
     "name": "stderr",
     "output_type": "stream",
     "text": [
      "                                                                        \r"
     ]
    },
    {
     "name": "stdout",
     "output_type": "stream",
     "text": [
      "Epoch 155/250 | Train MAE (log): 0.39429 | Val Loss: 0.46868 | Val SMAPE: 42.31% | LR: 9.7e-05\n"
     ]
    },
    {
     "name": "stderr",
     "output_type": "stream",
     "text": [
      "                                                                        \r"
     ]
    },
    {
     "name": "stdout",
     "output_type": "stream",
     "text": [
      "Epoch 156/250 | Train MAE (log): 0.39416 | Val Loss: 0.46719 | Val SMAPE: 42.24% | LR: 9.5e-05\n"
     ]
    },
    {
     "name": "stderr",
     "output_type": "stream",
     "text": [
      "                                                                        \r"
     ]
    },
    {
     "name": "stdout",
     "output_type": "stream",
     "text": [
      "Epoch 157/250 | Train MAE (log): 0.39447 | Val Loss: 0.46945 | Val SMAPE: 42.38% | LR: 9.3e-05\n"
     ]
    },
    {
     "name": "stderr",
     "output_type": "stream",
     "text": [
      "                                                                        \r"
     ]
    },
    {
     "name": "stdout",
     "output_type": "stream",
     "text": [
      "Epoch 158/250 | Train MAE (log): 0.39432 | Val Loss: 0.46874 | Val SMAPE: 41.95% | LR: 9.1e-05\n",
      "  -> New best validation SMAPE: 41.95%. Model saved.\n"
     ]
    },
    {
     "name": "stderr",
     "output_type": "stream",
     "text": [
      "                                                                        \r"
     ]
    },
    {
     "name": "stdout",
     "output_type": "stream",
     "text": [
      "Epoch 159/250 | Train MAE (log): 0.39417 | Val Loss: 0.46935 | Val SMAPE: 41.97% | LR: 9.0e-05\n"
     ]
    },
    {
     "name": "stderr",
     "output_type": "stream",
     "text": [
      "                                                                        \r"
     ]
    },
    {
     "name": "stdout",
     "output_type": "stream",
     "text": [
      "Epoch 160/250 | Train MAE (log): 0.39429 | Val Loss: 0.46883 | Val SMAPE: 42.53% | LR: 8.8e-05\n"
     ]
    },
    {
     "name": "stderr",
     "output_type": "stream",
     "text": [
      "                                                                        \r"
     ]
    },
    {
     "name": "stdout",
     "output_type": "stream",
     "text": [
      "Epoch 161/250 | Train MAE (log): 0.39430 | Val Loss: 0.46931 | Val SMAPE: 41.99% | LR: 8.6e-05\n"
     ]
    },
    {
     "name": "stderr",
     "output_type": "stream",
     "text": [
      "                                                                        \r"
     ]
    },
    {
     "name": "stdout",
     "output_type": "stream",
     "text": [
      "Epoch 162/250 | Train MAE (log): 0.39434 | Val Loss: 0.46834 | Val SMAPE: 42.40% | LR: 8.4e-05\n"
     ]
    },
    {
     "name": "stderr",
     "output_type": "stream",
     "text": [
      "                                                                        \r"
     ]
    },
    {
     "name": "stdout",
     "output_type": "stream",
     "text": [
      "Epoch 163/250 | Train MAE (log): 0.39421 | Val Loss: 0.46820 | Val SMAPE: 41.90% | LR: 8.3e-05\n",
      "  -> New best validation SMAPE: 41.90%. Model saved.\n"
     ]
    },
    {
     "name": "stderr",
     "output_type": "stream",
     "text": [
      "                                                                        \r"
     ]
    },
    {
     "name": "stdout",
     "output_type": "stream",
     "text": [
      "Epoch 164/250 | Train MAE (log): 0.39407 | Val Loss: 0.46783 | Val SMAPE: 42.49% | LR: 8.1e-05\n"
     ]
    },
    {
     "name": "stderr",
     "output_type": "stream",
     "text": [
      "                                                                        \r"
     ]
    },
    {
     "name": "stdout",
     "output_type": "stream",
     "text": [
      "Epoch 165/250 | Train MAE (log): 0.39401 | Val Loss: 0.46911 | Val SMAPE: 42.29% | LR: 7.9e-05\n"
     ]
    },
    {
     "name": "stderr",
     "output_type": "stream",
     "text": [
      "                                                                        \r"
     ]
    },
    {
     "name": "stdout",
     "output_type": "stream",
     "text": [
      "Epoch 166/250 | Train MAE (log): 0.39410 | Val Loss: 0.46855 | Val SMAPE: 42.26% | LR: 7.8e-05\n"
     ]
    },
    {
     "name": "stderr",
     "output_type": "stream",
     "text": [
      "                                                                        \r"
     ]
    },
    {
     "name": "stdout",
     "output_type": "stream",
     "text": [
      "Epoch 167/250 | Train MAE (log): 0.39414 | Val Loss: 0.47016 | Val SMAPE: 41.92% | LR: 7.6e-05\n"
     ]
    },
    {
     "name": "stderr",
     "output_type": "stream",
     "text": [
      "                                                                        \r"
     ]
    },
    {
     "name": "stdout",
     "output_type": "stream",
     "text": [
      "Epoch 168/250 | Train MAE (log): 0.39397 | Val Loss: 0.47126 | Val SMAPE: 41.94% | LR: 7.4e-05\n"
     ]
    },
    {
     "name": "stderr",
     "output_type": "stream",
     "text": [
      "                                                                        \r"
     ]
    },
    {
     "name": "stdout",
     "output_type": "stream",
     "text": [
      "Epoch 169/250 | Train MAE (log): 0.39408 | Val Loss: 0.46808 | Val SMAPE: 42.20% | LR: 7.3e-05\n"
     ]
    },
    {
     "name": "stderr",
     "output_type": "stream",
     "text": [
      "                                                                        \r"
     ]
    },
    {
     "name": "stdout",
     "output_type": "stream",
     "text": [
      "Epoch 170/250 | Train MAE (log): 0.39411 | Val Loss: 0.46940 | Val SMAPE: 41.87% | LR: 7.1e-05\n",
      "  -> New best validation SMAPE: 41.87%. Model saved.\n"
     ]
    },
    {
     "name": "stderr",
     "output_type": "stream",
     "text": [
      "                                                                        \r"
     ]
    },
    {
     "name": "stdout",
     "output_type": "stream",
     "text": [
      "Epoch 171/250 | Train MAE (log): 0.39403 | Val Loss: 0.46892 | Val SMAPE: 41.94% | LR: 7.0e-05\n"
     ]
    },
    {
     "name": "stderr",
     "output_type": "stream",
     "text": [
      "                                                                        \r"
     ]
    },
    {
     "name": "stdout",
     "output_type": "stream",
     "text": [
      "Epoch 172/250 | Train MAE (log): 0.39402 | Val Loss: 0.46707 | Val SMAPE: 42.65% | LR: 6.8e-05\n"
     ]
    },
    {
     "name": "stderr",
     "output_type": "stream",
     "text": [
      "                                                                        \r"
     ]
    },
    {
     "name": "stdout",
     "output_type": "stream",
     "text": [
      "Epoch 173/250 | Train MAE (log): 0.39406 | Val Loss: 0.46857 | Val SMAPE: 42.17% | LR: 6.6e-05\n"
     ]
    },
    {
     "name": "stderr",
     "output_type": "stream",
     "text": [
      "                                                                        \r"
     ]
    },
    {
     "name": "stdout",
     "output_type": "stream",
     "text": [
      "Epoch 174/250 | Train MAE (log): 0.39408 | Val Loss: 0.46905 | Val SMAPE: 41.96% | LR: 6.5e-05\n"
     ]
    },
    {
     "name": "stderr",
     "output_type": "stream",
     "text": [
      "                                                                        \r"
     ]
    },
    {
     "name": "stdout",
     "output_type": "stream",
     "text": [
      "Epoch 175/250 | Train MAE (log): 0.39402 | Val Loss: 0.46914 | Val SMAPE: 41.80% | LR: 6.3e-05\n",
      "  -> New best validation SMAPE: 41.80%. Model saved.\n"
     ]
    },
    {
     "name": "stderr",
     "output_type": "stream",
     "text": [
      "                                                                        \r"
     ]
    },
    {
     "name": "stdout",
     "output_type": "stream",
     "text": [
      "Epoch 176/250 | Train MAE (log): 0.39392 | Val Loss: 0.46963 | Val SMAPE: 41.98% | LR: 6.2e-05\n"
     ]
    },
    {
     "name": "stderr",
     "output_type": "stream",
     "text": [
      "                                                                        \r"
     ]
    },
    {
     "name": "stdout",
     "output_type": "stream",
     "text": [
      "Epoch 177/250 | Train MAE (log): 0.39404 | Val Loss: 0.46975 | Val SMAPE: 41.66% | LR: 6.0e-05\n",
      "  -> New best validation SMAPE: 41.66%. Model saved.\n"
     ]
    },
    {
     "name": "stderr",
     "output_type": "stream",
     "text": [
      "                                                                        \r"
     ]
    },
    {
     "name": "stdout",
     "output_type": "stream",
     "text": [
      "Epoch 178/250 | Train MAE (log): 0.39397 | Val Loss: 0.46786 | Val SMAPE: 42.06% | LR: 5.9e-05\n"
     ]
    },
    {
     "name": "stderr",
     "output_type": "stream",
     "text": [
      "                                                                        \r"
     ]
    },
    {
     "name": "stdout",
     "output_type": "stream",
     "text": [
      "Epoch 179/250 | Train MAE (log): 0.39390 | Val Loss: 0.46888 | Val SMAPE: 41.88% | LR: 5.7e-05\n"
     ]
    },
    {
     "name": "stderr",
     "output_type": "stream",
     "text": [
      "                                                                        \r"
     ]
    },
    {
     "name": "stdout",
     "output_type": "stream",
     "text": [
      "Epoch 180/250 | Train MAE (log): 0.39379 | Val Loss: 0.46972 | Val SMAPE: 41.80% | LR: 5.6e-05\n"
     ]
    },
    {
     "name": "stderr",
     "output_type": "stream",
     "text": [
      "                                                                        \r"
     ]
    },
    {
     "name": "stdout",
     "output_type": "stream",
     "text": [
      "Epoch 181/250 | Train MAE (log): 0.39392 | Val Loss: 0.46804 | Val SMAPE: 41.92% | LR: 5.4e-05\n"
     ]
    },
    {
     "name": "stderr",
     "output_type": "stream",
     "text": [
      "                                                                        \r"
     ]
    },
    {
     "name": "stdout",
     "output_type": "stream",
     "text": [
      "Epoch 182/250 | Train MAE (log): 0.39400 | Val Loss: 0.46944 | Val SMAPE: 41.64% | LR: 5.3e-05\n",
      "  -> New best validation SMAPE: 41.64%. Model saved.\n"
     ]
    },
    {
     "name": "stderr",
     "output_type": "stream",
     "text": [
      "                                                                        \r"
     ]
    },
    {
     "name": "stdout",
     "output_type": "stream",
     "text": [
      "Epoch 183/250 | Train MAE (log): 0.39392 | Val Loss: 0.47053 | Val SMAPE: 41.70% | LR: 5.2e-05\n"
     ]
    },
    {
     "name": "stderr",
     "output_type": "stream",
     "text": [
      "                                                                        \r"
     ]
    },
    {
     "name": "stdout",
     "output_type": "stream",
     "text": [
      "Epoch 184/250 | Train MAE (log): 0.39391 | Val Loss: 0.47079 | Val SMAPE: 41.92% | LR: 5.0e-05\n"
     ]
    },
    {
     "name": "stderr",
     "output_type": "stream",
     "text": [
      "                                                                        \r"
     ]
    },
    {
     "name": "stdout",
     "output_type": "stream",
     "text": [
      "Epoch 185/250 | Train MAE (log): 0.39394 | Val Loss: 0.46800 | Val SMAPE: 42.13% | LR: 4.9e-05\n"
     ]
    },
    {
     "name": "stderr",
     "output_type": "stream",
     "text": [
      "                                                                        \r"
     ]
    },
    {
     "name": "stdout",
     "output_type": "stream",
     "text": [
      "Epoch 186/250 | Train MAE (log): 0.39381 | Val Loss: 0.47045 | Val SMAPE: 41.83% | LR: 4.7e-05\n"
     ]
    },
    {
     "name": "stderr",
     "output_type": "stream",
     "text": [
      "                                                                        \r"
     ]
    },
    {
     "name": "stdout",
     "output_type": "stream",
     "text": [
      "Epoch 187/250 | Train MAE (log): 0.39391 | Val Loss: 0.46875 | Val SMAPE: 41.67% | LR: 4.6e-05\n"
     ]
    },
    {
     "name": "stderr",
     "output_type": "stream",
     "text": [
      "                                                                        \r"
     ]
    },
    {
     "name": "stdout",
     "output_type": "stream",
     "text": [
      "Epoch 188/250 | Train MAE (log): 0.39394 | Val Loss: 0.46941 | Val SMAPE: 41.74% | LR: 4.5e-05\n"
     ]
    },
    {
     "name": "stderr",
     "output_type": "stream",
     "text": [
      "                                                                        \r"
     ]
    },
    {
     "name": "stdout",
     "output_type": "stream",
     "text": [
      "Epoch 189/250 | Train MAE (log): 0.39386 | Val Loss: 0.46935 | Val SMAPE: 41.80% | LR: 4.3e-05\n"
     ]
    },
    {
     "name": "stderr",
     "output_type": "stream",
     "text": [
      "                                                                        \r"
     ]
    },
    {
     "name": "stdout",
     "output_type": "stream",
     "text": [
      "Epoch 190/250 | Train MAE (log): 0.39391 | Val Loss: 0.46945 | Val SMAPE: 41.66% | LR: 4.2e-05\n"
     ]
    },
    {
     "name": "stderr",
     "output_type": "stream",
     "text": [
      "                                                                        \r"
     ]
    },
    {
     "name": "stdout",
     "output_type": "stream",
     "text": [
      "Epoch 191/250 | Train MAE (log): 0.39383 | Val Loss: 0.46858 | Val SMAPE: 42.15% | LR: 4.1e-05\n"
     ]
    },
    {
     "name": "stderr",
     "output_type": "stream",
     "text": [
      "                                                                        \r"
     ]
    },
    {
     "name": "stdout",
     "output_type": "stream",
     "text": [
      "Epoch 192/250 | Train MAE (log): 0.39389 | Val Loss: 0.46760 | Val SMAPE: 41.91% | LR: 3.9e-05\n"
     ]
    },
    {
     "name": "stderr",
     "output_type": "stream",
     "text": [
      "                                                                        \r"
     ]
    },
    {
     "name": "stdout",
     "output_type": "stream",
     "text": [
      "Epoch 193/250 | Train MAE (log): 0.39382 | Val Loss: 0.46974 | Val SMAPE: 41.81% | LR: 3.8e-05\n"
     ]
    },
    {
     "name": "stderr",
     "output_type": "stream",
     "text": [
      "                                                                        \r"
     ]
    },
    {
     "name": "stdout",
     "output_type": "stream",
     "text": [
      "Epoch 194/250 | Train MAE (log): 0.39372 | Val Loss: 0.46897 | Val SMAPE: 41.89% | LR: 3.7e-05\n"
     ]
    },
    {
     "name": "stderr",
     "output_type": "stream",
     "text": [
      "                                                                        \r"
     ]
    },
    {
     "name": "stdout",
     "output_type": "stream",
     "text": [
      "Epoch 195/250 | Train MAE (log): 0.39376 | Val Loss: 0.46848 | Val SMAPE: 41.76% | LR: 3.6e-05\n"
     ]
    },
    {
     "name": "stderr",
     "output_type": "stream",
     "text": [
      "                                                                        \r"
     ]
    },
    {
     "name": "stdout",
     "output_type": "stream",
     "text": [
      "Epoch 196/250 | Train MAE (log): 0.39377 | Val Loss: 0.47002 | Val SMAPE: 41.61% | LR: 3.4e-05\n",
      "  -> New best validation SMAPE: 41.61%. Model saved.\n"
     ]
    },
    {
     "name": "stderr",
     "output_type": "stream",
     "text": [
      "                                                                        \r"
     ]
    },
    {
     "name": "stdout",
     "output_type": "stream",
     "text": [
      "Epoch 197/250 | Train MAE (log): 0.39375 | Val Loss: 0.46817 | Val SMAPE: 41.66% | LR: 3.3e-05\n"
     ]
    },
    {
     "name": "stderr",
     "output_type": "stream",
     "text": [
      "                                                                        \r"
     ]
    },
    {
     "name": "stdout",
     "output_type": "stream",
     "text": [
      "Epoch 198/250 | Train MAE (log): 0.39395 | Val Loss: 0.46940 | Val SMAPE: 41.57% | LR: 3.2e-05\n",
      "  -> New best validation SMAPE: 41.57%. Model saved.\n"
     ]
    },
    {
     "name": "stderr",
     "output_type": "stream",
     "text": [
      "                                                                        \r"
     ]
    },
    {
     "name": "stdout",
     "output_type": "stream",
     "text": [
      "Epoch 199/250 | Train MAE (log): 0.39388 | Val Loss: 0.46914 | Val SMAPE: 41.78% | LR: 3.1e-05\n"
     ]
    },
    {
     "name": "stderr",
     "output_type": "stream",
     "text": [
      "                                                                        \r"
     ]
    },
    {
     "name": "stdout",
     "output_type": "stream",
     "text": [
      "Epoch 200/250 | Train MAE (log): 0.39371 | Val Loss: 0.46869 | Val SMAPE: 41.74% | LR: 3.0e-05\n"
     ]
    },
    {
     "name": "stderr",
     "output_type": "stream",
     "text": [
      "                                                                        \r"
     ]
    },
    {
     "name": "stdout",
     "output_type": "stream",
     "text": [
      "Epoch 201/250 | Train MAE (log): 0.39377 | Val Loss: 0.46889 | Val SMAPE: 41.66% | LR: 2.9e-05\n"
     ]
    },
    {
     "name": "stderr",
     "output_type": "stream",
     "text": [
      "                                                                        \r"
     ]
    },
    {
     "name": "stdout",
     "output_type": "stream",
     "text": [
      "Epoch 202/250 | Train MAE (log): 0.39377 | Val Loss: 0.46803 | Val SMAPE: 41.82% | LR: 2.8e-05\n"
     ]
    },
    {
     "name": "stderr",
     "output_type": "stream",
     "text": [
      "                                                                        \r"
     ]
    },
    {
     "name": "stdout",
     "output_type": "stream",
     "text": [
      "Epoch 203/250 | Train MAE (log): 0.39373 | Val Loss: 0.46868 | Val SMAPE: 41.85% | LR: 2.6e-05\n"
     ]
    },
    {
     "name": "stderr",
     "output_type": "stream",
     "text": [
      "                                                                        \r"
     ]
    },
    {
     "name": "stdout",
     "output_type": "stream",
     "text": [
      "Epoch 204/250 | Train MAE (log): 0.39375 | Val Loss: 0.46827 | Val SMAPE: 41.73% | LR: 2.5e-05\n"
     ]
    },
    {
     "name": "stderr",
     "output_type": "stream",
     "text": [
      "                                                                        \r"
     ]
    },
    {
     "name": "stdout",
     "output_type": "stream",
     "text": [
      "Epoch 205/250 | Train MAE (log): 0.39371 | Val Loss: 0.46925 | Val SMAPE: 41.72% | LR: 2.4e-05\n"
     ]
    },
    {
     "name": "stderr",
     "output_type": "stream",
     "text": [
      "                                                                        \r"
     ]
    },
    {
     "name": "stdout",
     "output_type": "stream",
     "text": [
      "Epoch 206/250 | Train MAE (log): 0.39376 | Val Loss: 0.46840 | Val SMAPE: 41.68% | LR: 2.3e-05\n"
     ]
    },
    {
     "name": "stderr",
     "output_type": "stream",
     "text": [
      "                                                                        \r"
     ]
    },
    {
     "name": "stdout",
     "output_type": "stream",
     "text": [
      "Epoch 207/250 | Train MAE (log): 0.39379 | Val Loss: 0.46833 | Val SMAPE: 41.67% | LR: 2.2e-05\n"
     ]
    },
    {
     "name": "stderr",
     "output_type": "stream",
     "text": [
      "                                                                        \r"
     ]
    },
    {
     "name": "stdout",
     "output_type": "stream",
     "text": [
      "Epoch 208/250 | Train MAE (log): 0.39368 | Val Loss: 0.46858 | Val SMAPE: 41.55% | LR: 2.1e-05\n",
      "  -> New best validation SMAPE: 41.55%. Model saved.\n"
     ]
    },
    {
     "name": "stderr",
     "output_type": "stream",
     "text": [
      "                                                                        \r"
     ]
    },
    {
     "name": "stdout",
     "output_type": "stream",
     "text": [
      "Epoch 209/250 | Train MAE (log): 0.39375 | Val Loss: 0.46919 | Val SMAPE: 41.59% | LR: 2.0e-05\n"
     ]
    },
    {
     "name": "stderr",
     "output_type": "stream",
     "text": [
      "                                                                        \r"
     ]
    },
    {
     "name": "stdout",
     "output_type": "stream",
     "text": [
      "Epoch 210/250 | Train MAE (log): 0.39378 | Val Loss: 0.46869 | Val SMAPE: 41.69% | LR: 1.9e-05\n"
     ]
    },
    {
     "name": "stderr",
     "output_type": "stream",
     "text": [
      "                                                                        \r"
     ]
    },
    {
     "name": "stdout",
     "output_type": "stream",
     "text": [
      "Epoch 211/250 | Train MAE (log): 0.39367 | Val Loss: 0.46919 | Val SMAPE: 41.61% | LR: 1.9e-05\n"
     ]
    },
    {
     "name": "stderr",
     "output_type": "stream",
     "text": [
      "                                                                        \r"
     ]
    },
    {
     "name": "stdout",
     "output_type": "stream",
     "text": [
      "Epoch 212/250 | Train MAE (log): 0.39374 | Val Loss: 0.46915 | Val SMAPE: 41.62% | LR: 1.8e-05\n"
     ]
    },
    {
     "name": "stderr",
     "output_type": "stream",
     "text": [
      "                                                                        \r"
     ]
    },
    {
     "name": "stdout",
     "output_type": "stream",
     "text": [
      "Epoch 213/250 | Train MAE (log): 0.39372 | Val Loss: 0.46907 | Val SMAPE: 41.63% | LR: 1.7e-05\n"
     ]
    },
    {
     "name": "stderr",
     "output_type": "stream",
     "text": [
      "                                                                        \r"
     ]
    },
    {
     "name": "stdout",
     "output_type": "stream",
     "text": [
      "Epoch 214/250 | Train MAE (log): 0.39363 | Val Loss: 0.46873 | Val SMAPE: 41.83% | LR: 1.6e-05\n"
     ]
    },
    {
     "name": "stderr",
     "output_type": "stream",
     "text": [
      "                                                                        \r"
     ]
    },
    {
     "name": "stdout",
     "output_type": "stream",
     "text": [
      "Epoch 215/250 | Train MAE (log): 0.39364 | Val Loss: 0.46903 | Val SMAPE: 41.63% | LR: 1.5e-05\n"
     ]
    },
    {
     "name": "stderr",
     "output_type": "stream",
     "text": [
      "                                                                        \r"
     ]
    },
    {
     "name": "stdout",
     "output_type": "stream",
     "text": [
      "Epoch 216/250 | Train MAE (log): 0.39377 | Val Loss: 0.46995 | Val SMAPE: 41.74% | LR: 1.4e-05\n"
     ]
    },
    {
     "name": "stderr",
     "output_type": "stream",
     "text": [
      "                                                                        \r"
     ]
    },
    {
     "name": "stdout",
     "output_type": "stream",
     "text": [
      "Epoch 217/250 | Train MAE (log): 0.39373 | Val Loss: 0.46855 | Val SMAPE: 41.74% | LR: 1.3e-05\n"
     ]
    },
    {
     "name": "stderr",
     "output_type": "stream",
     "text": [
      "                                                                        \r"
     ]
    },
    {
     "name": "stdout",
     "output_type": "stream",
     "text": [
      "Epoch 218/250 | Train MAE (log): 0.39373 | Val Loss: 0.46952 | Val SMAPE: 41.61% | LR: 1.3e-05\n"
     ]
    },
    {
     "name": "stderr",
     "output_type": "stream",
     "text": [
      "                                                                        \r"
     ]
    },
    {
     "name": "stdout",
     "output_type": "stream",
     "text": [
      "Epoch 219/250 | Train MAE (log): 0.39366 | Val Loss: 0.46861 | Val SMAPE: 41.57% | LR: 1.2e-05\n"
     ]
    },
    {
     "name": "stderr",
     "output_type": "stream",
     "text": [
      "                                                                        \r"
     ]
    },
    {
     "name": "stdout",
     "output_type": "stream",
     "text": [
      "Epoch 220/250 | Train MAE (log): 0.39369 | Val Loss: 0.46887 | Val SMAPE: 41.66% | LR: 1.1e-05\n"
     ]
    },
    {
     "name": "stderr",
     "output_type": "stream",
     "text": [
      "                                                                        \r"
     ]
    },
    {
     "name": "stdout",
     "output_type": "stream",
     "text": [
      "Epoch 221/250 | Train MAE (log): 0.39376 | Val Loss: 0.46936 | Val SMAPE: 41.74% | LR: 1.1e-05\n"
     ]
    },
    {
     "name": "stderr",
     "output_type": "stream",
     "text": [
      "                                                                        \r"
     ]
    },
    {
     "name": "stdout",
     "output_type": "stream",
     "text": [
      "Epoch 222/250 | Train MAE (log): 0.39373 | Val Loss: 0.46940 | Val SMAPE: 41.76% | LR: 9.9e-06\n"
     ]
    },
    {
     "name": "stderr",
     "output_type": "stream",
     "text": [
      "                                                                        \r"
     ]
    },
    {
     "name": "stdout",
     "output_type": "stream",
     "text": [
      "Epoch 223/250 | Train MAE (log): 0.39363 | Val Loss: 0.46875 | Val SMAPE: 41.59% | LR: 9.2e-06\n"
     ]
    },
    {
     "name": "stderr",
     "output_type": "stream",
     "text": [
      "                                                                        \r"
     ]
    },
    {
     "name": "stdout",
     "output_type": "stream",
     "text": [
      "Epoch 224/250 | Train MAE (log): 0.39365 | Val Loss: 0.46806 | Val SMAPE: 41.79% | LR: 8.6e-06\n"
     ]
    },
    {
     "name": "stderr",
     "output_type": "stream",
     "text": [
      "                                                                        \r"
     ]
    },
    {
     "name": "stdout",
     "output_type": "stream",
     "text": [
      "Epoch 225/250 | Train MAE (log): 0.39359 | Val Loss: 0.46745 | Val SMAPE: 41.94% | LR: 7.9e-06\n"
     ]
    },
    {
     "name": "stderr",
     "output_type": "stream",
     "text": [
      "                                                                        \r"
     ]
    },
    {
     "name": "stdout",
     "output_type": "stream",
     "text": [
      "Epoch 226/250 | Train MAE (log): 0.39367 | Val Loss: 0.47082 | Val SMAPE: 41.47% | LR: 7.4e-06\n",
      "  -> New best validation SMAPE: 41.47%. Model saved.\n"
     ]
    },
    {
     "name": "stderr",
     "output_type": "stream",
     "text": [
      "                                                                        \r"
     ]
    },
    {
     "name": "stdout",
     "output_type": "stream",
     "text": [
      "Epoch 227/250 | Train MAE (log): 0.39370 | Val Loss: 0.46857 | Val SMAPE: 41.76% | LR: 6.8e-06\n"
     ]
    },
    {
     "name": "stderr",
     "output_type": "stream",
     "text": [
      "                                                                        \r"
     ]
    },
    {
     "name": "stdout",
     "output_type": "stream",
     "text": [
      "Epoch 228/250 | Train MAE (log): 0.39360 | Val Loss: 0.46769 | Val SMAPE: 41.63% | LR: 6.2e-06\n"
     ]
    },
    {
     "name": "stderr",
     "output_type": "stream",
     "text": [
      "                                                                        \r"
     ]
    },
    {
     "name": "stdout",
     "output_type": "stream",
     "text": [
      "Epoch 229/250 | Train MAE (log): 0.39367 | Val Loss: 0.46846 | Val SMAPE: 41.97% | LR: 5.7e-06\n"
     ]
    },
    {
     "name": "stderr",
     "output_type": "stream",
     "text": [
      "                                                                        \r"
     ]
    },
    {
     "name": "stdout",
     "output_type": "stream",
     "text": [
      "Epoch 230/250 | Train MAE (log): 0.39361 | Val Loss: 0.46860 | Val SMAPE: 41.63% | LR: 5.2e-06\n"
     ]
    },
    {
     "name": "stderr",
     "output_type": "stream",
     "text": [
      "                                                                        \r"
     ]
    },
    {
     "name": "stdout",
     "output_type": "stream",
     "text": [
      "Epoch 231/250 | Train MAE (log): 0.39375 | Val Loss: 0.46830 | Val SMAPE: 41.79% | LR: 4.7e-06\n"
     ]
    },
    {
     "name": "stderr",
     "output_type": "stream",
     "text": [
      "                                                                        \r"
     ]
    },
    {
     "name": "stdout",
     "output_type": "stream",
     "text": [
      "Epoch 232/250 | Train MAE (log): 0.39378 | Val Loss: 0.47143 | Val SMAPE: 41.77% | LR: 4.3e-06\n"
     ]
    },
    {
     "name": "stderr",
     "output_type": "stream",
     "text": [
      "                                                                        \r"
     ]
    },
    {
     "name": "stdout",
     "output_type": "stream",
     "text": [
      "Epoch 233/250 | Train MAE (log): 0.39381 | Val Loss: 0.46884 | Val SMAPE: 41.56% | LR: 3.8e-06\n"
     ]
    },
    {
     "name": "stderr",
     "output_type": "stream",
     "text": [
      "                                                                        \r"
     ]
    },
    {
     "name": "stdout",
     "output_type": "stream",
     "text": [
      "Epoch 234/250 | Train MAE (log): 0.39367 | Val Loss: 0.46866 | Val SMAPE: 41.58% | LR: 3.4e-06\n"
     ]
    },
    {
     "name": "stderr",
     "output_type": "stream",
     "text": [
      "                                                                        \r"
     ]
    },
    {
     "name": "stdout",
     "output_type": "stream",
     "text": [
      "Epoch 235/250 | Train MAE (log): 0.39357 | Val Loss: 0.46995 | Val SMAPE: 41.75% | LR: 3.0e-06\n"
     ]
    },
    {
     "name": "stderr",
     "output_type": "stream",
     "text": [
      "                                                                        \r"
     ]
    },
    {
     "name": "stdout",
     "output_type": "stream",
     "text": [
      "Epoch 236/250 | Train MAE (log): 0.39361 | Val Loss: 0.46828 | Val SMAPE: 41.58% | LR: 2.7e-06\n"
     ]
    },
    {
     "name": "stderr",
     "output_type": "stream",
     "text": [
      "                                                                        \r"
     ]
    },
    {
     "name": "stdout",
     "output_type": "stream",
     "text": [
      "Epoch 237/250 | Train MAE (log): 0.39374 | Val Loss: 0.46948 | Val SMAPE: 41.54% | LR: 2.3e-06\n"
     ]
    },
    {
     "name": "stderr",
     "output_type": "stream",
     "text": [
      "                                                                        \r"
     ]
    },
    {
     "name": "stdout",
     "output_type": "stream",
     "text": [
      "Epoch 238/250 | Train MAE (log): 0.39372 | Val Loss: 0.46946 | Val SMAPE: 41.83% | LR: 2.0e-06\n"
     ]
    },
    {
     "name": "stderr",
     "output_type": "stream",
     "text": [
      "                                                                        \r"
     ]
    },
    {
     "name": "stdout",
     "output_type": "stream",
     "text": [
      "Epoch 239/250 | Train MAE (log): 0.39376 | Val Loss: 0.46942 | Val SMAPE: 41.52% | LR: 1.7e-06\n"
     ]
    },
    {
     "name": "stderr",
     "output_type": "stream",
     "text": [
      "                                                                        \r"
     ]
    },
    {
     "name": "stdout",
     "output_type": "stream",
     "text": [
      "Epoch 240/250 | Train MAE (log): 0.39354 | Val Loss: 0.46794 | Val SMAPE: 42.03% | LR: 1.4e-06\n"
     ]
    },
    {
     "name": "stderr",
     "output_type": "stream",
     "text": [
      "                                                                        \r"
     ]
    },
    {
     "name": "stdout",
     "output_type": "stream",
     "text": [
      "Epoch 241/250 | Train MAE (log): 0.39364 | Val Loss: 0.47103 | Val SMAPE: 41.61% | LR: 1.2e-06\n"
     ]
    },
    {
     "name": "stderr",
     "output_type": "stream",
     "text": [
      "                                                                        \r"
     ]
    },
    {
     "name": "stdout",
     "output_type": "stream",
     "text": [
      "Epoch 242/250 | Train MAE (log): 0.39359 | Val Loss: 0.46942 | Val SMAPE: 41.57% | LR: 9.7e-07\n"
     ]
    },
    {
     "name": "stderr",
     "output_type": "stream",
     "text": [
      "                                                                        \r"
     ]
    },
    {
     "name": "stdout",
     "output_type": "stream",
     "text": [
      "Epoch 243/250 | Train MAE (log): 0.39363 | Val Loss: 0.46937 | Val SMAPE: 41.54% | LR: 7.7e-07\n"
     ]
    },
    {
     "name": "stderr",
     "output_type": "stream",
     "text": [
      "                                                                        \r"
     ]
    },
    {
     "name": "stdout",
     "output_type": "stream",
     "text": [
      "Epoch 244/250 | Train MAE (log): 0.39369 | Val Loss: 0.46862 | Val SMAPE: 41.72% | LR: 5.9e-07\n"
     ]
    },
    {
     "name": "stderr",
     "output_type": "stream",
     "text": [
      "                                                                        \r"
     ]
    },
    {
     "name": "stdout",
     "output_type": "stream",
     "text": [
      "Epoch 245/250 | Train MAE (log): 0.39367 | Val Loss: 0.46830 | Val SMAPE: 41.73% | LR: 4.4e-07\n"
     ]
    },
    {
     "name": "stderr",
     "output_type": "stream",
     "text": [
      "                                                                        \r"
     ]
    },
    {
     "name": "stdout",
     "output_type": "stream",
     "text": [
      "Epoch 246/250 | Train MAE (log): 0.39360 | Val Loss: 0.46944 | Val SMAPE: 41.52% | LR: 3.1e-07\n"
     ]
    },
    {
     "name": "stderr",
     "output_type": "stream",
     "text": [
      "                                                                        \r"
     ]
    },
    {
     "name": "stdout",
     "output_type": "stream",
     "text": [
      "Epoch 247/250 | Train MAE (log): 0.39372 | Val Loss: 0.46996 | Val SMAPE: 41.47% | LR: 2.0e-07\n"
     ]
    },
    {
     "name": "stderr",
     "output_type": "stream",
     "text": [
      "                                                                        \r"
     ]
    },
    {
     "name": "stdout",
     "output_type": "stream",
     "text": [
      "Epoch 248/250 | Train MAE (log): 0.39357 | Val Loss: 0.46910 | Val SMAPE: 41.56% | LR: 1.2e-07\n"
     ]
    },
    {
     "name": "stderr",
     "output_type": "stream",
     "text": [
      "                                                                        \r"
     ]
    },
    {
     "name": "stdout",
     "output_type": "stream",
     "text": [
      "Epoch 249/250 | Train MAE (log): 0.39377 | Val Loss: 0.46902 | Val SMAPE: 41.75% | LR: 5.7e-08\n"
     ]
    },
    {
     "name": "stderr",
     "output_type": "stream",
     "text": [
      "                                                                        \r"
     ]
    },
    {
     "name": "stdout",
     "output_type": "stream",
     "text": [
      "Epoch 250/250 | Train MAE (log): 0.39372 | Val Loss: 0.47016 | Val SMAPE: 41.54% | LR: 2.2e-08\n",
      "\n",
      "--- Starting Fold 5/5 ---\n"
     ]
    },
    {
     "name": "stderr",
     "output_type": "stream",
     "text": [
      "                                                                      \r"
     ]
    },
    {
     "name": "stdout",
     "output_type": "stream",
     "text": [
      "Epoch 1/250 | Train MAE (log): 0.71298 | Val Loss: 0.72307 | Val SMAPE: 103.27% | LR: 1.0e-06\n",
      "  -> New best validation SMAPE: 103.27%. Model saved.\n"
     ]
    },
    {
     "name": "stderr",
     "output_type": "stream",
     "text": [
      "                                                                      \r"
     ]
    },
    {
     "name": "stdout",
     "output_type": "stream",
     "text": [
      "Epoch 2/250 | Train MAE (log): 0.69231 | Val Loss: 0.71279 | Val SMAPE: 102.50% | LR: 3.1e-05\n",
      "  -> New best validation SMAPE: 102.50%. Model saved.\n"
     ]
    },
    {
     "name": "stderr",
     "output_type": "stream",
     "text": [
      "                                                                      \r"
     ]
    },
    {
     "name": "stdout",
     "output_type": "stream",
     "text": [
      "Epoch 3/250 | Train MAE (log): 0.64000 | Val Loss: 0.61102 | Val SMAPE: 92.89% | LR: 6.1e-05\n",
      "  -> New best validation SMAPE: 92.89%. Model saved.\n"
     ]
    },
    {
     "name": "stderr",
     "output_type": "stream",
     "text": [
      "                                                                      \r"
     ]
    },
    {
     "name": "stdout",
     "output_type": "stream",
     "text": [
      "Epoch 4/250 | Train MAE (log): 0.56441 | Val Loss: 0.54393 | Val SMAPE: 81.07% | LR: 9.1e-05\n",
      "  -> New best validation SMAPE: 81.07%. Model saved.\n"
     ]
    },
    {
     "name": "stderr",
     "output_type": "stream",
     "text": [
      "                                                                      \r"
     ]
    },
    {
     "name": "stdout",
     "output_type": "stream",
     "text": [
      "Epoch 5/250 | Train MAE (log): 0.49914 | Val Loss: 0.48908 | Val SMAPE: 61.60% | LR: 1.2e-04\n",
      "  -> New best validation SMAPE: 61.60%. Model saved.\n"
     ]
    },
    {
     "name": "stderr",
     "output_type": "stream",
     "text": [
      "                                                                      \r"
     ]
    },
    {
     "name": "stdout",
     "output_type": "stream",
     "text": [
      "Epoch 6/250 | Train MAE (log): 0.46825 | Val Loss: 0.47389 | Val SMAPE: 53.25% | LR: 1.5e-04\n",
      "  -> New best validation SMAPE: 53.25%. Model saved.\n"
     ]
    },
    {
     "name": "stderr",
     "output_type": "stream",
     "text": [
      "                                                                      \r"
     ]
    },
    {
     "name": "stdout",
     "output_type": "stream",
     "text": [
      "Epoch 7/250 | Train MAE (log): 0.45772 | Val Loss: 0.47894 | Val SMAPE: 54.14% | LR: 1.8e-04\n"
     ]
    },
    {
     "name": "stderr",
     "output_type": "stream",
     "text": [
      "                                                                      \r"
     ]
    },
    {
     "name": "stdout",
     "output_type": "stream",
     "text": [
      "Epoch 8/250 | Train MAE (log): 0.45146 | Val Loss: 0.47336 | Val SMAPE: 50.46% | LR: 2.1e-04\n",
      "  -> New best validation SMAPE: 50.46%. Model saved.\n"
     ]
    },
    {
     "name": "stderr",
     "output_type": "stream",
     "text": [
      "                                                                      \r"
     ]
    },
    {
     "name": "stdout",
     "output_type": "stream",
     "text": [
      "Epoch 9/250 | Train MAE (log): 0.44625 | Val Loss: 0.47022 | Val SMAPE: 50.67% | LR: 2.4e-04\n"
     ]
    },
    {
     "name": "stderr",
     "output_type": "stream",
     "text": [
      "                                                                       \r"
     ]
    },
    {
     "name": "stdout",
     "output_type": "stream",
     "text": [
      "Epoch 10/250 | Train MAE (log): 0.44317 | Val Loss: 0.47081 | Val SMAPE: 49.18% | LR: 2.7e-04\n",
      "  -> New best validation SMAPE: 49.18%. Model saved.\n"
     ]
    },
    {
     "name": "stderr",
     "output_type": "stream",
     "text": [
      "                                                                       \r"
     ]
    },
    {
     "name": "stdout",
     "output_type": "stream",
     "text": [
      "Epoch 11/250 | Train MAE (log): 0.44035 | Val Loss: 0.47092 | Val SMAPE: 51.39% | LR: 3.0e-04\n"
     ]
    },
    {
     "name": "stderr",
     "output_type": "stream",
     "text": [
      "                                                                       \r"
     ]
    },
    {
     "name": "stdout",
     "output_type": "stream",
     "text": [
      "Epoch 12/250 | Train MAE (log): 0.43812 | Val Loss: 0.47346 | Val SMAPE: 51.36% | LR: 3.0e-04\n"
     ]
    },
    {
     "name": "stderr",
     "output_type": "stream",
     "text": [
      "                                                                       \r"
     ]
    },
    {
     "name": "stdout",
     "output_type": "stream",
     "text": [
      "Epoch 13/250 | Train MAE (log): 0.43398 | Val Loss: 0.47106 | Val SMAPE: 50.12% | LR: 3.0e-04\n"
     ]
    },
    {
     "name": "stderr",
     "output_type": "stream",
     "text": [
      "                                                                       \r"
     ]
    },
    {
     "name": "stdout",
     "output_type": "stream",
     "text": [
      "Epoch 14/250 | Train MAE (log): 0.43047 | Val Loss: 0.47564 | Val SMAPE: 49.60% | LR: 3.0e-04\n"
     ]
    },
    {
     "name": "stderr",
     "output_type": "stream",
     "text": [
      "                                                                       \r"
     ]
    },
    {
     "name": "stdout",
     "output_type": "stream",
     "text": [
      "Epoch 15/250 | Train MAE (log): 0.42841 | Val Loss: 0.47509 | Val SMAPE: 49.06% | LR: 3.0e-04\n",
      "  -> New best validation SMAPE: 49.06%. Model saved.\n"
     ]
    },
    {
     "name": "stderr",
     "output_type": "stream",
     "text": [
      "                                                                       \r"
     ]
    },
    {
     "name": "stdout",
     "output_type": "stream",
     "text": [
      "Epoch 16/250 | Train MAE (log): 0.42612 | Val Loss: 0.47242 | Val SMAPE: 48.61% | LR: 3.0e-04\n",
      "  -> New best validation SMAPE: 48.61%. Model saved.\n"
     ]
    },
    {
     "name": "stderr",
     "output_type": "stream",
     "text": [
      "                                                                       \r"
     ]
    },
    {
     "name": "stdout",
     "output_type": "stream",
     "text": [
      "Epoch 17/250 | Train MAE (log): 0.42322 | Val Loss: 0.47685 | Val SMAPE: 49.44% | LR: 3.0e-04\n"
     ]
    },
    {
     "name": "stderr",
     "output_type": "stream",
     "text": [
      "                                                                       \r"
     ]
    },
    {
     "name": "stdout",
     "output_type": "stream",
     "text": [
      "Epoch 18/250 | Train MAE (log): 0.42102 | Val Loss: 0.47651 | Val SMAPE: 49.25% | LR: 3.0e-04\n"
     ]
    },
    {
     "name": "stderr",
     "output_type": "stream",
     "text": [
      "                                                                       \r"
     ]
    },
    {
     "name": "stdout",
     "output_type": "stream",
     "text": [
      "Epoch 19/250 | Train MAE (log): 0.41988 | Val Loss: 0.47464 | Val SMAPE: 48.54% | LR: 3.0e-04\n",
      "  -> New best validation SMAPE: 48.54%. Model saved.\n"
     ]
    },
    {
     "name": "stderr",
     "output_type": "stream",
     "text": [
      "                                                                       \r"
     ]
    },
    {
     "name": "stdout",
     "output_type": "stream",
     "text": [
      "Epoch 20/250 | Train MAE (log): 0.41799 | Val Loss: 0.47672 | Val SMAPE: 48.80% | LR: 3.0e-04\n"
     ]
    },
    {
     "name": "stderr",
     "output_type": "stream",
     "text": [
      "                                                                       \r"
     ]
    },
    {
     "name": "stdout",
     "output_type": "stream",
     "text": [
      "Epoch 21/250 | Train MAE (log): 0.41702 | Val Loss: 0.47491 | Val SMAPE: 47.30% | LR: 3.0e-04\n",
      "  -> New best validation SMAPE: 47.30%. Model saved.\n"
     ]
    },
    {
     "name": "stderr",
     "output_type": "stream",
     "text": [
      "                                                                       \r"
     ]
    },
    {
     "name": "stdout",
     "output_type": "stream",
     "text": [
      "Epoch 22/250 | Train MAE (log): 0.41476 | Val Loss: 0.47539 | Val SMAPE: 47.75% | LR: 2.9e-04\n"
     ]
    },
    {
     "name": "stderr",
     "output_type": "stream",
     "text": [
      "                                                                       \r"
     ]
    },
    {
     "name": "stdout",
     "output_type": "stream",
     "text": [
      "Epoch 23/250 | Train MAE (log): 0.41424 | Val Loss: 0.47563 | Val SMAPE: 47.64% | LR: 2.9e-04\n"
     ]
    },
    {
     "name": "stderr",
     "output_type": "stream",
     "text": [
      "                                                                       \r"
     ]
    },
    {
     "name": "stdout",
     "output_type": "stream",
     "text": [
      "Epoch 24/250 | Train MAE (log): 0.41300 | Val Loss: 0.47450 | Val SMAPE: 46.74% | LR: 2.9e-04\n",
      "  -> New best validation SMAPE: 46.74%. Model saved.\n"
     ]
    },
    {
     "name": "stderr",
     "output_type": "stream",
     "text": [
      "                                                                       \r"
     ]
    },
    {
     "name": "stdout",
     "output_type": "stream",
     "text": [
      "Epoch 25/250 | Train MAE (log): 0.41104 | Val Loss: 0.47434 | Val SMAPE: 47.64% | LR: 2.9e-04\n"
     ]
    },
    {
     "name": "stderr",
     "output_type": "stream",
     "text": [
      "                                                                       \r"
     ]
    },
    {
     "name": "stdout",
     "output_type": "stream",
     "text": [
      "Epoch 26/250 | Train MAE (log): 0.41079 | Val Loss: 0.47303 | Val SMAPE: 48.06% | LR: 2.9e-04\n"
     ]
    },
    {
     "name": "stderr",
     "output_type": "stream",
     "text": [
      "                                                                       \r"
     ]
    },
    {
     "name": "stdout",
     "output_type": "stream",
     "text": [
      "Epoch 27/250 | Train MAE (log): 0.41035 | Val Loss: 0.47265 | Val SMAPE: 48.02% | LR: 2.9e-04\n"
     ]
    },
    {
     "name": "stderr",
     "output_type": "stream",
     "text": [
      "                                                                       \r"
     ]
    },
    {
     "name": "stdout",
     "output_type": "stream",
     "text": [
      "Epoch 28/250 | Train MAE (log): 0.40962 | Val Loss: 0.47320 | Val SMAPE: 46.68% | LR: 2.9e-04\n",
      "  -> New best validation SMAPE: 46.68%. Model saved.\n"
     ]
    },
    {
     "name": "stderr",
     "output_type": "stream",
     "text": [
      "                                                                       \r"
     ]
    },
    {
     "name": "stdout",
     "output_type": "stream",
     "text": [
      "Epoch 29/250 | Train MAE (log): 0.40943 | Val Loss: 0.47331 | Val SMAPE: 46.43% | LR: 2.9e-04\n",
      "  -> New best validation SMAPE: 46.43%. Model saved.\n"
     ]
    },
    {
     "name": "stderr",
     "output_type": "stream",
     "text": [
      "                                                                       \r"
     ]
    },
    {
     "name": "stdout",
     "output_type": "stream",
     "text": [
      "Epoch 30/250 | Train MAE (log): 0.40759 | Val Loss: 0.47703 | Val SMAPE: 47.25% | LR: 2.9e-04\n"
     ]
    },
    {
     "name": "stderr",
     "output_type": "stream",
     "text": [
      "                                                                       \r"
     ]
    },
    {
     "name": "stdout",
     "output_type": "stream",
     "text": [
      "Epoch 31/250 | Train MAE (log): 0.40702 | Val Loss: 0.47341 | Val SMAPE: 46.45% | LR: 2.9e-04\n"
     ]
    },
    {
     "name": "stderr",
     "output_type": "stream",
     "text": [
      "                                                                       \r"
     ]
    },
    {
     "name": "stdout",
     "output_type": "stream",
     "text": [
      "Epoch 32/250 | Train MAE (log): 0.40624 | Val Loss: 0.47268 | Val SMAPE: 46.55% | LR: 2.9e-04\n"
     ]
    },
    {
     "name": "stderr",
     "output_type": "stream",
     "text": [
      "                                                                       \r"
     ]
    },
    {
     "name": "stdout",
     "output_type": "stream",
     "text": [
      "Epoch 33/250 | Train MAE (log): 0.40582 | Val Loss: 0.47066 | Val SMAPE: 45.92% | LR: 2.9e-04\n",
      "  -> New best validation SMAPE: 45.92%. Model saved.\n"
     ]
    },
    {
     "name": "stderr",
     "output_type": "stream",
     "text": [
      "                                                                       \r"
     ]
    },
    {
     "name": "stdout",
     "output_type": "stream",
     "text": [
      "Epoch 34/250 | Train MAE (log): 0.40511 | Val Loss: 0.47349 | Val SMAPE: 46.81% | LR: 2.9e-04\n"
     ]
    },
    {
     "name": "stderr",
     "output_type": "stream",
     "text": [
      "                                                                       \r"
     ]
    },
    {
     "name": "stdout",
     "output_type": "stream",
     "text": [
      "Epoch 35/250 | Train MAE (log): 0.40600 | Val Loss: 0.47311 | Val SMAPE: 46.50% | LR: 2.9e-04\n"
     ]
    },
    {
     "name": "stderr",
     "output_type": "stream",
     "text": [
      "                                                                       \r"
     ]
    },
    {
     "name": "stdout",
     "output_type": "stream",
     "text": [
      "Epoch 36/250 | Train MAE (log): 0.40516 | Val Loss: 0.47150 | Val SMAPE: 45.93% | LR: 2.9e-04\n"
     ]
    },
    {
     "name": "stderr",
     "output_type": "stream",
     "text": [
      "                                                                       \r"
     ]
    },
    {
     "name": "stdout",
     "output_type": "stream",
     "text": [
      "Epoch 37/250 | Train MAE (log): 0.40362 | Val Loss: 0.47120 | Val SMAPE: 45.82% | LR: 2.8e-04\n",
      "  -> New best validation SMAPE: 45.82%. Model saved.\n"
     ]
    },
    {
     "name": "stderr",
     "output_type": "stream",
     "text": [
      "                                                                       \r"
     ]
    },
    {
     "name": "stdout",
     "output_type": "stream",
     "text": [
      "Epoch 38/250 | Train MAE (log): 0.40319 | Val Loss: 0.47117 | Val SMAPE: 45.99% | LR: 2.8e-04\n"
     ]
    },
    {
     "name": "stderr",
     "output_type": "stream",
     "text": [
      "                                                                       \r"
     ]
    },
    {
     "name": "stdout",
     "output_type": "stream",
     "text": [
      "Epoch 39/250 | Train MAE (log): 0.40361 | Val Loss: 0.47260 | Val SMAPE: 46.29% | LR: 2.8e-04\n"
     ]
    },
    {
     "name": "stderr",
     "output_type": "stream",
     "text": [
      "                                                                       \r"
     ]
    },
    {
     "name": "stdout",
     "output_type": "stream",
     "text": [
      "Epoch 40/250 | Train MAE (log): 0.40294 | Val Loss: 0.47213 | Val SMAPE: 46.38% | LR: 2.8e-04\n"
     ]
    },
    {
     "name": "stderr",
     "output_type": "stream",
     "text": [
      "                                                                       \r"
     ]
    },
    {
     "name": "stdout",
     "output_type": "stream",
     "text": [
      "Epoch 41/250 | Train MAE (log): 0.40334 | Val Loss: 0.47309 | Val SMAPE: 45.78% | LR: 2.8e-04\n",
      "  -> New best validation SMAPE: 45.78%. Model saved.\n"
     ]
    },
    {
     "name": "stderr",
     "output_type": "stream",
     "text": [
      "                                                                       \r"
     ]
    },
    {
     "name": "stdout",
     "output_type": "stream",
     "text": [
      "Epoch 42/250 | Train MAE (log): 0.40311 | Val Loss: 0.47000 | Val SMAPE: 45.47% | LR: 2.8e-04\n",
      "  -> New best validation SMAPE: 45.47%. Model saved.\n"
     ]
    },
    {
     "name": "stderr",
     "output_type": "stream",
     "text": [
      "                                                                       \r"
     ]
    },
    {
     "name": "stdout",
     "output_type": "stream",
     "text": [
      "Epoch 43/250 | Train MAE (log): 0.40176 | Val Loss: 0.47099 | Val SMAPE: 45.35% | LR: 2.8e-04\n",
      "  -> New best validation SMAPE: 45.35%. Model saved.\n"
     ]
    },
    {
     "name": "stderr",
     "output_type": "stream",
     "text": [
      "                                                                       \r"
     ]
    },
    {
     "name": "stdout",
     "output_type": "stream",
     "text": [
      "Epoch 44/250 | Train MAE (log): 0.40202 | Val Loss: 0.47162 | Val SMAPE: 46.92% | LR: 2.8e-04\n"
     ]
    },
    {
     "name": "stderr",
     "output_type": "stream",
     "text": [
      "                                                                       \r"
     ]
    },
    {
     "name": "stdout",
     "output_type": "stream",
     "text": [
      "Epoch 45/250 | Train MAE (log): 0.40175 | Val Loss: 0.47304 | Val SMAPE: 45.69% | LR: 2.8e-04\n"
     ]
    },
    {
     "name": "stderr",
     "output_type": "stream",
     "text": [
      "                                                                       \r"
     ]
    },
    {
     "name": "stdout",
     "output_type": "stream",
     "text": [
      "Epoch 46/250 | Train MAE (log): 0.40089 | Val Loss: 0.46964 | Val SMAPE: 45.30% | LR: 2.8e-04\n",
      "  -> New best validation SMAPE: 45.30%. Model saved.\n"
     ]
    },
    {
     "name": "stderr",
     "output_type": "stream",
     "text": [
      "                                                                       \r"
     ]
    },
    {
     "name": "stdout",
     "output_type": "stream",
     "text": [
      "Epoch 47/250 | Train MAE (log): 0.40151 | Val Loss: 0.47326 | Val SMAPE: 45.58% | LR: 2.8e-04\n"
     ]
    },
    {
     "name": "stderr",
     "output_type": "stream",
     "text": [
      "                                                                       \r"
     ]
    },
    {
     "name": "stdout",
     "output_type": "stream",
     "text": [
      "Epoch 48/250 | Train MAE (log): 0.40093 | Val Loss: 0.47293 | Val SMAPE: 45.23% | LR: 2.7e-04\n",
      "  -> New best validation SMAPE: 45.23%. Model saved.\n"
     ]
    },
    {
     "name": "stderr",
     "output_type": "stream",
     "text": [
      "                                                                       \r"
     ]
    },
    {
     "name": "stdout",
     "output_type": "stream",
     "text": [
      "Epoch 49/250 | Train MAE (log): 0.40045 | Val Loss: 0.47132 | Val SMAPE: 45.36% | LR: 2.7e-04\n"
     ]
    },
    {
     "name": "stderr",
     "output_type": "stream",
     "text": [
      "                                                                       \r"
     ]
    },
    {
     "name": "stdout",
     "output_type": "stream",
     "text": [
      "Epoch 50/250 | Train MAE (log): 0.39994 | Val Loss: 0.47205 | Val SMAPE: 44.79% | LR: 2.7e-04\n",
      "  -> New best validation SMAPE: 44.79%. Model saved.\n"
     ]
    },
    {
     "name": "stderr",
     "output_type": "stream",
     "text": [
      "                                                                       \r"
     ]
    },
    {
     "name": "stdout",
     "output_type": "stream",
     "text": [
      "Epoch 51/250 | Train MAE (log): 0.39999 | Val Loss: 0.47330 | Val SMAPE: 45.43% | LR: 2.7e-04\n"
     ]
    },
    {
     "name": "stderr",
     "output_type": "stream",
     "text": [
      "                                                                       \r"
     ]
    },
    {
     "name": "stdout",
     "output_type": "stream",
     "text": [
      "Epoch 52/250 | Train MAE (log): 0.40078 | Val Loss: 0.47564 | Val SMAPE: 45.34% | LR: 2.7e-04\n"
     ]
    },
    {
     "name": "stderr",
     "output_type": "stream",
     "text": [
      "                                                                       \r"
     ]
    },
    {
     "name": "stdout",
     "output_type": "stream",
     "text": [
      "Epoch 53/250 | Train MAE (log): 0.40092 | Val Loss: 0.47130 | Val SMAPE: 45.83% | LR: 2.7e-04\n"
     ]
    },
    {
     "name": "stderr",
     "output_type": "stream",
     "text": [
      "                                                                       \r"
     ]
    },
    {
     "name": "stdout",
     "output_type": "stream",
     "text": [
      "Epoch 54/250 | Train MAE (log): 0.40033 | Val Loss: 0.47057 | Val SMAPE: 45.76% | LR: 2.7e-04\n"
     ]
    },
    {
     "name": "stderr",
     "output_type": "stream",
     "text": [
      "                                                                       \r"
     ]
    },
    {
     "name": "stdout",
     "output_type": "stream",
     "text": [
      "Epoch 55/250 | Train MAE (log): 0.40009 | Val Loss: 0.47219 | Val SMAPE: 44.80% | LR: 2.7e-04\n"
     ]
    },
    {
     "name": "stderr",
     "output_type": "stream",
     "text": [
      "                                                                       \r"
     ]
    },
    {
     "name": "stdout",
     "output_type": "stream",
     "text": [
      "Epoch 56/250 | Train MAE (log): 0.39972 | Val Loss: 0.47274 | Val SMAPE: 44.46% | LR: 2.7e-04\n",
      "  -> New best validation SMAPE: 44.46%. Model saved.\n"
     ]
    },
    {
     "name": "stderr",
     "output_type": "stream",
     "text": [
      "                                                                       \r"
     ]
    },
    {
     "name": "stdout",
     "output_type": "stream",
     "text": [
      "Epoch 57/250 | Train MAE (log): 0.39876 | Val Loss: 0.46966 | Val SMAPE: 44.62% | LR: 2.6e-04\n"
     ]
    },
    {
     "name": "stderr",
     "output_type": "stream",
     "text": [
      "                                                                       \r"
     ]
    },
    {
     "name": "stdout",
     "output_type": "stream",
     "text": [
      "Epoch 58/250 | Train MAE (log): 0.39892 | Val Loss: 0.47264 | Val SMAPE: 45.01% | LR: 2.6e-04\n"
     ]
    },
    {
     "name": "stderr",
     "output_type": "stream",
     "text": [
      "                                                                       \r"
     ]
    },
    {
     "name": "stdout",
     "output_type": "stream",
     "text": [
      "Epoch 59/250 | Train MAE (log): 0.39914 | Val Loss: 0.47161 | Val SMAPE: 44.50% | LR: 2.6e-04\n"
     ]
    },
    {
     "name": "stderr",
     "output_type": "stream",
     "text": [
      "                                                                       \r"
     ]
    },
    {
     "name": "stdout",
     "output_type": "stream",
     "text": [
      "Epoch 60/250 | Train MAE (log): 0.39981 | Val Loss: 0.47431 | Val SMAPE: 44.64% | LR: 2.6e-04\n"
     ]
    },
    {
     "name": "stderr",
     "output_type": "stream",
     "text": [
      "                                                                       \r"
     ]
    },
    {
     "name": "stdout",
     "output_type": "stream",
     "text": [
      "Epoch 61/250 | Train MAE (log): 0.39973 | Val Loss: 0.47249 | Val SMAPE: 44.86% | LR: 2.6e-04\n"
     ]
    },
    {
     "name": "stderr",
     "output_type": "stream",
     "text": [
      "                                                                       \r"
     ]
    },
    {
     "name": "stdout",
     "output_type": "stream",
     "text": [
      "Epoch 62/250 | Train MAE (log): 0.39899 | Val Loss: 0.47128 | Val SMAPE: 44.73% | LR: 2.6e-04\n"
     ]
    },
    {
     "name": "stderr",
     "output_type": "stream",
     "text": [
      "                                                                       \r"
     ]
    },
    {
     "name": "stdout",
     "output_type": "stream",
     "text": [
      "Epoch 63/250 | Train MAE (log): 0.39861 | Val Loss: 0.47318 | Val SMAPE: 44.22% | LR: 2.6e-04\n",
      "  -> New best validation SMAPE: 44.22%. Model saved.\n"
     ]
    },
    {
     "name": "stderr",
     "output_type": "stream",
     "text": [
      "                                                                       \r"
     ]
    },
    {
     "name": "stdout",
     "output_type": "stream",
     "text": [
      "Epoch 64/250 | Train MAE (log): 0.39861 | Val Loss: 0.47083 | Val SMAPE: 44.40% | LR: 2.6e-04\n"
     ]
    },
    {
     "name": "stderr",
     "output_type": "stream",
     "text": [
      "                                                                       \r"
     ]
    },
    {
     "name": "stdout",
     "output_type": "stream",
     "text": [
      "Epoch 65/250 | Train MAE (log): 0.39807 | Val Loss: 0.47173 | Val SMAPE: 44.50% | LR: 2.5e-04\n"
     ]
    },
    {
     "name": "stderr",
     "output_type": "stream",
     "text": [
      "                                                                       \r"
     ]
    },
    {
     "name": "stdout",
     "output_type": "stream",
     "text": [
      "Epoch 66/250 | Train MAE (log): 0.39794 | Val Loss: 0.47319 | Val SMAPE: 44.74% | LR: 2.5e-04\n"
     ]
    },
    {
     "name": "stderr",
     "output_type": "stream",
     "text": [
      "                                                                       \r"
     ]
    },
    {
     "name": "stdout",
     "output_type": "stream",
     "text": [
      "Epoch 67/250 | Train MAE (log): 0.39857 | Val Loss: 0.47222 | Val SMAPE: 44.31% | LR: 2.5e-04\n"
     ]
    },
    {
     "name": "stderr",
     "output_type": "stream",
     "text": [
      "                                                                       \r"
     ]
    },
    {
     "name": "stdout",
     "output_type": "stream",
     "text": [
      "Epoch 68/250 | Train MAE (log): 0.39771 | Val Loss: 0.47292 | Val SMAPE: 44.15% | LR: 2.5e-04\n",
      "  -> New best validation SMAPE: 44.15%. Model saved.\n"
     ]
    },
    {
     "name": "stderr",
     "output_type": "stream",
     "text": [
      "                                                                       \r"
     ]
    },
    {
     "name": "stdout",
     "output_type": "stream",
     "text": [
      "Epoch 69/250 | Train MAE (log): 0.39837 | Val Loss: 0.47235 | Val SMAPE: 44.24% | LR: 2.5e-04\n"
     ]
    },
    {
     "name": "stderr",
     "output_type": "stream",
     "text": [
      "                                                                       \r"
     ]
    },
    {
     "name": "stdout",
     "output_type": "stream",
     "text": [
      "Epoch 70/250 | Train MAE (log): 0.39778 | Val Loss: 0.47402 | Val SMAPE: 44.31% | LR: 2.5e-04\n"
     ]
    },
    {
     "name": "stderr",
     "output_type": "stream",
     "text": [
      "                                                                       \r"
     ]
    },
    {
     "name": "stdout",
     "output_type": "stream",
     "text": [
      "Epoch 71/250 | Train MAE (log): 0.39768 | Val Loss: 0.47300 | Val SMAPE: 44.09% | LR: 2.5e-04\n",
      "  -> New best validation SMAPE: 44.09%. Model saved.\n"
     ]
    },
    {
     "name": "stderr",
     "output_type": "stream",
     "text": [
      "                                                                       \r"
     ]
    },
    {
     "name": "stdout",
     "output_type": "stream",
     "text": [
      "Epoch 72/250 | Train MAE (log): 0.39742 | Val Loss: 0.47491 | Val SMAPE: 43.88% | LR: 2.4e-04\n",
      "  -> New best validation SMAPE: 43.88%. Model saved.\n"
     ]
    },
    {
     "name": "stderr",
     "output_type": "stream",
     "text": [
      "                                                                       \r"
     ]
    },
    {
     "name": "stdout",
     "output_type": "stream",
     "text": [
      "Epoch 73/250 | Train MAE (log): 0.39713 | Val Loss: 0.47260 | Val SMAPE: 44.37% | LR: 2.4e-04\n"
     ]
    },
    {
     "name": "stderr",
     "output_type": "stream",
     "text": [
      "                                                                       \r"
     ]
    },
    {
     "name": "stdout",
     "output_type": "stream",
     "text": [
      "Epoch 74/250 | Train MAE (log): 0.39742 | Val Loss: 0.47310 | Val SMAPE: 44.17% | LR: 2.4e-04\n"
     ]
    },
    {
     "name": "stderr",
     "output_type": "stream",
     "text": [
      "                                                                       \r"
     ]
    },
    {
     "name": "stdout",
     "output_type": "stream",
     "text": [
      "Epoch 75/250 | Train MAE (log): 0.39738 | Val Loss: 0.47576 | Val SMAPE: 44.56% | LR: 2.4e-04\n"
     ]
    },
    {
     "name": "stderr",
     "output_type": "stream",
     "text": [
      "                                                                       \r"
     ]
    },
    {
     "name": "stdout",
     "output_type": "stream",
     "text": [
      "Epoch 76/250 | Train MAE (log): 0.39755 | Val Loss: 0.47381 | Val SMAPE: 44.01% | LR: 2.4e-04\n"
     ]
    },
    {
     "name": "stderr",
     "output_type": "stream",
     "text": [
      "                                                                       \r"
     ]
    },
    {
     "name": "stdout",
     "output_type": "stream",
     "text": [
      "Epoch 77/250 | Train MAE (log): 0.39767 | Val Loss: 0.47313 | Val SMAPE: 44.49% | LR: 2.4e-04\n"
     ]
    },
    {
     "name": "stderr",
     "output_type": "stream",
     "text": [
      "                                                                       \r"
     ]
    },
    {
     "name": "stdout",
     "output_type": "stream",
     "text": [
      "Epoch 78/250 | Train MAE (log): 0.39786 | Val Loss: 0.47351 | Val SMAPE: 44.08% | LR: 2.4e-04\n"
     ]
    },
    {
     "name": "stderr",
     "output_type": "stream",
     "text": [
      "                                                                       \r"
     ]
    },
    {
     "name": "stdout",
     "output_type": "stream",
     "text": [
      "Epoch 79/250 | Train MAE (log): 0.39726 | Val Loss: 0.47181 | Val SMAPE: 43.88% | LR: 2.3e-04\n",
      "  -> New best validation SMAPE: 43.88%. Model saved.\n"
     ]
    },
    {
     "name": "stderr",
     "output_type": "stream",
     "text": [
      "                                                                       \r"
     ]
    },
    {
     "name": "stdout",
     "output_type": "stream",
     "text": [
      "Epoch 80/250 | Train MAE (log): 0.39715 | Val Loss: 0.47373 | Val SMAPE: 44.05% | LR: 2.3e-04\n"
     ]
    },
    {
     "name": "stderr",
     "output_type": "stream",
     "text": [
      "                                                                       \r"
     ]
    },
    {
     "name": "stdout",
     "output_type": "stream",
     "text": [
      "Epoch 81/250 | Train MAE (log): 0.39770 | Val Loss: 0.47213 | Val SMAPE: 43.77% | LR: 2.3e-04\n",
      "  -> New best validation SMAPE: 43.77%. Model saved.\n"
     ]
    },
    {
     "name": "stderr",
     "output_type": "stream",
     "text": [
      "                                                                       \r"
     ]
    },
    {
     "name": "stdout",
     "output_type": "stream",
     "text": [
      "Epoch 82/250 | Train MAE (log): 0.39731 | Val Loss: 0.47217 | Val SMAPE: 43.93% | LR: 2.3e-04\n"
     ]
    },
    {
     "name": "stderr",
     "output_type": "stream",
     "text": [
      "                                                                       \r"
     ]
    },
    {
     "name": "stdout",
     "output_type": "stream",
     "text": [
      "Epoch 83/250 | Train MAE (log): 0.39703 | Val Loss: 0.47292 | Val SMAPE: 43.71% | LR: 2.3e-04\n",
      "  -> New best validation SMAPE: 43.71%. Model saved.\n"
     ]
    },
    {
     "name": "stderr",
     "output_type": "stream",
     "text": [
      "                                                                       \r"
     ]
    },
    {
     "name": "stdout",
     "output_type": "stream",
     "text": [
      "Epoch 84/250 | Train MAE (log): 0.39653 | Val Loss: 0.47112 | Val SMAPE: 44.26% | LR: 2.3e-04\n"
     ]
    },
    {
     "name": "stderr",
     "output_type": "stream",
     "text": [
      "                                                                       \r"
     ]
    },
    {
     "name": "stdout",
     "output_type": "stream",
     "text": [
      "Epoch 85/250 | Train MAE (log): 0.39639 | Val Loss: 0.47095 | Val SMAPE: 43.75% | LR: 2.2e-04\n"
     ]
    },
    {
     "name": "stderr",
     "output_type": "stream",
     "text": [
      "                                                                       \r"
     ]
    },
    {
     "name": "stdout",
     "output_type": "stream",
     "text": [
      "Epoch 86/250 | Train MAE (log): 0.39658 | Val Loss: 0.47477 | Val SMAPE: 43.97% | LR: 2.2e-04\n"
     ]
    },
    {
     "name": "stderr",
     "output_type": "stream",
     "text": [
      "                                                                       \r"
     ]
    },
    {
     "name": "stdout",
     "output_type": "stream",
     "text": [
      "Epoch 87/250 | Train MAE (log): 0.39688 | Val Loss: 0.47367 | Val SMAPE: 43.79% | LR: 2.2e-04\n"
     ]
    },
    {
     "name": "stderr",
     "output_type": "stream",
     "text": [
      "                                                                       \r"
     ]
    },
    {
     "name": "stdout",
     "output_type": "stream",
     "text": [
      "Epoch 88/250 | Train MAE (log): 0.39705 | Val Loss: 0.47349 | Val SMAPE: 43.76% | LR: 2.2e-04\n"
     ]
    },
    {
     "name": "stderr",
     "output_type": "stream",
     "text": [
      "                                                                       \r"
     ]
    },
    {
     "name": "stdout",
     "output_type": "stream",
     "text": [
      "Epoch 89/250 | Train MAE (log): 0.39699 | Val Loss: 0.47329 | Val SMAPE: 44.26% | LR: 2.2e-04\n"
     ]
    },
    {
     "name": "stderr",
     "output_type": "stream",
     "text": [
      "                                                                       \r"
     ]
    },
    {
     "name": "stdout",
     "output_type": "stream",
     "text": [
      "Epoch 90/250 | Train MAE (log): 0.39726 | Val Loss: 0.47218 | Val SMAPE: 43.88% | LR: 2.2e-04\n"
     ]
    },
    {
     "name": "stderr",
     "output_type": "stream",
     "text": [
      "                                                                       \r"
     ]
    },
    {
     "name": "stdout",
     "output_type": "stream",
     "text": [
      "Epoch 91/250 | Train MAE (log): 0.39711 | Val Loss: 0.47245 | Val SMAPE: 43.99% | LR: 2.1e-04\n"
     ]
    },
    {
     "name": "stderr",
     "output_type": "stream",
     "text": [
      "                                                                       \r"
     ]
    },
    {
     "name": "stdout",
     "output_type": "stream",
     "text": [
      "Epoch 92/250 | Train MAE (log): 0.39651 | Val Loss: 0.47340 | Val SMAPE: 43.60% | LR: 2.1e-04\n",
      "  -> New best validation SMAPE: 43.60%. Model saved.\n"
     ]
    },
    {
     "name": "stderr",
     "output_type": "stream",
     "text": [
      "                                                                       \r"
     ]
    },
    {
     "name": "stdout",
     "output_type": "stream",
     "text": [
      "Epoch 93/250 | Train MAE (log): 0.39630 | Val Loss: 0.47275 | Val SMAPE: 43.55% | LR: 2.1e-04\n",
      "  -> New best validation SMAPE: 43.55%. Model saved.\n"
     ]
    },
    {
     "name": "stderr",
     "output_type": "stream",
     "text": [
      "                                                                       \r"
     ]
    },
    {
     "name": "stdout",
     "output_type": "stream",
     "text": [
      "Epoch 94/250 | Train MAE (log): 0.39622 | Val Loss: 0.47213 | Val SMAPE: 43.65% | LR: 2.1e-04\n"
     ]
    },
    {
     "name": "stderr",
     "output_type": "stream",
     "text": [
      "                                                                       \r"
     ]
    },
    {
     "name": "stdout",
     "output_type": "stream",
     "text": [
      "Epoch 95/250 | Train MAE (log): 0.39655 | Val Loss: 0.47185 | Val SMAPE: 43.69% | LR: 2.1e-04\n"
     ]
    },
    {
     "name": "stderr",
     "output_type": "stream",
     "text": [
      "                                                                       \r"
     ]
    },
    {
     "name": "stdout",
     "output_type": "stream",
     "text": [
      "Epoch 96/250 | Train MAE (log): 0.39654 | Val Loss: 0.47231 | Val SMAPE: 43.79% | LR: 2.1e-04\n"
     ]
    },
    {
     "name": "stderr",
     "output_type": "stream",
     "text": [
      "                                                                       \r"
     ]
    },
    {
     "name": "stdout",
     "output_type": "stream",
     "text": [
      "Epoch 97/250 | Train MAE (log): 0.39646 | Val Loss: 0.47156 | Val SMAPE: 43.89% | LR: 2.0e-04\n"
     ]
    },
    {
     "name": "stderr",
     "output_type": "stream",
     "text": [
      "                                                                       \r"
     ]
    },
    {
     "name": "stdout",
     "output_type": "stream",
     "text": [
      "Epoch 98/250 | Train MAE (log): 0.39635 | Val Loss: 0.47042 | Val SMAPE: 43.63% | LR: 2.0e-04\n"
     ]
    },
    {
     "name": "stderr",
     "output_type": "stream",
     "text": [
      "                                                                       \r"
     ]
    },
    {
     "name": "stdout",
     "output_type": "stream",
     "text": [
      "Epoch 99/250 | Train MAE (log): 0.39645 | Val Loss: 0.47397 | Val SMAPE: 43.48% | LR: 2.0e-04\n",
      "  -> New best validation SMAPE: 43.48%. Model saved.\n"
     ]
    },
    {
     "name": "stderr",
     "output_type": "stream",
     "text": [
      "                                                                        \r"
     ]
    },
    {
     "name": "stdout",
     "output_type": "stream",
     "text": [
      "Epoch 100/250 | Train MAE (log): 0.39641 | Val Loss: 0.47192 | Val SMAPE: 43.77% | LR: 2.0e-04\n"
     ]
    },
    {
     "name": "stderr",
     "output_type": "stream",
     "text": [
      "                                                                        \r"
     ]
    },
    {
     "name": "stdout",
     "output_type": "stream",
     "text": [
      "Epoch 101/250 | Train MAE (log): 0.39604 | Val Loss: 0.47333 | Val SMAPE: 43.37% | LR: 2.0e-04\n",
      "  -> New best validation SMAPE: 43.37%. Model saved.\n"
     ]
    },
    {
     "name": "stderr",
     "output_type": "stream",
     "text": [
      "                                                                        \r"
     ]
    },
    {
     "name": "stdout",
     "output_type": "stream",
     "text": [
      "Epoch 102/250 | Train MAE (log): 0.39603 | Val Loss: 0.47278 | Val SMAPE: 43.57% | LR: 1.9e-04\n"
     ]
    },
    {
     "name": "stderr",
     "output_type": "stream",
     "text": [
      "                                                                        \r"
     ]
    },
    {
     "name": "stdout",
     "output_type": "stream",
     "text": [
      "Epoch 103/250 | Train MAE (log): 0.39618 | Val Loss: 0.47273 | Val SMAPE: 43.78% | LR: 1.9e-04\n"
     ]
    },
    {
     "name": "stderr",
     "output_type": "stream",
     "text": [
      "                                                                        \r"
     ]
    },
    {
     "name": "stdout",
     "output_type": "stream",
     "text": [
      "Epoch 104/250 | Train MAE (log): 0.39582 | Val Loss: 0.47299 | Val SMAPE: 43.38% | LR: 1.9e-04\n"
     ]
    },
    {
     "name": "stderr",
     "output_type": "stream",
     "text": [
      "                                                                        \r"
     ]
    },
    {
     "name": "stdout",
     "output_type": "stream",
     "text": [
      "Epoch 105/250 | Train MAE (log): 0.39620 | Val Loss: 0.47263 | Val SMAPE: 43.39% | LR: 1.9e-04\n"
     ]
    },
    {
     "name": "stderr",
     "output_type": "stream",
     "text": [
      "                                                                        \r"
     ]
    },
    {
     "name": "stdout",
     "output_type": "stream",
     "text": [
      "Epoch 106/250 | Train MAE (log): 0.39598 | Val Loss: 0.47296 | Val SMAPE: 43.32% | LR: 1.9e-04\n",
      "  -> New best validation SMAPE: 43.32%. Model saved.\n"
     ]
    },
    {
     "name": "stderr",
     "output_type": "stream",
     "text": [
      "                                                                        \r"
     ]
    },
    {
     "name": "stdout",
     "output_type": "stream",
     "text": [
      "Epoch 107/250 | Train MAE (log): 0.39587 | Val Loss: 0.47359 | Val SMAPE: 43.23% | LR: 1.9e-04\n",
      "  -> New best validation SMAPE: 43.23%. Model saved.\n"
     ]
    },
    {
     "name": "stderr",
     "output_type": "stream",
     "text": [
      "                                                                        \r"
     ]
    },
    {
     "name": "stdout",
     "output_type": "stream",
     "text": [
      "Epoch 108/250 | Train MAE (log): 0.39584 | Val Loss: 0.47111 | Val SMAPE: 43.41% | LR: 1.8e-04\n"
     ]
    },
    {
     "name": "stderr",
     "output_type": "stream",
     "text": [
      "                                                                        \r"
     ]
    },
    {
     "name": "stdout",
     "output_type": "stream",
     "text": [
      "Epoch 109/250 | Train MAE (log): 0.39592 | Val Loss: 0.47321 | Val SMAPE: 43.17% | LR: 1.8e-04\n",
      "  -> New best validation SMAPE: 43.17%. Model saved.\n"
     ]
    },
    {
     "name": "stderr",
     "output_type": "stream",
     "text": [
      "                                                                        \r"
     ]
    },
    {
     "name": "stdout",
     "output_type": "stream",
     "text": [
      "Epoch 110/250 | Train MAE (log): 0.39603 | Val Loss: 0.47323 | Val SMAPE: 43.45% | LR: 1.8e-04\n"
     ]
    },
    {
     "name": "stderr",
     "output_type": "stream",
     "text": [
      "                                                                        \r"
     ]
    },
    {
     "name": "stdout",
     "output_type": "stream",
     "text": [
      "Epoch 111/250 | Train MAE (log): 0.39565 | Val Loss: 0.47456 | Val SMAPE: 43.50% | LR: 1.8e-04\n"
     ]
    },
    {
     "name": "stderr",
     "output_type": "stream",
     "text": [
      "                                                                        \r"
     ]
    },
    {
     "name": "stdout",
     "output_type": "stream",
     "text": [
      "Epoch 112/250 | Train MAE (log): 0.39575 | Val Loss: 0.47279 | Val SMAPE: 43.41% | LR: 1.8e-04\n"
     ]
    },
    {
     "name": "stderr",
     "output_type": "stream",
     "text": [
      "                                                                        \r"
     ]
    },
    {
     "name": "stdout",
     "output_type": "stream",
     "text": [
      "Epoch 113/250 | Train MAE (log): 0.39617 | Val Loss: 0.47291 | Val SMAPE: 43.39% | LR: 1.7e-04\n"
     ]
    },
    {
     "name": "stderr",
     "output_type": "stream",
     "text": [
      "                                                                        \r"
     ]
    },
    {
     "name": "stdout",
     "output_type": "stream",
     "text": [
      "Epoch 114/250 | Train MAE (log): 0.39635 | Val Loss: 0.47438 | Val SMAPE: 43.42% | LR: 1.7e-04\n"
     ]
    },
    {
     "name": "stderr",
     "output_type": "stream",
     "text": [
      "                                                                        \r"
     ]
    },
    {
     "name": "stdout",
     "output_type": "stream",
     "text": [
      "Epoch 115/250 | Train MAE (log): 0.39583 | Val Loss: 0.47239 | Val SMAPE: 43.17% | LR: 1.7e-04\n",
      "  -> New best validation SMAPE: 43.17%. Model saved.\n"
     ]
    },
    {
     "name": "stderr",
     "output_type": "stream",
     "text": [
      "                                                                        \r"
     ]
    },
    {
     "name": "stdout",
     "output_type": "stream",
     "text": [
      "Epoch 116/250 | Train MAE (log): 0.39560 | Val Loss: 0.47290 | Val SMAPE: 43.33% | LR: 1.7e-04\n"
     ]
    },
    {
     "name": "stderr",
     "output_type": "stream",
     "text": [
      "                                                                        \r"
     ]
    },
    {
     "name": "stdout",
     "output_type": "stream",
     "text": [
      "Epoch 117/250 | Train MAE (log): 0.39542 | Val Loss: 0.47219 | Val SMAPE: 43.05% | LR: 1.7e-04\n",
      "  -> New best validation SMAPE: 43.05%. Model saved.\n"
     ]
    },
    {
     "name": "stderr",
     "output_type": "stream",
     "text": [
      "                                                                        \r"
     ]
    },
    {
     "name": "stdout",
     "output_type": "stream",
     "text": [
      "Epoch 118/250 | Train MAE (log): 0.39529 | Val Loss: 0.47338 | Val SMAPE: 43.17% | LR: 1.7e-04\n"
     ]
    },
    {
     "name": "stderr",
     "output_type": "stream",
     "text": [
      "                                                                        \r"
     ]
    },
    {
     "name": "stdout",
     "output_type": "stream",
     "text": [
      "Epoch 119/250 | Train MAE (log): 0.39556 | Val Loss: 0.47332 | Val SMAPE: 43.35% | LR: 1.6e-04\n"
     ]
    },
    {
     "name": "stderr",
     "output_type": "stream",
     "text": [
      "                                                                        \r"
     ]
    },
    {
     "name": "stdout",
     "output_type": "stream",
     "text": [
      "Epoch 120/250 | Train MAE (log): 0.39570 | Val Loss: 0.47327 | Val SMAPE: 43.17% | LR: 1.6e-04\n"
     ]
    },
    {
     "name": "stderr",
     "output_type": "stream",
     "text": [
      "                                                                        \r"
     ]
    },
    {
     "name": "stdout",
     "output_type": "stream",
     "text": [
      "Epoch 121/250 | Train MAE (log): 0.39539 | Val Loss: 0.47525 | Val SMAPE: 43.17% | LR: 1.6e-04\n"
     ]
    },
    {
     "name": "stderr",
     "output_type": "stream",
     "text": [
      "                                                                        \r"
     ]
    },
    {
     "name": "stdout",
     "output_type": "stream",
     "text": [
      "Epoch 122/250 | Train MAE (log): 0.39557 | Val Loss: 0.47187 | Val SMAPE: 43.34% | LR: 1.6e-04\n"
     ]
    },
    {
     "name": "stderr",
     "output_type": "stream",
     "text": [
      "                                                                        \r"
     ]
    },
    {
     "name": "stdout",
     "output_type": "stream",
     "text": [
      "Epoch 123/250 | Train MAE (log): 0.39546 | Val Loss: 0.47248 | Val SMAPE: 42.95% | LR: 1.6e-04\n",
      "  -> New best validation SMAPE: 42.95%. Model saved.\n"
     ]
    },
    {
     "name": "stderr",
     "output_type": "stream",
     "text": [
      "                                                                        \r"
     ]
    },
    {
     "name": "stdout",
     "output_type": "stream",
     "text": [
      "Epoch 124/250 | Train MAE (log): 0.39540 | Val Loss: 0.47260 | Val SMAPE: 42.86% | LR: 1.5e-04\n",
      "  -> New best validation SMAPE: 42.86%. Model saved.\n"
     ]
    },
    {
     "name": "stderr",
     "output_type": "stream",
     "text": [
      "                                                                        \r"
     ]
    },
    {
     "name": "stdout",
     "output_type": "stream",
     "text": [
      "Epoch 125/250 | Train MAE (log): 0.39522 | Val Loss: 0.47244 | Val SMAPE: 42.85% | LR: 1.5e-04\n",
      "  -> New best validation SMAPE: 42.85%. Model saved.\n"
     ]
    },
    {
     "name": "stderr",
     "output_type": "stream",
     "text": [
      "                                                                        \r"
     ]
    },
    {
     "name": "stdout",
     "output_type": "stream",
     "text": [
      "Epoch 126/250 | Train MAE (log): 0.39520 | Val Loss: 0.47320 | Val SMAPE: 42.77% | LR: 1.5e-04\n",
      "  -> New best validation SMAPE: 42.77%. Model saved.\n"
     ]
    },
    {
     "name": "stderr",
     "output_type": "stream",
     "text": [
      "                                                                        \r"
     ]
    },
    {
     "name": "stdout",
     "output_type": "stream",
     "text": [
      "Epoch 127/250 | Train MAE (log): 0.39520 | Val Loss: 0.47230 | Val SMAPE: 43.21% | LR: 1.5e-04\n"
     ]
    },
    {
     "name": "stderr",
     "output_type": "stream",
     "text": [
      "                                                                        \r"
     ]
    },
    {
     "name": "stdout",
     "output_type": "stream",
     "text": [
      "Epoch 128/250 | Train MAE (log): 0.39513 | Val Loss: 0.47293 | Val SMAPE: 42.88% | LR: 1.5e-04\n"
     ]
    },
    {
     "name": "stderr",
     "output_type": "stream",
     "text": [
      "                                                                        \r"
     ]
    },
    {
     "name": "stdout",
     "output_type": "stream",
     "text": [
      "Epoch 129/250 | Train MAE (log): 0.39522 | Val Loss: 0.47444 | Val SMAPE: 42.92% | LR: 1.4e-04\n"
     ]
    },
    {
     "name": "stderr",
     "output_type": "stream",
     "text": [
      "                                                                        \r"
     ]
    },
    {
     "name": "stdout",
     "output_type": "stream",
     "text": [
      "Epoch 130/250 | Train MAE (log): 0.39521 | Val Loss: 0.47519 | Val SMAPE: 42.98% | LR: 1.4e-04\n"
     ]
    },
    {
     "name": "stderr",
     "output_type": "stream",
     "text": [
      "                                                                        \r"
     ]
    },
    {
     "name": "stdout",
     "output_type": "stream",
     "text": [
      "Epoch 131/250 | Train MAE (log): 0.39538 | Val Loss: 0.47245 | Val SMAPE: 42.74% | LR: 1.4e-04\n",
      "  -> New best validation SMAPE: 42.74%. Model saved.\n"
     ]
    },
    {
     "name": "stderr",
     "output_type": "stream",
     "text": [
      "                                                                        \r"
     ]
    },
    {
     "name": "stdout",
     "output_type": "stream",
     "text": [
      "Epoch 132/250 | Train MAE (log): 0.39535 | Val Loss: 0.47186 | Val SMAPE: 42.74% | LR: 1.4e-04\n"
     ]
    },
    {
     "name": "stderr",
     "output_type": "stream",
     "text": [
      "                                                                        \r"
     ]
    },
    {
     "name": "stdout",
     "output_type": "stream",
     "text": [
      "Epoch 133/250 | Train MAE (log): 0.39509 | Val Loss: 0.47280 | Val SMAPE: 42.76% | LR: 1.4e-04\n"
     ]
    },
    {
     "name": "stderr",
     "output_type": "stream",
     "text": [
      "                                                                        \r"
     ]
    },
    {
     "name": "stdout",
     "output_type": "stream",
     "text": [
      "Epoch 134/250 | Train MAE (log): 0.39502 | Val Loss: 0.47358 | Val SMAPE: 42.58% | LR: 1.3e-04\n",
      "  -> New best validation SMAPE: 42.58%. Model saved.\n"
     ]
    },
    {
     "name": "stderr",
     "output_type": "stream",
     "text": [
      "                                                                        \r"
     ]
    },
    {
     "name": "stdout",
     "output_type": "stream",
     "text": [
      "Epoch 135/250 | Train MAE (log): 0.39506 | Val Loss: 0.47229 | Val SMAPE: 42.97% | LR: 1.3e-04\n"
     ]
    },
    {
     "name": "stderr",
     "output_type": "stream",
     "text": [
      "                                                                        \r"
     ]
    },
    {
     "name": "stdout",
     "output_type": "stream",
     "text": [
      "Epoch 136/250 | Train MAE (log): 0.39519 | Val Loss: 0.47359 | Val SMAPE: 42.78% | LR: 1.3e-04\n"
     ]
    },
    {
     "name": "stderr",
     "output_type": "stream",
     "text": [
      "                                                                        \r"
     ]
    },
    {
     "name": "stdout",
     "output_type": "stream",
     "text": [
      "Epoch 137/250 | Train MAE (log): 0.39517 | Val Loss: 0.47339 | Val SMAPE: 42.91% | LR: 1.3e-04\n"
     ]
    },
    {
     "name": "stderr",
     "output_type": "stream",
     "text": [
      "                                                                        \r"
     ]
    },
    {
     "name": "stdout",
     "output_type": "stream",
     "text": [
      "Epoch 138/250 | Train MAE (log): 0.39540 | Val Loss: 0.47387 | Val SMAPE: 42.89% | LR: 1.3e-04\n"
     ]
    },
    {
     "name": "stderr",
     "output_type": "stream",
     "text": [
      "                                                                        \r"
     ]
    },
    {
     "name": "stdout",
     "output_type": "stream",
     "text": [
      "Epoch 139/250 | Train MAE (log): 0.39530 | Val Loss: 0.47297 | Val SMAPE: 42.97% | LR: 1.3e-04\n"
     ]
    },
    {
     "name": "stderr",
     "output_type": "stream",
     "text": [
      "                                                                        \r"
     ]
    },
    {
     "name": "stdout",
     "output_type": "stream",
     "text": [
      "Epoch 140/250 | Train MAE (log): 0.39524 | Val Loss: 0.47253 | Val SMAPE: 42.90% | LR: 1.2e-04\n"
     ]
    },
    {
     "name": "stderr",
     "output_type": "stream",
     "text": [
      "                                                                        \r"
     ]
    },
    {
     "name": "stdout",
     "output_type": "stream",
     "text": [
      "Epoch 141/250 | Train MAE (log): 0.39501 | Val Loss: 0.47419 | Val SMAPE: 42.71% | LR: 1.2e-04\n"
     ]
    },
    {
     "name": "stderr",
     "output_type": "stream",
     "text": [
      "                                                                        \r"
     ]
    },
    {
     "name": "stdout",
     "output_type": "stream",
     "text": [
      "Epoch 142/250 | Train MAE (log): 0.39484 | Val Loss: 0.47421 | Val SMAPE: 42.80% | LR: 1.2e-04\n"
     ]
    },
    {
     "name": "stderr",
     "output_type": "stream",
     "text": [
      "                                                                        \r"
     ]
    },
    {
     "name": "stdout",
     "output_type": "stream",
     "text": [
      "Epoch 143/250 | Train MAE (log): 0.39498 | Val Loss: 0.47395 | Val SMAPE: 42.95% | LR: 1.2e-04\n"
     ]
    },
    {
     "name": "stderr",
     "output_type": "stream",
     "text": [
      "                                                                        \r"
     ]
    },
    {
     "name": "stdout",
     "output_type": "stream",
     "text": [
      "Epoch 144/250 | Train MAE (log): 0.39503 | Val Loss: 0.47315 | Val SMAPE: 42.72% | LR: 1.2e-04\n"
     ]
    },
    {
     "name": "stderr",
     "output_type": "stream",
     "text": [
      "                                                                        \r"
     ]
    },
    {
     "name": "stdout",
     "output_type": "stream",
     "text": [
      "Epoch 145/250 | Train MAE (log): 0.39502 | Val Loss: 0.47163 | Val SMAPE: 43.09% | LR: 1.1e-04\n"
     ]
    },
    {
     "name": "stderr",
     "output_type": "stream",
     "text": [
      "                                                                        \r"
     ]
    },
    {
     "name": "stdout",
     "output_type": "stream",
     "text": [
      "Epoch 146/250 | Train MAE (log): 0.39490 | Val Loss: 0.47240 | Val SMAPE: 42.78% | LR: 1.1e-04\n"
     ]
    },
    {
     "name": "stderr",
     "output_type": "stream",
     "text": [
      "                                                                        \r"
     ]
    },
    {
     "name": "stdout",
     "output_type": "stream",
     "text": [
      "Epoch 147/250 | Train MAE (log): 0.39505 | Val Loss: 0.47434 | Val SMAPE: 42.60% | LR: 1.1e-04\n"
     ]
    },
    {
     "name": "stderr",
     "output_type": "stream",
     "text": [
      "                                                                        \r"
     ]
    },
    {
     "name": "stdout",
     "output_type": "stream",
     "text": [
      "Epoch 148/250 | Train MAE (log): 0.39493 | Val Loss: 0.47193 | Val SMAPE: 42.63% | LR: 1.1e-04\n"
     ]
    },
    {
     "name": "stderr",
     "output_type": "stream",
     "text": [
      "                                                                        \r"
     ]
    },
    {
     "name": "stdout",
     "output_type": "stream",
     "text": [
      "Epoch 149/250 | Train MAE (log): 0.39472 | Val Loss: 0.47322 | Val SMAPE: 42.65% | LR: 1.1e-04\n"
     ]
    },
    {
     "name": "stderr",
     "output_type": "stream",
     "text": [
      "                                                                        \r"
     ]
    },
    {
     "name": "stdout",
     "output_type": "stream",
     "text": [
      "Epoch 150/250 | Train MAE (log): 0.39468 | Val Loss: 0.47304 | Val SMAPE: 42.61% | LR: 1.1e-04\n"
     ]
    },
    {
     "name": "stderr",
     "output_type": "stream",
     "text": [
      "                                                                        \r"
     ]
    },
    {
     "name": "stdout",
     "output_type": "stream",
     "text": [
      "Epoch 151/250 | Train MAE (log): 0.39471 | Val Loss: 0.47365 | Val SMAPE: 42.58% | LR: 1.0e-04\n"
     ]
    },
    {
     "name": "stderr",
     "output_type": "stream",
     "text": [
      "                                                                        \r"
     ]
    },
    {
     "name": "stdout",
     "output_type": "stream",
     "text": [
      "Epoch 152/250 | Train MAE (log): 0.39458 | Val Loss: 0.47122 | Val SMAPE: 43.10% | LR: 1.0e-04\n"
     ]
    },
    {
     "name": "stderr",
     "output_type": "stream",
     "text": [
      "                                                                        \r"
     ]
    },
    {
     "name": "stdout",
     "output_type": "stream",
     "text": [
      "Epoch 153/250 | Train MAE (log): 0.39483 | Val Loss: 0.47345 | Val SMAPE: 42.62% | LR: 1.0e-04\n"
     ]
    },
    {
     "name": "stderr",
     "output_type": "stream",
     "text": [
      "                                                                        \r"
     ]
    },
    {
     "name": "stdout",
     "output_type": "stream",
     "text": [
      "Epoch 154/250 | Train MAE (log): 0.39486 | Val Loss: 0.47458 | Val SMAPE: 42.59% | LR: 9.8e-05\n"
     ]
    },
    {
     "name": "stderr",
     "output_type": "stream",
     "text": [
      "                                                                        \r"
     ]
    },
    {
     "name": "stdout",
     "output_type": "stream",
     "text": [
      "Epoch 155/250 | Train MAE (log): 0.39475 | Val Loss: 0.47308 | Val SMAPE: 42.52% | LR: 9.7e-05\n",
      "  -> New best validation SMAPE: 42.52%. Model saved.\n"
     ]
    },
    {
     "name": "stderr",
     "output_type": "stream",
     "text": [
      "                                                                        \r"
     ]
    },
    {
     "name": "stdout",
     "output_type": "stream",
     "text": [
      "Epoch 156/250 | Train MAE (log): 0.39479 | Val Loss: 0.47287 | Val SMAPE: 42.81% | LR: 9.5e-05\n"
     ]
    },
    {
     "name": "stderr",
     "output_type": "stream",
     "text": [
      "                                                                        \r"
     ]
    },
    {
     "name": "stdout",
     "output_type": "stream",
     "text": [
      "Epoch 157/250 | Train MAE (log): 0.39467 | Val Loss: 0.47170 | Val SMAPE: 42.88% | LR: 9.3e-05\n"
     ]
    },
    {
     "name": "stderr",
     "output_type": "stream",
     "text": [
      "                                                                        \r"
     ]
    },
    {
     "name": "stdout",
     "output_type": "stream",
     "text": [
      "Epoch 158/250 | Train MAE (log): 0.39470 | Val Loss: 0.47243 | Val SMAPE: 42.51% | LR: 9.1e-05\n",
      "  -> New best validation SMAPE: 42.51%. Model saved.\n"
     ]
    },
    {
     "name": "stderr",
     "output_type": "stream",
     "text": [
      "                                                                        \r"
     ]
    },
    {
     "name": "stdout",
     "output_type": "stream",
     "text": [
      "Epoch 159/250 | Train MAE (log): 0.39471 | Val Loss: 0.47282 | Val SMAPE: 42.87% | LR: 9.0e-05\n"
     ]
    },
    {
     "name": "stderr",
     "output_type": "stream",
     "text": [
      "                                                                        \r"
     ]
    },
    {
     "name": "stdout",
     "output_type": "stream",
     "text": [
      "Epoch 160/250 | Train MAE (log): 0.39470 | Val Loss: 0.47207 | Val SMAPE: 42.61% | LR: 8.8e-05\n"
     ]
    },
    {
     "name": "stderr",
     "output_type": "stream",
     "text": [
      "                                                                        \r"
     ]
    },
    {
     "name": "stdout",
     "output_type": "stream",
     "text": [
      "Epoch 161/250 | Train MAE (log): 0.39468 | Val Loss: 0.47304 | Val SMAPE: 42.34% | LR: 8.6e-05\n",
      "  -> New best validation SMAPE: 42.34%. Model saved.\n"
     ]
    },
    {
     "name": "stderr",
     "output_type": "stream",
     "text": [
      "                                                                        \r"
     ]
    },
    {
     "name": "stdout",
     "output_type": "stream",
     "text": [
      "Epoch 162/250 | Train MAE (log): 0.39466 | Val Loss: 0.47252 | Val SMAPE: 42.52% | LR: 8.4e-05\n"
     ]
    },
    {
     "name": "stderr",
     "output_type": "stream",
     "text": [
      "                                                                        \r"
     ]
    },
    {
     "name": "stdout",
     "output_type": "stream",
     "text": [
      "Epoch 163/250 | Train MAE (log): 0.39464 | Val Loss: 0.47393 | Val SMAPE: 42.54% | LR: 8.3e-05\n"
     ]
    },
    {
     "name": "stderr",
     "output_type": "stream",
     "text": [
      "                                                                        \r"
     ]
    },
    {
     "name": "stdout",
     "output_type": "stream",
     "text": [
      "Epoch 164/250 | Train MAE (log): 0.39460 | Val Loss: 0.47185 | Val SMAPE: 42.49% | LR: 8.1e-05\n"
     ]
    },
    {
     "name": "stderr",
     "output_type": "stream",
     "text": [
      "                                                                        \r"
     ]
    },
    {
     "name": "stdout",
     "output_type": "stream",
     "text": [
      "Epoch 165/250 | Train MAE (log): 0.39471 | Val Loss: 0.47361 | Val SMAPE: 42.52% | LR: 7.9e-05\n"
     ]
    },
    {
     "name": "stderr",
     "output_type": "stream",
     "text": [
      "                                                                        \r"
     ]
    },
    {
     "name": "stdout",
     "output_type": "stream",
     "text": [
      "Epoch 166/250 | Train MAE (log): 0.39468 | Val Loss: 0.47169 | Val SMAPE: 42.90% | LR: 7.8e-05\n"
     ]
    },
    {
     "name": "stderr",
     "output_type": "stream",
     "text": [
      "                                                                        \r"
     ]
    },
    {
     "name": "stdout",
     "output_type": "stream",
     "text": [
      "Epoch 167/250 | Train MAE (log): 0.39452 | Val Loss: 0.47258 | Val SMAPE: 42.60% | LR: 7.6e-05\n"
     ]
    },
    {
     "name": "stderr",
     "output_type": "stream",
     "text": [
      "                                                                        \r"
     ]
    },
    {
     "name": "stdout",
     "output_type": "stream",
     "text": [
      "Epoch 168/250 | Train MAE (log): 0.39461 | Val Loss: 0.47162 | Val SMAPE: 42.30% | LR: 7.4e-05\n",
      "  -> New best validation SMAPE: 42.30%. Model saved.\n"
     ]
    },
    {
     "name": "stderr",
     "output_type": "stream",
     "text": [
      "                                                                        \r"
     ]
    },
    {
     "name": "stdout",
     "output_type": "stream",
     "text": [
      "Epoch 169/250 | Train MAE (log): 0.39449 | Val Loss: 0.47386 | Val SMAPE: 42.28% | LR: 7.3e-05\n",
      "  -> New best validation SMAPE: 42.28%. Model saved.\n"
     ]
    },
    {
     "name": "stderr",
     "output_type": "stream",
     "text": [
      "                                                                        \r"
     ]
    },
    {
     "name": "stdout",
     "output_type": "stream",
     "text": [
      "Epoch 170/250 | Train MAE (log): 0.39447 | Val Loss: 0.47225 | Val SMAPE: 42.31% | LR: 7.1e-05\n"
     ]
    },
    {
     "name": "stderr",
     "output_type": "stream",
     "text": [
      "                                                                        \r"
     ]
    },
    {
     "name": "stdout",
     "output_type": "stream",
     "text": [
      "Epoch 171/250 | Train MAE (log): 0.39452 | Val Loss: 0.47261 | Val SMAPE: 42.53% | LR: 7.0e-05\n"
     ]
    },
    {
     "name": "stderr",
     "output_type": "stream",
     "text": [
      "                                                                        \r"
     ]
    },
    {
     "name": "stdout",
     "output_type": "stream",
     "text": [
      "Epoch 172/250 | Train MAE (log): 0.39452 | Val Loss: 0.47325 | Val SMAPE: 42.36% | LR: 6.8e-05\n"
     ]
    },
    {
     "name": "stderr",
     "output_type": "stream",
     "text": [
      "                                                                        \r"
     ]
    },
    {
     "name": "stdout",
     "output_type": "stream",
     "text": [
      "Epoch 173/250 | Train MAE (log): 0.39448 | Val Loss: 0.47264 | Val SMAPE: 42.75% | LR: 6.6e-05\n"
     ]
    },
    {
     "name": "stderr",
     "output_type": "stream",
     "text": [
      "                                                                        \r"
     ]
    },
    {
     "name": "stdout",
     "output_type": "stream",
     "text": [
      "Epoch 174/250 | Train MAE (log): 0.39455 | Val Loss: 0.47223 | Val SMAPE: 42.49% | LR: 6.5e-05\n"
     ]
    },
    {
     "name": "stderr",
     "output_type": "stream",
     "text": [
      "                                                                        \r"
     ]
    },
    {
     "name": "stdout",
     "output_type": "stream",
     "text": [
      "Epoch 175/250 | Train MAE (log): 0.39451 | Val Loss: 0.47312 | Val SMAPE: 42.36% | LR: 6.3e-05\n"
     ]
    },
    {
     "name": "stderr",
     "output_type": "stream",
     "text": [
      "                                                                        \r"
     ]
    },
    {
     "name": "stdout",
     "output_type": "stream",
     "text": [
      "Epoch 176/250 | Train MAE (log): 0.39446 | Val Loss: 0.47236 | Val SMAPE: 42.47% | LR: 6.2e-05\n"
     ]
    },
    {
     "name": "stderr",
     "output_type": "stream",
     "text": [
      "                                                                        \r"
     ]
    },
    {
     "name": "stdout",
     "output_type": "stream",
     "text": [
      "Epoch 177/250 | Train MAE (log): 0.39444 | Val Loss: 0.47123 | Val SMAPE: 42.44% | LR: 6.0e-05\n"
     ]
    },
    {
     "name": "stderr",
     "output_type": "stream",
     "text": [
      "                                                                        \r"
     ]
    },
    {
     "name": "stdout",
     "output_type": "stream",
     "text": [
      "Epoch 178/250 | Train MAE (log): 0.39443 | Val Loss: 0.47242 | Val SMAPE: 42.49% | LR: 5.9e-05\n"
     ]
    },
    {
     "name": "stderr",
     "output_type": "stream",
     "text": [
      "                                                                        \r"
     ]
    },
    {
     "name": "stdout",
     "output_type": "stream",
     "text": [
      "Epoch 179/250 | Train MAE (log): 0.39445 | Val Loss: 0.47151 | Val SMAPE: 42.63% | LR: 5.7e-05\n"
     ]
    },
    {
     "name": "stderr",
     "output_type": "stream",
     "text": [
      "                                                                        \r"
     ]
    },
    {
     "name": "stdout",
     "output_type": "stream",
     "text": [
      "Epoch 180/250 | Train MAE (log): 0.39447 | Val Loss: 0.47324 | Val SMAPE: 42.36% | LR: 5.6e-05\n"
     ]
    },
    {
     "name": "stderr",
     "output_type": "stream",
     "text": [
      "                                                                        \r"
     ]
    },
    {
     "name": "stdout",
     "output_type": "stream",
     "text": [
      "Epoch 181/250 | Train MAE (log): 0.39446 | Val Loss: 0.47361 | Val SMAPE: 42.29% | LR: 5.4e-05\n"
     ]
    },
    {
     "name": "stderr",
     "output_type": "stream",
     "text": [
      "                                                                        \r"
     ]
    },
    {
     "name": "stdout",
     "output_type": "stream",
     "text": [
      "Epoch 182/250 | Train MAE (log): 0.39434 | Val Loss: 0.47205 | Val SMAPE: 43.10% | LR: 5.3e-05\n"
     ]
    },
    {
     "name": "stderr",
     "output_type": "stream",
     "text": [
      "                                                                        \r"
     ]
    },
    {
     "name": "stdout",
     "output_type": "stream",
     "text": [
      "Epoch 183/250 | Train MAE (log): 0.39436 | Val Loss: 0.47265 | Val SMAPE: 42.42% | LR: 5.2e-05\n"
     ]
    },
    {
     "name": "stderr",
     "output_type": "stream",
     "text": [
      "                                                                        \r"
     ]
    },
    {
     "name": "stdout",
     "output_type": "stream",
     "text": [
      "Epoch 184/250 | Train MAE (log): 0.39435 | Val Loss: 0.47206 | Val SMAPE: 42.64% | LR: 5.0e-05\n"
     ]
    },
    {
     "name": "stderr",
     "output_type": "stream",
     "text": [
      "                                                                        \r"
     ]
    },
    {
     "name": "stdout",
     "output_type": "stream",
     "text": [
      "Epoch 185/250 | Train MAE (log): 0.39430 | Val Loss: 0.47284 | Val SMAPE: 42.40% | LR: 4.9e-05\n"
     ]
    },
    {
     "name": "stderr",
     "output_type": "stream",
     "text": [
      "                                                                        \r"
     ]
    },
    {
     "name": "stdout",
     "output_type": "stream",
     "text": [
      "Epoch 186/250 | Train MAE (log): 0.39433 | Val Loss: 0.47277 | Val SMAPE: 42.64% | LR: 4.7e-05\n"
     ]
    },
    {
     "name": "stderr",
     "output_type": "stream",
     "text": [
      "                                                                        \r"
     ]
    },
    {
     "name": "stdout",
     "output_type": "stream",
     "text": [
      "Epoch 187/250 | Train MAE (log): 0.39438 | Val Loss: 0.47179 | Val SMAPE: 42.46% | LR: 4.6e-05\n"
     ]
    },
    {
     "name": "stderr",
     "output_type": "stream",
     "text": [
      "                                                                        \r"
     ]
    },
    {
     "name": "stdout",
     "output_type": "stream",
     "text": [
      "Epoch 188/250 | Train MAE (log): 0.39432 | Val Loss: 0.47419 | Val SMAPE: 42.45% | LR: 4.5e-05\n"
     ]
    },
    {
     "name": "stderr",
     "output_type": "stream",
     "text": [
      "                                                                        \r"
     ]
    },
    {
     "name": "stdout",
     "output_type": "stream",
     "text": [
      "Epoch 189/250 | Train MAE (log): 0.39441 | Val Loss: 0.47175 | Val SMAPE: 42.36% | LR: 4.3e-05\n"
     ]
    },
    {
     "name": "stderr",
     "output_type": "stream",
     "text": [
      "                                                                        \r"
     ]
    },
    {
     "name": "stdout",
     "output_type": "stream",
     "text": [
      "Epoch 190/250 | Train MAE (log): 0.39435 | Val Loss: 0.47315 | Val SMAPE: 42.37% | LR: 4.2e-05\n"
     ]
    },
    {
     "name": "stderr",
     "output_type": "stream",
     "text": [
      "                                                                        \r"
     ]
    },
    {
     "name": "stdout",
     "output_type": "stream",
     "text": [
      "Epoch 191/250 | Train MAE (log): 0.39427 | Val Loss: 0.47216 | Val SMAPE: 42.46% | LR: 4.1e-05\n"
     ]
    },
    {
     "name": "stderr",
     "output_type": "stream",
     "text": [
      "                                                                        \r"
     ]
    },
    {
     "name": "stdout",
     "output_type": "stream",
     "text": [
      "Epoch 192/250 | Train MAE (log): 0.39433 | Val Loss: 0.47242 | Val SMAPE: 42.34% | LR: 3.9e-05\n"
     ]
    },
    {
     "name": "stderr",
     "output_type": "stream",
     "text": [
      "                                                                        \r"
     ]
    },
    {
     "name": "stdout",
     "output_type": "stream",
     "text": [
      "Epoch 193/250 | Train MAE (log): 0.39422 | Val Loss: 0.47292 | Val SMAPE: 42.42% | LR: 3.8e-05\n"
     ]
    },
    {
     "name": "stderr",
     "output_type": "stream",
     "text": [
      "                                                                        \r"
     ]
    },
    {
     "name": "stdout",
     "output_type": "stream",
     "text": [
      "Epoch 194/250 | Train MAE (log): 0.39434 | Val Loss: 0.47432 | Val SMAPE: 42.28% | LR: 3.7e-05\n",
      "  -> New best validation SMAPE: 42.28%. Model saved.\n"
     ]
    },
    {
     "name": "stderr",
     "output_type": "stream",
     "text": [
      "                                                                        \r"
     ]
    },
    {
     "name": "stdout",
     "output_type": "stream",
     "text": [
      "Epoch 195/250 | Train MAE (log): 0.39432 | Val Loss: 0.47295 | Val SMAPE: 42.31% | LR: 3.6e-05\n"
     ]
    },
    {
     "name": "stderr",
     "output_type": "stream",
     "text": [
      "                                                                        \r"
     ]
    },
    {
     "name": "stdout",
     "output_type": "stream",
     "text": [
      "Epoch 196/250 | Train MAE (log): 0.39422 | Val Loss: 0.47337 | Val SMAPE: 42.22% | LR: 3.4e-05\n",
      "  -> New best validation SMAPE: 42.22%. Model saved.\n"
     ]
    },
    {
     "name": "stderr",
     "output_type": "stream",
     "text": [
      "                                                                        \r"
     ]
    },
    {
     "name": "stdout",
     "output_type": "stream",
     "text": [
      "Epoch 197/250 | Train MAE (log): 0.39425 | Val Loss: 0.47232 | Val SMAPE: 42.32% | LR: 3.3e-05\n"
     ]
    },
    {
     "name": "stderr",
     "output_type": "stream",
     "text": [
      "                                                                        \r"
     ]
    },
    {
     "name": "stdout",
     "output_type": "stream",
     "text": [
      "Epoch 198/250 | Train MAE (log): 0.39425 | Val Loss: 0.47200 | Val SMAPE: 42.37% | LR: 3.2e-05\n"
     ]
    },
    {
     "name": "stderr",
     "output_type": "stream",
     "text": [
      "                                                                        \r"
     ]
    },
    {
     "name": "stdout",
     "output_type": "stream",
     "text": [
      "Epoch 199/250 | Train MAE (log): 0.39428 | Val Loss: 0.47329 | Val SMAPE: 42.19% | LR: 3.1e-05\n",
      "  -> New best validation SMAPE: 42.19%. Model saved.\n"
     ]
    },
    {
     "name": "stderr",
     "output_type": "stream",
     "text": [
      "                                                                        \r"
     ]
    },
    {
     "name": "stdout",
     "output_type": "stream",
     "text": [
      "Epoch 200/250 | Train MAE (log): 0.39434 | Val Loss: 0.47261 | Val SMAPE: 42.16% | LR: 3.0e-05\n",
      "  -> New best validation SMAPE: 42.16%. Model saved.\n"
     ]
    },
    {
     "name": "stderr",
     "output_type": "stream",
     "text": [
      "                                                                        \r"
     ]
    },
    {
     "name": "stdout",
     "output_type": "stream",
     "text": [
      "Epoch 201/250 | Train MAE (log): 0.39417 | Val Loss: 0.47227 | Val SMAPE: 42.21% | LR: 2.9e-05\n"
     ]
    },
    {
     "name": "stderr",
     "output_type": "stream",
     "text": [
      "                                                                        \r"
     ]
    },
    {
     "name": "stdout",
     "output_type": "stream",
     "text": [
      "Epoch 202/250 | Train MAE (log): 0.39420 | Val Loss: 0.47230 | Val SMAPE: 42.24% | LR: 2.8e-05\n"
     ]
    },
    {
     "name": "stderr",
     "output_type": "stream",
     "text": [
      "                                                                        \r"
     ]
    },
    {
     "name": "stdout",
     "output_type": "stream",
     "text": [
      "Epoch 203/250 | Train MAE (log): 0.39419 | Val Loss: 0.47247 | Val SMAPE: 42.31% | LR: 2.6e-05\n"
     ]
    },
    {
     "name": "stderr",
     "output_type": "stream",
     "text": [
      "                                                                        \r"
     ]
    },
    {
     "name": "stdout",
     "output_type": "stream",
     "text": [
      "Epoch 204/250 | Train MAE (log): 0.39411 | Val Loss: 0.47226 | Val SMAPE: 42.35% | LR: 2.5e-05\n"
     ]
    },
    {
     "name": "stderr",
     "output_type": "stream",
     "text": [
      "                                                                        \r"
     ]
    },
    {
     "name": "stdout",
     "output_type": "stream",
     "text": [
      "Epoch 205/250 | Train MAE (log): 0.39418 | Val Loss: 0.47245 | Val SMAPE: 42.35% | LR: 2.4e-05\n"
     ]
    },
    {
     "name": "stderr",
     "output_type": "stream",
     "text": [
      "                                                                        \r"
     ]
    },
    {
     "name": "stdout",
     "output_type": "stream",
     "text": [
      "Epoch 206/250 | Train MAE (log): 0.39416 | Val Loss: 0.47171 | Val SMAPE: 42.52% | LR: 2.3e-05\n"
     ]
    },
    {
     "name": "stderr",
     "output_type": "stream",
     "text": [
      "                                                                        \r"
     ]
    },
    {
     "name": "stdout",
     "output_type": "stream",
     "text": [
      "Epoch 207/250 | Train MAE (log): 0.39421 | Val Loss: 0.47228 | Val SMAPE: 42.25% | LR: 2.2e-05\n"
     ]
    },
    {
     "name": "stderr",
     "output_type": "stream",
     "text": [
      "                                                                        \r"
     ]
    },
    {
     "name": "stdout",
     "output_type": "stream",
     "text": [
      "Epoch 208/250 | Train MAE (log): 0.39428 | Val Loss: 0.47262 | Val SMAPE: 42.17% | LR: 2.1e-05\n"
     ]
    },
    {
     "name": "stderr",
     "output_type": "stream",
     "text": [
      "                                                                        \r"
     ]
    },
    {
     "name": "stdout",
     "output_type": "stream",
     "text": [
      "Epoch 209/250 | Train MAE (log): 0.39419 | Val Loss: 0.47166 | Val SMAPE: 42.21% | LR: 2.0e-05\n"
     ]
    },
    {
     "name": "stderr",
     "output_type": "stream",
     "text": [
      "                                                                        \r"
     ]
    },
    {
     "name": "stdout",
     "output_type": "stream",
     "text": [
      "Epoch 210/250 | Train MAE (log): 0.39417 | Val Loss: 0.47243 | Val SMAPE: 42.29% | LR: 1.9e-05\n"
     ]
    },
    {
     "name": "stderr",
     "output_type": "stream",
     "text": [
      "                                                                        \r"
     ]
    },
    {
     "name": "stdout",
     "output_type": "stream",
     "text": [
      "Epoch 211/250 | Train MAE (log): 0.39417 | Val Loss: 0.47220 | Val SMAPE: 42.09% | LR: 1.9e-05\n",
      "  -> New best validation SMAPE: 42.09%. Model saved.\n"
     ]
    },
    {
     "name": "stderr",
     "output_type": "stream",
     "text": [
      "                                                                        \r"
     ]
    },
    {
     "name": "stdout",
     "output_type": "stream",
     "text": [
      "Epoch 212/250 | Train MAE (log): 0.39413 | Val Loss: 0.47098 | Val SMAPE: 42.31% | LR: 1.8e-05\n"
     ]
    },
    {
     "name": "stderr",
     "output_type": "stream",
     "text": [
      "                                                                        \r"
     ]
    },
    {
     "name": "stdout",
     "output_type": "stream",
     "text": [
      "Epoch 213/250 | Train MAE (log): 0.39424 | Val Loss: 0.47286 | Val SMAPE: 42.13% | LR: 1.7e-05\n"
     ]
    },
    {
     "name": "stderr",
     "output_type": "stream",
     "text": [
      "                                                                        \r"
     ]
    },
    {
     "name": "stdout",
     "output_type": "stream",
     "text": [
      "Epoch 214/250 | Train MAE (log): 0.39414 | Val Loss: 0.47453 | Val SMAPE: 42.12% | LR: 1.6e-05\n"
     ]
    },
    {
     "name": "stderr",
     "output_type": "stream",
     "text": [
      "                                                                        \r"
     ]
    },
    {
     "name": "stdout",
     "output_type": "stream",
     "text": [
      "Epoch 215/250 | Train MAE (log): 0.39415 | Val Loss: 0.47234 | Val SMAPE: 42.16% | LR: 1.5e-05\n"
     ]
    },
    {
     "name": "stderr",
     "output_type": "stream",
     "text": [
      "                                                                        \r"
     ]
    },
    {
     "name": "stdout",
     "output_type": "stream",
     "text": [
      "Epoch 216/250 | Train MAE (log): 0.39423 | Val Loss: 0.47262 | Val SMAPE: 42.29% | LR: 1.4e-05\n"
     ]
    },
    {
     "name": "stderr",
     "output_type": "stream",
     "text": [
      "                                                                        \r"
     ]
    },
    {
     "name": "stdout",
     "output_type": "stream",
     "text": [
      "Epoch 217/250 | Train MAE (log): 0.39426 | Val Loss: 0.47127 | Val SMAPE: 42.44% | LR: 1.3e-05\n"
     ]
    },
    {
     "name": "stderr",
     "output_type": "stream",
     "text": [
      "                                                                        \r"
     ]
    },
    {
     "name": "stdout",
     "output_type": "stream",
     "text": [
      "Epoch 218/250 | Train MAE (log): 0.39417 | Val Loss: 0.47245 | Val SMAPE: 42.29% | LR: 1.3e-05\n"
     ]
    },
    {
     "name": "stderr",
     "output_type": "stream",
     "text": [
      "                                                                        \r"
     ]
    },
    {
     "name": "stdout",
     "output_type": "stream",
     "text": [
      "Epoch 219/250 | Train MAE (log): 0.39412 | Val Loss: 0.47220 | Val SMAPE: 42.39% | LR: 1.2e-05\n"
     ]
    },
    {
     "name": "stderr",
     "output_type": "stream",
     "text": [
      "                                                                        \r"
     ]
    },
    {
     "name": "stdout",
     "output_type": "stream",
     "text": [
      "Epoch 220/250 | Train MAE (log): 0.39409 | Val Loss: 0.47224 | Val SMAPE: 42.41% | LR: 1.1e-05\n"
     ]
    },
    {
     "name": "stderr",
     "output_type": "stream",
     "text": [
      "                                                                        \r"
     ]
    },
    {
     "name": "stdout",
     "output_type": "stream",
     "text": [
      "Epoch 221/250 | Train MAE (log): 0.39432 | Val Loss: 0.47193 | Val SMAPE: 42.23% | LR: 1.1e-05\n"
     ]
    },
    {
     "name": "stderr",
     "output_type": "stream",
     "text": [
      "                                                                        \r"
     ]
    },
    {
     "name": "stdout",
     "output_type": "stream",
     "text": [
      "Epoch 222/250 | Train MAE (log): 0.39428 | Val Loss: 0.47266 | Val SMAPE: 42.16% | LR: 9.9e-06\n"
     ]
    },
    {
     "name": "stderr",
     "output_type": "stream",
     "text": [
      "                                                                        \r"
     ]
    },
    {
     "name": "stdout",
     "output_type": "stream",
     "text": [
      "Epoch 223/250 | Train MAE (log): 0.39410 | Val Loss: 0.47090 | Val SMAPE: 42.39% | LR: 9.2e-06\n"
     ]
    },
    {
     "name": "stderr",
     "output_type": "stream",
     "text": [
      "                                                                        \r"
     ]
    },
    {
     "name": "stdout",
     "output_type": "stream",
     "text": [
      "Epoch 224/250 | Train MAE (log): 0.39435 | Val Loss: 0.47147 | Val SMAPE: 42.20% | LR: 8.6e-06\n"
     ]
    },
    {
     "name": "stderr",
     "output_type": "stream",
     "text": [
      "                                                                        \r"
     ]
    },
    {
     "name": "stdout",
     "output_type": "stream",
     "text": [
      "Epoch 225/250 | Train MAE (log): 0.39415 | Val Loss: 0.47230 | Val SMAPE: 42.15% | LR: 7.9e-06\n"
     ]
    },
    {
     "name": "stderr",
     "output_type": "stream",
     "text": [
      "                                                                        \r"
     ]
    },
    {
     "name": "stdout",
     "output_type": "stream",
     "text": [
      "Epoch 226/250 | Train MAE (log): 0.39419 | Val Loss: 0.47347 | Val SMAPE: 42.07% | LR: 7.4e-06\n",
      "  -> New best validation SMAPE: 42.07%. Model saved.\n"
     ]
    },
    {
     "name": "stderr",
     "output_type": "stream",
     "text": [
      "                                                                        \r"
     ]
    },
    {
     "name": "stdout",
     "output_type": "stream",
     "text": [
      "Epoch 227/250 | Train MAE (log): 0.39402 | Val Loss: 0.47200 | Val SMAPE: 42.20% | LR: 6.8e-06\n"
     ]
    },
    {
     "name": "stderr",
     "output_type": "stream",
     "text": [
      "                                                                        \r"
     ]
    },
    {
     "name": "stdout",
     "output_type": "stream",
     "text": [
      "Epoch 228/250 | Train MAE (log): 0.39411 | Val Loss: 0.47257 | Val SMAPE: 42.39% | LR: 6.2e-06\n"
     ]
    },
    {
     "name": "stderr",
     "output_type": "stream",
     "text": [
      "                                                                        \r"
     ]
    },
    {
     "name": "stdout",
     "output_type": "stream",
     "text": [
      "Epoch 229/250 | Train MAE (log): 0.39411 | Val Loss: 0.47226 | Val SMAPE: 42.16% | LR: 5.7e-06\n"
     ]
    },
    {
     "name": "stderr",
     "output_type": "stream",
     "text": [
      "                                                                        \r"
     ]
    },
    {
     "name": "stdout",
     "output_type": "stream",
     "text": [
      "Epoch 230/250 | Train MAE (log): 0.39407 | Val Loss: 0.47325 | Val SMAPE: 42.05% | LR: 5.2e-06\n",
      "  -> New best validation SMAPE: 42.05%. Model saved.\n"
     ]
    },
    {
     "name": "stderr",
     "output_type": "stream",
     "text": [
      "                                                                        \r"
     ]
    },
    {
     "name": "stdout",
     "output_type": "stream",
     "text": [
      "Epoch 231/250 | Train MAE (log): 0.39407 | Val Loss: 0.47163 | Val SMAPE: 42.27% | LR: 4.7e-06\n"
     ]
    },
    {
     "name": "stderr",
     "output_type": "stream",
     "text": [
      "                                                                        \r"
     ]
    },
    {
     "name": "stdout",
     "output_type": "stream",
     "text": [
      "Epoch 232/250 | Train MAE (log): 0.39412 | Val Loss: 0.47059 | Val SMAPE: 42.38% | LR: 4.3e-06\n"
     ]
    },
    {
     "name": "stderr",
     "output_type": "stream",
     "text": [
      "                                                                        \r"
     ]
    },
    {
     "name": "stdout",
     "output_type": "stream",
     "text": [
      "Epoch 233/250 | Train MAE (log): 0.39407 | Val Loss: 0.47311 | Val SMAPE: 42.03% | LR: 3.8e-06\n",
      "  -> New best validation SMAPE: 42.03%. Model saved.\n"
     ]
    },
    {
     "name": "stderr",
     "output_type": "stream",
     "text": [
      "                                                                        \r"
     ]
    },
    {
     "name": "stdout",
     "output_type": "stream",
     "text": [
      "Epoch 234/250 | Train MAE (log): 0.39414 | Val Loss: 0.47459 | Val SMAPE: 42.27% | LR: 3.4e-06\n"
     ]
    },
    {
     "name": "stderr",
     "output_type": "stream",
     "text": [
      "                                                                        \r"
     ]
    },
    {
     "name": "stdout",
     "output_type": "stream",
     "text": [
      "Epoch 235/250 | Train MAE (log): 0.39409 | Val Loss: 0.47276 | Val SMAPE: 42.57% | LR: 3.0e-06\n"
     ]
    },
    {
     "name": "stderr",
     "output_type": "stream",
     "text": [
      "                                                                        \r"
     ]
    },
    {
     "name": "stdout",
     "output_type": "stream",
     "text": [
      "Epoch 236/250 | Train MAE (log): 0.39414 | Val Loss: 0.47123 | Val SMAPE: 42.42% | LR: 2.7e-06\n"
     ]
    },
    {
     "name": "stderr",
     "output_type": "stream",
     "text": [
      "                                                                        \r"
     ]
    },
    {
     "name": "stdout",
     "output_type": "stream",
     "text": [
      "Epoch 237/250 | Train MAE (log): 0.39413 | Val Loss: 0.47288 | Val SMAPE: 42.09% | LR: 2.3e-06\n"
     ]
    },
    {
     "name": "stderr",
     "output_type": "stream",
     "text": [
      "                                                                        \r"
     ]
    },
    {
     "name": "stdout",
     "output_type": "stream",
     "text": [
      "Epoch 238/250 | Train MAE (log): 0.39396 | Val Loss: 0.47224 | Val SMAPE: 42.11% | LR: 2.0e-06\n"
     ]
    },
    {
     "name": "stderr",
     "output_type": "stream",
     "text": [
      "                                                                        \r"
     ]
    },
    {
     "name": "stdout",
     "output_type": "stream",
     "text": [
      "Epoch 239/250 | Train MAE (log): 0.39403 | Val Loss: 0.47210 | Val SMAPE: 42.39% | LR: 1.7e-06\n"
     ]
    },
    {
     "name": "stderr",
     "output_type": "stream",
     "text": [
      "                                                                        \r"
     ]
    },
    {
     "name": "stdout",
     "output_type": "stream",
     "text": [
      "Epoch 240/250 | Train MAE (log): 0.39407 | Val Loss: 0.47260 | Val SMAPE: 42.24% | LR: 1.4e-06\n"
     ]
    },
    {
     "name": "stderr",
     "output_type": "stream",
     "text": [
      "                                                                        \r"
     ]
    },
    {
     "name": "stdout",
     "output_type": "stream",
     "text": [
      "Epoch 241/250 | Train MAE (log): 0.39405 | Val Loss: 0.47249 | Val SMAPE: 42.12% | LR: 1.2e-06\n"
     ]
    },
    {
     "name": "stderr",
     "output_type": "stream",
     "text": [
      "                                                                        \r"
     ]
    },
    {
     "name": "stdout",
     "output_type": "stream",
     "text": [
      "Epoch 242/250 | Train MAE (log): 0.39414 | Val Loss: 0.47328 | Val SMAPE: 42.09% | LR: 9.7e-07\n"
     ]
    },
    {
     "name": "stderr",
     "output_type": "stream",
     "text": [
      "                                                                        \r"
     ]
    },
    {
     "name": "stdout",
     "output_type": "stream",
     "text": [
      "Epoch 243/250 | Train MAE (log): 0.39404 | Val Loss: 0.47508 | Val SMAPE: 42.36% | LR: 7.7e-07\n"
     ]
    },
    {
     "name": "stderr",
     "output_type": "stream",
     "text": [
      "                                                                        \r"
     ]
    },
    {
     "name": "stdout",
     "output_type": "stream",
     "text": [
      "Epoch 244/250 | Train MAE (log): 0.39407 | Val Loss: 0.47307 | Val SMAPE: 42.07% | LR: 5.9e-07\n"
     ]
    },
    {
     "name": "stderr",
     "output_type": "stream",
     "text": [
      "                                                                        \r"
     ]
    },
    {
     "name": "stdout",
     "output_type": "stream",
     "text": [
      "Epoch 245/250 | Train MAE (log): 0.39423 | Val Loss: 0.47230 | Val SMAPE: 42.17% | LR: 4.4e-07\n"
     ]
    },
    {
     "name": "stderr",
     "output_type": "stream",
     "text": [
      "                                                                        \r"
     ]
    },
    {
     "name": "stdout",
     "output_type": "stream",
     "text": [
      "Epoch 246/250 | Train MAE (log): 0.39416 | Val Loss: 0.47230 | Val SMAPE: 42.46% | LR: 3.1e-07\n"
     ]
    },
    {
     "name": "stderr",
     "output_type": "stream",
     "text": [
      "                                                                        \r"
     ]
    },
    {
     "name": "stdout",
     "output_type": "stream",
     "text": [
      "Epoch 247/250 | Train MAE (log): 0.39404 | Val Loss: 0.47189 | Val SMAPE: 42.15% | LR: 2.0e-07\n"
     ]
    },
    {
     "name": "stderr",
     "output_type": "stream",
     "text": [
      "                                                                        \r"
     ]
    },
    {
     "name": "stdout",
     "output_type": "stream",
     "text": [
      "Epoch 248/250 | Train MAE (log): 0.39416 | Val Loss: 0.47340 | Val SMAPE: 42.10% | LR: 1.2e-07\n"
     ]
    },
    {
     "name": "stderr",
     "output_type": "stream",
     "text": [
      "                                                                        \r"
     ]
    },
    {
     "name": "stdout",
     "output_type": "stream",
     "text": [
      "Epoch 249/250 | Train MAE (log): 0.39417 | Val Loss: 0.47286 | Val SMAPE: 42.11% | LR: 5.7e-08\n"
     ]
    },
    {
     "name": "stderr",
     "output_type": "stream",
     "text": [
      "                                                                        \r"
     ]
    },
    {
     "name": "stdout",
     "output_type": "stream",
     "text": [
      "Epoch 250/250 | Train MAE (log): 0.39404 | Val Loss: 0.47096 | Val SMAPE: 42.27% | LR: 2.2e-08\n",
      "\n",
      "--- Cross-Validation Summary ---\n",
      "Fold 1 Best SMAPE: 42.02%\n",
      "Fold 2 Best SMAPE: 41.59%\n",
      "Fold 3 Best SMAPE: 42.26%\n",
      "Fold 4 Best SMAPE: 41.47%\n",
      "Fold 5 Best SMAPE: 42.03%\n",
      "\n",
      "Average SMAPE across all folds: 41.87%\n",
      "Standard Deviation of SMAPE: 0.30%\n"
     ]
    }
   ],
   "source": [
    "# --- 5. SMAPE Metric (Unchanged) ---\n",
    "def smape_loss(y_pred, y_true):\n",
    "    numerator = torch.abs(y_pred - y_true)\n",
    "    denominator = (torch.abs(y_true) + torch.abs(y_pred)) / 2\n",
    "    loss = torch.mean(numerator / (denominator + 1e-8)) * 100\n",
    "    return loss\n",
    "    \n",
    "import torch.nn.functional as F\n",
    "\n",
    "class BCELossDivTarget(nn.Module):\n",
    "    def __init__(self, eps=1e-8):\n",
    "        super().__init__()\n",
    "        self.eps = eps\n",
    "        self.bce = nn.BCELoss(reduction='none')  # per-element loss\n",
    "\n",
    "    def forward(self, pred, target):\n",
    "        # Clip predictions to avoid log(0)\n",
    "        # pred = torch.clamp(pred, self.eps, 1 - self.eps)\n",
    "        \n",
    "        # Compute element-wise BCE\n",
    "        loss = self.bce(pred, target)\n",
    "        \n",
    "        # Divide by target (with epsilon)\n",
    "        loss = loss / ( pred + self.eps)\n",
    "        \n",
    "        # Return mean over batch\n",
    "        return loss.mean()\n",
    "\n",
    "import torch\n",
    "import torch.nn as nn\n",
    "\n",
    "class PseudoHuberLoss(nn.Module):\n",
    "    def __init__(self, delta=1.0, reduction='mean'):\n",
    "        super().__init__()\n",
    "        self.delta = delta\n",
    "        self.reduction = reduction\n",
    "\n",
    "    def forward(self, y_pred, y_true):\n",
    "        diff = 2 * (y_pred - y_true)/(y_pred + y_true)\n",
    "        loss = self.delta**2 * (torch.sqrt(1 + (diff / self.delta)**2) - 1)\n",
    "        \n",
    "        if self.reduction == 'mean':\n",
    "            return loss.mean()\n",
    "        elif self.reduction == 'sum':\n",
    "            return loss.sum()\n",
    "        else:  # 'none'\n",
    "            return loss\n",
    "\n",
    "# --- 6. Training and Evaluation Loop (UPDATED) ---\n",
    "def train_and_evaluate(train_loader, val_loader, fold, min_label, max_label):\n",
    "    # Instantiate the new model (UPDATED PARAMS)\n",
    "    model = ModalTowerAdapter(\n",
    "        QWEN4B_DIM, DINO_DIM, SIGLIP2_DIM, TOWER_OUTPUT_DIM,\n",
    "        ADAPTER_INPUT_DIM, HIDDEN_DIM_1, HIDDEN_DIM_2, HIDDEN_DIM_3, DROPOUT_RATE\n",
    "    ).to(DEVICE)\n",
    "\n",
    "    optimizer = torch.optim.AdamW(model.parameters(), lr=LEARNING_RATE)\n",
    "    criterion = nn.BCELoss()\n",
    "\n",
    "    warmup_scheduler = torch.optim.lr_scheduler.LinearLR(optimizer, start_factor=0.1, end_factor=1.0, total_iters=WARM_UP_EPOCHS * len(train_loader))\n",
    "    cosine_scheduler = torch.optim.lr_scheduler.CosineAnnealingLR(optimizer, T_max=(EPOCHS - WARM_UP_EPOCHS), eta_min=1e-6)\n",
    "\n",
    "    scheduler = CosineLRScheduler(optimizer, t_initial=EPOCHS, lr_min=1e-8,\n",
    "                  cycle_mul=1.0, cycle_decay=1.0, cycle_limit=1,\n",
    "                  warmup_t=WARM_UP_EPOCHS, warmup_lr_init=1e-6, warmup_prefix=False, t_in_epochs=True,\n",
    "                  noise_range_t=None, noise_pct=0.67, noise_std=1.0,\n",
    "                  noise_seed=42, k_decay=1.0, initialize=True)\n",
    "\n",
    "    best_val_smape = float('inf')\n",
    "    print(f\"\\n--- Starting Fold {fold+1}/{N_SPLITS} ---\")\n",
    "    for epoch in range(EPOCHS):\n",
    "        model.train()\n",
    "        train_loss_mae = 0.0\n",
    "        progress_bar = tqdm(train_loader, desc=f\"Epoch {epoch+1}/{EPOCHS} [Train]\", leave=False)\n",
    "\n",
    "        for (features_qwen4b, features_dino, features_siglip2_txt, features_siglip2_img), log_prices in progress_bar:\n",
    "            features_qwen4b = features_qwen4b.to(DEVICE)\n",
    "            features_dino = features_dino.to(DEVICE)\n",
    "            features_siglip2_txt = features_siglip2_txt.to(DEVICE)\n",
    "            features_siglip2_img = features_siglip2_img.to(DEVICE)\n",
    "            log_prices = log_prices.to(DEVICE)\n",
    "            log_prices = (log_prices - min_label) / (max_label - min_label)\n",
    "            # print(torch.min(log_prices))\n",
    "            log_prices = torch.clip(log_prices, 1e-8, 1.0)\n",
    "\n",
    "            optimizer.zero_grad()\n",
    "            log_outputs = model(features_qwen4b, features_dino, features_siglip2_txt, features_siglip2_img)\n",
    "            loss = criterion(log_outputs, log_prices)\n",
    "            loss.backward()\n",
    "            optimizer.step()\n",
    "            train_loss_mae += loss.item()\n",
    "\n",
    "        model.eval()\n",
    "        val_smape = 0.0\n",
    "        val_loss = 0.0\n",
    "        with torch.no_grad():\n",
    "            for (features_qwen4b, features_dino, features_siglip2_txt, features_siglip2_img), log_prices in val_loader:\n",
    "                features_qwen4b = features_qwen4b.to(DEVICE)\n",
    "                features_dino = features_dino.to(DEVICE)\n",
    "                features_siglip2_txt = features_siglip2_txt.to(DEVICE)\n",
    "                features_siglip2_img = features_siglip2_img.to(DEVICE)\n",
    "                log_prices = log_prices.to(DEVICE)\n",
    "                log_prices = (log_prices - min_label) / (max_label - min_label)\n",
    "                # print(torch.min(log_prices))\n",
    "                log_prices = torch.clip(log_prices, 1e-8, 1.0)\n",
    "\n",
    "                log_outputs = model(features_qwen4b, features_dino, features_siglip2_txt, features_siglip2_img)\n",
    "                original_scale_preds = (log_outputs) * (max_label - min_label) + min_label\n",
    "                original_scale_prices = (log_prices) * (max_label - min_label) + min_label\n",
    "\n",
    "                val_loss += criterion(log_outputs, log_prices).item()\n",
    "                val_smape += smape_loss(original_scale_preds, original_scale_prices).item()\n",
    "\n",
    "        avg_train_mae = train_loss_mae / len(train_loader)\n",
    "        avg_val_smape = val_smape / len(val_loader)\n",
    "        avg_val_loss = val_loss / len(val_loader)\n",
    "        scheduler.step(epoch)\n",
    "\n",
    "        print(f\"Epoch {epoch+1}/{EPOCHS} | Train MAE (log): {avg_train_mae:.5f} | Val Loss: {avg_val_loss:.5f} | Val SMAPE: {avg_val_smape:.2f}% | LR: {optimizer.param_groups[0]['lr']:.1e}\")\n",
    "\n",
    "        if avg_val_smape < best_val_smape:\n",
    "            best_val_smape = avg_val_smape\n",
    "            torch.save(model.state_dict(), f\"modal_tower_model_fold_{fold+1}.pth\")\n",
    "            print(f\"  -> New best validation SMAPE: {best_val_smape:.2f}%. Model saved.\")\n",
    "\n",
    "    return best_val_smape\n",
    "\n",
    "\n",
    "# --- 7. Main Execution (UPDATED) ---\n",
    "if __name__ == '__main__':\n",
    "    # Load aligned features (UPDATED)\n",
    "    X_qwen4b, X_dino, X_siglip2_txt, X_siglip2_img, y, df_train = load_and_align_embeddings()\n",
    "\n",
    "    # Updated dataset\n",
    "    full_dataset = ProductDataset(X_qwen4b, X_dino, X_siglip2_txt, X_siglip2_img, y)\n",
    "\n",
    "    skf = KFold(n_splits=N_SPLITS, shuffle=True, random_state=42)\n",
    "    fold_scores = []\n",
    "\n",
    "    for fold, (train_idx, val_idx) in enumerate(skf.split(df_train)):\n",
    "        train_subset = Subset(full_dataset, train_idx)\n",
    "        val_subset = Subset(full_dataset, val_idx)\n",
    "\n",
    "        train_labels = full_dataset.labels[train_idx]\n",
    "        val_labels = full_dataset.labels[val_idx]\n",
    "\n",
    "        train_min = train_labels.min().item()\n",
    "        train_max = train_labels.quantile(0.97).item()\n",
    "\n",
    "        train_loader = DataLoader(train_subset, batch_size=BATCH_SIZE, shuffle=True)\n",
    "        val_loader = DataLoader(val_subset, batch_size=BATCH_SIZE, shuffle=False)\n",
    "\n",
    "        best_score = train_and_evaluate(train_loader, val_loader, fold, min_label=train_min, max_label=train_max)\n",
    "        fold_scores.append(best_score)\n",
    "\n",
    "    print(\"\\n--- Cross-Validation Summary ---\")\n",
    "    for i, score in enumerate(fold_scores):\n",
    "        print(f\"Fold {i+1} Best SMAPE: {score:.2f}%\")\n",
    "    print(f\"\\nAverage SMAPE across all folds: {np.mean(fold_scores):.2f}%\")\n",
    "    print(f\"Standard Deviation of SMAPE: {np.std(fold_scores):.2f}%\")\n"
   ]
  },
  {
   "cell_type": "markdown",
   "id": "f9b47c48",
   "metadata": {
    "_cell_guid": "8cf4c605-ce1e-4cd4-978c-8b5c03d23a83",
    "_uuid": "814e8826-cc62-46b3-8e8d-723a1f3abf30",
    "collapsed": false,
    "jupyter": {
     "outputs_hidden": false
    },
    "papermill": {
     "duration": 2.72063,
     "end_time": "2025-10-13T12:01:16.453514",
     "exception": false,
     "start_time": "2025-10-13T12:01:13.732884",
     "status": "completed"
    },
    "tags": []
   },
   "source": [
    "## Inference Script"
   ]
  },
  {
   "cell_type": "code",
   "execution_count": 7,
   "id": "5fc2e975",
   "metadata": {
    "execution": {
     "iopub.execute_input": "2025-10-13T12:01:21.985317Z",
     "iopub.status.busy": "2025-10-13T12:01:21.984563Z",
     "iopub.status.idle": "2025-10-13T12:01:22.024718Z",
     "shell.execute_reply": "2025-10-13T12:01:22.024111Z"
    },
    "papermill": {
     "duration": 2.719406,
     "end_time": "2025-10-13T12:01:22.026182",
     "exception": false,
     "start_time": "2025-10-13T12:01:19.306776",
     "status": "completed"
    },
    "tags": []
   },
   "outputs": [],
   "source": [
    "min_labels = []\n",
    "max_labels = []\n",
    "\n",
    "for fold, (train_idx, val_idx) in enumerate(skf.split(df_train)):\n",
    "    \n",
    "    train_subset = Subset(full_dataset, train_idx)        \n",
    "    val_subset = Subset(full_dataset, val_idx)\n",
    "\n",
    "    train_labels = full_dataset.labels[train_idx]\n",
    "    val_labels = full_dataset.labels[val_idx]\n",
    "\n",
    "    # Compute min and max for each subset\n",
    "    train_min = train_labels.min().item()\n",
    "    train_max = train_labels.quantile(0.97).item()\n",
    "\n",
    "    max_labels.append(train_max)\n",
    "    min_labels.append(train_min)\n",
    "    "
   ]
  },
  {
   "cell_type": "code",
   "execution_count": 8,
   "id": "ec0609e8",
   "metadata": {
    "execution": {
     "iopub.execute_input": "2025-10-13T12:01:27.391405Z",
     "iopub.status.busy": "2025-10-13T12:01:27.391158Z",
     "iopub.status.idle": "2025-10-13T12:02:00.401480Z",
     "shell.execute_reply": "2025-10-13T12:02:00.400684Z"
    },
    "papermill": {
     "duration": 35.694907,
     "end_time": "2025-10-13T12:02:00.402559",
     "exception": false,
     "start_time": "2025-10-13T12:01:24.707652",
     "status": "completed"
    },
    "tags": []
   },
   "outputs": [
    {
     "name": "stdout",
     "output_type": "stream",
     "text": [
      "\n",
      "--- Starting Inference ---\n",
      "Loading and aligning TEST embeddings...\n",
      "Test shape: 75000\n",
      "Any NaNs? sample_id          False\n",
      "catalog_content    False\n",
      "image_link         False\n",
      "qwen4b_emb         False\n",
      "dino_emb           False\n",
      "siglip2_emb_img    False\n",
      "siglip2_emb_txt    False\n",
      "dtype: bool\n",
      "Test data alignment complete.\n",
      "\n",
      "--- Inferring with Fold 1/5 ---\n"
     ]
    },
    {
     "name": "stderr",
     "output_type": "stream",
     "text": [
      "Predicting Fold 1: 100%|██████████| 293/293 [00:02<00:00, 130.00it/s]\n"
     ]
    },
    {
     "name": "stdout",
     "output_type": "stream",
     "text": [
      "Saved submission for fold 1 to submission_tower_fold_1.csv\n",
      "\n",
      "--- Inferring with Fold 2/5 ---\n"
     ]
    },
    {
     "name": "stderr",
     "output_type": "stream",
     "text": [
      "Predicting Fold 2: 100%|██████████| 293/293 [00:02<00:00, 130.42it/s]\n"
     ]
    },
    {
     "name": "stdout",
     "output_type": "stream",
     "text": [
      "Saved submission for fold 2 to submission_tower_fold_2.csv\n",
      "\n",
      "--- Inferring with Fold 3/5 ---\n"
     ]
    },
    {
     "name": "stderr",
     "output_type": "stream",
     "text": [
      "Predicting Fold 3: 100%|██████████| 293/293 [00:02<00:00, 131.70it/s]\n"
     ]
    },
    {
     "name": "stdout",
     "output_type": "stream",
     "text": [
      "Saved submission for fold 3 to submission_tower_fold_3.csv\n",
      "\n",
      "--- Inferring with Fold 4/5 ---\n"
     ]
    },
    {
     "name": "stderr",
     "output_type": "stream",
     "text": [
      "Predicting Fold 4: 100%|██████████| 293/293 [00:02<00:00, 119.62it/s]\n"
     ]
    },
    {
     "name": "stdout",
     "output_type": "stream",
     "text": [
      "Saved submission for fold 4 to submission_tower_fold_4.csv\n",
      "\n",
      "--- Inferring with Fold 5/5 ---\n"
     ]
    },
    {
     "name": "stderr",
     "output_type": "stream",
     "text": [
      "Predicting Fold 5: 100%|██████████| 293/293 [00:02<00:00, 130.01it/s]\n"
     ]
    },
    {
     "name": "stdout",
     "output_type": "stream",
     "text": [
      "Saved submission for fold 5 to submission_tower_fold_5.csv\n",
      "\n",
      "--- Ensembling predictions by averaging ---\n",
      "\n",
      "Final ensembled submission file 'submission_tower.csv' has been created successfully!\n",
      "Top 5 predictions:\n",
      "   sample_id      price\n",
      "0     100179  11.602514\n",
      "1     245611  14.008047\n",
      "2     146263  17.331871\n",
      "3      95658   4.053261\n",
      "4      36806  26.445904\n"
     ]
    }
   ],
   "source": [
    "print(\"\\n--- Starting Inference ---\")\n",
    "\n",
    "# --- 1. Test Data Loading and Alignment (UPDATED) ---\n",
    "def load_and_align_test_embeddings():\n",
    "    \"\"\"\n",
    "    Loads and aligns all test embeddings into separate arrays.\n",
    "    \"\"\"\n",
    "    print(\"Loading and aligning TEST embeddings...\")\n",
    "    df_test = pd.read_csv(os.path.join(DATA_DIR, 'test.csv'))\n",
    "\n",
    "    # TEST embedding paths\n",
    "    SIGLIP2_TEST_DIR = '/kaggle/input/siglip2-giant-amlc-2025/test/'\n",
    "    DINO_TEST_FILE = '/kaggle/input/dino-vith16-amlc-2025/test/final_image_embeddings.npy'\n",
    "    DINO_TEST_IDS_FILE = '/kaggle/input/dino-vith16-amlc-2025/test/final_sample_ids.npy'\n",
    "    QWEN4B_TEST_FILE = '/kaggle/input/qwen4b-embeddings/qwen4b_test_embedding.npy'\n",
    "    QWEN4B_TEST_IDS_FILE = '/kaggle/input/qwen4b-embeddings/qwen4b_test_sample_id.npy'\n",
    "\n",
    "    # Load Qwen4b\n",
    "    qwen4b_emb_test = np.load(QWEN4B_TEST_FILE)\n",
    "    qwen4b_ids_test = np.load(QWEN4B_TEST_IDS_FILE)\n",
    "    df_qwen4b_test = pd.DataFrame({'sample_id': qwen4b_ids_test, 'qwen4b_emb': list(qwen4b_emb_test)})\n",
    "\n",
    "    # Load DINO\n",
    "    dino_emb_test = np.load(DINO_TEST_FILE)\n",
    "    dino_ids_test = np.load(DINO_TEST_IDS_FILE)\n",
    "    df_dino_test = pd.DataFrame({'sample_id': dino_ids_test, 'dino_emb': list(dino_emb_test)})\n",
    "\n",
    "    # Load SigLIP2\n",
    "    siglip2_emb_img_test = np.load(os.path.join(SIGLIP2_TEST_DIR, 'final_image_embeddings.npy'))\n",
    "    siglip2_emb_txt_test = np.load(os.path.join(SIGLIP2_TEST_DIR, 'final_text_embeddings.npy'))\n",
    "    siglip2_ids_test = np.load(os.path.join(SIGLIP2_TEST_DIR, 'final_sample_ids.npy'))\n",
    "    df_siglip2_test = pd.DataFrame({\n",
    "        'sample_id': siglip2_ids_test,\n",
    "        'siglip2_emb_img': list(siglip2_emb_img_test),\n",
    "        'siglip2_emb_txt': list(siglip2_emb_txt_test)\n",
    "    })\n",
    "\n",
    "    # Merge\n",
    "    df_test = df_test.merge(df_qwen4b_test, on='sample_id', how='left')\n",
    "    df_test = df_test.merge(df_dino_test, on='sample_id', how='left')\n",
    "    df_test = df_test.merge(df_siglip2_test, on='sample_id', how='left')\n",
    "\n",
    "    # Debug print\n",
    "    print(\"Test shape:\", len(df_test))\n",
    "    print(\"Any NaNs?\", df_test.isna().any())\n",
    "\n",
    "    # Numpy arrays\n",
    "    X_test_qwen4b = np.array(df_test['qwen4b_emb'].tolist(), dtype=np.float32)\n",
    "    X_test_dino = np.array(df_test['dino_emb'].tolist(), dtype=np.float32)\n",
    "    X_siglip2_txt = np.array(df_test['siglip2_emb_txt'].tolist(), dtype=np.float32)\n",
    "    X_siglip2_img = np.array(df_test['siglip2_emb_img'].tolist(), dtype=np.float32)\n",
    "\n",
    "    # Handle NaNs\n",
    "    X_test_qwen4b = np.nan_to_num(X_test_qwen4b, nan=0.0)\n",
    "    X_test_dino = np.nan_to_num(X_test_dino, nan=0.0)\n",
    "    X_siglip2_txt = np.nan_to_num(X_siglip2_txt, nan=0.0)\n",
    "    X_siglip2_img = np.nan_to_num(X_siglip2_img, nan=0.0)\n",
    "\n",
    "    test_ids = df_test['sample_id'].values\n",
    "\n",
    "    print(\"Test data alignment complete.\")\n",
    "    return X_test_qwen4b, X_test_dino, X_siglip2_txt, X_siglip2_img, test_ids\n",
    "\n",
    "# --- 2. Test Dataset (UPDATED) ---\n",
    "class TestDataset(Dataset):\n",
    "    def __init__(self, features_qwen4b, features_dino, features_siglip2_txt, features_siglip2_img):\n",
    "        self.features_qwen4b = torch.from_numpy(features_qwen4b)\n",
    "        self.features_dino = torch.from_numpy(features_dino)\n",
    "        self.features_siglip2_txt = torch.from_numpy(features_siglip2_txt)\n",
    "        self.features_siglip2_img = torch.from_numpy(features_siglip2_img)\n",
    "\n",
    "    def __len__(self):\n",
    "        return len(self.features_qwen4b)\n",
    "\n",
    "    def __getitem__(self, idx):\n",
    "        return (\n",
    "            self.features_qwen4b[idx],\n",
    "            self.features_dino[idx],\n",
    "            self.features_siglip2_txt[idx],\n",
    "            self.features_siglip2_img[idx]\n",
    "        )\n",
    "\n",
    "# --- 3. Inference Execution (UPDATED) ---\n",
    "if __name__ == '__main__':\n",
    "    X_test_qwen4b, X_test_dino, X_test_siglip2_txt, X_test_siglip2_img, test_sample_ids = load_and_align_test_embeddings()\n",
    "    test_dataset = TestDataset(X_test_qwen4b, X_test_dino, X_test_siglip2_txt, X_test_siglip2_img)\n",
    "    test_loader = DataLoader(test_dataset, batch_size=BATCH_SIZE * 2, shuffle=False)\n",
    "\n",
    "    all_fold_predictions = []\n",
    "\n",
    "    for fold in range(N_SPLITS):\n",
    "        print(f\"\\n--- Inferring with Fold {fold+1}/{N_SPLITS} ---\")\n",
    "        model_path = f\"modal_tower_model_fold_{fold+1}.pth\"\n",
    "        min_label = min_labels[fold]\n",
    "        max_label = max_labels[fold]\n",
    "\n",
    "        # Initialize new model\n",
    "        model = ModalTowerAdapter(\n",
    "            QWEN4B_DIM, DINO_DIM, SIGLIP2_DIM, TOWER_OUTPUT_DIM,\n",
    "            ADAPTER_INPUT_DIM, HIDDEN_DIM_1, HIDDEN_DIM_2, HIDDEN_DIM_3, DROPOUT_RATE\n",
    "        ).to(DEVICE)\n",
    "        model.load_state_dict(torch.load(model_path))\n",
    "        model.eval()\n",
    "\n",
    "        fold_preds = []\n",
    "        with torch.no_grad():\n",
    "            for (features_qwen4b, features_dino, features_siglip2_txt, features_siglip2_img) in tqdm(test_loader, desc=f\"Predicting Fold {fold+1}\"):\n",
    "                features_qwen4b = features_qwen4b.to(DEVICE)\n",
    "                features_dino = features_dino.to(DEVICE)\n",
    "                features_siglip2_txt = features_siglip2_txt.to(DEVICE)\n",
    "                features_siglip2_img = features_siglip2_img.to(DEVICE)\n",
    "\n",
    "                log_outputs = model(features_qwen4b, features_dino, features_siglip2_txt, features_siglip2_img)\n",
    "                preds = (log_outputs).cpu().numpy() * (max_label - min_label) + min_label\n",
    "                fold_preds.extend(preds)\n",
    "\n",
    "        all_fold_predictions.append(fold_preds)\n",
    "\n",
    "        submission_df_fold = pd.DataFrame({'sample_id': test_sample_ids, 'price': fold_preds})\n",
    "        submission_df_fold.to_csv(f'submission_tower_fold_{fold+1}.csv', index=False)\n",
    "        print(f\"Saved submission for fold {fold+1} to submission_tower_fold_{fold+1}.csv\")\n",
    "\n",
    "    # --- 4. Ensemble Predictions (UNCHANGED) ---\n",
    "    print(\"\\n--- Ensembling predictions by averaging ---\")\n",
    "    predictions_array = np.array(all_fold_predictions)\n",
    "    final_predictions = np.mean(predictions_array, axis=0)\n",
    "\n",
    "    final_submission_df = pd.DataFrame({'sample_id': test_sample_ids, 'price': final_predictions})\n",
    "    final_submission_df.to_csv('submission_tower.csv', index=False)\n",
    "\n",
    "    print(\"\\nFinal ensembled submission file 'submission_tower.csv' has been created successfully!\")\n",
    "    print(\"Top 5 predictions:\")\n",
    "    print(final_submission_df.head())\n"
   ]
  },
  {
   "cell_type": "markdown",
   "id": "53c34ea2",
   "metadata": {
    "papermill": {
     "duration": 2.698885,
     "end_time": "2025-10-13T12:02:05.786667",
     "exception": false,
     "start_time": "2025-10-13T12:02:03.087782",
     "status": "completed"
    },
    "tags": []
   },
   "source": [
    "With hand-crafted features"
   ]
  },
  {
   "cell_type": "code",
   "execution_count": 9,
   "id": "ce4a29c1",
   "metadata": {
    "execution": {
     "iopub.execute_input": "2025-10-13T12:02:11.197039Z",
     "iopub.status.busy": "2025-10-13T12:02:11.196493Z",
     "iopub.status.idle": "2025-10-13T12:02:11.212023Z",
     "shell.execute_reply": "2025-10-13T12:02:11.211390Z"
    },
    "papermill": {
     "duration": 2.720384,
     "end_time": "2025-10-13T12:02:11.213098",
     "exception": false,
     "start_time": "2025-10-13T12:02:08.492714",
     "status": "completed"
    },
    "tags": []
   },
   "outputs": [
    {
     "data": {
      "text/html": [
       "<div>\n",
       "<style scoped>\n",
       "    .dataframe tbody tr th:only-of-type {\n",
       "        vertical-align: middle;\n",
       "    }\n",
       "\n",
       "    .dataframe tbody tr th {\n",
       "        vertical-align: top;\n",
       "    }\n",
       "\n",
       "    .dataframe thead th {\n",
       "        text-align: right;\n",
       "    }\n",
       "</style>\n",
       "<table border=\"1\" class=\"dataframe\">\n",
       "  <thead>\n",
       "    <tr style=\"text-align: right;\">\n",
       "      <th></th>\n",
       "      <th>sample_id</th>\n",
       "      <th>price</th>\n",
       "    </tr>\n",
       "  </thead>\n",
       "  <tbody>\n",
       "    <tr>\n",
       "      <th>0</th>\n",
       "      <td>100179</td>\n",
       "      <td>11.602514</td>\n",
       "    </tr>\n",
       "    <tr>\n",
       "      <th>1</th>\n",
       "      <td>245611</td>\n",
       "      <td>14.008047</td>\n",
       "    </tr>\n",
       "    <tr>\n",
       "      <th>2</th>\n",
       "      <td>146263</td>\n",
       "      <td>17.331871</td>\n",
       "    </tr>\n",
       "    <tr>\n",
       "      <th>3</th>\n",
       "      <td>95658</td>\n",
       "      <td>4.053261</td>\n",
       "    </tr>\n",
       "    <tr>\n",
       "      <th>4</th>\n",
       "      <td>36806</td>\n",
       "      <td>26.445904</td>\n",
       "    </tr>\n",
       "    <tr>\n",
       "      <th>5</th>\n",
       "      <td>148239</td>\n",
       "      <td>4.665772</td>\n",
       "    </tr>\n",
       "    <tr>\n",
       "      <th>6</th>\n",
       "      <td>92659</td>\n",
       "      <td>11.833134</td>\n",
       "    </tr>\n",
       "    <tr>\n",
       "      <th>7</th>\n",
       "      <td>3780</td>\n",
       "      <td>12.047101</td>\n",
       "    </tr>\n",
       "    <tr>\n",
       "      <th>8</th>\n",
       "      <td>196940</td>\n",
       "      <td>7.809624</td>\n",
       "    </tr>\n",
       "    <tr>\n",
       "      <th>9</th>\n",
       "      <td>20472</td>\n",
       "      <td>9.231568</td>\n",
       "    </tr>\n",
       "    <tr>\n",
       "      <th>10</th>\n",
       "      <td>121721</td>\n",
       "      <td>21.109201</td>\n",
       "    </tr>\n",
       "    <tr>\n",
       "      <th>11</th>\n",
       "      <td>127336</td>\n",
       "      <td>1.629800</td>\n",
       "    </tr>\n",
       "    <tr>\n",
       "      <th>12</th>\n",
       "      <td>20801</td>\n",
       "      <td>47.956993</td>\n",
       "    </tr>\n",
       "    <tr>\n",
       "      <th>13</th>\n",
       "      <td>30103</td>\n",
       "      <td>10.111897</td>\n",
       "    </tr>\n",
       "    <tr>\n",
       "      <th>14</th>\n",
       "      <td>68691</td>\n",
       "      <td>22.100348</td>\n",
       "    </tr>\n",
       "    <tr>\n",
       "      <th>15</th>\n",
       "      <td>230703</td>\n",
       "      <td>13.353920</td>\n",
       "    </tr>\n",
       "    <tr>\n",
       "      <th>16</th>\n",
       "      <td>3342</td>\n",
       "      <td>55.861763</td>\n",
       "    </tr>\n",
       "    <tr>\n",
       "      <th>17</th>\n",
       "      <td>115635</td>\n",
       "      <td>9.499833</td>\n",
       "    </tr>\n",
       "    <tr>\n",
       "      <th>18</th>\n",
       "      <td>221565</td>\n",
       "      <td>8.624972</td>\n",
       "    </tr>\n",
       "    <tr>\n",
       "      <th>19</th>\n",
       "      <td>265927</td>\n",
       "      <td>15.556933</td>\n",
       "    </tr>\n",
       "    <tr>\n",
       "      <th>20</th>\n",
       "      <td>290421</td>\n",
       "      <td>16.648367</td>\n",
       "    </tr>\n",
       "    <tr>\n",
       "      <th>21</th>\n",
       "      <td>222203</td>\n",
       "      <td>4.457750</td>\n",
       "    </tr>\n",
       "    <tr>\n",
       "      <th>22</th>\n",
       "      <td>40595</td>\n",
       "      <td>5.324592</td>\n",
       "    </tr>\n",
       "    <tr>\n",
       "      <th>23</th>\n",
       "      <td>157931</td>\n",
       "      <td>14.202527</td>\n",
       "    </tr>\n",
       "    <tr>\n",
       "      <th>24</th>\n",
       "      <td>41814</td>\n",
       "      <td>13.155380</td>\n",
       "    </tr>\n",
       "    <tr>\n",
       "      <th>25</th>\n",
       "      <td>250478</td>\n",
       "      <td>45.505135</td>\n",
       "    </tr>\n",
       "    <tr>\n",
       "      <th>26</th>\n",
       "      <td>130232</td>\n",
       "      <td>8.199823</td>\n",
       "    </tr>\n",
       "    <tr>\n",
       "      <th>27</th>\n",
       "      <td>155825</td>\n",
       "      <td>19.546190</td>\n",
       "    </tr>\n",
       "    <tr>\n",
       "      <th>28</th>\n",
       "      <td>42104</td>\n",
       "      <td>5.256328</td>\n",
       "    </tr>\n",
       "    <tr>\n",
       "      <th>29</th>\n",
       "      <td>148748</td>\n",
       "      <td>46.298317</td>\n",
       "    </tr>\n",
       "    <tr>\n",
       "      <th>30</th>\n",
       "      <td>247548</td>\n",
       "      <td>12.516345</td>\n",
       "    </tr>\n",
       "    <tr>\n",
       "      <th>31</th>\n",
       "      <td>262167</td>\n",
       "      <td>21.998627</td>\n",
       "    </tr>\n",
       "    <tr>\n",
       "      <th>32</th>\n",
       "      <td>100183</td>\n",
       "      <td>20.933525</td>\n",
       "    </tr>\n",
       "    <tr>\n",
       "      <th>33</th>\n",
       "      <td>168985</td>\n",
       "      <td>1.520634</td>\n",
       "    </tr>\n",
       "    <tr>\n",
       "      <th>34</th>\n",
       "      <td>18411</td>\n",
       "      <td>69.581924</td>\n",
       "    </tr>\n",
       "    <tr>\n",
       "      <th>35</th>\n",
       "      <td>111287</td>\n",
       "      <td>8.760140</td>\n",
       "    </tr>\n",
       "    <tr>\n",
       "      <th>36</th>\n",
       "      <td>156813</td>\n",
       "      <td>6.393318</td>\n",
       "    </tr>\n",
       "    <tr>\n",
       "      <th>37</th>\n",
       "      <td>194861</td>\n",
       "      <td>3.255006</td>\n",
       "    </tr>\n",
       "    <tr>\n",
       "      <th>38</th>\n",
       "      <td>104298</td>\n",
       "      <td>16.706793</td>\n",
       "    </tr>\n",
       "    <tr>\n",
       "      <th>39</th>\n",
       "      <td>59033</td>\n",
       "      <td>18.221283</td>\n",
       "    </tr>\n",
       "    <tr>\n",
       "      <th>40</th>\n",
       "      <td>31133</td>\n",
       "      <td>35.512295</td>\n",
       "    </tr>\n",
       "    <tr>\n",
       "      <th>41</th>\n",
       "      <td>299318</td>\n",
       "      <td>3.740416</td>\n",
       "    </tr>\n",
       "    <tr>\n",
       "      <th>42</th>\n",
       "      <td>255038</td>\n",
       "      <td>6.048871</td>\n",
       "    </tr>\n",
       "    <tr>\n",
       "      <th>43</th>\n",
       "      <td>220578</td>\n",
       "      <td>63.022541</td>\n",
       "    </tr>\n",
       "    <tr>\n",
       "      <th>44</th>\n",
       "      <td>38995</td>\n",
       "      <td>15.232846</td>\n",
       "    </tr>\n",
       "    <tr>\n",
       "      <th>45</th>\n",
       "      <td>253068</td>\n",
       "      <td>10.045847</td>\n",
       "    </tr>\n",
       "    <tr>\n",
       "      <th>46</th>\n",
       "      <td>282143</td>\n",
       "      <td>9.190025</td>\n",
       "    </tr>\n",
       "    <tr>\n",
       "      <th>47</th>\n",
       "      <td>226531</td>\n",
       "      <td>17.541025</td>\n",
       "    </tr>\n",
       "    <tr>\n",
       "      <th>48</th>\n",
       "      <td>233215</td>\n",
       "      <td>78.457939</td>\n",
       "    </tr>\n",
       "    <tr>\n",
       "      <th>49</th>\n",
       "      <td>33295</td>\n",
       "      <td>4.399241</td>\n",
       "    </tr>\n",
       "    <tr>\n",
       "      <th>50</th>\n",
       "      <td>198185</td>\n",
       "      <td>21.549345</td>\n",
       "    </tr>\n",
       "    <tr>\n",
       "      <th>51</th>\n",
       "      <td>238324</td>\n",
       "      <td>2.429799</td>\n",
       "    </tr>\n",
       "    <tr>\n",
       "      <th>52</th>\n",
       "      <td>121672</td>\n",
       "      <td>17.087543</td>\n",
       "    </tr>\n",
       "    <tr>\n",
       "      <th>53</th>\n",
       "      <td>21434</td>\n",
       "      <td>13.171165</td>\n",
       "    </tr>\n",
       "    <tr>\n",
       "      <th>54</th>\n",
       "      <td>61747</td>\n",
       "      <td>15.317523</td>\n",
       "    </tr>\n",
       "    <tr>\n",
       "      <th>55</th>\n",
       "      <td>270417</td>\n",
       "      <td>13.513777</td>\n",
       "    </tr>\n",
       "    <tr>\n",
       "      <th>56</th>\n",
       "      <td>105202</td>\n",
       "      <td>9.378836</td>\n",
       "    </tr>\n",
       "    <tr>\n",
       "      <th>57</th>\n",
       "      <td>202880</td>\n",
       "      <td>11.465809</td>\n",
       "    </tr>\n",
       "    <tr>\n",
       "      <th>58</th>\n",
       "      <td>79564</td>\n",
       "      <td>11.617443</td>\n",
       "    </tr>\n",
       "    <tr>\n",
       "      <th>59</th>\n",
       "      <td>251317</td>\n",
       "      <td>15.291763</td>\n",
       "    </tr>\n",
       "  </tbody>\n",
       "</table>\n",
       "</div>"
      ],
      "text/plain": [
       "    sample_id      price\n",
       "0      100179  11.602514\n",
       "1      245611  14.008047\n",
       "2      146263  17.331871\n",
       "3       95658   4.053261\n",
       "4       36806  26.445904\n",
       "5      148239   4.665772\n",
       "6       92659  11.833134\n",
       "7        3780  12.047101\n",
       "8      196940   7.809624\n",
       "9       20472   9.231568\n",
       "10     121721  21.109201\n",
       "11     127336   1.629800\n",
       "12      20801  47.956993\n",
       "13      30103  10.111897\n",
       "14      68691  22.100348\n",
       "15     230703  13.353920\n",
       "16       3342  55.861763\n",
       "17     115635   9.499833\n",
       "18     221565   8.624972\n",
       "19     265927  15.556933\n",
       "20     290421  16.648367\n",
       "21     222203   4.457750\n",
       "22      40595   5.324592\n",
       "23     157931  14.202527\n",
       "24      41814  13.155380\n",
       "25     250478  45.505135\n",
       "26     130232   8.199823\n",
       "27     155825  19.546190\n",
       "28      42104   5.256328\n",
       "29     148748  46.298317\n",
       "30     247548  12.516345\n",
       "31     262167  21.998627\n",
       "32     100183  20.933525\n",
       "33     168985   1.520634\n",
       "34      18411  69.581924\n",
       "35     111287   8.760140\n",
       "36     156813   6.393318\n",
       "37     194861   3.255006\n",
       "38     104298  16.706793\n",
       "39      59033  18.221283\n",
       "40      31133  35.512295\n",
       "41     299318   3.740416\n",
       "42     255038   6.048871\n",
       "43     220578  63.022541\n",
       "44      38995  15.232846\n",
       "45     253068  10.045847\n",
       "46     282143   9.190025\n",
       "47     226531  17.541025\n",
       "48     233215  78.457939\n",
       "49      33295   4.399241\n",
       "50     198185  21.549345\n",
       "51     238324   2.429799\n",
       "52     121672  17.087543\n",
       "53      21434  13.171165\n",
       "54      61747  15.317523\n",
       "55     270417  13.513777\n",
       "56     105202   9.378836\n",
       "57     202880  11.465809\n",
       "58      79564  11.617443\n",
       "59     251317  15.291763"
      ]
     },
     "execution_count": 9,
     "metadata": {},
     "output_type": "execute_result"
    }
   ],
   "source": [
    "final_submission_df.head(60)"
   ]
  },
  {
   "cell_type": "code",
   "execution_count": 10,
   "id": "4b5b049a",
   "metadata": {
    "execution": {
     "iopub.execute_input": "2025-10-13T12:02:16.754115Z",
     "iopub.status.busy": "2025-10-13T12:02:16.753828Z",
     "iopub.status.idle": "2025-10-13T12:02:18.074118Z",
     "shell.execute_reply": "2025-10-13T12:02:18.073320Z"
    },
    "papermill": {
     "duration": 4.034093,
     "end_time": "2025-10-13T12:02:18.075272",
     "exception": false,
     "start_time": "2025-10-13T12:02:14.041179",
     "status": "completed"
    },
    "tags": []
   },
   "outputs": [
    {
     "data": {
      "text/plain": [
       "<Axes: >"
      ]
     },
     "execution_count": 10,
     "metadata": {},
     "output_type": "execute_result"
    },
    {
     "data": {
      "image/png": "[encoded data removed]",
      "text/plain": [
       "<Figure size 640x480 with 1 Axes>"
      ]
     },
     "metadata": {},
     "output_type": "display_data"
    }
   ],
   "source": [
    "final_submission_df['price'].hist(bins=1000)"
   ]
  },
  {
   "cell_type": "code",
   "execution_count": 11,
   "id": "a0c639dd",
   "metadata": {
    "execution": {
     "iopub.execute_input": "2025-10-13T12:02:23.548611Z",
     "iopub.status.busy": "2025-10-13T12:02:23.548079Z",
     "iopub.status.idle": "2025-10-13T12:02:23.554461Z",
     "shell.execute_reply": "2025-10-13T12:02:23.553891Z"
    },
    "papermill": {
     "duration": 2.728288,
     "end_time": "2025-10-13T12:02:23.555496",
     "exception": false,
     "start_time": "2025-10-13T12:02:20.827208",
     "status": "completed"
    },
    "tags": []
   },
   "outputs": [
    {
     "data": {
      "text/plain": [
       "sample_id    299439.00000\n",
       "price            93.98407\n",
       "dtype: float64"
      ]
     },
     "execution_count": 11,
     "metadata": {},
     "output_type": "execute_result"
    }
   ],
   "source": [
    "final_submission_df.max()"
   ]
  },
  {
   "cell_type": "code",
   "execution_count": 12,
   "id": "c9215d70",
   "metadata": {
    "execution": {
     "iopub.execute_input": "2025-10-13T12:02:29.103805Z",
     "iopub.status.busy": "2025-10-13T12:02:29.103318Z",
     "iopub.status.idle": "2025-10-13T12:02:29.109691Z",
     "shell.execute_reply": "2025-10-13T12:02:29.108983Z"
    },
    "papermill": {
     "duration": 2.875612,
     "end_time": "2025-10-13T12:02:29.110901",
     "exception": false,
     "start_time": "2025-10-13T12:02:26.235289",
     "status": "completed"
    },
    "tags": []
   },
   "outputs": [
    {
     "data": {
      "text/plain": [
       "sample_id    1.000000\n",
       "price        0.532082\n",
       "dtype: float64"
      ]
     },
     "execution_count": 12,
     "metadata": {},
     "output_type": "execute_result"
    }
   ],
   "source": [
    "final_submission_df.min()"
   ]
  },
  {
   "cell_type": "code",
   "execution_count": 13,
   "id": "d0f69fe1",
   "metadata": {
    "execution": {
     "iopub.execute_input": "2025-10-13T12:02:34.504344Z",
     "iopub.status.busy": "2025-10-13T12:02:34.503605Z",
     "iopub.status.idle": "2025-10-13T12:02:34.509998Z",
     "shell.execute_reply": "2025-10-13T12:02:34.509350Z"
    },
    "papermill": {
     "duration": 2.707485,
     "end_time": "2025-10-13T12:02:34.511169",
     "exception": false,
     "start_time": "2025-10-13T12:02:31.803684",
     "status": "completed"
    },
    "tags": []
   },
   "outputs": [
    {
     "data": {
      "text/plain": [
       "sample_id    149387.988880\n",
       "price            19.533516\n",
       "dtype: float64"
      ]
     },
     "execution_count": 13,
     "metadata": {},
     "output_type": "execute_result"
    }
   ],
   "source": [
    "final_submission_df.mean()"
   ]
  },
  {
   "cell_type": "code",
   "execution_count": 14,
   "id": "eedeed0a",
   "metadata": {
    "execution": {
     "iopub.execute_input": "2025-10-13T12:02:40.103068Z",
     "iopub.status.busy": "2025-10-13T12:02:40.102347Z",
     "iopub.status.idle": "2025-10-13T12:02:40.107481Z",
     "shell.execute_reply": "2025-10-13T12:02:40.106879Z"
    },
    "papermill": {
     "duration": 2.888072,
     "end_time": "2025-10-13T12:02:40.108879",
     "exception": false,
     "start_time": "2025-10-13T12:02:37.220807",
     "status": "completed"
    },
    "tags": []
   },
   "outputs": [
    {
     "data": {
      "text/plain": [
       "[93.61219024658203,\n",
       " 93.8754653930664,\n",
       " 94.53530883789062,\n",
       " 94.0903091430664,\n",
       " 93.81046295166016]"
      ]
     },
     "execution_count": 14,
     "metadata": {},
     "output_type": "execute_result"
    }
   ],
   "source": [
    "max_labels"
   ]
  },
  {
   "cell_type": "code",
   "execution_count": 15,
   "id": "de7caa6a",
   "metadata": {
    "execution": {
     "iopub.execute_input": "2025-10-13T12:02:45.529536Z",
     "iopub.status.busy": "2025-10-13T12:02:45.528814Z",
     "iopub.status.idle": "2025-10-13T12:02:45.534002Z",
     "shell.execute_reply": "2025-10-13T12:02:45.533277Z"
    },
    "papermill": {
     "duration": 2.710977,
     "end_time": "2025-10-13T12:02:45.535153",
     "exception": false,
     "start_time": "2025-10-13T12:02:42.824176",
     "status": "completed"
    },
    "tags": []
   },
   "outputs": [
    {
     "data": {
      "text/plain": [
       "[0.12999999523162842,\n",
       " 0.12999999523162842,\n",
       " 0.12999999523162842,\n",
       " 0.12999999523162842,\n",
       " 0.12999999523162842]"
      ]
     },
     "execution_count": 15,
     "metadata": {},
     "output_type": "execute_result"
    }
   ],
   "source": [
    "min_labels"
   ]
  },
  {
   "cell_type": "code",
   "execution_count": 16,
   "id": "c7e21e74",
   "metadata": {
    "execution": {
     "iopub.execute_input": "2025-10-13T12:02:51.144721Z",
     "iopub.status.busy": "2025-10-13T12:02:51.143544Z",
     "iopub.status.idle": "2025-10-13T12:02:51.189203Z",
     "shell.execute_reply": "2025-10-13T12:02:51.188352Z"
    },
    "papermill": {
     "duration": 2.932329,
     "end_time": "2025-10-13T12:02:51.190506",
     "exception": false,
     "start_time": "2025-10-13T12:02:48.258177",
     "status": "completed"
    },
    "tags": []
   },
   "outputs": [
    {
     "name": "stdout",
     "output_type": "stream",
     "text": [
      "       sample_id      price\n",
      "89        227957  85.572701\n",
      "100       142744  93.937683\n",
      "189       189285  93.954224\n",
      "216       146944  93.721176\n",
      "288        73645  83.515480\n",
      "...          ...        ...\n",
      "74764      16488  80.114876\n",
      "74769     235486  91.956741\n",
      "74817     142645  82.168968\n",
      "74878     128824  90.156204\n",
      "74934     148515  85.770737\n",
      "\n",
      "[1932 rows x 2 columns]\n"
     ]
    },
    {
     "data": {
      "text/html": [
       "<div>\n",
       "<style scoped>\n",
       "    .dataframe tbody tr th:only-of-type {\n",
       "        vertical-align: middle;\n",
       "    }\n",
       "\n",
       "    .dataframe tbody tr th {\n",
       "        vertical-align: top;\n",
       "    }\n",
       "\n",
       "    .dataframe thead th {\n",
       "        text-align: right;\n",
       "    }\n",
       "</style>\n",
       "<table border=\"1\" class=\"dataframe\">\n",
       "  <thead>\n",
       "    <tr style=\"text-align: right;\">\n",
       "      <th></th>\n",
       "      <th>sample_id</th>\n",
       "      <th>catalog_content</th>\n",
       "      <th>image_link</th>\n",
       "      <th>price</th>\n",
       "      <th>qwen4b_emb</th>\n",
       "      <th>dino_emb</th>\n",
       "      <th>siglip2_emb_img</th>\n",
       "      <th>siglip2_emb_txt</th>\n",
       "    </tr>\n",
       "  </thead>\n",
       "  <tbody>\n",
       "    <tr>\n",
       "      <th>7</th>\n",
       "      <td>222007</td>\n",
       "      <td>Item Name: VineCo Original Series Chilean Sauv...</td>\n",
       "      <td>https://m.media-amazon.com/images/I/71JllaFpxM...</td>\n",
       "      <td>94.00</td>\n",
       "      <td>[-0.029091042, 0.75464183, 5.7226086, -2.38661...</td>\n",
       "      <td>[-0.054041788, -0.008673684, -0.018911112, -0....</td>\n",
       "      <td>[-0.010113267, 0.028450415, -0.0021784701, -0....</td>\n",
       "      <td>[-0.0060313316, 0.025681382, -0.0013101429, -0...</td>\n",
       "    </tr>\n",
       "    <tr>\n",
       "      <th>15</th>\n",
       "      <td>266475</td>\n",
       "      <td>Item Name: Organic Vinegar; Apple Cider\\nValue...</td>\n",
       "      <td>https://m.media-amazon.com/images/I/41SHfxsFz5...</td>\n",
       "      <td>81.44</td>\n",
       "      <td>[-0.037762586, -1.082009, 1.0186181, -1.036805...</td>\n",
       "      <td>[-0.012997384, -0.023150215, -0.020251187, -0....</td>\n",
       "      <td>[-0.027941229, 0.00973249, 0.0008073059, -0.03...</td>\n",
       "      <td>[-0.015173069, 0.019159686, 0.01575885, -0.019...</td>\n",
       "    </tr>\n",
       "    <tr>\n",
       "      <th>18</th>\n",
       "      <td>271423</td>\n",
       "      <td>Item Name: BulkSupplements.com Trehalose Powde...</td>\n",
       "      <td>https://m.media-amazon.com/images/I/61S0ASqAuj...</td>\n",
       "      <td>109.97</td>\n",
       "      <td>[-0.034215216, 0.6279087, 3.3330514, -3.889171...</td>\n",
       "      <td>[0.045318026, -0.013275877, 0.03034508, -0.077...</td>\n",
       "      <td>[0.013281817, -0.014919275, -0.012744329, -0.0...</td>\n",
       "      <td>[0.008280668, -0.020156829, 0.0030178153, -0.0...</td>\n",
       "    </tr>\n",
       "    <tr>\n",
       "      <th>20</th>\n",
       "      <td>267410</td>\n",
       "      <td>Item Name: Food to Live Black-Eyed Peas, 25 Po...</td>\n",
       "      <td>https://m.media-amazon.com/images/I/418XGvkQe-...</td>\n",
       "      <td>98.99</td>\n",
       "      <td>[-0.025577368, -0.32906243, 5.4095836, -2.8364...</td>\n",
       "      <td>[-0.025488079, 0.007972965, 0.0009681907, -0.0...</td>\n",
       "      <td>[-0.053788964, 0.0038697412, 0.0062264185, -0....</td>\n",
       "      <td>[-0.0040246183, 0.0032806844, 0.010789597, -0....</td>\n",
       "    </tr>\n",
       "    <tr>\n",
       "      <th>38</th>\n",
       "      <td>196576</td>\n",
       "      <td>Item Name: Buchu Leaf (Organic) Tea (Loose) (4...</td>\n",
       "      <td>https://m.media-amazon.com/images/I/41VxFtyBHk...</td>\n",
       "      <td>124.52</td>\n",
       "      <td>[-0.034227047, -3.0629468, -0.5185706, -1.8252...</td>\n",
       "      <td>[-0.020624189, 0.035228595, 0.042763736, -0.03...</td>\n",
       "      <td>[0.0090611465, 0.01958376, -0.011462906, -0.03...</td>\n",
       "      <td>[0.017654087, -0.014796725, 0.012044621, -0.03...</td>\n",
       "    </tr>\n",
       "    <tr>\n",
       "      <th>...</th>\n",
       "      <td>...</td>\n",
       "      <td>...</td>\n",
       "      <td>...</td>\n",
       "      <td>...</td>\n",
       "      <td>...</td>\n",
       "      <td>...</td>\n",
       "      <td>...</td>\n",
       "      <td>...</td>\n",
       "    </tr>\n",
       "    <tr>\n",
       "      <th>74878</th>\n",
       "      <td>125690</td>\n",
       "      <td>Item Name: Star Anise by Its Delish, (10 lbs)\\...</td>\n",
       "      <td>https://m.media-amazon.com/images/I/91sHJqfv6w...</td>\n",
       "      <td>215.99</td>\n",
       "      <td>[-0.034140132, 0.53445536, 2.7768834, -2.71587...</td>\n",
       "      <td>[-0.024285398, 0.03648553, 0.028327715, -0.011...</td>\n",
       "      <td>[-0.013216787, -0.023504294, 0.00015723918, -0...</td>\n",
       "      <td>[-0.00077391416, -0.022113431, -0.041951604, -...</td>\n",
       "    </tr>\n",
       "    <tr>\n",
       "      <th>74895</th>\n",
       "      <td>204173</td>\n",
       "      <td>Item Name: Tropical Mixed Dried Fruit Medley -...</td>\n",
       "      <td>https://m.media-amazon.com/images/I/618EbUAecR...</td>\n",
       "      <td>89.99</td>\n",
       "      <td>[-0.029575005, 0.18956524, 3.357729, -3.384034...</td>\n",
       "      <td>[0.03258889, 0.009041448, -0.020530125, 0.0125...</td>\n",
       "      <td>[0.0014778794, 0.021817017, 0.022796351, -0.01...</td>\n",
       "      <td>[0.021168252, -0.01923669, 0.0125255585, -0.02...</td>\n",
       "    </tr>\n",
       "    <tr>\n",
       "      <th>74926</th>\n",
       "      <td>247833</td>\n",
       "      <td>Item Name: Bloomingmore | Fresh Cut Gypsophili...</td>\n",
       "      <td>https://m.media-amazon.com/images/I/71sBe+ZvMS...</td>\n",
       "      <td>105.98</td>\n",
       "      <td>[-0.03683162, -3.3075793, 0.9898482, -2.511105...</td>\n",
       "      <td>[-0.04671262, -0.013868739, 0.02671827, -0.046...</td>\n",
       "      <td>[-0.04987664, 0.0045173718, 0.018821653, -0.00...</td>\n",
       "      <td>[-0.010494145, -0.009605146, 0.0235165, -0.038...</td>\n",
       "    </tr>\n",
       "    <tr>\n",
       "      <th>74959</th>\n",
       "      <td>52787</td>\n",
       "      <td>Item Name: Love and Quiches 1/4 Sheet Special ...</td>\n",
       "      <td>https://m.media-amazon.com/images/I/61K6mdY1br...</td>\n",
       "      <td>116.44</td>\n",
       "      <td>[-0.030816842, -2.9136026, 3.020029, -0.486425...</td>\n",
       "      <td>[-0.017728377, -0.0015200294, -0.049064383, -0...</td>\n",
       "      <td>[-0.012172832, 0.012700691, -0.030819204, -0.0...</td>\n",
       "      <td>[-0.019512963, -0.0030066199, 0.008647835, -0....</td>\n",
       "    </tr>\n",
       "    <tr>\n",
       "      <th>74975</th>\n",
       "      <td>18392</td>\n",
       "      <td>Item Name: Gold Mine Yellow Popcorn Kernels (P...</td>\n",
       "      <td>https://m.media-amazon.com/images/I/41RQVY6CJ8...</td>\n",
       "      <td>139.02</td>\n",
       "      <td>[-0.038828496, -0.54314244, 1.5872992, -3.1745...</td>\n",
       "      <td>[-0.015777273, 0.022794135, -0.011078747, 0.01...</td>\n",
       "      <td>[-0.012345778, 0.046992507, 0.012995747, 0.010...</td>\n",
       "      <td>[-0.022003213, 0.018730791, 0.006885322, -0.01...</td>\n",
       "    </tr>\n",
       "  </tbody>\n",
       "</table>\n",
       "<p>3323 rows × 8 columns</p>\n",
       "</div>"
      ],
      "text/plain": [
       "       sample_id                                    catalog_content  \\\n",
       "7         222007  Item Name: VineCo Original Series Chilean Sauv...   \n",
       "15        266475  Item Name: Organic Vinegar; Apple Cider\\nValue...   \n",
       "18        271423  Item Name: BulkSupplements.com Trehalose Powde...   \n",
       "20        267410  Item Name: Food to Live Black-Eyed Peas, 25 Po...   \n",
       "38        196576  Item Name: Buchu Leaf (Organic) Tea (Loose) (4...   \n",
       "...          ...                                                ...   \n",
       "74878     125690  Item Name: Star Anise by Its Delish, (10 lbs)\\...   \n",
       "74895     204173  Item Name: Tropical Mixed Dried Fruit Medley -...   \n",
       "74926     247833  Item Name: Bloomingmore | Fresh Cut Gypsophili...   \n",
       "74959      52787  Item Name: Love and Quiches 1/4 Sheet Special ...   \n",
       "74975      18392  Item Name: Gold Mine Yellow Popcorn Kernels (P...   \n",
       "\n",
       "                                              image_link   price  \\\n",
       "7      https://m.media-amazon.com/images/I/71JllaFpxM...   94.00   \n",
       "15     https://m.media-amazon.com/images/I/41SHfxsFz5...   81.44   \n",
       "18     https://m.media-amazon.com/images/I/61S0ASqAuj...  109.97   \n",
       "20     https://m.media-amazon.com/images/I/418XGvkQe-...   98.99   \n",
       "38     https://m.media-amazon.com/images/I/41VxFtyBHk...  124.52   \n",
       "...                                                  ...     ...   \n",
       "74878  https://m.media-amazon.com/images/I/91sHJqfv6w...  215.99   \n",
       "74895  https://m.media-amazon.com/images/I/618EbUAecR...   89.99   \n",
       "74926  https://m.media-amazon.com/images/I/71sBe+ZvMS...  105.98   \n",
       "74959  https://m.media-amazon.com/images/I/61K6mdY1br...  116.44   \n",
       "74975  https://m.media-amazon.com/images/I/41RQVY6CJ8...  139.02   \n",
       "\n",
       "                                              qwen4b_emb  \\\n",
       "7      [-0.029091042, 0.75464183, 5.7226086, -2.38661...   \n",
       "15     [-0.037762586, -1.082009, 1.0186181, -1.036805...   \n",
       "18     [-0.034215216, 0.6279087, 3.3330514, -3.889171...   \n",
       "20     [-0.025577368, -0.32906243, 5.4095836, -2.8364...   \n",
       "38     [-0.034227047, -3.0629468, -0.5185706, -1.8252...   \n",
       "...                                                  ...   \n",
       "74878  [-0.034140132, 0.53445536, 2.7768834, -2.71587...   \n",
       "74895  [-0.029575005, 0.18956524, 3.357729, -3.384034...   \n",
       "74926  [-0.03683162, -3.3075793, 0.9898482, -2.511105...   \n",
       "74959  [-0.030816842, -2.9136026, 3.020029, -0.486425...   \n",
       "74975  [-0.038828496, -0.54314244, 1.5872992, -3.1745...   \n",
       "\n",
       "                                                dino_emb  \\\n",
       "7      [-0.054041788, -0.008673684, -0.018911112, -0....   \n",
       "15     [-0.012997384, -0.023150215, -0.020251187, -0....   \n",
       "18     [0.045318026, -0.013275877, 0.03034508, -0.077...   \n",
       "20     [-0.025488079, 0.007972965, 0.0009681907, -0.0...   \n",
       "38     [-0.020624189, 0.035228595, 0.042763736, -0.03...   \n",
       "...                                                  ...   \n",
       "74878  [-0.024285398, 0.03648553, 0.028327715, -0.011...   \n",
       "74895  [0.03258889, 0.009041448, -0.020530125, 0.0125...   \n",
       "74926  [-0.04671262, -0.013868739, 0.02671827, -0.046...   \n",
       "74959  [-0.017728377, -0.0015200294, -0.049064383, -0...   \n",
       "74975  [-0.015777273, 0.022794135, -0.011078747, 0.01...   \n",
       "\n",
       "                                         siglip2_emb_img  \\\n",
       "7      [-0.010113267, 0.028450415, -0.0021784701, -0....   \n",
       "15     [-0.027941229, 0.00973249, 0.0008073059, -0.03...   \n",
       "18     [0.013281817, -0.014919275, -0.012744329, -0.0...   \n",
       "20     [-0.053788964, 0.0038697412, 0.0062264185, -0....   \n",
       "38     [0.0090611465, 0.01958376, -0.011462906, -0.03...   \n",
       "...                                                  ...   \n",
       "74878  [-0.013216787, -0.023504294, 0.00015723918, -0...   \n",
       "74895  [0.0014778794, 0.021817017, 0.022796351, -0.01...   \n",
       "74926  [-0.04987664, 0.0045173718, 0.018821653, -0.00...   \n",
       "74959  [-0.012172832, 0.012700691, -0.030819204, -0.0...   \n",
       "74975  [-0.012345778, 0.046992507, 0.012995747, 0.010...   \n",
       "\n",
       "                                         siglip2_emb_txt  \n",
       "7      [-0.0060313316, 0.025681382, -0.0013101429, -0...  \n",
       "15     [-0.015173069, 0.019159686, 0.01575885, -0.019...  \n",
       "18     [0.008280668, -0.020156829, 0.0030178153, -0.0...  \n",
       "20     [-0.0040246183, 0.0032806844, 0.010789597, -0....  \n",
       "38     [0.017654087, -0.014796725, 0.012044621, -0.03...  \n",
       "...                                                  ...  \n",
       "74878  [-0.00077391416, -0.022113431, -0.041951604, -...  \n",
       "74895  [0.021168252, -0.01923669, 0.0125255585, -0.02...  \n",
       "74926  [-0.010494145, -0.009605146, 0.0235165, -0.038...  \n",
       "74959  [-0.019512963, -0.0030066199, 0.008647835, -0....  \n",
       "74975  [-0.022003213, 0.018730791, 0.006885322, -0.01...  \n",
       "\n",
       "[3323 rows x 8 columns]"
      ]
     },
     "execution_count": 16,
     "metadata": {},
     "output_type": "execute_result"
    }
   ],
   "source": [
    "print(final_submission_df[final_submission_df['price']>=80])\n",
    "df_train[df_train['price']>=80]"
   ]
  },
  {
   "cell_type": "code",
   "execution_count": 17,
   "id": "08cd91ff",
   "metadata": {
    "execution": {
     "iopub.execute_input": "2025-10-13T12:02:56.642427Z",
     "iopub.status.busy": "2025-10-13T12:02:56.641709Z",
     "iopub.status.idle": "2025-10-13T12:02:57.929102Z",
     "shell.execute_reply": "2025-10-13T12:02:57.928298Z"
    },
    "papermill": {
     "duration": 4.00535,
     "end_time": "2025-10-13T12:02:57.930324",
     "exception": false,
     "start_time": "2025-10-13T12:02:53.924974",
     "status": "completed"
    },
    "tags": []
   },
   "outputs": [
    {
     "name": "stdout",
     "output_type": "stream",
     "text": [
      "95th percentile:  75.73101806640625\n",
      "Min: 0.12999999523162842\n",
      "Max: 1280.0\n",
      "95th percentile:  75.47525024414062\n",
      "Min: 0.12999999523162842\n",
      "Max: 2796.0\n",
      "95th percentile:  75.98999786376953\n",
      "Min: 0.12999999523162842\n",
      "Max: 2796.0\n",
      "95th percentile:  75.9800033569336\n",
      "Min: 0.12999999523162842\n",
      "Max: 2796.0\n",
      "95th percentile:  75.30999755859375\n",
      "Min: 0.12999999523162842\n",
      "Max: 2796.0\n"
     ]
    },
    {
     "data": {
      "text/plain": [
       "<Axes: >"
      ]
     },
     "execution_count": 17,
     "metadata": {},
     "output_type": "execute_result"
    },
    {
     "data": {
      "image/png": "[encoded data removed]",
      "text/plain": [
       "<Figure size 640x480 with 1 Axes>"
      ]
     },
     "metadata": {},
     "output_type": "display_data"
    }
   ],
   "source": [
    "for fold, (train_idx, val_idx) in enumerate(skf.split(df_train)):\n",
    "        \n",
    "        train_subset = Subset(full_dataset, train_idx)        \n",
    "        val_subset = Subset(full_dataset, val_idx)\n",
    "\n",
    "        train_labels = full_dataset.labels[train_idx]\n",
    "        val_labels = full_dataset.labels[val_idx]\n",
    "    \n",
    "        # Compute min and max for each subset\n",
    "        train_min = train_labels.min().item()\n",
    "        train_max = train_labels.quantile(0.95).item()\n",
    "        print(\"95th percentile: \",train_labels.quantile(0.95).item())\n",
    "        print(f\"Min: {train_labels.min().item()}\")\n",
    "        print(f\"Max: {train_labels.max().item()}\")\n",
    "\n",
    "\n",
    "# df_train[\"price\"].hist(bins = 1000)\n",
    "df_train[\"log_price\"] = np.log(df_train[\"price\"])\n",
    "(df_train[\"log_price\"]).hist(bins = 1000)"
   ]
  },
  {
   "cell_type": "code",
   "execution_count": 18,
   "id": "0bbf7e42",
   "metadata": {
    "execution": {
     "iopub.execute_input": "2025-10-13T12:03:03.419294Z",
     "iopub.status.busy": "2025-10-13T12:03:03.418990Z",
     "iopub.status.idle": "2025-10-13T12:03:04.867990Z",
     "shell.execute_reply": "2025-10-13T12:03:04.867260Z"
    },
    "papermill": {
     "duration": 4.213961,
     "end_time": "2025-10-13T12:03:04.869217",
     "exception": false,
     "start_time": "2025-10-13T12:03:00.655256",
     "status": "completed"
    },
    "tags": []
   },
   "outputs": [
    {
     "data": {
      "text/plain": [
       "<Axes: >"
      ]
     },
     "execution_count": 18,
     "metadata": {},
     "output_type": "execute_result"
    },
    {
     "data": {
      "image/png": "[encoded data removed]",
      "text/plain": [
       "<Figure size 640x480 with 1 Axes>"
      ]
     },
     "metadata": {},
     "output_type": "display_data"
    }
   ],
   "source": [
    "df_train[\"price\"].hist(bins = 1000)\n"
   ]
  },
  {
   "cell_type": "code",
   "execution_count": null,
   "id": "2720e8ad",
   "metadata": {
    "papermill": {
     "duration": 2.735723,
     "end_time": "2025-10-13T12:03:10.452190",
     "exception": false,
     "start_time": "2025-10-13T12:03:07.716467",
     "status": "completed"
    },
    "tags": []
   },
   "outputs": [],
   "source": []
  }
 ],
 "metadata": {
  "kaggle": {
   "accelerator": "gpu",
   "dataSources": [
    {
     "datasetId": 8448253,
     "sourceId": 13325832,
     "sourceType": "datasetVersion"
    },
    {
     "datasetId": 8457083,
     "sourceId": 13337402,
     "sourceType": "datasetVersion"
    },
    {
     "datasetId": 8458498,
     "sourceId": 13339151,
     "sourceType": "datasetVersion"
    },
    {
     "datasetId": 8455468,
     "sourceId": 13341183,
     "sourceType": "datasetVersion"
    },
    {
     "datasetId": 8470936,
     "sourceId": 13355474,
     "sourceType": "datasetVersion"
    },
    {
     "datasetId": 8474364,
     "sourceId": 13360409,
     "sourceType": "datasetVersion"
    },
    {
     "datasetId": 8477666,
     "sourceId": 13364587,
     "sourceType": "datasetVersion"
    },
    {
     "datasetId": 8477988,
     "sourceId": 13364991,
     "sourceType": "datasetVersion"
    }
   ],
   "dockerImageVersionId": 31154,
   "isGpuEnabled": true,
   "isInternetEnabled": true,
   "language": "python",
   "sourceType": "notebook"
  },
  "kernelspec": {
   "display_name": "Python 3",
   "language": "python",
   "name": "python3"
  },
  "language_info": {
   "codemirror_mode": {
    "name": "ipython",
    "version": 3
   },
   "file_extension": ".py",
   "mimetype": "text/x-python",
   "name": "python",
   "nbconvert_exporter": "python",
   "pygments_lexer": "ipython3",
   "version": "3.11.13"
  },
  "papermill": {
   "default_parameters": {},
   "duration": 7302.970304,
   "end_time": "2025-10-13T12:03:16.434037",
   "environment_variables": {},
   "exception": null,
   "input_path": "__notebook__.ipynb",
   "output_path": "__notebook__.ipynb",
   "parameters": {},
   "start_time": "2025-10-13T10:01:33.463733",
   "version": "2.6.0"
  }
 },
 "nbformat": 4,
 "nbformat_minor": 5
}
